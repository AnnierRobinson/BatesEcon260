{
 "cells": [
  {
   "cell_type": "markdown",
   "metadata": {},
   "source": [
    "$R = P*Q$"
   ]
  },
  {
   "cell_type": "markdown",
   "metadata": {},
   "source": [
    "product rule of calculus:\n",
    "$$\\frac{df(x)g(x)}{dx} = f'(x)*g(x) + f(x)*g'(x)$$"
   ]
  },
  {
   "cell_type": "markdown",
   "metadata": {},
   "source": [
    "\\begin{align}\n",
    "MR &= \\frac{d P*Q}{d P} \\\\\n",
    "&= \\frac{dP}{dP}Q + P*\\frac{dQ}{dP} \\\\\n",
    "&= Q + P*\\frac{dQ}{dP}\n",
    "\\end{align}"
   ]
  },
  {
   "cell_type": "markdown",
   "metadata": {},
   "source": [
    "this means, when I am maximizing R, I would have:\n",
    "$$Q + P*\\frac{dQ}{dP} = 0$$"
   ]
  },
  {
   "cell_type": "markdown",
   "metadata": {},
   "source": [
    "recall, that price elasticity of demand is\n",
    "$$\\epsilon = \\frac{dQ}{dP} \\frac{P}{Q}$$"
   ]
  },
  {
   "cell_type": "markdown",
   "metadata": {},
   "source": [
    "**Argument**: maximizing revenue ==> $\\epsilon = -1$"
   ]
  },
  {
   "cell_type": "markdown",
   "metadata": {},
   "source": [
    "\\begin{align}\n",
    "Q + P*\\frac{dQ}{dP} &= 0 \\\\\n",
    "P*\\frac{dQ}{dP} &= -Q \\\\\n",
    "\\frac{dQ}{dP}\\frac{P}{Q} &= -1 \\\\\n",
    "\\epsilon &= -1\n",
    "\\end{align}"
   ]
  },
  {
   "cell_type": "markdown",
   "metadata": {},
   "source": []
  }
 ],
 "metadata": {
  "kernelspec": {
   "display_name": "Python 3",
   "language": "python",
   "name": "python3"
  },
  "language_info": {
   "codemirror_mode": {
    "name": "ipython",
    "version": 3
   },
   "file_extension": ".py",
   "mimetype": "text/x-python",
   "name": "python",
   "nbconvert_exporter": "python",
   "pygments_lexer": "ipython3",
   "version": "3.7.6"
  }
 },
 "nbformat": 4,
 "nbformat_minor": 4
}
