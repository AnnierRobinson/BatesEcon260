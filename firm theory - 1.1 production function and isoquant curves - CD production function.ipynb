{
 "cells": [
  {
   "cell_type": "markdown",
   "metadata": {},
   "source": [
    "Import necessary packages."
   ]
  },
  {
   "cell_type": "code",
   "execution_count": null,
   "metadata": {},
   "outputs": [],
   "source": [
    "# import all functions from python labrary: sympy\n",
    "from sympy import *\n",
    "# import python library: matplotlib (for nice plots)\n",
    "import matplotlib\n",
    "# set sympy output to print pretty math expressions\n",
    "init_printing()"
   ]
  },
  {
   "cell_type": "markdown",
   "metadata": {},
   "source": [
    "Declare variables we are going to use as 'symbols'. We will add more along the way."
   ]
  },
  {
   "cell_type": "code",
   "execution_count": null,
   "metadata": {},
   "outputs": [],
   "source": [
    "L, K, w, r = symbols('L K w r')"
   ]
  },
  {
   "cell_type": "markdown",
   "metadata": {},
   "source": [
    "# 1.1. Cobb-Douglas (CD) Production Function"
   ]
  },
  {
   "cell_type": "markdown",
   "metadata": {},
   "source": [
    "## Define a production function"
   ]
  },
  {
   "cell_type": "markdown",
   "metadata": {},
   "source": [
    "Define a CD production function:"
   ]
  },
  {
   "cell_type": "code",
   "execution_count": null,
   "metadata": {},
   "outputs": [],
   "source": [
    "alpha, beta = symbols('alpha beta')\n",
    "# Note: in sympy syntax: use double star ** for power\n",
    "q = L**(alpha) * K**(beta)\n",
    "# show the defined function\n",
    "q"
   ]
  },
  {
   "cell_type": "markdown",
   "metadata": {},
   "source": [
    "Calculate marginal product of labor"
   ]
  },
  {
   "cell_type": "code",
   "execution_count": null,
   "metadata": {},
   "outputs": [],
   "source": [
    "# Note: in sympy \n",
    "mpl = q.diff(L)\n",
    "mpl.simplify()"
   ]
  },
  {
   "cell_type": "code",
   "execution_count": null,
   "metadata": {},
   "outputs": [],
   "source": [
    "mpk = q.diff(K)\n",
    "mpk.simplify()"
   ]
  },
  {
   "cell_type": "code",
   "execution_count": null,
   "metadata": {
    "scrolled": false
   },
   "outputs": [],
   "source": [
    "mrts = simplify(-mpl / mpk)\n",
    "mrts"
   ]
  },
  {
   "cell_type": "markdown",
   "metadata": {},
   "source": [
    "## Visualize the production function in 3D"
   ]
  },
  {
   "cell_type": "code",
   "execution_count": null,
   "metadata": {},
   "outputs": [],
   "source": [
    "# import plot3d function from sympy\n",
    "from sympy.plotting import plot3d\n",
    "# enable package matplotlib, and its notebook model to display the plot in a plot window \n",
    "# (allowing rotation of the 3d plot) \n",
    "%matplotlib notebook\n",
    "import matplotlib.pyplot as plt"
   ]
  },
  {
   "cell_type": "code",
   "execution_count": null,
   "metadata": {},
   "outputs": [],
   "source": [
    "# set production parameters for plotting\n",
    "qplot = q.subs([(alpha, 1/2), (beta, 1/2)])\n",
    "qplot"
   ]
  },
  {
   "cell_type": "code",
   "execution_count": null,
   "metadata": {
    "scrolled": true
   },
   "outputs": [],
   "source": [
    "plot3d(qplot, (L,0,10), (K,0,10))"
   ]
  },
  {
   "cell_type": "markdown",
   "metadata": {},
   "source": [
    "Plot the isoquant curve that has output level of 5"
   ]
  },
  {
   "cell_type": "code",
   "execution_count": null,
   "metadata": {
    "scrolled": false
   },
   "outputs": [],
   "source": [
    "# set matplotlib to inline model for faster display (don't need the interactive window for 2d plots)\n",
    "%matplotlib inline\n",
    "# plot an implicit function of K in terms of L defined by: q(L,K) = 5\n",
    "# note: this function becomes very slow if alpha != 1/2\n",
    "plot_implicit(Eq(qplot, 5), (L,0,10), (K,0,10), xlim=(0,10), ylim=(0,10))"
   ]
  },
  {
   "cell_type": "markdown",
   "metadata": {},
   "source": [
    "## Derive the expression for the isoquant curve"
   ]
  },
  {
   "cell_type": "code",
   "execution_count": 17,
   "metadata": {
    "scrolled": false
   },
   "outputs": [
    {
     "data": {
      "image/png": "[encoded data removed]",
      "text/latex": [
       "$\\displaystyle \\left[ \\left(L^{- \\alpha} \\bar{q}\\right)^{\\frac{1}{\\beta}}\\right]$"
      ],
      "text/plain": [
       "⎡   _______⎤\n",
       "⎢β ╱  -α   ⎥\n",
       "⎣╲╱  L  ⋅q̅⎦"
      ]
     },
     "execution_count": 17,
     "metadata": {},
     "output_type": "execute_result"
    }
   ],
   "source": [
    "# define a new symbol ubar\n",
    "qbar = symbols('qbar')\n",
    "# explicitly solve for the isoquant curve: K as a function of qbar and L\n",
    "isoquant_sol = solve(Eq(q, qbar), K)\n",
    "# show the expression of the isoquant curve\n",
    "isoquant_sol"
   ]
  },
  {
   "cell_type": "markdown",
   "metadata": {},
   "source": [
    "Nice! Now we call this element (the solution we want): isoquant"
   ]
  },
  {
   "cell_type": "code",
   "execution_count": 18,
   "metadata": {},
   "outputs": [
    {
     "data": {
      "image/png": "[encoded data removed]",
      "text/latex": [
       "$\\displaystyle \\left(L^{- \\alpha} \\bar{q}\\right)^{\\frac{1}{\\beta}}$"
      ],
      "text/plain": [
       "   _______\n",
       "β ╱  -α   \n",
       "╲╱  L  ⋅q̅"
      ]
     },
     "execution_count": 18,
     "metadata": {},
     "output_type": "execute_result"
    }
   ],
   "source": [
    "isoquant = isoquant_sol[0]\n",
    "isoquant"
   ]
  },
  {
   "cell_type": "code",
   "execution_count": 19,
   "metadata": {
    "scrolled": true
   },
   "outputs": [
    {
     "data": {
      "image/png": "[encoded data removed]",
      "text/latex": [
       "$\\displaystyle - \\frac{\\alpha \\left(L^{- \\alpha} \\bar{q}\\right)^{\\frac{1}{\\beta}}}{L \\beta}$"
      ],
      "text/plain": [
       "      _______ \n",
       "   β ╱  -α    \n",
       "-α⋅╲╱  L  ⋅q̅ \n",
       "──────────────\n",
       "     L⋅β      "
      ]
     },
     "execution_count": 19,
     "metadata": {},
     "output_type": "execute_result"
    }
   ],
   "source": [
    "isoquant.diff(L).simplify()"
   ]
  },
  {
   "cell_type": "markdown",
   "metadata": {},
   "source": [
    "## Plot isoquant curves"
   ]
  },
  {
   "cell_type": "markdown",
   "metadata": {},
   "source": [
    "Let's plot multiple isoquant curves"
   ]
  },
  {
   "cell_type": "code",
   "execution_count": 20,
   "metadata": {},
   "outputs": [
    {
     "data": {
      "image/png": "[encoded data removed]",
      "text/latex": [
       "$\\displaystyle \\left(\\frac{\\bar{q}}{L^{0.5}}\\right)^{2.0}$"
      ],
      "text/plain": [
       "         2.0\n",
       "⎛ -0.5  ⎞   \n",
       "⎝L    ⋅q̅⎠   "
      ]
     },
     "execution_count": 20,
     "metadata": {},
     "output_type": "execute_result"
    }
   ],
   "source": [
    "# set production function parameters for plotting\n",
    "isoquant_plot = isoquant.subs([(alpha,0.5), (beta,0.5)])\n",
    "isoquant_plot"
   ]
  },
  {
   "cell_type": "code",
   "execution_count": 21,
   "metadata": {},
   "outputs": [],
   "source": [
    "isoquant_plot1 = plot(isoquant_plot.subs(qbar, 1), xlim=[0,10], ylim=[0,10], xlabel=\"$L$\", ylabel=\"$K$\", show=False)\n",
    "isoquant_plot2 = plot(isoquant_plot.subs(qbar, 2), xlim=[0,10], ylim=[0,10], xlabel=\"$L$\", ylabel=\"$K$\", show=False)\n",
    "isoquant_plot3 = plot(isoquant_plot.subs(qbar, 3), xlim=[0,10], ylim=[0,10], xlabel=\"$L$\", ylabel=\"$K$\", show=False)\n",
    "isoquant_plot4 = plot(isoquant_plot.subs(qbar, 4), xlim=[0,10], ylim=[0,10], xlabel=\"$L$\", ylabel=\"$K$\", show=False)\n",
    "isoquant_plot5 = plot(isoquant_plot.subs(qbar, 5), xlim=[0,10], ylim=[0,10], xlabel=\"$L$\", ylabel=\"$K$\", show=False)"
   ]
  },
  {
   "cell_type": "markdown",
   "metadata": {},
   "source": [
    "Now, let's plot all 5 indifference curves in one graph!"
   ]
  },
  {
   "cell_type": "code",
   "execution_count": 22,
   "metadata": {
    "scrolled": true
   },
   "outputs": [
    {
     "data": {
      "image/png": "[encoded data removed]",
      "text/plain": [
       "<Figure size 432x288 with 1 Axes>"
      ]
     },
     "metadata": {
      "needs_background": "light"
     },
     "output_type": "display_data"
    }
   ],
   "source": [
    "isoquant_plot_combo = isoquant_plot1\n",
    "isoquant_plot_combo.extend(isoquant_plot2)\n",
    "isoquant_plot_combo.extend(isoquant_plot3)\n",
    "isoquant_plot_combo.extend(isoquant_plot4)\n",
    "isoquant_plot_combo.extend(isoquant_plot5)\n",
    "isoquant_plot_combo.show()"
   ]
  },
  {
   "cell_type": "markdown",
   "metadata": {},
   "source": [
    "We can also change color of a particular curve with the 'line_color' method. \n",
    "\n",
    "For some choices of colors, see: https://www.w3schools.com/cssref/css_colors.asp\n",
    "\n",
    "Be creative, have fun!"
   ]
  },
  {
   "cell_type": "code",
   "execution_count": 23,
   "metadata": {
    "scrolled": true
   },
   "outputs": [
    {
     "data": {
      "image/png": "[encoded data removed]",
      "text/plain": [
       "<Figure size 432x288 with 1 Axes>"
      ]
     },
     "metadata": {
      "needs_background": "light"
     },
     "output_type": "display_data"
    }
   ],
   "source": [
    "isoquant_plot_combo[0].line_color='salmon'\n",
    "isoquant_plot_combo[1].line_color='tomato'\n",
    "isoquant_plot_combo[2].line_color='orchid'\n",
    "isoquant_plot_combo[3].line_color='navy'\n",
    "isoquant_plot_combo[4].line_color='black'\n",
    "isoquant_plot_combo.show()"
   ]
  },
  {
   "cell_type": "markdown",
   "metadata": {},
   "source": [
    "## Questions and challenges"
   ]
  },
  {
   "cell_type": "markdown",
   "metadata": {},
   "source": [
    "Q1. Given a CD production function $ q = L^{\\alpha} K^{\\beta} $, calculate average product of labor."
   ]
  },
  {
   "cell_type": "code",
   "execution_count": 24,
   "metadata": {
    "scrolled": true
   },
   "outputs": [
    {
     "data": {
      "image/png": "[encoded data removed]",
      "text/latex": [
       "$\\displaystyle K^{\\beta} L^{\\alpha - 1}$"
      ],
      "text/plain": [
       " β  α - 1\n",
       "K ⋅L     "
      ]
     },
     "execution_count": 24,
     "metadata": {},
     "output_type": "execute_result"
    }
   ],
   "source": [
    "apl = (q/L).simplify()\n",
    "apl"
   ]
  },
  {
   "cell_type": "markdown",
   "metadata": {},
   "source": [
    "Q2. Impose values $\\alpha = 0.5, \\beta = 0.5, K=5$, then plot on the same graph:\n",
    "1. total product of labor\n",
    "2. average product of labor\n",
    "3. marginal product of labor"
   ]
  },
  {
   "cell_type": "code",
   "execution_count": 25,
   "metadata": {},
   "outputs": [
    {
     "data": {
      "image/png": "[encoded data removed]",
      "text/latex": [
       "$\\displaystyle 2.23606797749979 L^{0.5}$"
      ],
      "text/plain": [
       "                  0.5\n",
       "2.23606797749979⋅L   "
      ]
     },
     "execution_count": 25,
     "metadata": {},
     "output_type": "execute_result"
    }
   ],
   "source": [
    "q.subs([(alpha,0.5),(beta,0.5),(K,5)])"
   ]
  },
  {
   "cell_type": "code",
   "execution_count": 26,
   "metadata": {},
   "outputs": [
    {
     "ename": "NameError",
     "evalue": "name 'tpl_SR_plot' is not defined",
     "output_type": "error",
     "traceback": [
      "\u001b[1;31m---------------------------------------------------------------------------\u001b[0m",
      "\u001b[1;31mNameError\u001b[0m                                 Traceback (most recent call last)",
      "\u001b[1;32m<ipython-input-26-172fd9e463b2>\u001b[0m in \u001b[0;36m<module>\u001b[1;34m\u001b[0m\n\u001b[1;32m----> 1\u001b[1;33m \u001b[0mtpl_SR_plot\u001b[0m\u001b[1;33m.\u001b[0m\u001b[0msubs\u001b[0m\u001b[1;33m(\u001b[0m\u001b[1;33m[\u001b[0m\u001b[1;33m(\u001b[0m\u001b[0mL\u001b[0m\u001b[1;33m,\u001b[0m\u001b[1;36m10\u001b[0m\u001b[1;33m)\u001b[0m\u001b[1;33m]\u001b[0m\u001b[1;33m)\u001b[0m\u001b[1;33m\u001b[0m\u001b[1;33m\u001b[0m\u001b[0m\n\u001b[0m",
      "\u001b[1;31mNameError\u001b[0m: name 'tpl_SR_plot' is not defined"
     ]
    }
   ],
   "source": [
    "tpl_SR_plot.subs([(L,10)])"
   ]
  },
  {
   "cell_type": "code",
   "execution_count": null,
   "metadata": {
    "scrolled": true
   },
   "outputs": [],
   "source": [
    "# impose specific values for plotting\n",
    "tpl_SR_plot = q.subs([(alpha,0.5),(beta,0.5),(K,5)])\n",
    "# calculate MP of labor\n",
    "mpl_SR_plot = tpl_SR_plot.diff(L)\n",
    "# calculate AP of labor\n",
    "apl_SR_plot = tpl_SR_plot/L\n",
    "\n",
    "# create plots\n",
    "tpl_plot = plot(tpl_SR_plot, xlim=[0,10], ylim=[0,10], xlabel=\"$L$\", ylabel=\"$q$\", show=False, line_color='salmon')\n",
    "mpl_plot = plot(mpl_SR_plot, xlim=[0,10], ylim=[0,10], xlabel=\"$L$\", ylabel=\"$q$\", show=False, line_color='orchid')\n",
    "apl_plot = plot(apl_SR_plot, xlim=[0,10], ylim=[0,10], xlabel=\"$L$\", ylabel=\"$q$\", show=False, line_color='navy')\n",
    "\n",
    "# combine plots and show\n",
    "product_plot_combo = tpl_plot\n",
    "product_plot_combo.extend(mpl_plot)\n",
    "product_plot_combo.extend(apl_plot)\n",
    "\n",
    "product_plot_combo.show()"
   ]
  },
  {
   "cell_type": "code",
   "execution_count": null,
   "metadata": {},
   "outputs": [],
   "source": [
    "plot(tpl_SR_plot, xlim=[0,10], ylim=[0,10], xlabel=\"$L$\", ylabel=\"$q$\")"
   ]
  },
  {
   "cell_type": "markdown",
   "metadata": {},
   "source": [
    "Q3. Choose different $\\alpha$ values, repeat the plot, and compare against the plot in Q2 to investigate how the plot changes as $\\alpha$ changes. "
   ]
  },
  {
   "cell_type": "code",
   "execution_count": null,
   "metadata": {},
   "outputs": [],
   "source": []
  },
  {
   "cell_type": "markdown",
   "metadata": {},
   "source": [
    "Q4. Fixing $\\alpha=0.5$, and choose different $\\beta$ values, and compare against the plot in Q2 to investigate how the plot changes as $\\beta$ changes. \n",
    "\n",
    "Is $MP_L$ affected by $\\beta$? What's the intuition?"
   ]
  },
  {
   "cell_type": "code",
   "execution_count": null,
   "metadata": {},
   "outputs": [],
   "source": []
  }
 ],
 "metadata": {
  "kernelspec": {
   "display_name": "Python 3",
   "language": "python",
   "name": "python3"
  },
  "language_info": {
   "codemirror_mode": {
    "name": "ipython",
    "version": 3
   },
   "file_extension": ".py",
   "mimetype": "text/x-python",
   "name": "python",
   "nbconvert_exporter": "python",
   "pygments_lexer": "ipython3",
   "version": "3.7.4"
  }
 },
 "nbformat": 4,
 "nbformat_minor": 2
}
