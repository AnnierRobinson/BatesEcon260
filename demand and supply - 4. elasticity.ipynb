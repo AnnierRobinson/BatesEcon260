{
 "cells": [
  {
   "cell_type": "markdown",
   "metadata": {},
   "source": [
    "Notebook created by: Leshui He; Department of Economics, Bates College"
   ]
  },
  {
   "cell_type": "markdown",
   "metadata": {},
   "source": [
    "Import necessary packages."
   ]
  },
  {
   "cell_type": "code",
   "execution_count": 1,
   "metadata": {},
   "outputs": [],
   "source": [
    "# import all functions from python labrary: sympy\n",
    "from sympy import *\n",
    "# import python library: matplotlib (for nice plots)\n",
    "import matplotlib\n",
    "# set sympy output to print pretty math expressions\n",
    "init_printing()"
   ]
  },
  {
   "cell_type": "markdown",
   "metadata": {},
   "source": [
    "Declare variables we are going to use as 'symbols'. We will add more along the way."
   ]
  },
  {
   "cell_type": "code",
   "execution_count": 15,
   "metadata": {},
   "outputs": [],
   "source": [
    "p, y, epsilon, eta = symbols('p y epsilon eta')"
   ]
  },
  {
   "cell_type": "markdown",
   "metadata": {},
   "source": [
    "# 4.1 Define demand and supply functions"
   ]
  },
  {
   "cell_type": "markdown",
   "metadata": {},
   "source": [
    "Define demand and supply functions:"
   ]
  },
  {
   "cell_type": "code",
   "execution_count": 65,
   "metadata": {},
   "outputs": [
    {
     "data": {
      "image/png": "[encoded data removed]",
      "text/latex": [
       "$\\displaystyle a - b p$"
      ],
      "text/plain": [
       "a - b⋅p"
      ]
     },
     "execution_count": 65,
     "metadata": {},
     "output_type": "execute_result"
    }
   ],
   "source": [
    "# define a linear demand function\n",
    "a,b = symbols('a b')\n",
    "Qd_linear = a - b*p\n",
    "# show the defined function\n",
    "Qd_linear"
   ]
  },
  {
   "cell_type": "code",
   "execution_count": 61,
   "metadata": {
    "scrolled": true
   },
   "outputs": [
    {
     "data": {
      "image/png": "[encoded data removed]",
      "text/latex": [
       "$\\displaystyle 200 p^{\\epsilon}$"
      ],
      "text/plain": [
       "     ε\n",
       "200⋅p "
      ]
     },
     "execution_count": 61,
     "metadata": {},
     "output_type": "execute_result"
    }
   ],
   "source": [
    "# define a constant elasticity demand function\n",
    "# Note: sympy uses ** to denote power, unlike LaTeX that uses ^\n",
    "epsilon = symbols('epsilon')\n",
    "Qd_CE = 200*p**(epsilon)\n",
    "# show the defined function\n",
    "Qd_CE"
   ]
  },
  {
   "cell_type": "code",
   "execution_count": 66,
   "metadata": {},
   "outputs": [
    {
     "data": {
      "image/png": "[encoded data removed]",
      "text/latex": [
       "$\\displaystyle c + d p$"
      ],
      "text/plain": [
       "c + d⋅p"
      ]
     },
     "execution_count": 66,
     "metadata": {},
     "output_type": "execute_result"
    }
   ],
   "source": [
    "# define a linear supply function\n",
    "c,d = symbols('c d')\n",
    "Qs_linear = c + d*p\n",
    "# show the defined function\n",
    "Qs_linear"
   ]
  },
  {
   "cell_type": "code",
   "execution_count": 60,
   "metadata": {},
   "outputs": [
    {
     "data": {
      "image/png": "[encoded data removed]",
      "text/latex": [
       "$\\displaystyle 20 p^{\\eta}$"
      ],
      "text/plain": [
       "    η\n",
       "20⋅p "
      ]
     },
     "execution_count": 60,
     "metadata": {},
     "output_type": "execute_result"
    }
   ],
   "source": [
    "# define a constant elasticity supply function\n",
    "eta = symbols('eta')\n",
    "Qs_CE = 20*p**(eta)\n",
    "# show the defined function\n",
    "Qs_CE"
   ]
  },
  {
   "cell_type": "markdown",
   "metadata": {},
   "source": [
    "# 4.2 Plot the demand and supply curves"
   ]
  },
  {
   "cell_type": "markdown",
   "metadata": {},
   "source": [
    "Step 1: inverse the demand and supply. "
   ]
  },
  {
   "cell_type": "code",
   "execution_count": 67,
   "metadata": {},
   "outputs": [
    {
     "data": {
      "image/png": "[encoded data removed]",
      "text/latex": [
       "$\\displaystyle \\frac{a - q}{b}$"
      ],
      "text/plain": [
       "a - q\n",
       "─────\n",
       "  b  "
      ]
     },
     "execution_count": 67,
     "metadata": {},
     "output_type": "execute_result"
    }
   ],
   "source": [
    "# define a new symbol q\n",
    "q = symbols('q')\n",
    "# solve the equation Supply = q, which is equivalent to (Demand - q) = 0. \n",
    "#   Notice how we solve for the equation and retrieve the first element of the list in one step\n",
    "D_linearInverse = solve(Qd_linear - q, p)[0]\n",
    "D_linearInverse"
   ]
  },
  {
   "cell_type": "code",
   "execution_count": 58,
   "metadata": {},
   "outputs": [
    {
     "data": {
      "image/png": "[encoded data removed]",
      "text/latex": [
       "$\\displaystyle \\left[ \\left(\\frac{q}{200}\\right)^{\\frac{1}{\\epsilon}}\\right]$"
      ],
      "text/plain": [
       "⎡         _____⎤\n",
       "⎢        ╱  q  ⎥\n",
       "⎢epsilon╱  ─── ⎥\n",
       "⎣     ╲╱   200 ⎦"
      ]
     },
     "execution_count": 58,
     "metadata": {},
     "output_type": "execute_result"
    }
   ],
   "source": [
    "# define a new symbol q\n",
    "q = symbols('q')\n",
    "# solve the equation Supply = q, which is equivalent to (Demand - q) = 0. \n",
    "#   Notice there are possibly multiple solutions, we need to pick the appropriate one\n",
    "solve(Qd_CE - q, p)"
   ]
  },
  {
   "cell_type": "code",
   "execution_count": 70,
   "metadata": {},
   "outputs": [
    {
     "data": {
      "image/png": "[encoded data removed]",
      "text/latex": [
       "$\\displaystyle \\left(\\frac{q}{200}\\right)^{\\frac{1}{\\epsilon}}$"
      ],
      "text/plain": [
       "         _____\n",
       "        ╱  q  \n",
       "epsilon╱  ─── \n",
       "     ╲╱   200 "
      ]
     },
     "execution_count": 70,
     "metadata": {},
     "output_type": "execute_result"
    }
   ],
   "source": [
    "# extract the 2nd solution (index 1) of the solutions to be our inverse demand curve\n",
    "D_CEInverse = solve(Qd_CE - q, p)[0]\n",
    "D_CEInverse"
   ]
  },
  {
   "cell_type": "code",
   "execution_count": 68,
   "metadata": {},
   "outputs": [
    {
     "data": {
      "image/png": "[encoded data removed]",
      "text/latex": [
       "$\\displaystyle \\frac{- c + q}{d}$"
      ],
      "text/plain": [
       "-c + q\n",
       "──────\n",
       "  d   "
      ]
     },
     "execution_count": 68,
     "metadata": {},
     "output_type": "execute_result"
    }
   ],
   "source": [
    "# define a new symbol q\n",
    "q = symbols('q')\n",
    "# solve the equation Supply = q, which is equivalent to (Supply - q) = 0. \n",
    "#   Notice how we solve for the equation and retrieve the first element of the list in one step\n",
    "S_linearInverse = solve(Qs_linear - q, p)[0]\n",
    "S_linearInverse"
   ]
  },
  {
   "cell_type": "code",
   "execution_count": 62,
   "metadata": {
    "scrolled": true
   },
   "outputs": [
    {
     "data": {
      "image/png": "[encoded data removed]",
      "text/latex": [
       "$\\displaystyle \\left[ \\left(\\frac{q}{20}\\right)^{\\frac{1}{\\eta}}\\right]$"
      ],
      "text/plain": [
       "⎡     ____⎤\n",
       "⎢    ╱ q  ⎥\n",
       "⎢eta╱  ── ⎥\n",
       "⎣ ╲╱   20 ⎦"
      ]
     },
     "execution_count": 62,
     "metadata": {},
     "output_type": "execute_result"
    }
   ],
   "source": [
    "# define a new symbol q\n",
    "q = symbols('q')\n",
    "# solve the equation Supply = q, which is equivalent to (Supply - q) = 0. \n",
    "#   Notice how we solve for the equation and retrieve the first element of the list in one step\n",
    "solve(Qs_CE - q, p)"
   ]
  },
  {
   "cell_type": "code",
   "execution_count": 69,
   "metadata": {},
   "outputs": [
    {
     "data": {
      "image/png": "[encoded data removed]",
      "text/latex": [
       "$\\displaystyle \\left(\\frac{q}{20}\\right)^{\\frac{1}{\\eta}}$"
      ],
      "text/plain": [
       "     ____\n",
       "    ╱ q  \n",
       "eta╱  ── \n",
       " ╲╱   20 "
      ]
     },
     "execution_count": 69,
     "metadata": {},
     "output_type": "execute_result"
    }
   ],
   "source": [
    "# extract the 2nd solution (index 1) of the solutions to be our inverse supply curve\n",
    "S_CEInverse = solve(Qs_CE - q, p)[0]\n",
    "S_CEInverse"
   ]
  },
  {
   "cell_type": "raw",
   "metadata": {},
   "source": [
    "Step 2: create plots for the demand and supply curves at specific values for the exogenous variables"
   ]
  },
  {
   "cell_type": "markdown",
   "metadata": {},
   "source": [
    "Plot demand curves:"
   ]
  },
  {
   "cell_type": "code",
   "execution_count": 74,
   "metadata": {
    "scrolled": true
   },
   "outputs": [
    {
     "data": {
      "image/png": "[encoded data removed]",
      "text/plain": [
       "<Figure size 432x288 with 1 Axes>"
      ]
     },
     "metadata": {
      "needs_background": "light"
     },
     "output_type": "display_data"
    }
   ],
   "source": [
    "# use plot function\n",
    "D_linearplot = plot(D_linearInverse.subs([(a,200),(b,2)]), (q,0,300), ylim=[0,100], xlabel=\"$q$\", ylabel=\"$p$\", show=False)\n",
    "D_CEplot = plot(D_CEInverse.subs([(epsilon,-1)]), (q,0,300), xlabel=\"$q$\", ylabel=\"$p$\", show=False)\n",
    "\n",
    "# combine curves into one plot\n",
    "Dplot_combo = D_linearplot\n",
    "Dplot_combo.extend(D_CEplot)\n",
    "\n",
    "# assign colors for each line\n",
    "Dplot_combo[0].line_color='salmon'\n",
    "Dplot_combo[1].line_color='orchid'\n",
    "\n",
    "# show plot\n",
    "Dplot_combo.show()"
   ]
  },
  {
   "cell_type": "markdown",
   "metadata": {},
   "source": [
    "Plot supply curves:"
   ]
  },
  {
   "cell_type": "code",
   "execution_count": 76,
   "metadata": {},
   "outputs": [
    {
     "data": {
      "image/png": "[encoded data removed]",
      "text/plain": [
       "<Figure size 432x288 with 1 Axes>"
      ]
     },
     "metadata": {
      "needs_background": "light"
     },
     "output_type": "display_data"
    }
   ],
   "source": [
    "# use plot function\n",
    "S_linearplot = plot(S_linearInverse.subs([(c,10),(d,2)]), (q,0,300), ylim=[0,100], xlabel=\"$q$\", ylabel=\"$p$\", show=False)\n",
    "S_CEplot = plot(S_CEInverse.subs([(eta, 2)]), (q,0,300), xlabel=\"$q$\", ylabel=\"$p$\", show=False)\n",
    "\n",
    "# combine curves into one plot\n",
    "Splot_combo = S_linearplot\n",
    "Splot_combo.extend(S_CEplot)\n",
    "\n",
    "# assign colors for each line\n",
    "Splot_combo[0].line_color='salmon'\n",
    "Splot_combo[1].line_color='orchid'\n",
    "\n",
    "# show plot\n",
    "Splot_combo.show()"
   ]
  },
  {
   "cell_type": "markdown",
   "metadata": {},
   "source": [
    "# 4.3 Calculating elasticity of demand"
   ]
  },
  {
   "cell_type": "markdown",
   "metadata": {},
   "source": [
    "Solve for the equilibrim price"
   ]
  },
  {
   "cell_type": "code",
   "execution_count": 21,
   "metadata": {},
   "outputs": [],
   "source": [
    "Eq_p = solve(Qd - Qs, p)[0]"
   ]
  },
  {
   "cell_type": "markdown",
   "metadata": {},
   "source": [
    "Solve for the equilibrium quantity using supply function"
   ]
  },
  {
   "cell_type": "code",
   "execution_count": 26,
   "metadata": {},
   "outputs": [
    {
     "data": {
      "image/png": "[encoded data removed]",
      "text/latex": [
       "$\\displaystyle \\frac{40 pb}{3} - 20 ph + 2 pk + \\frac{4 y}{3} + \\frac{520}{3}$"
      ],
      "text/plain": [
       "40⋅pb                  4⋅y   520\n",
       "───── - 20⋅ph + 2⋅pk + ─── + ───\n",
       "  3                     3     3 "
      ]
     },
     "execution_count": 26,
     "metadata": {},
     "output_type": "execute_result"
    }
   ],
   "source": [
    "Eq_q = Qs.subs([(p, Eq_p)])\n",
    "Eq_q"
   ]
  },
  {
   "cell_type": "markdown",
   "metadata": {},
   "source": [
    "Solve for the equilibrium quantity using demand function"
   ]
  },
  {
   "cell_type": "code",
   "execution_count": 25,
   "metadata": {},
   "outputs": [
    {
     "data": {
      "image/png": "[encoded data removed]",
      "text/latex": [
       "$\\displaystyle \\frac{40 pb}{3} - 20 ph + 2 pk + \\frac{4 y}{3} + \\frac{520}{3}$"
      ],
      "text/plain": [
       "40⋅pb                  4⋅y   520\n",
       "───── - 20⋅ph + 2⋅pk + ─── + ───\n",
       "  3                     3     3 "
      ]
     },
     "execution_count": 25,
     "metadata": {},
     "output_type": "execute_result"
    }
   ],
   "source": [
    "Eq_q = Qd.subs([(p, Eq_p)])\n",
    "Eq_q"
   ]
  },
  {
   "cell_type": "markdown",
   "metadata": {},
   "source": [
    "Find the equilibrium price when $p_b = 4, p_k = 10/3, y = 12.5, p_h = 1.5$"
   ]
  },
  {
   "cell_type": "code",
   "execution_count": 29,
   "metadata": {},
   "outputs": [
    {
     "data": {
      "image/png": "[encoded data removed]",
      "text/latex": [
       "$\\displaystyle 3.3$"
      ],
      "text/plain": [
       "3.30000000000000"
      ]
     },
     "execution_count": 29,
     "metadata": {},
     "output_type": "execute_result"
    }
   ],
   "source": [
    "Eq_p.subs([(pb,4),(pk,Rational(10,3)),(y,Rational(25,2)),(ph,1.5)])"
   ]
  },
  {
   "cell_type": "markdown",
   "metadata": {},
   "source": [
    "Find the equilibrium quantity when $p_b = 4, p_k = 10/3, y = 12.5, p_h = 1.5$"
   ]
  },
  {
   "cell_type": "code",
   "execution_count": 30,
   "metadata": {},
   "outputs": [
    {
     "data": {
      "image/png": "[encoded data removed]",
      "text/latex": [
       "$\\displaystyle 220.0$"
      ],
      "text/plain": [
       "220.000000000000"
      ]
     },
     "execution_count": 30,
     "metadata": {},
     "output_type": "execute_result"
    }
   ],
   "source": [
    "Eq_q.subs([(pb,4),(pk,Rational(10,3)),(y,Rational(25,2)),(ph,1.5)])"
   ]
  },
  {
   "cell_type": "markdown",
   "metadata": {},
   "source": [
    "# Questions and challenges"
   ]
  },
  {
   "cell_type": "markdown",
   "metadata": {},
   "source": [
    "Q1: Given a linear demand function $$Q_d = 210 - 3p,$$ \n",
    "calculate by hand:\n",
    "* the price elasticity of demand of this demand function;\n",
    "* the $\\frac{p}{Q_d}$ ratio at a unit elastic point;\n",
    "* the unit elastic point as coordinates $(Q_d, p)$ on the demand curve.\n",
    "\n",
    "Write up your answer below in markdown."
   ]
  },
  {
   "cell_type": "markdown",
   "metadata": {},
   "source": [
    "(answer here)"
   ]
  },
  {
   "cell_type": "markdown",
   "metadata": {},
   "source": [
    "Q2: Plot the demand curve in the previous question, and plot the unit elastic point on the demand curve.\n",
    "\n",
    "Write up your answer below in code."
   ]
  },
  {
   "cell_type": "code",
   "execution_count": 112,
   "metadata": {},
   "outputs": [],
   "source": [
    "# code here"
   ]
  },
  {
   "cell_type": "markdown",
   "metadata": {},
   "source": [
    "Q3: What is the interpretation of the derivatives above? Interpret both its magnitude and its sign. \n",
    "\n",
    "Write up your answer below in markdown."
   ]
  },
  {
   "cell_type": "markdown",
   "metadata": {},
   "source": [
    "(answer here)"
   ]
  },
  {
   "cell_type": "markdown",
   "metadata": {},
   "source": [
    "Q4: Plot two supply curves in one graph, one with $p_h = 1.5$, the other with $p_h=2$.\n",
    "\n",
    "Use different colors for each curve."
   ]
  },
  {
   "cell_type": "code",
   "execution_count": 111,
   "metadata": {},
   "outputs": [],
   "source": [
    "# code here"
   ]
  },
  {
   "cell_type": "markdown",
   "metadata": {},
   "source": [
    "Q5: How does the supply curve move after $p_h$ increased by $0.5$? Specifically,\n",
    "\n",
    "* Does the supply curve shift outward (right) or inward (left)?\n",
    "* Does the slope of the supply curve change? Explain in terms of derivatives of the supply function.\n",
    "* How much is the horizontal distance between the two supply curves? Explain.\n",
    "\n",
    "Write up your answer below in markdown."
   ]
  },
  {
   "cell_type": "markdown",
   "metadata": {},
   "source": [
    "(answer here)"
   ]
  }
 ],
 "metadata": {
  "kernelspec": {
   "display_name": "Python 3 (ipykernel)",
   "language": "python",
   "name": "python3"
  },
  "language_info": {
   "codemirror_mode": {
    "name": "ipython",
    "version": 3
   },
   "file_extension": ".py",
   "mimetype": "text/x-python",
   "name": "python",
   "nbconvert_exporter": "python",
   "pygments_lexer": "ipython3",
   "version": "3.9.7"
  }
 },
 "nbformat": 4,
 "nbformat_minor": 2
}
