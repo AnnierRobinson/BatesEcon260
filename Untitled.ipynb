{
 "cells": [
  {
   "cell_type": "code",
   "execution_count": null,
   "metadata": {},
   "outputs": [],
   "source": [
    "# solve for NE, imposing that $q1hat = q1$ and $q2hat = q2$\n",
    "NE_sol = solve([q1br.subs([(q2hat, q2),(q3hat, q3)]) - q1, q2br.subs([(q1hat, q1),(q3hat, q3)]) - q2, q3br.subs([(q1hat, q1),(q2hat, q2)] - q3 ], q1,q2,q3)\n",
    "NE_sol"
   ]
  }
 ],
 "metadata": {
  "kernelspec": {
   "display_name": "Python 3",
   "language": "python",
   "name": "python3"
  },
  "language_info": {
   "codemirror_mode": {
    "name": "ipython",
    "version": 3
   },
   "file_extension": ".py",
   "mimetype": "text/x-python",
   "name": "python",
   "nbconvert_exporter": "python",
   "pygments_lexer": "ipython3",
   "version": "3.7.4"
  }
 },
 "nbformat": 4,
 "nbformat_minor": 2
}
