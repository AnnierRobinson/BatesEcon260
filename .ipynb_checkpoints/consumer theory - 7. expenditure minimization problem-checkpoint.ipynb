{
 "cells": [
  {
   "cell_type": "markdown",
   "metadata": {},
   "source": [
    "Import necessary packages."
   ]
  },
  {
   "cell_type": "code",
   "execution_count": 1,
   "metadata": {},
   "outputs": [],
   "source": [
    "# import all functions from python labrary: sympy\n",
    "from sympy import *\n",
    "# import python library: matplotlib (for nice plots)\n",
    "import matplotlib\n",
    "# set sympy output to print pretty math expressions\n",
    "init_printing()"
   ]
  },
  {
   "cell_type": "markdown",
   "metadata": {},
   "source": [
    "Declare variables we are going to use as 'symbols'. We will add more along the way, if necessary."
   ]
  },
  {
   "cell_type": "code",
   "execution_count": 38,
   "metadata": {},
   "outputs": [],
   "source": [
    "### NOTE: it is important here to further declare these variables to be nonzero and positive (otherwise sympy cannot find solution for the FOCs)\n",
    "#    Thanks to Abhi Agarwal for discovering this trick\n",
    "q1, q2, p1, p2, ubar = symbols('q1 q2 p1 p2 \\overline{U}', nonzero=True, positive=True)"
   ]
  },
  {
   "cell_type": "markdown",
   "metadata": {},
   "source": [
    "# 7. Solve for expenditure-minimizing consumption bundle analytically"
   ]
  },
  {
   "cell_type": "markdown",
   "metadata": {},
   "source": [
    "## Setup the optimization program"
   ]
  },
  {
   "cell_type": "markdown",
   "metadata": {},
   "source": [
    "Our optimization problem is\n",
    "\\begin{align}\n",
    "    & \\min_{q_1,q_2} \\quad p_1 q_1 + p_2 q_2 \\\\\n",
    "    \\text{s.t.}\\quad & q_1^{\\alpha} q_2^{1-\\alpha} = \\overline{U}\n",
    "\\end{align}"
   ]
  },
  {
   "cell_type": "markdown",
   "metadata": {},
   "source": [
    "## Setup the utility function"
   ]
  },
  {
   "cell_type": "code",
   "execution_count": 18,
   "metadata": {},
   "outputs": [
    {
     "data": {
      "image/png": "[encoded data removed]",
      "text/latex": [
       "$\\displaystyle q_{1}^{\\alpha} q_{2}^{1 - \\alpha}$"
      ],
      "text/plain": [
       "  α   1 - α\n",
       "q₁ ⋅q₂     "
      ]
     },
     "execution_count": 18,
     "metadata": {},
     "output_type": "execute_result"
    }
   ],
   "source": [
    "### Note that it is important here to further declare these variables to be nonzero and positive\n",
    "#    Thanks to Abhi Agarwal for discovering this trick\n",
    "alpha = symbols('alpha',nonzero=True, positive=True)\n",
    "# define parameter beta as 1 - alpha\n",
    "beta = 1 - alpha\n",
    "\n",
    "\n",
    "# Note: in sympy syntax: use double star ** for power\n",
    "u = q1**(alpha) * q2**(beta)\n",
    "# show the defined function\n",
    "u"
   ]
  },
  {
   "cell_type": "markdown",
   "metadata": {},
   "source": [
    "## Setup the lagrangian"
   ]
  },
  {
   "cell_type": "code",
   "execution_count": 33,
   "metadata": {
    "scrolled": false
   },
   "outputs": [
    {
     "data": {
      "image/png": "[encoded data removed]",
      "text/latex": [
       "$\\displaystyle \\lambda \\left(\\overline{U} - q_{1}^{\\alpha} q_{2}^{1 - \\alpha}\\right) + p_{1} q_{1} + p_{2} q_{2}$"
      ],
      "text/plain": [
       "  ⎛                 α   1 - α⎞                \n",
       "λ⋅⎝\\overline{U} - q₁ ⋅q₂     ⎠ + p₁⋅q₁ + p₂⋅q₂"
      ]
     },
     "execution_count": 33,
     "metadata": {},
     "output_type": "execute_result"
    }
   ],
   "source": [
    "lam = symbols('lambda')\n",
    "lagr = p1*q1 + p2*q2 + lam *(ubar - u)\n",
    "lagr"
   ]
  },
  {
   "cell_type": "markdown",
   "metadata": {},
   "source": [
    "Solve the first-order conditions. \n",
    "\n",
    "Note the syntax of the solve function, especially the use of the brackets:\n",
    "solve( (eq1, eq2, eq3), var1, var2, var3)\n",
    "\n",
    "The equations are by default treated as equal to 0 by the solver."
   ]
  },
  {
   "cell_type": "code",
   "execution_count": 34,
   "metadata": {
    "scrolled": true
   },
   "outputs": [
    {
     "data": {
      "image/png": "[encoded data removed]",
      "text/latex": [
       "$\\displaystyle \\left[ \\left( \\left(\\overline{U} \\left(\\left(- \\overline{U}^{\\frac{1}{\\alpha}} p_{1} \\left(\\alpha - 1\\right)\\right)^{\\alpha}\\right)^{\\alpha - 1}\\right)^{\\frac{1}{\\alpha}} \\left(\\alpha p_{2}\\right)^{1 - \\alpha}, \\  \\left(- \\frac{\\overline{U}^{\\frac{1}{\\alpha}} p_{1} \\left(\\alpha - 1\\right)}{\\alpha p_{2}}\\right)^{\\alpha}, \\  - \\frac{p_{2} \\left(- \\frac{\\overline{U}^{\\frac{1}{\\alpha}} p_{1} \\left(\\alpha - 1\\right)}{\\alpha p_{2}}\\right)^{\\alpha}}{\\overline{U} \\left(\\alpha - 1\\right)}\\right)\\right]$"
      ],
      "text/plain": [
       "⎡⎛                                                                            \n",
       "⎢⎜        ________________________________________________________            \n",
       "⎢⎜       ╱                                                  α - 1             \n",
       "⎢⎜      ╱               ⎛                                 α⎞                  \n",
       "⎢⎜alpha╱                ⎜⎛ alpha______________           ⎞ ⎟             1 - α\n",
       "⎢⎜   ╲╱    \\overline{U}⋅⎝⎝-   ╲╱ \\overline{U} ⋅p₁⋅(α - 1)⎠ ⎠      ⋅(α⋅p₂)     \n",
       "⎣⎝                                                                            \n",
       "\n",
       "                                                                             α\n",
       "                                           ⎛ alpha______________            ⎞ \n",
       "                                    α      ⎜-   ╲╱ \\overline{U} ⋅p₁⋅(α - 1) ⎟ \n",
       "  ⎛ alpha______________            ⎞   -p₂⋅⎜────────────────────────────────⎟ \n",
       "  ⎜-   ╲╱ \\overline{U} ⋅p₁⋅(α - 1) ⎟       ⎝              α⋅p₂              ⎠ \n",
       ", ⎜────────────────────────────────⎟ , ───────────────────────────────────────\n",
       "  ⎝              α⋅p₂              ⎠             \\overline{U}⋅(α - 1)         \n",
       "\n",
       " ⎞⎤\n",
       " ⎟⎥\n",
       " ⎟⎥\n",
       " ⎟⎥\n",
       " ⎟⎥\n",
       "─⎟⎥\n",
       " ⎠⎦"
      ]
     },
     "execution_count": 34,
     "metadata": {},
     "output_type": "execute_result"
    }
   ],
   "source": [
    "foc_sol = solve( ( diff(lagr,q1), diff(lagr,q2), diff(lagr,lam) ), [q1,q2,lam])\n",
    "foc_sol"
   ]
  },
  {
   "cell_type": "markdown",
   "metadata": {},
   "source": [
    "The solution is a list with one element, because our solution is unique."
   ]
  },
  {
   "cell_type": "code",
   "execution_count": 24,
   "metadata": {
    "scrolled": true
   },
   "outputs": [
    {
     "data": {
      "image/png": "[encoded data removed]",
      "text/latex": [
       "$\\displaystyle \\left( \\left(\\overline{U} \\left(\\left(- \\overline{U}^{\\frac{1}{\\alpha}} p_{1} \\left(\\alpha - 1\\right)\\right)^{\\alpha}\\right)^{\\alpha - 1}\\right)^{\\frac{1}{\\alpha}} \\left(\\alpha p_{2}\\right)^{1 - \\alpha}, \\  \\left(- \\frac{\\overline{U}^{\\frac{1}{\\alpha}} p_{1} \\left(\\alpha - 1\\right)}{\\alpha p_{2}}\\right)^{\\alpha}, \\  - \\frac{p_{2} \\left(- \\frac{\\overline{U}^{\\frac{1}{\\alpha}} p_{1} \\left(\\alpha - 1\\right)}{\\alpha p_{2}}\\right)^{\\alpha}}{\\overline{U} \\left(\\alpha - 1\\right)}\\right)$"
      ],
      "text/plain": [
       "⎛                                                                             \n",
       "⎜        ________________________________________________________             \n",
       "⎜       ╱                                                  α - 1              \n",
       "⎜      ╱               ⎛                                 α⎞                   \n",
       "⎜alpha╱                ⎜⎛ alpha______________           ⎞ ⎟             1 - α \n",
       "⎜   ╲╱    \\overline{U}⋅⎝⎝-   ╲╱ \\overline{U} ⋅p₁⋅(α - 1)⎠ ⎠      ⋅(α⋅p₂)     ,\n",
       "⎝                                                                             \n",
       "\n",
       "                                                                            α \n",
       "                                          ⎛ alpha______________            ⎞  \n",
       "                                   α      ⎜-   ╲╱ \\overline{U} ⋅p₁⋅(α - 1) ⎟  \n",
       " ⎛ alpha______________            ⎞   -p₂⋅⎜────────────────────────────────⎟  \n",
       " ⎜-   ╲╱ \\overline{U} ⋅p₁⋅(α - 1) ⎟       ⎝              α⋅p₂              ⎠  \n",
       " ⎜────────────────────────────────⎟ , ────────────────────────────────────────\n",
       " ⎝              α⋅p₂              ⎠             \\overline{U}⋅(α - 1)          \n",
       "\n",
       "⎞\n",
       "⎟\n",
       "⎟\n",
       "⎟\n",
       "⎟\n",
       "⎟\n",
       "⎠"
      ]
     },
     "execution_count": 24,
     "metadata": {},
     "output_type": "execute_result"
    }
   ],
   "source": [
    "foc_sol[0]"
   ]
  },
  {
   "cell_type": "markdown",
   "metadata": {},
   "source": [
    "To access the first element in our solution, which is a list by itself, we use the list index again."
   ]
  },
  {
   "cell_type": "code",
   "execution_count": 32,
   "metadata": {},
   "outputs": [
    {
     "data": {
      "image/png": "[encoded data removed]",
      "text/latex": [
       "$\\displaystyle \\left(\\overline{U} \\left(\\left(- \\overline{U}^{\\frac{1}{\\alpha}} p_{1} \\left(\\alpha - 1\\right)\\right)^{\\alpha}\\right)^{\\alpha - 1}\\right)^{\\frac{1}{\\alpha}} \\left(\\alpha p_{2}\\right)^{1 - \\alpha}$"
      ],
      "text/plain": [
       "        ________________________________________________________            \n",
       "       ╱                                                  α - 1             \n",
       "      ╱               ⎛                                 α⎞                  \n",
       "alpha╱                ⎜⎛ alpha______________           ⎞ ⎟             1 - α\n",
       "   ╲╱    \\overline{U}⋅⎝⎝-   ╲╱ \\overline{U} ⋅p₁⋅(α - 1)⎠ ⎠      ⋅(α⋅p₂)     "
      ]
     },
     "execution_count": 32,
     "metadata": {},
     "output_type": "execute_result"
    }
   ],
   "source": [
    "q1star = foc_sol[0][0]\n",
    "q1star"
   ]
  },
  {
   "cell_type": "code",
   "execution_count": 36,
   "metadata": {
    "scrolled": true
   },
   "outputs": [
    {
     "data": {
      "image/png": "[encoded data removed]",
      "text/latex": [
       "$\\displaystyle \\left(- \\frac{\\overline{U}^{\\frac{1}{\\alpha}} p_{1} \\left(\\alpha - 1\\right)}{\\alpha p_{2}}\\right)^{\\alpha}$"
      ],
      "text/plain": [
       "                                  α\n",
       "⎛ alpha______________            ⎞ \n",
       "⎜-   ╲╱ \\overline{U} ⋅p₁⋅(α - 1) ⎟ \n",
       "⎜────────────────────────────────⎟ \n",
       "⎝              α⋅p₂              ⎠ "
      ]
     },
     "execution_count": 36,
     "metadata": {},
     "output_type": "execute_result"
    }
   ],
   "source": [
    "q2star = foc_sol[0][1]\n",
    "q2star"
   ]
  },
  {
   "cell_type": "markdown",
   "metadata": {},
   "source": [
    "Substitute optimal consumption into the cost, to calculate the minimum expenditure level necessary at the given exogenous variables. \n",
    "\n",
    "The resulting function is our **expenditure function**, $E(p_1,p_2,\\overline{U})$."
   ]
  },
  {
   "cell_type": "code",
   "execution_count": 37,
   "metadata": {},
   "outputs": [
    {
     "data": {
      "image/png": "[encoded data removed]",
      "text/latex": [
       "$\\displaystyle p_{2} \\left(\\frac{1}{\\alpha p_{2}}\\right)^{\\alpha} \\left(\\alpha p_{1} \\left(\\overline{U} \\left(\\left(- \\overline{U}^{\\frac{1}{\\alpha}} p_{1} \\left(\\alpha - 1\\right)\\right)^{\\alpha}\\right)^{\\alpha - 1}\\right)^{\\frac{1}{\\alpha}} + \\left(- \\overline{U}^{\\frac{1}{\\alpha}} p_{1} \\left(\\alpha - 1\\right)\\right)^{\\alpha}\\right)$"
      ],
      "text/plain": [
       "           ⎛             _____________________________________________________\n",
       "           ⎜            ╱                                                  α -\n",
       "         α ⎜           ╱               ⎛                                 α⎞   \n",
       "   ⎛ 1  ⎞  ⎜     alpha╱                ⎜⎛ alpha______________           ⎞ ⎟   \n",
       "p₂⋅⎜────⎟ ⋅⎝α⋅p₁⋅   ╲╱    \\overline{U}⋅⎝⎝-   ╲╱ \\overline{U} ⋅p₁⋅(α - 1)⎠ ⎠   \n",
       "   ⎝α⋅p₂⎠                                                                     \n",
       "\n",
       "___                                     ⎞\n",
       " 1                                      ⎟\n",
       "                                       α⎟\n",
       "      ⎛ alpha______________           ⎞ ⎟\n",
       "    + ⎝-   ╲╱ \\overline{U} ⋅p₁⋅(α - 1)⎠ ⎠\n",
       "                                         "
      ]
     },
     "execution_count": 37,
     "metadata": {},
     "output_type": "execute_result"
    }
   ],
   "source": [
    "E = (p1*q1 + p2*q2).subs([(q1,q1star), (q2,q2star)])\n",
    "# simplify function does not work well here, but we can further simplify by hand\n",
    "E.simplify()"
   ]
  },
  {
   "cell_type": "code",
   "execution_count": null,
   "metadata": {},
   "outputs": [],
   "source": []
  }
 ],
 "metadata": {
  "kernelspec": {
   "display_name": "Python 3",
   "language": "python",
   "name": "python3"
  },
  "language_info": {
   "codemirror_mode": {
    "name": "ipython",
    "version": 3
   },
   "file_extension": ".py",
   "mimetype": "text/x-python",
   "name": "python",
   "nbconvert_exporter": "python",
   "pygments_lexer": "ipython3",
   "version": "3.7.6"
  }
 },
 "nbformat": 4,
 "nbformat_minor": 1
}
