{
 "cells": [
  {
   "cell_type": "markdown",
   "metadata": {},
   "source": [
    "Import necessary packages."
   ]
  },
  {
   "cell_type": "code",
   "execution_count": 2,
   "metadata": {},
   "outputs": [],
   "source": [
    "# import all functions from python labrary: sympy\n",
    "from sympy import *\n",
    "# import python library: matplotlib (for nice plots)\n",
    "import matplotlib\n",
    "# set sympy output to print pretty math expressions\n",
    "init_printing()"
   ]
  },
  {
   "cell_type": "markdown",
   "metadata": {},
   "source": [
    "Declare variables we are going to use as 'symbols'. We will add more along the way, if necessary."
   ]
  },
  {
   "cell_type": "code",
   "execution_count": 3,
   "metadata": {},
   "outputs": [],
   "source": [
    "### NOTE: it is important here to further declare these variables to be nonzero and positive (otherwise sympy cannot find solution for the FOCs)\n",
    "Q, c, a, b, pi = symbols('Q c a b \\pi', nonzero=True, positive=True)"
   ]
  },
  {
   "cell_type": "markdown",
   "metadata": {},
   "source": [
    "# monopoly setup"
   ]
  },
  {
   "cell_type": "markdown",
   "metadata": {},
   "source": [
    "## Firm and demand"
   ]
  },
  {
   "cell_type": "markdown",
   "metadata": {},
   "source": [
    "Assume one monopolistic firm sells a product in a given market. We assume the firm has a constant marginal cost, $c$.\n",
    "\n",
    "The market demand for a product is linear, such that the inverse demand function takes the form of\n",
    "\\begin{align}\n",
    "    p = a - b Q\n",
    "\\end{align}\n",
    "\n",
    "We assume $a > c$, so that consumer's willingness to pay exceeds the firm's cost to produce."
   ]
  },
  {
   "cell_type": "markdown",
   "metadata": {},
   "source": [
    "## Graph"
   ]
  },
  {
   "cell_type": "code",
   "execution_count": 8,
   "metadata": {},
   "outputs": [
    {
     "data": {
      "image/png": "[encoded data removed]",
      "text/plain": [
       "<Figure size 432x288 with 1 Axes>"
      ]
     },
     "metadata": {
      "needs_background": "light"
     },
     "output_type": "display_data"
    }
   ],
   "source": [
    "# Plotting inverse market demand\n",
    "DInverse = a - b*Q\n",
    "Dplot0 = plot(DInverse.subs([(a,100),(b,Rational(1,2))]), (Q,0,300), xlim=[0,260], ylim=[0,130], xlabel=\"$Q$\", ylabel=\"$p$\", show=False)\n",
    "\n",
    "# Plotting MB curve\n",
    "MRcurve = diff(DInverse*Q, Q)\n",
    "MRplot0 = plot(MRcurve.subs([(a,100),(b,Rational(1,2))]), (Q,0,300), xlim=[0,200], ylim=[0,130], xlabel=\"$Q$\", ylabel=\"$p$\", show=False)\n",
    "\n",
    "# Plotting MC curve\n",
    "MCcurve = c\n",
    "MCplot0 = plot(MCcurve.subs([(c,20)]), (Q,0,300), xlim=[0,200], ylim=[0,130], xlabel=\"$Q$\", ylabel=\"$p$\", show=False)\n",
    "\n",
    "\n",
    "# combine plots into one plot\n",
    "plot_combo = Dplot0\n",
    "plot_combo.extend(MRplot0)\n",
    "plot_combo.extend(MCplot0)\n",
    "\n",
    "# assign colors for each line\n",
    "plot_combo[0].line_color='blue'\n",
    "plot_combo[1].line_color='darkblue'\n",
    "plot_combo[2].line_color='orchid'\n",
    "\n",
    "# show plot\n",
    "plot_combo.show()"
   ]
  },
  {
   "cell_type": "markdown",
   "metadata": {},
   "source": [
    "## The firm's profit-maximization problem"
   ]
  },
  {
   "cell_type": "markdown",
   "metadata": {},
   "source": [
    "Under these modeling assumptions, each firm's profit is\n",
    "\\begin{align}\n",
    "    \\pi &= p\\cdot Q - c \\cdot Q \\\\\n",
    "            &= (p-c)Q \\tag{1}\n",
    "\\end{align}"
   ]
  },
  {
   "cell_type": "markdown",
   "metadata": {},
   "source": [
    "Plugging in the inverse demand function, each firm's profit is\n",
    "\\begin{align}\n",
    "    \\pi(Q) & = \\big(a - bQ - c\\big) Q   \\tag{2}\n",
    "\\end{align}"
   ]
  },
  {
   "cell_type": "markdown",
   "metadata": {},
   "source": [
    "From here, we can try to find the FOC w.r.t. Q for the firm. But we will explore an alternative development before going this route."
   ]
  },
  {
   "cell_type": "markdown",
   "metadata": {},
   "source": [
    "## The firm's profit-maximization problem (re-write in terms of p)"
   ]
  },
  {
   "cell_type": "markdown",
   "metadata": {},
   "source": [
    "Instead, from equation (1), we can plug in the demand function (not inverse demand) and rewrite $\\pi$ in terms of $p$. Specifically, the firm's demand function is \n",
    "$$ Q = \\frac{a}{b} - \\frac{p}{b}.$$\n",
    "Plugging into (1), and we have\n",
    "\\begin{align}\n",
    "    \\pi(p) & = (p-c)\\big(\\frac{a}{b} - \\frac{p}{b}\\big)  \\tag{3}\n",
    "\\end{align}"
   ]
  },
  {
   "cell_type": "markdown",
   "metadata": {},
   "source": [
    "# Analysis"
   ]
  },
  {
   "cell_type": "markdown",
   "metadata": {},
   "source": [
    "## Monopolist chooses Q to maximize profit"
   ]
  },
  {
   "cell_type": "markdown",
   "metadata": {},
   "source": [
    "If the firm chooses $Q$ to maximize its profit, the firm maximizes (2), i.e.,\n",
    "\\begin{align}\n",
    "    \\max_{Q}\\pi(Q) & = \\big(a - bQ - c\\big) Q\n",
    "\\end{align}\n",
    "which implies the FOC\n",
    "\\begin{align}\n",
    "    \\big(a - bQ - c\\big) - bQ = 0 \n",
    "    \\quad\\Rightarrow\\quad \n",
    "    Q^* = \\frac{a-c}{2b}\n",
    "\\end{align}\n",
    "Plugging back into the inverse demand funciton, the monopolist would price at\n",
    "\\begin{align}\n",
    "    p^* &= a - bQ^* \\\\\n",
    "        &= a - \\frac{a-c}{2} \\\\\n",
    "        &= \\frac{a+c}{2}\n",
    "\\end{align}"
   ]
  },
  {
   "cell_type": "markdown",
   "metadata": {},
   "source": [
    "## Monopolist chooses p to maximize profit"
   ]
  },
  {
   "cell_type": "markdown",
   "metadata": {},
   "source": []
  },
  {
   "cell_type": "markdown",
   "metadata": {},
   "source": [
    "# Challenge"
   ]
  },
  {
   "cell_type": "markdown",
   "metadata": {},
   "source": [
    "**Q1**: solve two cases of the monopoly profit-maximization problem using sympy\n",
    "* if the firm chooses output level to maximize profit\n",
    "* if the firm chooses price level to maximize profit\n",
    "* does it matter what the firm choose? why or why not?"
   ]
  },
  {
   "cell_type": "code",
   "execution_count": null,
   "metadata": {},
   "outputs": [],
   "source": []
  },
  {
   "cell_type": "markdown",
   "metadata": {},
   "source": [
    "**Q2**: (Drew Fallon challenge) Why isn't the firm's profit maximized when $p - AC$ is maximized?"
   ]
  },
  {
   "cell_type": "markdown",
   "metadata": {},
   "source": [
    "\\begin{align}\n",
    "    \\max_{Q}\\pi &= pQ - c(Q) \\\\\n",
    "                &= pQ - Q* \\underbrace{\\frac{c(Q)}{Q}}_{AC(Q)} \\\\\n",
    "                &= Q \\big( p - AC(Q) \\big)\n",
    "\\end{align}\n",
    "Let's take the FOC w.r.t. Q\n",
    "\\begin{align}\n",
    "    \\frac{\\partial \\pi}{\\partial Q} &= (p-AC) + Q \\frac{\\partial \\big( p-AC(Q) \\big)}{\\partial Q}\n",
    "\\end{align}\n",
    "If the firm chooses $Q$ where $p-AC(Q)$ is maximized, then we would have \n",
    "$$\\frac{\\partial \\big( p-AC(Q) \\big)}{\\partial Q} = 0$$ \n",
    "which means $ \\frac{\\partial \\pi}{\\partial Q} > 0 $ as long as $p - AC > 0$, in other words, the firm is not maximizing profit at such quantity if the profit is positive."
   ]
  },
  {
   "cell_type": "code",
   "execution_count": null,
   "metadata": {},
   "outputs": [],
   "source": []
  }
 ],
 "metadata": {
  "kernelspec": {
   "display_name": "Python 3",
   "language": "python",
   "name": "python3"
  },
  "language_info": {
   "codemirror_mode": {
    "name": "ipython",
    "version": 3
   },
   "file_extension": ".py",
   "mimetype": "text/x-python",
   "name": "python",
   "nbconvert_exporter": "python",
   "pygments_lexer": "ipython3",
   "version": "3.7.4"
  }
 },
 "nbformat": 4,
 "nbformat_minor": 2
}
