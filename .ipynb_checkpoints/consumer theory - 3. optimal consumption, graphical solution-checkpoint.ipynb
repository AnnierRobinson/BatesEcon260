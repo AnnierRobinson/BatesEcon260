{
 "cells": [
  {
   "cell_type": "markdown",
   "metadata": {},
   "source": [
    "Import necessary packages."
   ]
  },
  {
   "cell_type": "code",
   "execution_count": 1,
   "metadata": {},
   "outputs": [],
   "source": [
    "# import all functions from python labrary: sympy\n",
    "from sympy import *\n",
    "# import python library: matplotlib (for nice plots)\n",
    "import matplotlib\n",
    "# set sympy output to print pretty math expressions\n",
    "init_printing()"
   ]
  },
  {
   "cell_type": "markdown",
   "metadata": {},
   "source": [
    "Declare variables we are going to use as 'symbols'. We will add more along the way, if necessary."
   ]
  },
  {
   "cell_type": "code",
   "execution_count": 2,
   "metadata": {},
   "outputs": [],
   "source": [
    "q1, q2, p1, p2, y = symbols('q1 q2 p1 p2 y')"
   ]
  },
  {
   "cell_type": "markdown",
   "metadata": {},
   "source": [
    "In this notebook, we derive a graphical solution to the consumer's utility maximization problem, i.e., finding the optimal consumption bundles and the highest utility level. \n",
    "\n",
    "We complete this in 3 steps:\n",
    "1. create indifference curves;\n",
    "2. create a budget constraint;\n",
    "3. find the optimal solution graphically."
   ]
  },
  {
   "cell_type": "markdown",
   "metadata": {},
   "source": [
    "# 3.1. Cobb-Douglas (CD) Utility Function"
   ]
  },
  {
   "cell_type": "markdown",
   "metadata": {},
   "source": [
    "## Define a utility function"
   ]
  },
  {
   "cell_type": "markdown",
   "metadata": {},
   "source": [
    "Define a CD utility function:"
   ]
  },
  {
   "cell_type": "code",
   "execution_count": 3,
   "metadata": {},
   "outputs": [
    {
     "data": {
      "image/png": "[encoded data removed]",
      "text/latex": [
       "$\\displaystyle \\sqrt{q_{1}} \\sqrt{q_{2}}$"
      ],
      "text/plain": [
       "  ____   ____\n",
       "╲╱ q₁ ⋅╲╱ q₂ "
      ]
     },
     "execution_count": 3,
     "metadata": {},
     "output_type": "execute_result"
    }
   ],
   "source": [
    "# define alpha as a rational number of 1/2\n",
    "alpha = Rational(1,2)\n",
    "# define parameter beta as 1 - alpha\n",
    "beta = 1 - alpha\n",
    "# Note: in sympy syntax: use double star ** for power\n",
    "u = q1**(alpha) * q2**(beta)\n",
    "# show the defined function\n",
    "u"
   ]
  },
  {
   "cell_type": "markdown",
   "metadata": {},
   "source": [
    "## Derive the expression for the indifference curve"
   ]
  },
  {
   "cell_type": "code",
   "execution_count": 4,
   "metadata": {
    "scrolled": true
   },
   "outputs": [
    {
     "data": {
      "image/png": "[encoded data removed]",
      "text/latex": [
       "$\\displaystyle \\left[ \\frac{\\bar{u}^{2}}{q_{1}}\\right]$"
      ],
      "text/plain": [
       "⎡  2⎤\n",
       "⎢u̅ ⎥\n",
       "⎢───⎥\n",
       "⎣ q₁⎦"
      ]
     },
     "execution_count": 4,
     "metadata": {},
     "output_type": "execute_result"
    }
   ],
   "source": [
    "# define a new symbol ubar\n",
    "ubar = symbols('ubar')\n",
    "# explicitly solve for the indifference curve: q2 as a function of ubar and q1\n",
    "indiff_sol = solve(Eq(u, ubar), q2)\n",
    "# show the expression of the indifference curve\n",
    "indiff_sol"
   ]
  },
  {
   "cell_type": "markdown",
   "metadata": {},
   "source": [
    "Note the square brackets around the above output, this indicates that indiff_sol is a list with one element (not just the element itself). This feature is handy because the solution may not be unique (e.g. solution to a quadratic equation).\n",
    "\n",
    "We can ask python about the type of the object using: type(indiff_sol)."
   ]
  },
  {
   "cell_type": "code",
   "execution_count": 5,
   "metadata": {},
   "outputs": [
    {
     "data": {
      "text/plain": [
       "list"
      ]
     },
     "execution_count": 5,
     "metadata": {},
     "output_type": "execute_result"
    }
   ],
   "source": [
    "type(indiff_sol)"
   ]
  },
  {
   "cell_type": "markdown",
   "metadata": {},
   "source": [
    "In this case, we only want the element (the solution), we access it using the index.\n",
    "\n",
    "Python index starts with 0, so indiff[0] is the 1st element, indiff[1] is the 2nd, etc."
   ]
  },
  {
   "cell_type": "markdown",
   "metadata": {},
   "source": [
    "Nice! Now we call this element (the solution we want): indiff"
   ]
  },
  {
   "cell_type": "code",
   "execution_count": 6,
   "metadata": {},
   "outputs": [
    {
     "data": {
      "image/png": "[encoded data removed]",
      "text/latex": [
       "$\\displaystyle \\frac{\\bar{u}^{2}}{q_{1}}$"
      ],
      "text/plain": [
       "  2\n",
       "u̅ \n",
       "───\n",
       " q₁"
      ]
     },
     "execution_count": 6,
     "metadata": {},
     "output_type": "execute_result"
    }
   ],
   "source": [
    "indiff = indiff_sol[0]\n",
    "indiff"
   ]
  },
  {
   "cell_type": "markdown",
   "metadata": {},
   "source": [
    "# 3.2. Budget Constraint"
   ]
  },
  {
   "cell_type": "markdown",
   "metadata": {},
   "source": [
    "## Define the budget constraint"
   ]
  },
  {
   "cell_type": "markdown",
   "metadata": {},
   "source": [
    "First, define an expression for expenditure."
   ]
  },
  {
   "cell_type": "code",
   "execution_count": 7,
   "metadata": {},
   "outputs": [],
   "source": [
    "exp = p1*q1 + p2*q2"
   ]
  },
  {
   "cell_type": "markdown",
   "metadata": {},
   "source": [
    "Next, the budget constraint is such that the expenditure is less than or equal to the budget."
   ]
  },
  {
   "cell_type": "code",
   "execution_count": 8,
   "metadata": {
    "scrolled": true
   },
   "outputs": [
    {
     "data": {
      "image/png": "[encoded data removed]",
      "text/latex": [
       "$\\displaystyle p_{2} q_{2} \\leq - p_{1} q_{1} + y$"
      ],
      "text/plain": [
       "p₂⋅q₂ ≤ -p₁⋅q₁ + y"
      ]
     },
     "execution_count": 8,
     "metadata": {},
     "output_type": "execute_result"
    }
   ],
   "source": [
    "solve(exp <= y, q2)"
   ]
  },
  {
   "cell_type": "markdown",
   "metadata": {},
   "source": [
    "We see that the inequality solution is not just in terms of $q_2$. This is because the inequality solver in sympy has limited functionality for now. \n",
    "\n",
    "Our ideal form is\n",
    "\n",
    "\\begin{align}\n",
    "    q_2 \\leq \\frac{-p_1 q_1 + y}{p_2} \\label{eq1}\\tag{1}\n",
    "\\end{align}\n",
    "\n",
    "But this is no big deal, let's treat it as an equality, and keep the sign in mind."
   ]
  },
  {
   "cell_type": "code",
   "execution_count": 9,
   "metadata": {},
   "outputs": [
    {
     "data": {
      "image/png": "[encoded data removed]",
      "text/latex": [
       "$\\displaystyle \\frac{- p_{1} q_{1} + y}{p_{2}}$"
      ],
      "text/plain": [
       "-p₁⋅q₁ + y\n",
       "──────────\n",
       "    p₂    "
      ]
     },
     "execution_count": 9,
     "metadata": {},
     "output_type": "execute_result"
    }
   ],
   "source": [
    "budget_sol = solve(Eq(exp, y), q2)\n",
    "# Retreive the first and only element in the solution, which is our expression for the budget constraint.\n",
    "bc = budget_sol[0]\n",
    "bc"
   ]
  },
  {
   "cell_type": "markdown",
   "metadata": {},
   "source": [
    "The slope and intercept of the budget constraint is better seen after expanding the expression."
   ]
  },
  {
   "cell_type": "code",
   "execution_count": 10,
   "metadata": {
    "scrolled": true
   },
   "outputs": [
    {
     "data": {
      "image/png": "[encoded data removed]",
      "text/latex": [
       "$\\displaystyle - \\frac{p_{1} q_{1}}{p_{2}} + \\frac{y}{p_{2}}$"
      ],
      "text/plain": [
       "  p₁⋅q₁   y \n",
       "- ───── + ──\n",
       "    p₂    p₂"
      ]
     },
     "execution_count": 10,
     "metadata": {},
     "output_type": "execute_result"
    }
   ],
   "source": [
    "bc.expand()"
   ]
  },
  {
   "cell_type": "markdown",
   "metadata": {},
   "source": [
    "## Plot the budget constraint"
   ]
  },
  {
   "cell_type": "markdown",
   "metadata": {
    "slideshow": {
     "slide_type": "fragment"
    }
   },
   "source": [
    "Let's plot a budget constraint with parameters $y=5, p_1 = 1, p_2 = 1$. \n",
    "\n",
    "Note the use of different brackets in the subs method."
   ]
  },
  {
   "cell_type": "code",
   "execution_count": 11,
   "metadata": {},
   "outputs": [
    {
     "data": {
      "text/plain": [
       "<Figure size 640x480 with 1 Axes>"
      ]
     },
     "metadata": {},
     "output_type": "display_data"
    }
   ],
   "source": [
    "# we substitute a list [(y,5), (p1,1), (p2,1)] into bc\n",
    "# the list has three elements, each as a pair: (y,5), (p1,1), (p2,1)\n",
    "bc_plot1 = plot(bc.subs([(y,5), (p1,1), (p2,1)]), xlim=[0,10], ylim=[0,10], xlabel=\"$q_1$\", ylabel=\"$q_2$\", show=False)\n",
    "bc_plot1.show()"
   ]
  },
  {
   "cell_type": "markdown",
   "metadata": {},
   "source": [
    "Creat a few budget constraints with different $y$, while holding prices constant."
   ]
  },
  {
   "cell_type": "code",
   "execution_count": 12,
   "metadata": {},
   "outputs": [
    {
     "data": {
      "image/png": "[encoded data removed]",
      "text/plain": [
       "<Figure size 432x288 with 1 Axes>"
      ]
     },
     "metadata": {
      "needs_background": "light"
     },
     "output_type": "display_data"
    }
   ],
   "source": [
    "# create plots with different parameters\n",
    "bc_plot1 = plot(bc.subs([(y,5), (p1,1), (p2,1)]), xlim=[0,10], ylim=[0,10], xlabel=\"$q_1$\", ylabel=\"$q_2$\", show=False)\n",
    "bc_plot2 = plot(bc.subs([(y,6), (p1,1), (p2,1)]), xlim=[0,10], ylim=[0,10], xlabel=\"$q_1$\", ylabel=\"$q_2$\", show=False)\n",
    "bc_plot3 = plot(bc.subs([(y,7), (p1,1), (p2,1)]), xlim=[0,10], ylim=[0,10], xlabel=\"$q_1$\", ylabel=\"$q_2$\", show=False)\n",
    "\n",
    "# combine plots into one plot\n",
    "bc_plot_combo = bc_plot1\n",
    "bc_plot_combo.extend(bc_plot2)\n",
    "bc_plot_combo.extend(bc_plot3)\n",
    "\n",
    "# assign colors for each line\n",
    "bc_plot_combo[0].line_color='salmon'\n",
    "bc_plot_combo[1].line_color='tomato'\n",
    "bc_plot_combo[2].line_color='orchid'\n",
    "\n",
    "# show plot\n",
    "bc_plot_combo.show()"
   ]
  },
  {
   "cell_type": "markdown",
   "metadata": {},
   "source": [
    "# 3.3. graphically solve for the optimal consumption bundle"
   ]
  },
  {
   "cell_type": "markdown",
   "metadata": {},
   "source": [
    "### Combine an *arbitrary* indifference curves and the budget contraint in the same graph"
   ]
  },
  {
   "cell_type": "code",
   "execution_count": 13,
   "metadata": {},
   "outputs": [
    {
     "data": {
      "image/png": "[encoded data removed]",
      "text/plain": [
       "<Figure size 432x288 with 1 Axes>"
      ]
     },
     "metadata": {
      "needs_background": "light"
     },
     "output_type": "display_data"
    }
   ],
   "source": [
    "# we substitute a list [(y,5), (p1,1), (p2,1)] into bc\n",
    "# the list has three elements, each as a pair: (y,5), (p1,1), (p2,1)\n",
    "bc_plot1 = plot(bc.subs([(y,5), (p1,1), (p2,1)]), xlim=[0,10], ylim=[0,10], xlabel=\"$q_1$\", ylabel=\"$q_2$\", show=False)\n",
    "\n",
    "# plot two indifference curves at arbitrary utility levels\n",
    "indiff_plot1 = plot(indiff.subs(ubar, 1), xlim=[0,10], ylim=[0,10], xlabel=\"$q_1$\", ylabel=\"$q_2$\", show=False)\n",
    "indiff_plot2 = plot(indiff.subs(ubar, 5), xlim=[0,10], ylim=[0,10], xlabel=\"$q_1$\", ylabel=\"$q_2$\", show=False)\n",
    "\n",
    "# let plot_combo[0] be the budget constraint\n",
    "plot_combo = bc_plot1\n",
    "# let plot_combo add on the indifference curves\n",
    "plot_combo.extend(indiff_plot1)\n",
    "plot_combo.extend(indiff_plot2)\n",
    "\n",
    "# assign colors for each line\n",
    "plot_combo[1].line_color='salmon'\n",
    "plot_combo[2].line_color='navy'\n",
    "\n",
    "plot_combo.show()"
   ]
  },
  {
   "cell_type": "markdown",
   "metadata": {},
   "source": [
    "### Adjust utility levels to find the optimal solution (make your edits here)"
   ]
  },
  {
   "cell_type": "code",
   "execution_count": 14,
   "metadata": {},
   "outputs": [
    {
     "data": {
      "image/png": "[encoded data removed]",
      "text/plain": [
       "<Figure size 432x288 with 1 Axes>"
      ]
     },
     "metadata": {
      "needs_background": "light"
     },
     "output_type": "display_data"
    }
   ],
   "source": [
    "# we substitute a list [(y,5), (p1,1), (p2,1)] into bc\n",
    "# the list has three elements, each as a pair: (y,5), (p1,1), (p2,1)\n",
    "bc_plot1 = plot(bc.subs([(y,5), (p1,1), (p2,1)]), xlim=[0,10], ylim=[0,10], xlabel=\"$q_1$\", ylabel=\"$q_2$\", show=False)\n",
    "\n",
    "# plot two indifference curves at arbitrary utility levels\n",
    "indiff_plot1 = plot(indiff.subs(ubar, 1), xlim=[0,10], ylim=[0,10], xlabel=\"$q_1$\", ylabel=\"$q_2$\", show=False)\n",
    "indiff_plot2 = plot(indiff.subs(ubar, 5), xlim=[0,10], ylim=[0,10], xlabel=\"$q_1$\", ylabel=\"$q_2$\", show=False)\n",
    "\n",
    "# let plot_combo[0] be the budget constraint\n",
    "plot_combo = bc_plot1\n",
    "# let plot_combo add on the indifference curves\n",
    "plot_combo.extend(indiff_plot1)\n",
    "plot_combo.extend(indiff_plot2)\n",
    "\n",
    "# assign colors for each line\n",
    "plot_combo[1].line_color='salmon'\n",
    "plot_combo[2].line_color='navy'\n",
    "\n",
    "plot_combo.show()"
   ]
  }
 ],
 "metadata": {
  "kernelspec": {
   "display_name": "Python 3",
   "language": "python",
   "name": "python3"
  },
  "language_info": {
   "codemirror_mode": {
    "name": "ipython",
    "version": 3
   },
   "file_extension": ".py",
   "mimetype": "text/x-python",
   "name": "python",
   "nbconvert_exporter": "python",
   "pygments_lexer": "ipython3",
   "version": "3.7.4"
  }
 },
 "nbformat": 4,
 "nbformat_minor": 1
}
