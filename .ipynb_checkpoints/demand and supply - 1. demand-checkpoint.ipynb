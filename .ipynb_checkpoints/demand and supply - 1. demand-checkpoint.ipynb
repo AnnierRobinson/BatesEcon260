{
 "cells": [
  {
   "cell_type": "markdown",
   "metadata": {},
   "source": [
    "Notebook created by: Leshui He; Department of Economics, Bates College"
   ]
  },
  {
   "cell_type": "markdown",
   "metadata": {},
   "source": [
    "Import necessary packages."
   ]
  },
  {
   "cell_type": "code",
   "execution_count": 2,
   "metadata": {},
   "outputs": [],
   "source": [
    "# import all functions from python labrary: sympy\n",
    "from sympy import *\n",
    "# import python library: matplotlib (for nice plots)\n",
    "import matplotlib\n",
    "# set sympy output to print pretty math expressions\n",
    "init_printing()"
   ]
  },
  {
   "cell_type": "markdown",
   "metadata": {},
   "source": [
    "Declare variables we are going to use as 'symbols'. We will add more along the way."
   ]
  },
  {
   "cell_type": "code",
   "execution_count": 3,
   "metadata": {},
   "outputs": [],
   "source": [
    "p, pb, pk, y = symbols('p pb pk y')"
   ]
  },
  {
   "cell_type": "markdown",
   "metadata": {},
   "source": [
    "# 1.1. Demand function and demand curve"
   ]
  },
  {
   "cell_type": "markdown",
   "metadata": {},
   "source": [
    "## Define a demand function"
   ]
  },
  {
   "cell_type": "markdown",
   "metadata": {},
   "source": [
    "Define a demand function:"
   ]
  },
  {
   "cell_type": "code",
   "execution_count": 4,
   "metadata": {
    "scrolled": true
   },
   "outputs": [
    {
     "data": {
      "image/png": "[encoded data removed]",
      "text/latex": [
       "$\\displaystyle - 20 p + 20 pb + 3 pk + 2 y + 171$"
      ],
      "text/plain": [
       "-20⋅p + 20⋅pb + 3⋅pk + 2⋅y + 171"
      ]
     },
     "execution_count": 4,
     "metadata": {},
     "output_type": "execute_result"
    }
   ],
   "source": [
    "# define linear demand function as in class notes\n",
    "Qd = 171 - 20*p + 20*pb + 3*pk + 2*y\n",
    "# show the defined function\n",
    "Qd"
   ]
  },
  {
   "cell_type": "markdown",
   "metadata": {},
   "source": [
    "Calculate derivative of the demand function with respect to $p$ by hand. \n",
    "\n",
    "$\\LaTeX$ Note: \n",
    "* mark the inline LaTeX math expressions with `$` at the beginning and the end\n",
    "* the partial derivative sign in LaTeX math is: `\\partial`\n",
    "* the fraction in LaTeX math is: `\\frac{numerator}{denominator}`"
   ]
  },
  {
   "cell_type": "markdown",
   "metadata": {},
   "source": [
    "$\\frac{\\partial Q_d}{\\partial p} = -20$"
   ]
  },
  {
   "cell_type": "markdown",
   "metadata": {},
   "source": [
    "$\\LaTeX$ Note:\n",
    "* to type a centered equation (called math display) use `$$ (math here) $$`, for example:"
   ]
  },
  {
   "cell_type": "markdown",
   "metadata": {},
   "source": [
    "$$\\frac{\\partial Q_d}{\\partial p} = -20$$"
   ]
  },
  {
   "cell_type": "markdown",
   "metadata": {},
   "source": [
    "$\\LaTeX$ Note:\n",
    "* to type multi-lined equations, use `\\begin{align}` and `\\end{align}` to surround your equations\n",
    "* use `\\\\` for linebreak between each equation\n",
    "* use `&`  on each line to tell LaTeX where you'd like the equations to align"
   ]
  },
  {
   "cell_type": "markdown",
   "metadata": {},
   "source": [
    "\\begin{align}\n",
    "y &= \\frac{\\partial}{\\partial p} (171 - 20 p + 20 p_b + 3 p_k + 2 y) \\\\\n",
    "  &= \\frac{\\partial}{\\partial p} (171 + 20 p_b + 3 p_k + 2 y) + \\frac{\\partial}{\\partial p}(-20 p) \\\\\n",
    "  &= -20\n",
    "\\end{align}"
   ]
  },
  {
   "cell_type": "markdown",
   "metadata": {},
   "source": [
    "Calculate derivative of the demand function with respect to $p$ using sympy"
   ]
  },
  {
   "cell_type": "code",
   "execution_count": 5,
   "metadata": {
    "scrolled": false
   },
   "outputs": [
    {
     "data": {
      "image/png": "[encoded data removed]",
      "text/latex": [
       "$\\displaystyle -20$"
      ],
      "text/plain": [
       "-20"
      ]
     },
     "execution_count": 5,
     "metadata": {},
     "output_type": "execute_result"
    }
   ],
   "source": [
    "# Note: in sympy, you can calculate derivative of a sympy object using the \"diff\" method\n",
    "Qd.diff(p)"
   ]
  },
  {
   "cell_type": "markdown",
   "metadata": {},
   "source": [
    "Understand a sympy function Rational()"
   ]
  },
  {
   "cell_type": "code",
   "execution_count": 7,
   "metadata": {
    "scrolled": false
   },
   "outputs": [
    {
     "data": {
      "image/png": "[encoded data removed]",
      "text/latex": [
       "$\\displaystyle 1.0$"
      ],
      "text/plain": [
       "1.0"
      ]
     },
     "execution_count": 7,
     "metadata": {},
     "output_type": "execute_result"
    }
   ],
   "source": [
    "x = 1/13\n",
    "x*13"
   ]
  },
  {
   "cell_type": "code",
   "execution_count": 70,
   "metadata": {},
   "outputs": [
    {
     "data": {
      "image/png": "[encoded data removed]",
      "text/latex": [
       "$\\displaystyle 1$"
      ],
      "text/plain": [
       "1"
      ]
     },
     "execution_count": 70,
     "metadata": {},
     "output_type": "execute_result"
    }
   ],
   "source": [
    "Rational(1,13)*13"
   ]
  },
  {
   "cell_type": "markdown",
   "metadata": {},
   "source": [
    "Replace specific values into $p_b, p_k, y$, and call it Dcurve"
   ]
  },
  {
   "cell_type": "code",
   "execution_count": 62,
   "metadata": {},
   "outputs": [
    {
     "data": {
      "image/png": "[encoded data removed]",
      "text/latex": [
       "$\\displaystyle 286 - 20 p$"
      ],
      "text/plain": [
       "286 - 20⋅p"
      ]
     },
     "execution_count": 62,
     "metadata": {},
     "output_type": "execute_result"
    }
   ],
   "source": [
    "# Notice the use of () and [] in the subs method in sympy\n",
    "# Notice the use of funciton Rational()\n",
    "Demand = Qd.subs([(pb,4),(pk,Rational(10,3)),(y,Rational(25,2))])\n",
    "Demand"
   ]
  },
  {
   "cell_type": "markdown",
   "metadata": {},
   "source": [
    "## Plot the demand curve with the above specific values for $p_b, p_k, y$"
   ]
  },
  {
   "cell_type": "markdown",
   "metadata": {},
   "source": [
    "Step 1: inverse the demand. \n",
    "\n",
    "Recall that the y-axis of the demand curve is p, not Qd! We need to inverse the Dcurve function first!"
   ]
  },
  {
   "cell_type": "code",
   "execution_count": 73,
   "metadata": {},
   "outputs": [
    {
     "data": {
      "image/png": "[encoded data removed]",
      "text/latex": [
       "$\\displaystyle \\left[ \\frac{143}{10} - \\frac{q}{20}\\right]$"
      ],
      "text/plain": [
       "⎡143   q ⎤\n",
       "⎢─── - ──⎥\n",
       "⎣ 10   20⎦"
      ]
     },
     "execution_count": 73,
     "metadata": {},
     "output_type": "execute_result"
    }
   ],
   "source": [
    "# define a new symbol q\n",
    "q = symbols('q')\n",
    "# solve the equation Demand = q, which is equivalent to (Demand - q) = 0. \n",
    "#   Notice how the syntax required by sympy takes equations without the equal sign.\n",
    "#   Notice how the solution of sympy is stored in a list (with square brackets around it)\n",
    "Dplot = solve(Demand - q, p)\n",
    "Dplot"
   ]
  },
  {
   "cell_type": "code",
   "execution_count": 75,
   "metadata": {},
   "outputs": [
    {
     "data": {
      "image/png": "[encoded data removed]",
      "text/latex": [
       "$\\displaystyle \\frac{143}{10} - \\frac{q}{20}$"
      ],
      "text/plain": [
       "143   q \n",
       "─── - ──\n",
       " 10   20"
      ]
     },
     "execution_count": 75,
     "metadata": {},
     "output_type": "execute_result"
    }
   ],
   "source": [
    "# retrieve the solution (p as a function of q) from the list\n",
    "DInverseSimple = solve(Demand - q, p)[0]\n",
    "DInverseSimple"
   ]
  },
  {
   "cell_type": "markdown",
   "metadata": {},
   "source": [
    "Step 2: plot the (inverse) demand curve"
   ]
  },
  {
   "cell_type": "code",
   "execution_count": 76,
   "metadata": {
    "scrolled": false
   },
   "outputs": [
    {
     "data": {
      "image/png": "[encoded data removed]",
      "text/plain": [
       "<Figure size 432x288 with 1 Axes>"
      ]
     },
     "metadata": {
      "needs_background": "light"
     },
     "output_type": "display_data"
    },
    {
     "data": {
      "text/plain": [
       "<sympy.plotting.plot.Plot at 0x1be07b88d48>"
      ]
     },
     "execution_count": 76,
     "metadata": {},
     "output_type": "execute_result"
    }
   ],
   "source": [
    "# use plot function\n",
    "plot(DInverseSimple, (q,0,286), xlabel=\"$q$\", ylabel=\"$p$\")"
   ]
  },
  {
   "cell_type": "markdown",
   "metadata": {},
   "source": [
    "## Plot the demand curve with $p_b, p_k, y$ explicitly substituted later on"
   ]
  },
  {
   "cell_type": "markdown",
   "metadata": {},
   "source": [
    "Step 1: inverse the demand. "
   ]
  },
  {
   "cell_type": "code",
   "execution_count": 60,
   "metadata": {},
   "outputs": [
    {
     "data": {
      "image/png": "[encoded data removed]",
      "text/latex": [
       "$\\displaystyle pb + \\frac{3 pk}{20} - \\frac{q}{20} + \\frac{y}{10} + \\frac{171}{20}$"
      ],
      "text/plain": [
       "     3⋅pk   q    y    171\n",
       "pb + ──── - ── + ── + ───\n",
       "      20    20   10    20"
      ]
     },
     "execution_count": 60,
     "metadata": {},
     "output_type": "execute_result"
    }
   ],
   "source": [
    "# define a new symbol q\n",
    "q = symbols('q')\n",
    "# solve the equation Demand = q, which is equivalent to (Demand - q) = 0. \n",
    "#   Notice how we solve for the equation and retrieve the first element of the list in one step\n",
    "DInverse = solve(Qd - q, p)[0]\n",
    "DInverse"
   ]
  },
  {
   "cell_type": "markdown",
   "metadata": {},
   "source": [
    "Step 2: plot the demand curve"
   ]
  },
  {
   "cell_type": "code",
   "execution_count": 92,
   "metadata": {},
   "outputs": [
    {
     "data": {
      "image/png": "[encoded data removed]",
      "text/plain": [
       "<Figure size 432x288 with 1 Axes>"
      ]
     },
     "metadata": {
      "needs_background": "light"
     },
     "output_type": "display_data"
    },
    {
     "data": {
      "text/plain": [
       "<sympy.plotting.plot.Plot at 0x1be0cf95bc8>"
      ]
     },
     "execution_count": 92,
     "metadata": {},
     "output_type": "execute_result"
    }
   ],
   "source": [
    "# use plot function\n",
    "plot(DInverse.subs([(pb,4),(pk,Rational(10,3)),(y,Rational(25,2))]), (q,0,286), xlabel=\"$q$\", ylabel=\"$p$\")"
   ]
  },
  {
   "cell_type": "markdown",
   "metadata": {},
   "source": [
    "# 1.2 Changes of other factors in the demand function"
   ]
  },
  {
   "cell_type": "markdown",
   "metadata": {},
   "source": [
    "## 1.2.1 change in $p_b$"
   ]
  },
  {
   "cell_type": "markdown",
   "metadata": {},
   "source": [
    "Take derivative of $Q_d$ with respect to $p_b$"
   ]
  },
  {
   "cell_type": "code",
   "execution_count": 59,
   "metadata": {},
   "outputs": [
    {
     "data": {
      "image/png": "[encoded data removed]",
      "text/latex": [
       "$\\displaystyle 20$"
      ],
      "text/plain": [
       "20"
      ]
     },
     "execution_count": 59,
     "metadata": {},
     "output_type": "execute_result"
    }
   ],
   "source": [
    "Qd.diff(pb)"
   ]
  },
  {
   "cell_type": "markdown",
   "metadata": {},
   "source": [
    "Q: what is the interpretation of this derivative?"
   ]
  },
  {
   "cell_type": "markdown",
   "metadata": {},
   "source": [
    "A: for each dollar increase in $p_b$, $Q_d$ increases by $20$ units"
   ]
  },
  {
   "cell_type": "markdown",
   "metadata": {},
   "source": [
    "Plot a demand curve with $p_b=5, p_k=3\\frac{1}{3}, y=12.5$ explicitly substituted in."
   ]
  },
  {
   "cell_type": "code",
   "execution_count": 110,
   "metadata": {
    "scrolled": false
   },
   "outputs": [
    {
     "data": {
      "image/png": "[encoded data removed]",
      "text/plain": [
       "<Figure size 432x288 with 1 Axes>"
      ]
     },
     "metadata": {
      "needs_background": "light"
     },
     "output_type": "display_data"
    },
    {
     "data": {
      "text/plain": [
       "<sympy.plotting.plot.Plot at 0x1be0d5b3808>"
      ]
     },
     "execution_count": 110,
     "metadata": {},
     "output_type": "execute_result"
    }
   ],
   "source": [
    "# use plot function\n",
    "plot(DInverse.subs([(pb,5),(pk,Rational(10,3)),(y,Rational(25,2))]), (q,0,300), xlabel=\"$q$\", ylabel=\"$p$\")"
   ]
  },
  {
   "cell_type": "markdown",
   "metadata": {},
   "source": [
    "### Useful trick for plots in sympy: store, hide and show plots"
   ]
  },
  {
   "cell_type": "code",
   "execution_count": 109,
   "metadata": {
    "scrolled": true
   },
   "outputs": [],
   "source": [
    "# plots can be stored as an object by itself too!\n",
    "#    Notice we used option \"show=False\" to hide the plot for now\n",
    "Dplot1 = plot(DInverse.subs([(pb,5),(pk,Rational(10,3)),(y,Rational(25,2))]), (q,0,300), xlabel=\"$q$\", ylabel=\"$p$\", show=False)"
   ]
  },
  {
   "cell_type": "code",
   "execution_count": 103,
   "metadata": {
    "scrolled": true
   },
   "outputs": [
    {
     "data": {
      "image/png": "[encoded data removed]",
      "text/plain": [
       "<Figure size 432x288 with 1 Axes>"
      ]
     },
     "metadata": {
      "needs_background": "light"
     },
     "output_type": "display_data"
    }
   ],
   "source": [
    "# show the plot when we need it\n",
    "Dplot1.show()"
   ]
  },
  {
   "cell_type": "markdown",
   "metadata": {},
   "source": [
    "### Compare demand curves"
   ]
  },
  {
   "cell_type": "markdown",
   "metadata": {},
   "source": [
    "Plot two demand curves on the same graph, both with $p_k=3\\frac{1}{3}, y=12.5$. \n",
    "\n",
    "Let the first demand curve with $p_b=4$, the second with $p_b = 5$."
   ]
  },
  {
   "cell_type": "code",
   "execution_count": 108,
   "metadata": {},
   "outputs": [
    {
     "data": {
      "image/png": "[encoded data removed]",
      "text/plain": [
       "<Figure size 432x288 with 1 Axes>"
      ]
     },
     "metadata": {
      "needs_background": "light"
     },
     "output_type": "display_data"
    }
   ],
   "source": [
    "# create plots with different parameters\n",
    "Dplot0 = plot(DInverse.subs([(pb,4),(pk,Rational(10,3)),(y,Rational(25,2))]), (q,0,300), xlabel=\"$q$\", ylabel=\"$p$\", show=False)\n",
    "Dplot1 = plot(DInverse.subs([(pb,5),(pk,Rational(10,3)),(y,Rational(25,2))]), (q,0,300), xlabel=\"$q$\", ylabel=\"$p$\", show=False)\n",
    "\n",
    "# combine plots into one plot\n",
    "Dplot_combo = Dplot0\n",
    "Dplot_combo.extend(Dplot1)\n",
    "\n",
    "# assign colors for each line\n",
    "Dplot_combo[0].line_color='salmon'\n",
    "Dplot_combo[1].line_color='orchid'\n",
    "\n",
    "# show plot\n",
    "Dplot_combo.show()"
   ]
  },
  {
   "cell_type": "markdown",
   "metadata": {},
   "source": [
    "# Questions and challenges"
   ]
  },
  {
   "cell_type": "markdown",
   "metadata": {},
   "source": [
    "Q1: Add a 3rd demand curve to the graph above, similarly with $p_k=3\\frac{1}{3}, y=12.5$, but $p_b=6$.\n",
    "\n",
    "Make its color \"blue\"."
   ]
  },
  {
   "cell_type": "code",
   "execution_count": 111,
   "metadata": {},
   "outputs": [],
   "source": [
    "# code here"
   ]
  },
  {
   "cell_type": "markdown",
   "metadata": {},
   "source": [
    "Q2: Do all three demand curves have the same slope? Explain the reason behind it in terms of the demand function and its derivatives.\n",
    "\n",
    "Write up your answer below in markdown."
   ]
  },
  {
   "cell_type": "markdown",
   "metadata": {},
   "source": [
    "(answer here)"
   ]
  },
  {
   "cell_type": "markdown",
   "metadata": {},
   "source": [
    "Q3: \n",
    "* Is the gap between the first and second demand curves the same as the gap between the second and the third curves? \n",
    "* How much is the vertical distance between each two curves? \n",
    "* How much is the horizontal distance between each two curves? \n",
    "\n",
    "Explain the reason behind your observations in terms of the demand function and its derivatives.\n",
    "\n",
    "Write up your answer below in markdown."
   ]
  },
  {
   "cell_type": "markdown",
   "metadata": {},
   "source": [
    "(answer here)"
   ]
  },
  {
   "cell_type": "markdown",
   "metadata": {},
   "source": [
    "Q4: By hand\n",
    "\n",
    "* calculate the derivative of the demand function with respect to $p_k$\n",
    "* calculate the derivative of the demand function with respect to $y$\n",
    "\n",
    "Write up your answer below in markdown."
   ]
  },
  {
   "cell_type": "markdown",
   "metadata": {},
   "source": [
    "(answer here)"
   ]
  },
  {
   "cell_type": "markdown",
   "metadata": {},
   "source": [
    "Q5: Verify your answers using sympy\n",
    "\n",
    "* calculate the derivative of the demand function with respect to $p_k$\n",
    "* calculate the derivative of the demand function with respect to $y$\n",
    "\n",
    "Write up your answer below in code."
   ]
  },
  {
   "cell_type": "code",
   "execution_count": 112,
   "metadata": {},
   "outputs": [],
   "source": [
    "# code here"
   ]
  },
  {
   "cell_type": "markdown",
   "metadata": {},
   "source": [
    "Q6: What are the interpretations of each of the derivatives above? Interpret both their magnitudes and their signs. \n",
    "\n",
    "Write up your answer below in markdown."
   ]
  },
  {
   "cell_type": "markdown",
   "metadata": {},
   "source": [
    "(answer here)"
   ]
  }
 ],
 "metadata": {
  "kernelspec": {
   "display_name": "Python 3",
   "language": "python",
   "name": "python3"
  },
  "language_info": {
   "codemirror_mode": {
    "name": "ipython",
    "version": 3
   },
   "file_extension": ".py",
   "mimetype": "text/x-python",
   "name": "python",
   "nbconvert_exporter": "python",
   "pygments_lexer": "ipython3",
   "version": "3.7.6"
  }
 },
 "nbformat": 4,
 "nbformat_minor": 2
}
