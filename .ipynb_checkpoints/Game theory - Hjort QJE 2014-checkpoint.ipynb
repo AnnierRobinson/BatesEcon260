{
 "cells": [
  {
   "cell_type": "markdown",
   "metadata": {},
   "source": [
    "Import necessary packages."
   ]
  },
  {
   "cell_type": "code",
   "execution_count": 2,
   "metadata": {},
   "outputs": [],
   "source": [
    "# import all functions from python labrary: sympy\n",
    "from sympy import *\n",
    "# import python library: matplotlib (for nice plots)\n",
    "import matplotlib\n",
    "# set sympy output to print pretty math expressions\n",
    "init_printing()"
   ]
  },
  {
   "cell_type": "markdown",
   "metadata": {},
   "source": [
    "Declare variables we are going to use as 'symbols'. We will add more along the way, if necessary."
   ]
  },
  {
   "cell_type": "code",
   "execution_count": 7,
   "metadata": {},
   "outputs": [],
   "source": [
    "### NOTE: it is important here to further declare these variables to be nonzero and positive (otherwise sympy cannot find solution for the FOCs)\n",
    "e1, e2, es1, es2, alpha1, alpha2, alphas, beta, gamma, w, theta1, theta2 = symbols('e_1, e_2, e_{s1}, e_{s2}, alpha_1, alpha2, alpha_s, beta, gamma, w, theta_1, theta_2', nonzero=True, positive=True)\n"
   ]
  },
  {
   "cell_type": "markdown",
   "metadata": {},
   "source": [
    "# 3-player team production setup"
   ]
  },
  {
   "cell_type": "markdown",
   "metadata": {},
   "source": [
    "### Processors"
   ]
  },
  {
   "cell_type": "markdown",
   "metadata": {},
   "source": [
    "Two processors, 1 and 2, choose their effort levels independently to maximize their payoffs. \n",
    "\n",
    "Under individual pay on their own production, player 1 faces the problem\n",
    "\\begin{align}\n",
    "    \\max_{e_1} 2w(e_1 \\alpha_1)^{\\beta} (e_{s1} \\alpha_s)^{\\gamma} - \\frac{1}{2}e_1^2\n",
    "\\end{align}\n",
    "and player 2 faces the problem\n",
    "\\begin{align}\n",
    "    \\max_{e_2} 2w(e_2 \\alpha_2)^{\\beta} (e_{s2} \\alpha_s)^{\\gamma} - \\frac{1}{2}e_2^2\n",
    "\\end{align}\n"
   ]
  },
  {
   "cell_type": "markdown",
   "metadata": {},
   "source": [
    "### Supplier"
   ]
  },
  {
   "cell_type": "markdown",
   "metadata": {},
   "source": [
    "The supplier of the group chooses efforts towards the cooperation with each player, $e_{s1}$ and $e_{s2}$, so maximize their own payoff of\n",
    "\\begin{align}\n",
    "    \\max_{e_{s1}, e_{s2}} &\\quad \\overbrace{ w \\left( (e_1 \\alpha_1)^{\\beta} (e_{s1} \\alpha_s)^{\\gamma} + (e_2 \\alpha_2)^{\\beta} (e_{s2} \\alpha_s)^{\\gamma} \\right) - \\frac{1}{2}(e_{s1}+e_{s2})^2 }^{\\text{own private payoff}} \\\\\n",
    "        & \\qquad \\underbrace{ + \\theta_1 \\left( 2w(e_1 \\alpha_1)^{\\beta} (e_{s1} \\alpha_s)^{\\gamma} - \\frac{1}{2}e_1^2 \\right) + \\theta_2 \\left( 2w(e_2 \\alpha_2)^{\\beta} (e_{s2} \\alpha_s)^{\\gamma} - \\frac{1}{2}e_2^2 \\right) }_{\\text{social incentives}}\n",
    "\\end{align}"
   ]
  },
  {
   "cell_type": "markdown",
   "metadata": {},
   "source": [
    "# Analysis"
   ]
  },
  {
   "cell_type": "markdown",
   "metadata": {},
   "source": [
    "## Solve for the Nash equilibrium of the game"
   ]
  },
  {
   "cell_type": "markdown",
   "metadata": {},
   "source": [
    "### Solve the players' best responses given beliefs about team members' effort levels"
   ]
  },
  {
   "cell_type": "markdown",
   "metadata": {},
   "source": [
    "Note: we omit the hats here to simplify the notations. "
   ]
  },
  {
   "cell_type": "markdown",
   "metadata": {},
   "source": [
    "### Processor's problem"
   ]
  },
  {
   "cell_type": "code",
   "execution_count": 8,
   "metadata": {},
   "outputs": [
    {
     "data": {
      "image/png": "[encoded data removed]",
      "text/latex": [
       "$\\displaystyle \\left[ - 0.5 e_{1}^{2} + 2 w \\left(\\alpha_{1} e_{1}\\right)^{\\beta} \\left(\\alpha_{s} e_{s1}\\right)^{\\gamma}, \\  - 0.5 e_{2}^{2} + 2 w \\left(\\alpha_{2} e_{2}\\right)^{\\beta} \\left(\\alpha_{s} e_{s2}\\right)^{\\gamma}\\right]$"
      ],
      "text/plain": [
       "⎡        2              β            γ          2              β            γ⎤\n",
       "⎣- 0.5⋅e₁  + 2⋅w⋅(α₁⋅e₁) ⋅(αₛ⋅e_{s1}) , - 0.5⋅e₂  + 2⋅w⋅(α₂⋅e₂) ⋅(αₛ⋅e_{s2}) ⎦"
      ]
     },
     "execution_count": 8,
     "metadata": {},
     "output_type": "execute_result"
    }
   ],
   "source": [
    "# define payoff function for the processors (equation 10 in appendix)\n",
    "u1 = 2*w* (e1*alpha1)**beta * (es1*alphas)**gamma - 1/2 * e1**2\n",
    "u2 = 2*w* (e2*alpha2)**beta * (es2*alphas)**gamma - 1/2 * e2**2\n",
    "# check profit function\n",
    "[u1, u2]"
   ]
  },
  {
   "cell_type": "code",
   "execution_count": 9,
   "metadata": {},
   "outputs": [
    {
     "data": {
      "image/png": "[encoded data removed]",
      "text/latex": [
       "$\\displaystyle \\left[ \\left(\\frac{0.5 \\alpha_{1}^{- \\beta} \\alpha_{s}^{- \\gamma} e_{s1}^{- \\gamma}}{\\beta w}\\right)^{\\frac{1}{\\beta - 2}}\\right]$"
      ],
      "text/plain": [
       "⎡                          1  ⎤\n",
       "⎢                        ─────⎥\n",
       "⎢                        β - 2⎥\n",
       "⎢⎛      -β   -γ       -γ⎞     ⎥\n",
       "⎢⎜0.5⋅α₁  ⋅αₛ  ⋅e_{s1}  ⎟     ⎥\n",
       "⎢⎜──────────────────────⎟     ⎥\n",
       "⎣⎝         β⋅w          ⎠     ⎦"
      ]
     },
     "metadata": {},
     "output_type": "display_data"
    },
    {
     "data": {
      "image/png": "[encoded data removed]",
      "text/latex": [
       "$\\displaystyle \\left[ \\left(\\frac{0.5 \\alpha_{2}^{- \\beta} \\alpha_{s}^{- \\gamma} e_{s2}^{- \\gamma}}{\\beta w}\\right)^{\\frac{1}{\\beta - 2}}\\right]$"
      ],
      "text/plain": [
       "⎡                          1  ⎤\n",
       "⎢                        ─────⎥\n",
       "⎢                        β - 2⎥\n",
       "⎢⎛      -β   -γ       -γ⎞     ⎥\n",
       "⎢⎜0.5⋅α₂  ⋅αₛ  ⋅e_{s2}  ⎟     ⎥\n",
       "⎢⎜──────────────────────⎟     ⎥\n",
       "⎣⎝         β⋅w          ⎠     ⎦"
      ]
     },
     "metadata": {},
     "output_type": "display_data"
    }
   ],
   "source": [
    "# solve for processors' best response functions (equation 11 in appendix)\n",
    "e1br_sol = solve(u1.diff(e1), e1)\n",
    "display(e1br_sol)\n",
    "e2br_sol = solve(u2.diff(e2), e2)\n",
    "display(e2br_sol)"
   ]
  },
  {
   "cell_type": "code",
   "execution_count": 10,
   "metadata": {
    "scrolled": true
   },
   "outputs": [
    {
     "data": {
      "image/png": "[encoded data removed]",
      "text/latex": [
       "$\\displaystyle \\left( \\left(\\frac{0.5 \\alpha_{1}^{- \\beta} \\alpha_{s}^{- \\gamma} e_{s1}^{- \\gamma}}{\\beta w}\\right)^{\\frac{1}{\\beta - 2}}, \\  \\left(\\frac{0.5 \\alpha_{2}^{- \\beta} \\alpha_{s}^{- \\gamma} e_{s2}^{- \\gamma}}{\\beta w}\\right)^{\\frac{1}{\\beta - 2}}\\right)$"
      ],
      "text/plain": [
       "⎛                          1                              1  ⎞\n",
       "⎜                        ─────                          ─────⎟\n",
       "⎜                        β - 2                          β - 2⎟\n",
       "⎜⎛      -β   -γ       -γ⎞       ⎛      -β   -γ       -γ⎞     ⎟\n",
       "⎜⎜0.5⋅α₁  ⋅αₛ  ⋅e_{s1}  ⎟       ⎜0.5⋅α₂  ⋅αₛ  ⋅e_{s2}  ⎟     ⎟\n",
       "⎜⎜──────────────────────⎟     , ⎜──────────────────────⎟     ⎟\n",
       "⎝⎝         β⋅w          ⎠       ⎝         β⋅w          ⎠     ⎠"
      ]
     },
     "execution_count": 10,
     "metadata": {},
     "output_type": "execute_result"
    }
   ],
   "source": [
    "# retrieve the first element of these solutions\n",
    "e1br = e1br_sol[0].simplify()\n",
    "e2br = e2br_sol[0].simplify()\n",
    "e1br, e2br"
   ]
  },
  {
   "cell_type": "markdown",
   "metadata": {},
   "source": [
    "In markdown, we can type up the processors' best response functions\n",
    "\\begin{align}\n",
    "    e_1 &= \\left( 2 w \\beta (e_{s1} \\alpha_s)^{\\gamma} \\alpha_1^{\\beta} \\right)^{\\frac{1}{2-\\beta}} \\tag{P1} \\\\\n",
    "    e_2 &= \\left( 2 w \\beta (e_{s2} \\alpha_s)^{\\gamma} \\alpha_2^{\\beta} \\right)^{\\frac{1}{2-\\beta}} \\tag{P2}\n",
    "\\end{align}"
   ]
  },
  {
   "cell_type": "markdown",
   "metadata": {},
   "source": [
    "#### Plot the processor's best responses"
   ]
  },
  {
   "cell_type": "code",
   "execution_count": 19,
   "metadata": {},
   "outputs": [],
   "source": [
    "# assume some values on exogenous variables for plots\n",
    "alpha1_value = 0.5\n",
    "alphas_value = 0.5\n",
    "beta_value = 0.5\n",
    "gamma_value = 0.5\n",
    "w_value = 10"
   ]
  },
  {
   "cell_type": "code",
   "execution_count": 21,
   "metadata": {
    "scrolled": true
   },
   "outputs": [
    {
     "data": {
      "image/png": "[encoded data removed]",
      "text/plain": [
       "<Figure size 432x288 with 1 Axes>"
      ]
     },
     "metadata": {
      "needs_background": "light"
     },
     "output_type": "display_data"
    }
   ],
   "source": [
    "# plot the best response for processor 1\n",
    "e1plot_fun = e1br.subs([(alpha1,alpha1_value),(alphas,alphas_value),(beta,beta_value),(gamma,gamma_value),(w,w_value)])\n",
    "e1plot = plot(e1plot_fun, (es1,0,10), ylim=[0,10], xlabel=\"$\\hat{e}_{s1}$\", ylabel=\"$e_1$\")"
   ]
  },
  {
   "cell_type": "markdown",
   "metadata": {},
   "source": [
    "### Supplier's problem"
   ]
  },
  {
   "cell_type": "code",
   "execution_count": 14,
   "metadata": {
    "scrolled": true
   },
   "outputs": [
    {
     "data": {
      "image/png": "[encoded data removed]",
      "text/latex": [
       "$\\displaystyle \\theta_{1} \\left(- 0.5 e_{1}^{2} + 2 w \\left(\\alpha_{1} e_{1}\\right)^{\\beta} \\left(\\alpha_{s} e_{s1}\\right)^{\\gamma}\\right) + \\theta_{2} \\left(- 0.5 e_{2}^{2} + 2 w \\left(\\alpha_{2} e_{2}\\right)^{\\beta} \\left(\\alpha_{s} e_{s2}\\right)^{\\gamma}\\right) + w \\left(\\left(\\alpha_{2} e_{2}\\right)^{\\beta} \\left(\\alpha_{s} e_{s2}\\right)^{\\gamma} + \\left(\\alpha_{1} e_{1}\\right)^{\\beta} \\left(\\alpha_{s} e_{s1}\\right)^{\\gamma}\\right) - 0.5 \\left(e_{s1} + e_{s2}\\right)^{2}$"
      ],
      "text/plain": [
       "   ⎛        2              β            γ⎞      ⎛        2              β     \n",
       "θ₁⋅⎝- 0.5⋅e₁  + 2⋅w⋅(α₁⋅e₁) ⋅(αₛ⋅e_{s1}) ⎠ + θ₂⋅⎝- 0.5⋅e₂  + 2⋅w⋅(α₂⋅e₂) ⋅(αₛ⋅\n",
       "\n",
       "       γ⎞     ⎛       β            γ          β            γ⎞                 \n",
       "e_{s2}) ⎠ + w⋅⎝(α₂⋅e₂) ⋅(αₛ⋅e_{s2})  + (α₁⋅e₁) ⋅(αₛ⋅e_{s1}) ⎠ - 0.5⋅(e_{s1} + \n",
       "\n",
       "       2\n",
       "e_{s2}) "
      ]
     },
     "execution_count": 14,
     "metadata": {},
     "output_type": "execute_result"
    }
   ],
   "source": [
    "# define payoff function for the supplier (equation 12 in appendix)\n",
    "us = w*( (e1*alpha1)**beta * (es1*alphas)**gamma + (e2*alpha2)**beta * (es2*alphas)**gamma) - 1/2 * (es1 + es2)**2 + theta1*u1 + theta2*u2\n",
    "# check profit function\n",
    "us"
   ]
  },
  {
   "cell_type": "code",
   "execution_count": 18,
   "metadata": {
    "scrolled": true
   },
   "outputs": [
    {
     "data": {
      "image/png": "[encoded data removed]",
      "text/latex": [
       "$\\displaystyle \\frac{- 1.0 e_{s1} \\left(e_{s1} + e_{s2}\\right) + 2 \\gamma \\theta_{1} w \\left(\\alpha_{1} e_{1}\\right)^{\\beta} \\left(\\alpha_{s} e_{s1}\\right)^{\\gamma} + \\gamma w \\left(\\alpha_{1} e_{1}\\right)^{\\beta} \\left(\\alpha_{s} e_{s1}\\right)^{\\gamma}}{e_{s1}}$"
      ],
      "text/plain": [
       "                                                β            γ              β \n",
       "-1.0⋅e_{s1}⋅(e_{s1} + e_{s2}) + 2⋅γ⋅θ₁⋅w⋅(α₁⋅e₁) ⋅(αₛ⋅e_{s1})  + γ⋅w⋅(α₁⋅e₁) ⋅\n",
       "──────────────────────────────────────────────────────────────────────────────\n",
       "                                          e_{s1}                              \n",
       "\n",
       "           γ\n",
       "(αₛ⋅e_{s1}) \n",
       "────────────\n",
       "            "
      ]
     },
     "metadata": {},
     "output_type": "display_data"
    },
    {
     "data": {
      "image/png": "[encoded data removed]",
      "text/latex": [
       "$\\displaystyle \\frac{- 1.0 e_{s2} \\left(e_{s1} + e_{s2}\\right) + 2 \\gamma \\theta_{2} w \\left(\\alpha_{2} e_{2}\\right)^{\\beta} \\left(\\alpha_{s} e_{s2}\\right)^{\\gamma} + \\gamma w \\left(\\alpha_{2} e_{2}\\right)^{\\beta} \\left(\\alpha_{s} e_{s2}\\right)^{\\gamma}}{e_{s2}}$"
      ],
      "text/plain": [
       "                                                β            γ              β \n",
       "-1.0⋅e_{s2}⋅(e_{s1} + e_{s2}) + 2⋅γ⋅θ₂⋅w⋅(α₂⋅e₂) ⋅(αₛ⋅e_{s2})  + γ⋅w⋅(α₂⋅e₂) ⋅\n",
       "──────────────────────────────────────────────────────────────────────────────\n",
       "                                          e_{s2}                              \n",
       "\n",
       "           γ\n",
       "(αₛ⋅e_{s2}) \n",
       "────────────\n",
       "            "
      ]
     },
     "metadata": {},
     "output_type": "display_data"
    }
   ],
   "source": [
    "# derive supplier's FOCs (equation 13 in appendix)\n",
    "display(us.diff(es1).simplify())\n",
    "display(us.diff(es2).simplify())"
   ]
  },
  {
   "cell_type": "code",
   "execution_count": null,
   "metadata": {
    "scrolled": true
   },
   "outputs": [],
   "source": [
    "## solve for processors' best response functions (sympy cannot do it)\n",
    "# esbr_sol = solve( (us.diff(es1), us.diff(es2)), es1, es2)\n",
    "# display(esbr_sol)\n"
   ]
  },
  {
   "cell_type": "markdown",
   "metadata": {},
   "source": [
    "#### Solve for supplier's best responses"
   ]
  },
  {
   "cell_type": "markdown",
   "metadata": {},
   "source": [
    "\\begin{align}\n",
    "    e_{s1} + e_{s2} &= (1+2\\theta_1)w(e_1 \\alpha_1)^{\\beta} \\gamma e_{s1}^{\\gamma-1}\\alpha_s^{\\gamma} \\tag{1} \\\\\n",
    "    e_{s1} + e_{s2} &= (1+2\\theta_2)w(e_2 \\alpha_2)^{\\beta} \\gamma e_{s2}^{\\gamma-1}\\alpha_s^{\\gamma} \\tag{2}\n",
    "\\end{align}"
   ]
  },
  {
   "cell_type": "markdown",
   "metadata": {},
   "source": [
    "Equating (1) and (2), we have\n",
    "\\begin{align}\n",
    "    && (1+2\\theta_1)w(e_1 \\alpha_1)^{\\beta} \\gamma e_{s1}^{\\gamma-1}\\alpha_s^{\\gamma} &= (1+2\\theta_2)w(e_2 \\alpha_2)^{\\beta} \\gamma e_{s2}^{\\gamma-1}\\alpha_s^{\\gamma} \\\\\n",
    "    \\Rightarrow && (1+2\\theta_1) (e_1 \\alpha_1)^{\\beta} e_{s1}^{\\gamma-1} &= (1+2\\theta_2) (e_2 \\alpha_2)^{\\beta} e_{s2}^{\\gamma-1} \\\\\n",
    "    \\Rightarrow && \\left( \\frac{e_{s2}}{e_{s1}} \\right)^{\\gamma-1} &= \\frac{(1+2\\theta_1) (e_1 \\alpha_1)^{\\beta}}{(1+2\\theta_2) (e_2 \\alpha_2)^{\\beta} } \\\\\n",
    "    \\Rightarrow && \\frac{e_{s2}}{e_{s1}}  &= \\left( \\frac{(1+2\\theta_1) (e_1 \\alpha_1)^{\\beta}}{(1+2\\theta_2) (e_2 \\alpha_2)^{\\beta} } \\right)^{\\frac{1}{\\gamma-1}} \\\\\n",
    "    \\Rightarrow && \\frac{e_{s2}}{e_{s1}}  &= \\left( \\frac{1+2\\theta_1} {1+2\\theta_2} \\right)^{\\frac{1}{\\gamma-1}}  \\left( \\frac{e_1 \\alpha_1}{e_2 \\alpha_2} \\right)^{\\frac{\\beta}{\\gamma-1}} \\\\\n",
    "    \\Rightarrow && e_{s2}  &= \\left( \\frac{1+2\\theta_1} {1+2\\theta_2} \\right)^{\\frac{1}{\\gamma-1}}  \\left( \\frac{e_1 \\alpha_1}{e_2 \\alpha_2} \\right)^{\\frac{\\beta}{\\gamma-1}} e_{s1}  \\tag{3}\n",
    "\\end{align}"
   ]
  },
  {
   "cell_type": "markdown",
   "metadata": {},
   "source": [
    "Plugging (3) into (1), we have\n",
    "\\begin{align}\n",
    "    e_{s1} + e_{s2} &= (1+2\\theta_1)w(e_1 \\alpha_1)^{\\beta} \\gamma e_{s1}^{\\gamma-1}\\alpha_s^{\\gamma} \\\\\n",
    "    e_{s1} + \\left( \\frac{1+2\\theta_1} {1+2\\theta_2} \\right)^{\\frac{1}{\\gamma-1}}  \\left( \\frac{e_1 \\alpha_1}{e_2 \\alpha_2} \\right)^{\\frac{\\beta}{\\gamma-1}} e_{s1} &= (1+2\\theta_1)w(e_1 \\alpha_1)^{\\beta} \\gamma e_{s1}^{\\gamma-1}\\alpha_s^{\\gamma} \\\\\n",
    "    \\left( 1 + \\left( \\frac{1+2\\theta_1} {1+2\\theta_2} \\right)^{\\frac{1}{\\gamma-1}}  \\left( \\frac{e_1 \\alpha_1}{e_2 \\alpha_2} \\right)^{\\frac{\\beta}{\\gamma-1}} \\right) e_{s1} &= (1+2\\theta_1)w(e_1 \\alpha_1)^{\\beta} \\gamma e_{s1}^{\\gamma-1}\\alpha_s^{\\gamma} \\\\\n",
    "    e_{s1} &= \\frac{ (1+2\\theta_1)w(e_1 \\alpha_1)^{\\beta} \\gamma e_{s1}^{\\gamma-1}\\alpha_s^{\\gamma} }{  1 + \\left( \\frac{1+2\\theta_1} {1+2\\theta_2} \\right)^{\\frac{1}{\\gamma-1}}  \\left( \\frac{e_1 \\alpha_1}{e_2 \\alpha_2} \\right)^{\\frac{\\beta}{\\gamma-1}}  } \\\\\n",
    "    \\frac{e_{s1}}{e_{s1}^{\\gamma-1}} &= \\frac{ (1+2\\theta_1)w(e_1 \\alpha_1)^{\\beta} \\gamma \\alpha_s^{\\gamma} }{  1 + \\left( \\frac{1+2\\theta_1} {1+2\\theta_2} \\right)^{\\frac{1}{\\gamma-1}}  \\left( \\frac{e_1 \\alpha_1}{e_2 \\alpha_2} \\right)^{\\frac{\\beta}{\\gamma-1}}  } \\\\\n",
    "    e_{s1}^{1-(\\gamma-1)} &= \\frac{ (1+2\\theta_1)w(e_1 \\alpha_1)^{\\beta} \\gamma \\alpha_s^{\\gamma} }{  1 + \\left( \\frac{1+2\\theta_1} {1+2\\theta_2} \\right)^{\\frac{1}{\\gamma-1}}  \\left( \\frac{e_1 \\alpha_1}{e_2 \\alpha_2} \\right)^{\\frac{\\beta}{\\gamma-1}}  } \\\\\n",
    "    e_{s1}^{2-\\gamma} &= \\frac{ (1+2\\theta_1)w(e_1 \\alpha_1)^{\\beta} \\gamma \\alpha_s^{\\gamma} }{  1 + \\left( \\frac{1+2\\theta_1} {1+2\\theta_2} \\right)^{\\frac{1}{\\gamma-1}}  \\left( \\frac{e_1 \\alpha_1}{e_2 \\alpha_2} \\right)^{\\frac{\\beta}{\\gamma-1}}  } \\\\\n",
    "    e_{s1} &= \\left( \\frac{ (1+2\\theta_1)w(e_1 \\alpha_1)^{\\beta} \\gamma \\alpha_s^{\\gamma} }{  1 + \\left( \\frac{1+2\\theta_1} {1+2\\theta_2} \\right)^{\\frac{1}{\\gamma-1}}  \\left( \\frac{e_1 \\alpha_1}{e_2 \\alpha_2} \\right)^{\\frac{\\beta}{\\gamma-1}}  } \\right)^{\\frac{1}{2-\\gamma}} \\tag{S1}\n",
    "\\end{align}\n",
    "which is equation (14) in the paper appendix (I believe there might be a typo in the appendix equation)."
   ]
  },
  {
   "cell_type": "markdown",
   "metadata": {},
   "source": [
    "Similarly, we can find the best response for $e_{s2}$\n",
    "\\begin{align}\n",
    "    e_{s2} &= \\left( \\frac{ (1+2\\theta_2)w(e_2 \\alpha_2)^{\\beta} \\gamma \\alpha_s^{\\gamma} }{  1 + \\left( \\frac{1+2\\theta_2} {1+2\\theta_1} \\right)^{\\frac{1}{\\gamma-1}}  \\left( \\frac{e_2 \\alpha_2}{e_1 \\alpha_1} \\right)^{\\frac{\\beta}{\\gamma-1}}  } \\right)^{\\frac{1}{2-\\gamma}}   \\tag{S2}\n",
    "\\end{align}"
   ]
  },
  {
   "cell_type": "markdown",
   "metadata": {},
   "source": [
    "### Nash Equilibrium"
   ]
  },
  {
   "cell_type": "markdown",
   "metadata": {},
   "source": [
    "The Nash equilibrium of this model is determined by the following four first order conditions, where each player chooses their best responses according the correct beliefs about each others' strategies\n",
    "\\begin{align}\n",
    "    e_1 &= \\left( 2 w \\beta (e_{s1} \\alpha_s)^{\\gamma} \\alpha_1^{\\beta} \\right)^{\\frac{1}{2-\\beta}} \\tag{P1} \\\\\n",
    "    e_2 &= \\left( 2 w \\beta (e_{s2} \\alpha_s)^{\\gamma} \\alpha_2^{\\beta} \\right)^{\\frac{1}{2-\\beta}} \\tag{P2} \\\\\n",
    "    e_{s1} &= \\left( \\frac{ (1+2\\theta_1)w(e_1 \\alpha_1)^{\\beta} \\gamma \\alpha_s^{\\gamma} }{  1 + \\left( \\frac{1+2\\theta_1} {1+2\\theta_2} \\right)^{\\frac{1}{\\gamma-1}}  \\left( \\frac{e_1 \\alpha_1}{e_2 \\alpha_2} \\right)^{\\frac{\\beta}{\\gamma-1}}  } \\right)^{\\frac{1}{2-\\gamma}} \\tag{S1} \\\\\n",
    "    e_{s2} &= \\left( \\frac{ (1+2\\theta_2)w(e_2 \\alpha_2)^{\\beta} \\gamma \\alpha_s^{\\gamma} }{  1 + \\left( \\frac{1+2\\theta_2} {1+2\\theta_1} \\right)^{\\frac{1}{\\gamma-1}}  \\left( \\frac{e_2 \\alpha_2}{e_1 \\alpha_1} \\right)^{\\frac{\\beta}{\\gamma-1}}  } \\right)^{\\frac{1}{2-\\gamma}}   \\tag{S2}\n",
    "\\end{align}"
   ]
  },
  {
   "cell_type": "markdown",
   "metadata": {},
   "source": [
    "### Solve for equilibrium efforts"
   ]
  },
  {
   "cell_type": "markdown",
   "metadata": {},
   "source": [
    "Dividing (P1) by (P2), we have\n",
    "\\begin{align}\n",
    "    && \\frac{e_1}{e_2} &= \\left( \\frac{2 w \\beta (e_{s1} \\alpha_s)^{\\gamma} \\alpha_1^{\\beta}}{2 w \\beta (e_{s2} \\alpha_s)^{\\gamma} \\alpha_2^{\\beta} } \\right)^{\\frac{1}{2-\\beta}} \n",
    "    \\\\\n",
    "    &&   &= \\left( \\frac{e_{s1}^{\\gamma} \\alpha_1^{\\beta}}{ e_{s2} ^{\\gamma} \\alpha_2^{\\beta} } \\right)^{\\frac{1}{2-\\beta}} \n",
    "    \\\\\n",
    "    \\Rightarrow && \\frac{e_1 \\alpha_1 }{e_2 \\alpha_2 } &= \\left( \\frac{e_{s1}^{\\gamma} \\alpha_1^{\\beta}}{ e_{s2} ^{\\gamma} \\alpha_2^{\\beta} } \\right)^{\\frac{1}{2-\\beta}} \\frac{\\alpha_1}{\\alpha_2}\n",
    "    \\\\\n",
    "    &&   &= \\left( \\frac{e_{s1}}{e_{s2}} \\right)^{\\frac{\\gamma}{2-\\beta}} \\left( \\frac{\\alpha_1}{\\alpha_2} \\right)^{\\frac{\\beta}{2-\\beta}} \\frac{\\alpha_1}{\\alpha_2}\n",
    "    \\\\\n",
    "    \\Rightarrow &&  \\frac{e_1 \\alpha_1 }{e_2 \\alpha_2 }  &= \\left( \\frac{e_{s1}}{e_{s2}} \\right)^{\\frac{\\gamma}{2-\\beta}} \\left( \\frac{\\alpha_1}{\\alpha_2} \\right)^{\\frac{2}{2-\\beta}}  \n",
    "\\end{align}"
   ]
  },
  {
   "cell_type": "markdown",
   "metadata": {},
   "source": [
    "Now, plug (3) into this equation above, we have\n",
    "\\begin{align}\n",
    "    && \\frac{e_1 \\alpha_1 }{e_2 \\alpha_2 }  &= \\left( \\left( \\frac{1+2\\theta_1} {1+2\\theta_2} \\right)^{\\frac{1}{1-\\gamma}}  \\left( \\frac{e_1 \\alpha_1}{e_2 \\alpha_2} \\right)^{\\frac{\\beta}{1-\\gamma}} \\right)^{\\frac{\\gamma}{2-\\beta}} \\left( \\frac{\\alpha_1}{\\alpha_2} \\right)^{\\frac{2}{2-\\beta}}  \n",
    "    \\\\\n",
    "    &&   &= \\left( \\frac{1+2\\theta_1} {1+2\\theta_2} \\right)^{\\frac{\\gamma}{(1-\\gamma)(2-\\beta)}}  \\left( \\frac{e_1 \\alpha_1}{e_2 \\alpha_2} \\right)^{\\frac{\\beta \\gamma}{(1-\\gamma)(2-\\beta)}} \\left( \\frac{\\alpha_1}{\\alpha_2} \\right)^{\\frac{2}{2-\\beta}}  \n",
    "    \\\\\n",
    "    \\Rightarrow && \\frac{e_1 \\alpha_1 }{e_2 \\alpha_2 } \\left( \\frac{e_1 \\alpha_1}{e_2 \\alpha_2} \\right)^{- \\frac{\\beta \\gamma}{(1-\\gamma)(2-\\beta)}}  &= \\left( \\frac{1+2\\theta_1} {1+2\\theta_2} \\right)^{\\frac{\\gamma}{(1-\\gamma)(2-\\beta)}}  \\left( \\frac{\\alpha_1}{\\alpha_2} \\right)^{\\frac{2}{2-\\beta}}  \n",
    "    \\\\\n",
    "    \\Rightarrow && \\left( \\frac{e_1 \\alpha_1}{e_2 \\alpha_2} \\right)^{ \\frac{2 - \\beta - 2\\gamma}{(1-\\gamma)(2-\\beta)}}  &= \\left( \\frac{1+2\\theta_1} {1+2\\theta_2} \\right)^{\\frac{\\gamma}{(1-\\gamma)(2-\\beta)}}  \\left( \\frac{\\alpha_1}{\\alpha_2} \\right)^{\\frac{2}{2-\\beta}} \n",
    "    \\\\\n",
    "    \\Rightarrow && \\frac{e_1 \\alpha_1}{e_2 \\alpha_2}  &= \\left( \\left( \\frac{1+2\\theta_1} {1+2\\theta_2} \\right)^{\\frac{\\gamma}{(1-\\gamma)(2-\\beta)}}  \\left( \\frac{\\alpha_1}{\\alpha_2} \\right)^{\\frac{2}{2-\\beta}}  \\right)^{ \\frac{(1-\\gamma)(2-\\beta)}{2 - \\beta - 2\\gamma} }\n",
    "    \\\\\n",
    "    \\Rightarrow && \\frac{e_1 \\alpha_1}{e_2 \\alpha_2}  &=  \\left( \\frac{1+2\\theta_1} {1+2\\theta_2} \\right)^{\\frac{\\gamma}{2 - \\beta - 2\\gamma}}  \\left( \\frac{\\alpha_1}{\\alpha_2} \\right)^{\\frac{2(1-\\gamma)}{2 - \\beta - 2\\gamma}}  \\tag{E12}\n",
    "\\end{align}\n",
    "\n",
    "which is entirely an expression of exogenous variables. "
   ]
  },
  {
   "cell_type": "markdown",
   "metadata": {},
   "source": [
    "Expression (E12) allows us to rewrite (S1) and (S2) in simpler forms as\n",
    "\\begin{align}\n",
    "    e_{s1} &= \\underbrace{ \\left( \\frac{ (1+2\\theta_1)w \\alpha_1^{\\beta} \\gamma \\alpha_s^{\\gamma} }{  1 + \\left( \\frac{1+2\\theta_1} {1+2\\theta_2} \\right)^{\\frac{1}{\\gamma-1}}  \\left( \\frac{e_1 \\alpha_1}{e_2 \\alpha_2} \\right)^{\\frac{\\beta}{\\gamma-1}}  } \\right)^{\\frac{1}{2-\\gamma}} }_{\\text{define as: }D_1} e_1^{\\frac{\\beta}{2-\\gamma}} \n",
    "    = D_1 e_1^{\\frac{\\beta}{2-\\gamma}} \\tag{S1'}\n",
    "    \\\\\n",
    "    e_{s2} &= \\underbrace{ \\left( \\frac{ (1+2\\theta_2)w \\alpha_2^{\\beta} \\gamma \\alpha_s^{\\gamma} }{  1 + \\left( \\frac{1+2\\theta_2} {1+2\\theta_1} \\right)^{\\frac{1}{\\gamma-1}}  \\left( \\frac{e_2 \\alpha_2}{e_1 \\alpha_1} \\right)^{\\frac{\\beta}{\\gamma-1}}  } \\right)^{\\frac{1}{2-\\gamma}} }_{\\text{define as: }D_2}  e_2^{\\frac{\\beta}{2-\\gamma}} \n",
    "    = D_2 e_2^{\\frac{\\beta}{2-\\gamma}} \\tag{S2'}\n",
    "\\end{align}\n",
    "\n",
    "Note that $D_1$ and $D_2$ are entirely exogenous expressions after plugging in (E12) for $\\frac{e_2 \\alpha_2}{e_1 \\alpha_1}$. "
   ]
  },
  {
   "cell_type": "markdown",
   "metadata": {},
   "source": [
    "We can now use (S1') and (S2') to solve for equilibrium processor effort $e_1$ and $e_2$.\n",
    "\n",
    "Plugging in (S1') into (P1), we have\n",
    "\\begin{align}\n",
    "    &&   e_1 &= \\left( 2 w \\beta (e_{s1} \\alpha_s)^{\\gamma} \\alpha_1^{\\beta} \\right)^{\\frac{1}{2-\\beta}} \n",
    "    \\\\\n",
    "    &&   &= \\left( 2 w \\beta \\alpha_s^{\\gamma} \\alpha_1^{\\beta} \\right)^{\\frac{1}{2-\\beta}}  e_{s1} ^{\\frac{\\gamma}{2-\\beta}}\n",
    "    \\\\\n",
    "    &&   &= \\left( 2 w \\beta \\alpha_s^{\\gamma} \\alpha_1^{\\beta} \\right)^{\\frac{1}{2-\\beta}}  \\left( D_1 e_1^{\\frac{\\beta}{2-\\gamma}} \\right) ^{\\frac{\\gamma}{2-\\beta}}\n",
    "    \\\\\n",
    "    &&   &= \\left( 2 w \\beta \\alpha_s^{\\gamma} \\alpha_1^{\\beta} \\right)^{\\frac{1}{2-\\beta}}  D_1^{\\frac{\\gamma}{2-\\beta}}   e_1^{\\frac{\\beta \\gamma}{(2-\\beta)(2-\\gamma)}}  \n",
    "    \\\\\n",
    "    \\Rightarrow && e_1 e_1^{-\\frac{\\beta \\gamma}{(2-\\beta)(2-\\gamma)}}  &= \\left( 2 w \\beta \\alpha_s^{\\gamma} \\alpha_1^{\\beta} \\right)^{\\frac{1}{2-\\beta}}  D_1^{\\frac{\\gamma}{2-\\beta}}   \n",
    "    \\\\\n",
    "    \\Rightarrow && e_1^{\\frac{4 - 2\\beta - 2\\gamma}{(2-\\beta)(2-\\gamma)}}  &= \\left( 2 w \\beta \\alpha_s^{\\gamma} \\alpha_1^{\\beta} \\right)^{\\frac{1}{2-\\beta}}  D_1^{\\frac{\\gamma}{2-\\beta}}   \n",
    "    \\\\\n",
    "    \\Rightarrow && e_1^*  &= \\left( 2 w \\beta \\alpha_s^{\\gamma} \\alpha_1^{\\beta} \\right)^{\\frac{(2-\\gamma)}{4 - 2\\beta - 2\\gamma}}  D_1^{\\frac{\\gamma (2-\\gamma)}{4 - 2\\beta - 2\\gamma}}   \n",
    "\\end{align}\n",
    "\n",
    "This is the equilibrium effort by processor 1 that is entirely determined by exogenous variables."
   ]
  },
  {
   "cell_type": "markdown",
   "metadata": {},
   "source": [
    "Similarly, we can solve for $e_2^*$ by plugging in (S2') into (P2), yielding\n",
    "\\begin{align}\n",
    "    e_2^*  &= \\left( 2 w \\beta \\alpha_s^{\\gamma} \\alpha_2^{\\beta} \\right)^{\\frac{(2-\\gamma)}{4 - 2\\beta - 2\\gamma}}  D_2^{\\frac{\\gamma (2-\\gamma)}{4 - 2\\beta - 2\\gamma}}  \n",
    "\\end{align}"
   ]
  },
  {
   "cell_type": "markdown",
   "metadata": {},
   "source": [
    "Finally, plugging in $e_1^*$ into (S1') solves for the equilibrium effort level $e_{s1}^*$ for supplier\n",
    "\\begin{align}\n",
    "    e_{s1}^* &= D_1 (e_1^*)^{\\frac{\\beta}{2-\\gamma}} \n",
    "        \\\\\n",
    "        &= D_1 \\left( \\left( 2 w \\beta \\alpha_s^{\\gamma} \\alpha_1^{\\beta} \\right)^{\\frac{(2-\\gamma)}{4 - 2\\beta - 2\\gamma}}  D_1^{\\frac{\\gamma (2-\\gamma)}{4 - 2\\beta - 2\\gamma}}   \\right) ^{\\frac{\\beta}{2-\\gamma}} \n",
    "        \\\\\n",
    "        &= D_1 \\left( 2 w \\beta \\alpha_s^{\\gamma} \\alpha_1^{\\beta} \\right)^{\\frac{\\beta}{4 - 2\\beta - 2\\gamma}}  D_1^{\\frac{\\beta \\gamma }{4 - 2\\beta - 2\\gamma}}   \n",
    "        \\\\\n",
    "        &= \\left( 2 w \\beta \\alpha_s^{\\gamma} \\alpha_1^{\\beta} \\right)^{\\frac{\\beta}{4 - 2\\beta - 2\\gamma}}  D_1^{\\frac{4 - 2\\beta - 2\\gamma + \\beta \\gamma }{4 - 2\\beta - 2\\gamma}}\n",
    "        \\\\\n",
    "        &= \\left( 2 w \\beta \\alpha_s^{\\gamma} \\alpha_1^{\\beta} \\right)^{\\frac{\\beta}{4 - 2\\beta - 2\\gamma}}  D_1^{\\frac{(2-\\beta)(2-\\gamma) }{4 - 2\\beta - 2\\gamma}}\n",
    "\\end{align}"
   ]
  },
  {
   "cell_type": "markdown",
   "metadata": {},
   "source": [
    "Similarly, plugging in $e_1^*$ into (S1') solves for the equilibrium effort level $e_{s1}^*$ for supplier\n",
    "\\begin{align}\n",
    "    e_{s2}^* &= D_2 (e_2^*)^{\\frac{\\beta}{2-\\gamma}} \n",
    "        \\\\\n",
    "        &= \\left( 2 w \\beta \\alpha_s^{\\gamma} \\alpha_2^{\\beta} \\right)^{\\frac{\\beta}{4 - 2\\beta - 2\\gamma}}  D_2^{\\frac{(2-\\beta)(2-\\gamma) }{4 - 2\\beta - 2\\gamma}}\n",
    "\\end{align}"
   ]
  },
  {
   "cell_type": "markdown",
   "metadata": {},
   "source": [
    "### Equilibrium output level"
   ]
  },
  {
   "cell_type": "markdown",
   "metadata": {},
   "source": [
    "Plugging the equilibrium effort levels into the production function yields the equilibrium output of the group."
   ]
  },
  {
   "cell_type": "markdown",
   "metadata": {},
   "source": [
    "### Comparative Statics"
   ]
  },
  {
   "cell_type": "markdown",
   "metadata": {},
   "source": [
    "Q: what comparative statics can you think of analyzing in this model?"
   ]
  },
  {
   "cell_type": "code",
   "execution_count": null,
   "metadata": {},
   "outputs": [],
   "source": []
  }
 ],
 "metadata": {
  "kernelspec": {
   "display_name": "Python 3",
   "language": "python",
   "name": "python3"
  },
  "language_info": {
   "codemirror_mode": {
    "name": "ipython",
    "version": 3
   },
   "file_extension": ".py",
   "mimetype": "text/x-python",
   "name": "python",
   "nbconvert_exporter": "python",
   "pygments_lexer": "ipython3",
   "version": "3.7.4"
  }
 },
 "nbformat": 4,
 "nbformat_minor": 2
}
