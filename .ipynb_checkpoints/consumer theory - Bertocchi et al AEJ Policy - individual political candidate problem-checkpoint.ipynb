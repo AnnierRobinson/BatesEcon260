{
 "cells": [
  {
   "cell_type": "markdown",
   "metadata": {},
   "source": [
    "Import necessary packages."
   ]
  },
  {
   "cell_type": "code",
   "execution_count": null,
   "metadata": {},
   "outputs": [],
   "source": [
    "# import all functions from python labrary: sympy\n",
    "from sympy import *\n",
    "# import python library: matplotlib (for nice plots)\n",
    "import matplotlib\n",
    "# set sympy output to print pretty math expressions\n",
    "init_printing()"
   ]
  },
  {
   "cell_type": "markdown",
   "metadata": {},
   "source": [
    "# Class example: Bertocchi et al. AEJ Policy 2020 example---the incumbent politician's choice"
   ]
  },
  {
   "cell_type": "markdown",
   "metadata": {},
   "source": [
    "In this notebook, we focus on the choice problem of a politician in their paper. We will treat other components of their model as given, and solve the choice problem of one politician. Specifically, we will:\n",
    "1. rely on their solutions on the probability of each politician winning the election;\n",
    "2. take the choices of the political rival as given."
   ]
  },
  {
   "cell_type": "markdown",
   "metadata": {},
   "source": [
    "## Setup of a politician's model"
   ]
  },
  {
   "cell_type": "markdown",
   "metadata": {},
   "source": [
    "A political candidate, $\\zeta \\in \\{I,C\\}$, proposes a policy platform, by choosing three elements $q_{\\zeta} = (\\tau_{\\zeta}, e_{\\zeta}, R_{\\zeta})$, where\n",
    "* $\\tau_{\\zeta}$ is the rate of taxation on wealth;\n",
    "* $e_{\\zeta}$ is public expenditure on education;\n",
    "* $R_{\\zeta}$ is electoral rent, i.e., other public expenditure that benefits the political candidate. \n",
    "\n",
    "The politician is constrained by the government budget constraint\n",
    "\n",
    "$$ [\\tau_{\\zeta} - D(\\tau_{\\zeta})]\\omega = e_{\\zeta} + R_{\\zeta}, $$\n",
    "\n",
    "where \n",
    "* $\\omega$ is total wealth of the jurisdiction; \n",
    "* $D(\\tau_{\\zeta}) = \\frac{1}{2}\\tau_{\\zeta}^2$ is the cost of taxation, that is increasing and convex in $\\tau_{\\zeta}$."
   ]
  },
  {
   "cell_type": "markdown",
   "metadata": {},
   "source": [
    "## Setup the optimization program for the incumbent politician"
   ]
  },
  {
   "cell_type": "markdown",
   "metadata": {},
   "source": [
    "The incumbent politician I's optimization problem is\n",
    "\\begin{align}\n",
    "    \\max_{\\tau_I, e_I, R_I}\\quad & p_I(q_I, q_C)\\cdot R_I \\\\\n",
    "    \\text{s.t.}\\quad &  \\big(\\tau_I - \\frac{1}{2}\\tau_I^2\\big)\\omega = e_I + R_I\n",
    "\\end{align}"
   ]
  },
  {
   "cell_type": "markdown",
   "metadata": {},
   "source": [
    "Given the voter's model in the paper, the winning probability of the incumbent is (see more details at the end of this notebook)\n",
    "\n",
    "$$p_I(q_I, q_C) = \\frac{1}{2} + \\phi + (\\tau_C-\\tau_I)\\omega + (e_I-e_C) \\sigma^T, $$\n",
    "where \n",
    "$$ \\sigma^T = \\sigma\\lambda^y + (1-\\sigma)\\lambda^o $$\n",
    "\n",
    "and $\\sigma$ is independent of politician's polity platform (see more details at the end of this notebook)\n",
    "\n"
   ]
  },
  {
   "cell_type": "markdown",
   "metadata": {},
   "source": [
    "\n",
    "Thus, the incumbent politician's program becomes\n",
    "\n",
    "\\begin{align}\n",
    "    \\max_{\\tau_I, e_I, R_I} \\quad & \\Big( \\frac{1}{2} + \\phi + (\\tau_C-\\tau_I)\\omega + (e_I-e_C)\\sigma^T \\Big)\\cdot R_I \\\\\n",
    "    \\text{s.t.}\\quad & \\big(\\tau_I - \\frac{1}{2}\\tau_I^2\\big)\\omega = e_I + R_I\n",
    "\\end{align}"
   ]
  },
  {
   "cell_type": "markdown",
   "metadata": {},
   "source": [
    "## Solve the problem using sympy"
   ]
  },
  {
   "cell_type": "markdown",
   "metadata": {},
   "source": [
    "Declare variables we are going to use as 'symbols'. We will add more along the way, if necessary."
   ]
  },
  {
   "cell_type": "code",
   "execution_count": null,
   "metadata": {},
   "outputs": [],
   "source": [
    "phi, tauC, tauI, omega, eI, eC, sigma, sigmaT, lamY, lamO, RI, RO = symbols('phi, tau_C, tau_I, omega, e_I, e_C, sigma, sigma^T, lambda^y, lambda^o, R_I, R_O')"
   ]
  },
  {
   "cell_type": "code",
   "execution_count": null,
   "metadata": {},
   "outputs": [],
   "source": [
    "sigmaT"
   ]
  },
  {
   "cell_type": "markdown",
   "metadata": {},
   "source": [
    "## Setup the incumbent's objective function"
   ]
  },
  {
   "cell_type": "code",
   "execution_count": null,
   "metadata": {},
   "outputs": [],
   "source": [
    "# define the winning probability\n",
    "pI = Rational(1,2) + phi + (tauC - tauI)*omega + (eI - eC)*sigmaT\n",
    "# define the objective function\n",
    "uI =  pI * RI\n",
    "# show the defined function\n",
    "uI"
   ]
  },
  {
   "cell_type": "markdown",
   "metadata": {},
   "source": [
    "## Setup the lagrangian"
   ]
  },
  {
   "cell_type": "code",
   "execution_count": null,
   "metadata": {
    "scrolled": false
   },
   "outputs": [],
   "source": [
    "lam = symbols('lambda')\n",
    "# note: power in sympy is **\n",
    "lagr = uI + lam *( (tauI - Rational(1,2) * tauI**2)*omega  - eI - RI )\n",
    "lagr"
   ]
  },
  {
   "cell_type": "markdown",
   "metadata": {},
   "source": [
    "Solve the first-order conditions. \n",
    "\n",
    "Note the syntax of the solve function, especially the use of the brackets:\n",
    "solve( (eq1, eq2, eq3), var1, var2, var3)\n",
    "\n",
    "The equations are by default treated as equal to 0 by the solver."
   ]
  },
  {
   "cell_type": "code",
   "execution_count": null,
   "metadata": {
    "scrolled": true
   },
   "outputs": [],
   "source": [
    "foc_sol = solve(( diff(lagr,tauI), diff(lagr,eI), diff(lagr,RI), diff(lagr,lam) ), tauI,eI,RI,lam)\n",
    "foc_sol"
   ]
  },
  {
   "cell_type": "code",
   "execution_count": null,
   "metadata": {},
   "outputs": [],
   "source": [
    "# incumbent's optimal tax rate policy in response to rivals and voters is\n",
    "tauI_sol = foc_sol[0][0]\n",
    "tauI_sol"
   ]
  },
  {
   "cell_type": "code",
   "execution_count": null,
   "metadata": {
    "scrolled": true
   },
   "outputs": [],
   "source": [
    "# incumbent's optimal education expenditure policy in response to rivals and voters is\n",
    "eI_sol = foc_sol[0][1]\n",
    "eI_sol"
   ]
  },
  {
   "cell_type": "code",
   "execution_count": null,
   "metadata": {
    "scrolled": true
   },
   "outputs": [],
   "source": [
    "# incumbent's optimal political rent policy in response to rivals and voters is\n",
    "RI_sol = foc_sol[0][2]\n",
    "RI_sol"
   ]
  },
  {
   "cell_type": "markdown",
   "metadata": {},
   "source": [
    "## Comparative statics: Incumbent politician's education policy platform in response to political rival's policy"
   ]
  },
  {
   "cell_type": "code",
   "execution_count": null,
   "metadata": {},
   "outputs": [],
   "source": [
    "eI_sol.diff(eC)"
   ]
  },
  {
   "cell_type": "markdown",
   "metadata": {},
   "source": [
    "## Appendix: more details on the incumbent's winning probability"
   ]
  },
  {
   "cell_type": "markdown",
   "metadata": {},
   "source": [
    "From the voter's model (see derivation in Appendix of the paper), the winning probability for the incumbent is\n",
    "\\begin{align}\n",
    "    p_I(q_I,q_C) &= Pr(\\pi_I \\geq \\pi_C) \\\\\n",
    "        &= \\frac{1}{2} + \\phi + \\sigma\\big(U^y(q_I) - U^y(q_C)\\big) + (1-\\sigma) \\big(U^o(q_I) - U^o(q_C)\\big) \\tag{1}\n",
    "\\end{align}\n",
    "where \n",
    "* $\\phi$ is a measure of incumbency advantage; \n",
    "* $\\sigma = \\frac{\\alpha}{\\alpha + (1-\\alpha)\\frac{\\bar{c}^y}{\\bar{c}^o}}$ is independent of politician's polity platform, but is a function of\n",
    "    - $\\alpha$: the share of young in population\n",
    "    - $\\bar{c}^y$ and $\\bar{c}^o$: the upper bounds of each voter group's voting cost"
   ]
  },
  {
   "cell_type": "markdown",
   "metadata": {},
   "source": [
    "The paper models voter's utility from politician $\\zeta$'s policy platform as\n",
    "\\begin{align}\n",
    "    U^y(q_{\\zeta}) &= (1-\\tau_{\\zeta})\\omega + \\lambda^y e_{\\zeta} \\\\\n",
    "    U^o(q_{\\zeta}) &= (1-\\tau_{\\zeta})\\omega + \\lambda^o e_{\\zeta}\n",
    "\\end{align}\n",
    "thus \n",
    "\\begin{align}\n",
    "    U^y(q_I) - U^y(q_C) &= (\\tau_C-\\tau_I)\\omega + \\lambda^y (e_I-e_C) \\\\\n",
    "    U^o(q_I) - U^o(q_C) &= (\\tau_C-\\tau_I)\\omega + \\lambda^o (e_I-e_C)\n",
    "\\end{align}"
   ]
  },
  {
   "cell_type": "markdown",
   "metadata": {},
   "source": [
    "Plugging this into (1), we have\n",
    "\\begin{align}\n",
    "    p_I(q_I,q_C) &= \\frac{1}{2} + \\phi + \\sigma\\big(U^y(q_I) - U^y(q_C)\\big) + (1-\\sigma) \\big(U^o(q_I) - U^o(q_C)\\big) \\\\\n",
    "    &= \\frac{1}{2} + \\phi + \\sigma\\big( (\\tau_C-\\tau_I)\\omega + \\lambda^y (e_I-e_C) \\big) + (1-\\sigma) \\big( (\\tau_C-\\tau_I)\\omega + \\lambda^o (e_I-e_C) \\big) \\\\\n",
    "    &= \\frac{1}{2} + \\phi + (\\tau_C-\\tau_I)\\omega + (e_I-e_C)\\big( \\sigma\\lambda^y + (1-\\sigma)\\lambda^o \\big)\n",
    "\\end{align}"
   ]
  }
 ],
 "metadata": {
  "kernelspec": {
   "display_name": "Python 3",
   "language": "python",
   "name": "python3"
  },
  "language_info": {
   "codemirror_mode": {
    "name": "ipython",
    "version": 3
   },
   "file_extension": ".py",
   "mimetype": "text/x-python",
   "name": "python",
   "nbconvert_exporter": "python",
   "pygments_lexer": "ipython3",
   "version": "3.7.4"
  }
 },
 "nbformat": 4,
 "nbformat_minor": 1
}
