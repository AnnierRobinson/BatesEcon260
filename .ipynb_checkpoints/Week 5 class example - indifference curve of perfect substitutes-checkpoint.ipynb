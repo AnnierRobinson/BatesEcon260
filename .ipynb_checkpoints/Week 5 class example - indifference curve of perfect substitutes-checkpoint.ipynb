{
 "cells": [
  {
   "cell_type": "markdown",
   "metadata": {},
   "source": [
    "# Perfect substitute class exercise: algebraic approach"
   ]
  },
  {
   "cell_type": "markdown",
   "metadata": {},
   "source": [
    "\\begin{align}\n",
    "    \\max_{q_A,q_B} & U(q_A,q_B) = 2q_A + q_B \\\\\n",
    "    s.t. &\\quad p_A q_A + p_B q_B = Y\n",
    "\\end{align}"
   ]
  },
  {
   "cell_type": "markdown",
   "metadata": {},
   "source": [
    "The Lagrangian is\n",
    "$$ \\mathcal{L} = \\underbrace{2q_A + q_B}_{U(q_A,q_B)} + \\lambda(Y - p_A q_A - p_B q_B)$$"
   ]
  },
  {
   "cell_type": "markdown",
   "metadata": {},
   "source": [
    "solve for FOC:\n",
    "\\begin{align}\n",
    "    \\frac{\\partial \\mathcal{L}}{\\partial q_A} = U_A - \\lambda p_A  = 2 - \\lambda p_A &= 0  \\quad \\Leftrightarrow \\frac{U_A}{p_A} = \\lambda \\\\\n",
    "    \\frac{\\partial \\mathcal{L}}{\\partial q_B} = U_B - \\lambda p_B  = 1 - \\lambda p_B &= 0  \\quad \\Leftrightarrow \\frac{U_B}{p_B} = \\lambda \\\\\n",
    "    \\frac{\\partial \\mathcal{L}}{\\partial \\lambda} = Y - p_A q_A - p_B q_B &= 0\n",
    "\\end{align}"
   ]
  },
  {
   "cell_type": "markdown",
   "metadata": {},
   "source": [
    "We cannot solve for the optimal choices based on these FOCs. Try and you will find that the first two FOCs cannot be simultaneously satisfied given our prices. \n",
    "\n",
    "The intuition embedded in the inconsistency is the essence of this problem. In this case, the per dollar marginal utility for each good cannot be the same!\n",
    "\n",
    "We can reason through to a corner solution from here. \n",
    "\n",
    "Another approach is to rely on a graphical approach, which we detail below. "
   ]
  },
  {
   "cell_type": "markdown",
   "metadata": {},
   "source": [
    "# Perfect substitute class exercise: graphical approach"
   ]
  },
  {
   "cell_type": "markdown",
   "metadata": {},
   "source": [
    "To find the optimal choices in this problem graphically, we need to plot the budget constraint and the indifference curves."
   ]
  },
  {
   "cell_type": "markdown",
   "metadata": {},
   "source": [
    "What is an indifference curve?\n",
    "\\begin{align}\n",
    "    2q_A + q_B = \\overline{U} \\qquad \\Leftrightarrow q_B = \\overline{U} - 2q_A\n",
    "\\end{align}\n",
    "Can you try to plot this curve on the $q_A$-$q_B$ axis?"
   ]
  },
  {
   "cell_type": "markdown",
   "metadata": {},
   "source": [
    "# Illustration: perfect substitute class exercise"
   ]
  },
  {
   "cell_type": "code",
   "execution_count": 3,
   "metadata": {},
   "outputs": [],
   "source": [
    "from __future__ import print_function\n",
    "from ipywidgets import interact, interactive, fixed, interact_manual\n",
    "import ipywidgets as widgets\n",
    "import matplotlib.pyplot as plt, random\n",
    "import numpy as np"
   ]
  },
  {
   "cell_type": "code",
   "execution_count": 29,
   "metadata": {
    "scrolled": true
   },
   "outputs": [
    {
     "data": {
      "application/vnd.jupyter.widget-view+json": {
       "model_id": "2000ffab1da14391b97f960ede94ebdf",
       "version_major": 2,
       "version_minor": 0
      },
      "text/plain": [
       "interactive(children=(FloatSlider(value=10.0, description='y', max=20.0, min=1.0, step=0.2), FloatSlider(value…"
      ]
     },
     "metadata": {},
     "output_type": "display_data"
    }
   ],
   "source": [
    "def budget(y=10, p1=1, p2=3):\n",
    "    q1 = np.arange(0.0, y/p1, 0.01)\n",
    "    q2 = y/p2 - p1/p2*q1\n",
    "    budget_line = plt.plot(q1, q2)\n",
    "    # use keyword arguments\n",
    "    plt.setp(budget_line, color=\"red\", linewidth=2.0)\n",
    "    # set graph axis limits ([xmin, xmax, ymin, ymax])\n",
    "    plt.axis([0, 22, 0, 22])\n",
    "\n",
    "# create interactive graph\n",
    "interact(budget, y=(1,20,0.2), p1=(1,5,0.2), p2=(1,5,0.2));"
   ]
  },
  {
   "cell_type": "code",
   "execution_count": 30,
   "metadata": {},
   "outputs": [
    {
     "data": {
      "application/vnd.jupyter.widget-view+json": {
       "model_id": "baeb5602af734e41972e15af8faaabd6",
       "version_major": 2,
       "version_minor": 0
      },
      "text/plain": [
       "interactive(children=(FloatSlider(value=2.0, description='a', max=5.0, min=0.2, step=0.2), FloatSlider(value=1…"
      ]
     },
     "metadata": {},
     "output_type": "display_data"
    }
   ],
   "source": [
    "def indiff(a=2, b=1):\n",
    "    # plot indifference curves for utility function: u = a q1 + b q2\n",
    "    for u in range(5, 20, 4):\n",
    "        q1 = np.arange(0.0, u/a, 0.01)\n",
    "        q2 = u/b - a/b*q1\n",
    "        indiff_line = plt.plot(q1, q2)\n",
    "        # use keyword arguments\n",
    "        plt.setp(indiff_line, color=\"blue\", linewidth=2.0)\n",
    "    # set graph axis limits ([xmin, xmax, ymin, ymax])\n",
    "    plt.axis([0, 22, 0, 22])\n",
    "\n",
    "# create interactive graph\n",
    "interact(indiff, a=(0.2,5,0.2), b=(0.2,5,0.2));"
   ]
  },
  {
   "cell_type": "code",
   "execution_count": 31,
   "metadata": {
    "scrolled": true
   },
   "outputs": [
    {
     "data": {
      "application/vnd.jupyter.widget-view+json": {
       "model_id": "425a4889865c4592a5816c215b2233c9",
       "version_major": 2,
       "version_minor": 0
      },
      "text/plain": [
       "interactive(children=(FloatSlider(value=2.0, description='a', max=5.0, min=0.2, step=0.2), FloatSlider(value=1…"
      ]
     },
     "metadata": {},
     "output_type": "display_data"
    }
   ],
   "source": [
    "def indiff_budget(a=2, b=1, y=9, p1=1, p2=3):\n",
    "    # plot indifference curves for utility function: u = a q1 + b q2\n",
    "    for u in range(5, 30, 4):\n",
    "        q1 = np.arange(0.0, u/a, 0.01)\n",
    "        q2 = u/b - a/b*q1\n",
    "        indiff_line = plt.plot(q1, q2)\n",
    "        # use keyword arguments\n",
    "        plt.setp(indiff_line, color=\"blue\", linewidth=2.0)\n",
    "    # set graph axis limits ([xmin, xmax, ymin, ymax])\n",
    "    plt.axis([0, 22, 0, 22])\n",
    "    \n",
    "    # plot budget constraint\n",
    "    q1 = np.arange(0.0, y/p1, 0.01)\n",
    "    q2 = y/p2 - p1/p2*q1\n",
    "    budget_line = plt.plot(q1, q2)\n",
    "    # use keyword arguments\n",
    "    plt.setp(budget_line, color=\"red\", linewidth=2.0)\n",
    "    # set graph axis limits ([xmin, xmax, ymin, ymax])\n",
    "    plt.axis([0, 22, 0, 22])\n",
    "\n",
    "# create interactive graph\n",
    "interact(indiff_budget, a=(0.2,5,0.2), b=(0.2,5,0.2), y=(1,20,0.2), p1=(1,5,0.2), p2=(1,5,0.2));"
   ]
  },
  {
   "cell_type": "code",
   "execution_count": null,
   "metadata": {},
   "outputs": [],
   "source": []
  }
 ],
 "metadata": {
  "kernelspec": {
   "display_name": "Python 3",
   "language": "python",
   "name": "python3"
  },
  "language_info": {
   "codemirror_mode": {
    "name": "ipython",
    "version": 3
   },
   "file_extension": ".py",
   "mimetype": "text/x-python",
   "name": "python",
   "nbconvert_exporter": "python",
   "pygments_lexer": "ipython3",
   "version": "3.7.4"
  }
 },
 "nbformat": 4,
 "nbformat_minor": 2
}
