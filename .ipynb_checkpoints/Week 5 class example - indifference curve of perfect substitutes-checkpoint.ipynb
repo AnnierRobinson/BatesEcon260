{
 "cells": [
  {
   "cell_type": "markdown",
   "metadata": {},
   "source": [
    "\\begin{align}\n",
    "    \\max_{q_A,q_B} & U(q_A,q_B) = 2q_A + q_B \\\\\n",
    "    s.t. &\\quad p_A q_A + p_B q_B = Y\n",
    "\\end{align}"
   ]
  },
  {
   "cell_type": "markdown",
   "metadata": {},
   "source": [
    "The Lagrangian is\n",
    "$$ \\mathcal{L} = \\underbrace{2q_A + q_B}_{U(q_A,q_B)} + \\lambda(Y - p_A q_A - p_B q_B)$$"
   ]
  },
  {
   "cell_type": "markdown",
   "metadata": {},
   "source": [
    "solve for FOC:\n",
    "\\begin{align}\n",
    "    \\frac{\\partial \\mathcal{L}}{\\partial q_A} = U_A - \\lambda p_A  = 2 - \\lambda p_A &= 0  \\quad \\Leftrightarrow \\frac{U_A}{p_A} = \\lambda \\\\\n",
    "    \\frac{\\partial \\mathcal{L}}{\\partial q_B} = U_B - \\lambda p_B  = 1 - \\lambda p_B &= 0  \\quad \\Leftrightarrow \\frac{U_B}{p_B} = \\lambda \\\\\n",
    "    \\frac{\\partial \\mathcal{L}}{\\partial \\lambda} = Y - p_A q_A - p_B q_B &= 0\n",
    "\\end{align}"
   ]
  },
  {
   "cell_type": "markdown",
   "metadata": {},
   "source": [
    "What is an indifference curve?\n",
    "\\begin{align}\n",
    "    2q_A + q_B = \\overline{U} \\qquad \\Leftrightarrow q_B = \\overline{U} - 2q_A\n",
    "\\end{align}"
   ]
  },
  {
   "cell_type": "code",
   "execution_count": null,
   "metadata": {},
   "outputs": [],
   "source": []
  }
 ],
 "metadata": {
  "kernelspec": {
   "display_name": "Python 3",
   "language": "python",
   "name": "python3"
  },
  "language_info": {
   "codemirror_mode": {
    "name": "ipython",
    "version": 3
   },
   "file_extension": ".py",
   "mimetype": "text/x-python",
   "name": "python",
   "nbconvert_exporter": "python",
   "pygments_lexer": "ipython3",
   "version": "3.7.4"
  }
 },
 "nbformat": 4,
 "nbformat_minor": 2
}
