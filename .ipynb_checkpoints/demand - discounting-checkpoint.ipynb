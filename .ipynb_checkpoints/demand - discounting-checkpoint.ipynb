{
 "cells": [
  {
   "cell_type": "markdown",
   "metadata": {},
   "source": [
    "Import necessary packages."
   ]
  },
  {
   "cell_type": "code",
   "execution_count": 2,
   "metadata": {},
   "outputs": [],
   "source": [
    "# import all functions from python labrary: sympy\n",
    "from sympy import *\n",
    "# import python library: matplotlib (for nice plots)\n",
    "import matplotlib\n",
    "# set sympy output to print pretty math expressions\n",
    "init_printing()"
   ]
  },
  {
   "cell_type": "markdown",
   "metadata": {},
   "source": [
    "# Primer: Discounting"
   ]
  },
  {
   "cell_type": "markdown",
   "metadata": {},
   "source": [
    "Time matters. Which one do you prefer?\n",
    "* enjoy an icecream now vs. wait for a week for the same icecream\n",
    "* receiving a paycheck this Friday vs. receiving the same paycheck in two weeks\n",
    "* receiving a paycheck in two weeks vs. receiving the same paycheck in two decades"
   ]
  },
  {
   "cell_type": "markdown",
   "metadata": {},
   "source": [
    "People usually value some benefit, such as income/goods/services, a little less if the benefit arrives in the future, as opposed to the present. \n",
    "\n",
    "We use the term **discounting** to refer to such differential valuation due entirely to time. \n",
    "\n",
    "There can be many explanations for this observation:\n",
    "* economic cost: waiting cost; opportunity cost\n",
    "* psychological: impatience; cognitive limitations"
   ]
  },
  {
   "cell_type": "markdown",
   "metadata": {},
   "source": [
    "Regardless of the reasons, it is helpful or important to explicitly consider discounting when we model choices. \n",
    "\n",
    "Facing a tradeoff between short-term versus long-term benefits (a.k.a. *intertemporal* decisions), a consumer/firm would make very different decisions if they value the future more:\n",
    "* household saving\n",
    "* choice on education versus work\n",
    "* firm investing in quality and customer relationship\n",
    "* politician choosing policy platforms\n",
    "* government's choice over environmental policies\n",
    "\n",
    "To model any intertemporal decisions, it is important to model discounting, which would allow us to bring present and future benefits to a level playing field."
   ]
  },
  {
   "cell_type": "markdown",
   "metadata": {},
   "source": [
    "# Modeling discounting"
   ]
  },
  {
   "cell_type": "markdown",
   "metadata": {},
   "source": [
    "A convenient/simple way can model discounting.\n",
    "\n",
    "We assume that the decision maker discounts a value at a fixed rate, say $\\rho < 0$."
   ]
  },
  {
   "cell_type": "markdown",
   "metadata": {},
   "source": [
    "## Example 1\n",
    "\n",
    "If a consumer receives two payments, \\\\$10, \\\\$20, one year apart from each other, and \\\\$10 arrives in the present. Let's say $\\rho = 0.8$ between the present and the future.\n",
    "\n",
    "Assuming this consumer's utility directly values the payment amounts, then:\n",
    "* the present self would have utility $10$\n",
    "* the future self would have utility $20$\n",
    "* expecting the utility $20$ one year later, the present self would have utility $0.8\\times 20 = 16$. \n",
    "\n",
    "A forward-looking consumer, whose utility directly values the payment amounts, would have a utility over the total payments at\n",
    "$$ U(10, 20) = 10 + 0.8\\times 20 = 26 $$"
   ]
  },
  {
   "cell_type": "markdown",
   "metadata": {},
   "source": [
    "## Example 2\n",
    "\n",
    "If a consumer receives two payments, \\\\$20, \\\\$10, one year apart from each other, and \\\\$20 arrives in the present. Let's say $\\rho = 0.8$ between the present and the future.\n",
    "\n",
    "Assuming this consumer's utility directly values the payment amounts, then:\n",
    "* the present self would have utility $20$\n",
    "* the future self would have utility $10$\n",
    "* expecting the utility $10$ one year later, the present self would have utility $0.8\\times 10 = 8$. \n",
    "\n",
    "A forward-looking consumer, whose utility directly values the payment amounts, would have a utility over the total payments at\n",
    "$$ U(20, 10) = 20 + 0.8\\times 10 = 28 $$"
   ]
  },
  {
   "cell_type": "markdown",
   "metadata": {},
   "source": [
    "In comparison to the first example, the consumer would prefer the second payment scheme that provides more payment in the present. "
   ]
  },
  {
   "cell_type": "markdown",
   "metadata": {},
   "source": [
    "## A general framework\n",
    "If a consumer receives two utilities, $v_1, v_2$, one year apart from each other, and $v_1$ arrives in the present. \n",
    "\n",
    "Then:\n",
    "* the present self would have utility $v_1$\n",
    "* the future self would have utility $v_2$\n",
    "* expecting the utility $v_2$ one year later, the present self would have utility $\\rho v_2$. \n",
    "\n",
    "A forward-looking consumer would have a total expected utility of\n",
    "$$ U(v_1, v_2) = v_1 + \\rho v_2 $$"
   ]
  },
  {
   "cell_type": "markdown",
   "metadata": {},
   "source": [
    "## Example 3 - intertemporal income allocation"
   ]
  },
  {
   "cell_type": "markdown",
   "metadata": {},
   "source": [
    "Suppose a consumer has total income of \\\\$30, a discount factor of $0.8$ and can choose how to allocate the income between the present the future for consumption.\n",
    "\n",
    "Some examples are\n",
    "* consumer can save present income for the future, or\n",
    "* consumer can borrow against future income for current consumption\n",
    "\n",
    "If the consumer's (immediate) utility function is simply the consumption/payment/income, then the expected total utility is\n",
    "$$ U(v_1, v_2) = v_1 + \\rho v_2 $$\n",
    "with a constraint of\n",
    "$$ v_1 + v_2 = 30$$\n",
    "\n",
    "How would you choose $v_1, v_2$ to maximize the utility?"
   ]
  },
  {
   "cell_type": "code",
   "execution_count": 10,
   "metadata": {},
   "outputs": [],
   "source": [
    "v1, v2, rho = symbols('v_1, v_2, rho')"
   ]
  },
  {
   "cell_type": "code",
   "execution_count": 24,
   "metadata": {},
   "outputs": [
    {
     "data": {
      "image/png": "[encoded data removed]",
      "text/latex": [
       "$\\displaystyle \\rho \\left(30 - v_{1}\\right) + v_{1}$"
      ],
      "text/plain": [
       "ρ⋅(30 - v₁) + v₁"
      ]
     },
     "execution_count": 24,
     "metadata": {},
     "output_type": "execute_result"
    }
   ],
   "source": [
    "v2 = 30 - v1\n",
    "U = v1 + rho * v2\n",
    "U"
   ]
  },
  {
   "cell_type": "code",
   "execution_count": 27,
   "metadata": {
    "scrolled": false
   },
   "outputs": [
    {
     "data": {
      "image/png": "[encoded data removed]",
      "text/plain": [
       "<Figure size 432x288 with 1 Axes>"
      ]
     },
     "metadata": {
      "needs_background": "light"
     },
     "output_type": "display_data"
    },
    {
     "data": {
      "text/plain": [
       "<sympy.plotting.plot.Plot at 0x7fedd0bf9650>"
      ]
     },
     "execution_count": 27,
     "metadata": {},
     "output_type": "execute_result"
    }
   ],
   "source": [
    "# use plot function\n",
    "plot(U.subs([(rho,0.8)]), (v1, 0 + 0.1, 30 - 0.1), xlim=[0,30], ylim=[0,50], xlabel=\"$v_1$\", ylabel=\"$U$\")"
   ]
  },
  {
   "cell_type": "markdown",
   "metadata": {},
   "source": [
    "## Example 4 - intertemporal income allocation (non-linear utility)"
   ]
  },
  {
   "cell_type": "markdown",
   "metadata": {},
   "source": [
    "If the consumer's (immediate) utility function is concave in the consumption/payment/income, say $\\ln(v)$, then the expected total utility is\n",
    "$$ U(v_1, v_2) = \\ln(v_1) + \\rho \\ln(v_2) $$\n",
    "with a constraint of\n",
    "$$ v_1 + v_2 = 30$$\n",
    "\n",
    "How would you choose $v_1, v_2$ to maximize the utility?"
   ]
  },
  {
   "cell_type": "code",
   "execution_count": 10,
   "metadata": {},
   "outputs": [],
   "source": [
    "v1, v2, rho = symbols('v_1, v_2, rho')"
   ]
  },
  {
   "cell_type": "code",
   "execution_count": 15,
   "metadata": {},
   "outputs": [
    {
     "data": {
      "image/png": "[encoded data removed]",
      "text/latex": [
       "$\\displaystyle \\rho \\log{\\left(30 - v_{1} \\right)} + \\log{\\left(v_{1} \\right)}$"
      ],
      "text/plain": [
       "ρ⋅log(30 - v₁) + log(v₁)"
      ]
     },
     "execution_count": 15,
     "metadata": {},
     "output_type": "execute_result"
    }
   ],
   "source": [
    "v2 = 30 - v1\n",
    "U = ln(v1) + rho * ln(v2)\n",
    "U"
   ]
  },
  {
   "cell_type": "code",
   "execution_count": 22,
   "metadata": {
    "scrolled": true
   },
   "outputs": [
    {
     "data": {
      "image/png": "[encoded data removed]",
      "text/plain": [
       "<Figure size 432x288 with 1 Axes>"
      ]
     },
     "metadata": {
      "needs_background": "light"
     },
     "output_type": "display_data"
    },
    {
     "data": {
      "text/plain": [
       "<sympy.plotting.plot.Plot at 0x7fede0cdd450>"
      ]
     },
     "execution_count": 22,
     "metadata": {},
     "output_type": "execute_result"
    }
   ],
   "source": [
    "# use plot function\n",
    "plot(U.subs([(rho,0.8)]), (v1, 0 + 0.1, 30 - 0.1), xlim=[0,30], ylim=[0,6], xlabel=\"$v_1$\", ylabel=\"$U$\")"
   ]
  },
  {
   "cell_type": "code",
   "execution_count": null,
   "metadata": {},
   "outputs": [],
   "source": []
  },
  {
   "cell_type": "markdown",
   "metadata": {},
   "source": [
    "# Modeling discount with more details of the future"
   ]
  },
  {
   "cell_type": "markdown",
   "metadata": {},
   "source": [
    "The above framework allows us to model the tradeoff between present vs future, but it doesn't distinguish between more distant future versus the immediate future.\n",
    "\n",
    "For instance, one chooses a ten-year plan to invest in green technology. The tradeoffs involve\n",
    "* the present vs. the immediate future\n",
    "* the present vs. the distant future\n",
    "* the immediate future vs. the distant future\n",
    "\n",
    "How can we model these considerations?"
   ]
  },
  {
   "cell_type": "markdown",
   "metadata": {},
   "source": [
    "With more details in the time horizon, the behavior related to discounting has two essential features that we need to consider.\n",
    "1. one values something less in the future than the same thing in the present, thus the discounting\n",
    "1. one discounts more severely when the future is more distant\n",
    "\n",
    "A simple extension of the previous logic can incorporating both these features. We can simply let the discount rate compounds as time goes on. "
   ]
  },
  {
   "cell_type": "markdown",
   "metadata": {},
   "source": [
    "For a series of three payments $v_1, v_2, v_3$, arriving one period apart, and $v_1$ arrives in the present. \n",
    "\n",
    "With a discount factor of $\\rho$ between each two neighboring periods, we can imagine:\n",
    "* present self values $v_1$ at $v_1$\n",
    "* present self values the next period payment $v_2$ at $\\rho v_2$\n",
    "\n",
    "Placing myself in the next period (very rationally), one could imagine\n",
    "* next-period self values $v_2$ at $v_2$\n",
    "* next-period self values the next period payment $v_3$ at $\\rho v_3$\n",
    "\n",
    "Therefore, expecting my \"values\" in the next period, and further discounting it to the present, my total expected value would be\n",
    "$$ v_1 + \\rho \\underbrace{(v_2 + \\rho v_3)}_{\\text{total value next period}} =  v_1 + \\rho v_2 + \\rho^2 v_3 $$\n"
   ]
  },
  {
   "cell_type": "markdown",
   "metadata": {},
   "source": [
    "### A side note\n",
    "\n",
    "This simple modeling framework is sometimes referred to as *time-consistent discounting*. \n",
    "\n",
    "Behavioral economics research shows such a model is not a good fit for real people's behavior. One of the more fitting model is called *hypobolic discounting*.\n",
    "\n",
    "The basic model we introduce here is broadly used in economics, its main benefit is simplicity. And it can be a reasonable approximation to many behavior."
   ]
  },
  {
   "cell_type": "markdown",
   "metadata": {},
   "source": [
    "## Solve the problem using sympy"
   ]
  },
  {
   "cell_type": "markdown",
   "metadata": {},
   "source": [
    "Declare variables we are going to use as 'symbols'. We will add more along the way, if necessary."
   ]
  },
  {
   "cell_type": "code",
   "execution_count": null,
   "metadata": {},
   "outputs": [],
   "source": [
    "phi, tauC, tauI, omega, eI, eC, sigma, sigmaT, lamY, lamO, RI, RO = symbols('phi, tau_C, tau_I, omega, e_I, e_C, sigma, sigma^T, lambda^y, lambda^o, R_I, R_O')"
   ]
  },
  {
   "cell_type": "code",
   "execution_count": null,
   "metadata": {},
   "outputs": [],
   "source": [
    "sigmaT"
   ]
  }
 ],
 "metadata": {
  "kernelspec": {
   "display_name": "Python 3",
   "language": "python",
   "name": "python3"
  },
  "language_info": {
   "codemirror_mode": {
    "name": "ipython",
    "version": 3
   },
   "file_extension": ".py",
   "mimetype": "text/x-python",
   "name": "python",
   "nbconvert_exporter": "python",
   "pygments_lexer": "ipython3",
   "version": "3.7.4"
  }
 },
 "nbformat": 4,
 "nbformat_minor": 1
}
