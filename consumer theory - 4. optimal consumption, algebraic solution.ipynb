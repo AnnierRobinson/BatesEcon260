{
  "cells": [
    {
      "metadata": {},
      "cell_type": "markdown",
      "source": "Import necessary packages."
    },
    {
      "metadata": {
        "trusted": true
      },
      "cell_type": "code",
      "source": "# import all functions from python labrary: sympy\nfrom sympy import *\n# import python library: matplotlib (for nice plots)\nimport matplotlib\n# set sympy output to print pretty math expressions\ninit_printing()",
      "execution_count": 1,
      "outputs": []
    },
    {
      "metadata": {},
      "cell_type": "markdown",
      "source": "Declare variables we are going to use as 'symbols'. We will add more along the way, if necessary."
    },
    {
      "metadata": {
        "trusted": true
      },
      "cell_type": "code",
      "source": "q1, q2, p1, p2, y = symbols('q1 q2 p1 p2 y')",
      "execution_count": 2,
      "outputs": []
    },
    {
      "metadata": {},
      "cell_type": "markdown",
      "source": "# 4. Solve for optimal consumption analytically"
    },
    {
      "metadata": {},
      "cell_type": "markdown",
      "source": "## Setup the optimization program"
    },
    {
      "metadata": {},
      "cell_type": "markdown",
      "source": "Our optimization problem is\n\\begin{align}\n    & \\max_{q_1,q_2}\\quad u(q_1,q_2) \\\\\n    \\text{s.t.}\\quad & p_1 q_1 + p_2 q_2 = y\n\\end{align}"
    },
    {
      "metadata": {},
      "cell_type": "markdown",
      "source": "## Setup the utility function"
    },
    {
      "metadata": {
        "trusted": true
      },
      "cell_type": "code",
      "source": "# define alpha as a rational number of 1/2\n#alpha = Rational(1,2)\nalpha = symbols('alpha')\n# define parameter beta as 1 - alpha\nbeta = 1 - alpha\n\n\n\n# Note: in sympy syntax: use double star ** for power\nu = q1**(alpha) * q2**(beta)\n# show the defined function\nu",
      "execution_count": 20,
      "outputs": [
        {
          "output_type": "execute_result",
          "execution_count": 20,
          "data": {
            "image/png": "[encoded data removed]",
            "text/latex": "$$q_{1}^{\\alpha} q_{2}^{- \\alpha + 1}$$",
            "text/plain": "  α   -α + 1\nq₁ ⋅q₂      "
          },
          "metadata": {}
        }
      ]
    },
    {
      "metadata": {},
      "cell_type": "markdown",
      "source": "## Setup the lagrangian"
    },
    {
      "metadata": {
        "trusted": true,
        "scrolled": false
      },
      "cell_type": "code",
      "source": "lam = Symbol('lambda')\nlagr = u + lam *(y - p1*q1 - p2*q2)\nlagr",
      "execution_count": 21,
      "outputs": [
        {
          "output_type": "execute_result",
          "execution_count": 21,
          "data": {
            "image/png": "[encoded data removed]",
            "text/latex": "$$\\lambda \\left(- p_{1} q_{1} - p_{2} q_{2} + y\\right) + q_{1}^{\\alpha} q_{2}^{- \\alpha + 1}$$",
            "text/plain": "                           α   -α + 1\nλ⋅(-p₁⋅q₁ - p₂⋅q₂ + y) + q₁ ⋅q₂      "
          },
          "metadata": {}
        }
      ]
    },
    {
      "metadata": {},
      "cell_type": "markdown",
      "source": "Solve the first-order conditions. \n\nNote the syntax of the solve function, especially the use of the brackets:\nsolve( (eq1, eq2, eq3), var1, var2, var3)\n\nThe equations are by default treated as equal to 0 by the solver."
    },
    {
      "metadata": {
        "trusted": true,
        "scrolled": true
      },
      "cell_type": "code",
      "source": "foc_sol = solve((diff(lagr,q1), diff(lagr,q2), diff(lagr,lam) ), q1,q2,lam)\nfoc_sol",
      "execution_count": 22,
      "outputs": [
        {
          "output_type": "execute_result",
          "execution_count": 22,
          "data": {
            "image/png": "[encoded data removed]",
            "text/latex": "$$\\left [ \\left ( \\frac{\\alpha y}{p_{1}}, \\quad - \\frac{y \\left(\\alpha - 1\\right)}{p_{2}}, \\quad \\frac{\\left(\\frac{\\alpha y}{p_{1}}\\right)^{\\alpha} \\left(- \\frac{y \\left(\\alpha - 1\\right)}{p_{2}}\\right)^{- \\alpha + 1}}{y}\\right )\\right ]$$",
            "text/plain": "⎡⎛                       α              -α + 1⎞⎤\n⎢⎜                  ⎛α⋅y⎞  ⎛-y⋅(α - 1) ⎞      ⎟⎥\n⎢⎜                  ⎜───⎟ ⋅⎜───────────⎟      ⎟⎥\n⎢⎜α⋅y  -y⋅(α - 1)   ⎝ p₁⎠  ⎝     p₂    ⎠      ⎟⎥\n⎢⎜───, ───────────, ──────────────────────────⎟⎥\n⎣⎝ p₁       p₂                  y             ⎠⎦"
          },
          "metadata": {}
        }
      ]
    },
    {
      "metadata": {},
      "cell_type": "markdown",
      "source": "The solution is a list with one element, because our solution is unique."
    },
    {
      "metadata": {
        "trusted": true,
        "scrolled": true
      },
      "cell_type": "code",
      "source": "foc_sol[0]",
      "execution_count": 23,
      "outputs": [
        {
          "output_type": "execute_result",
          "execution_count": 23,
          "data": {
            "image/png": "[encoded data removed]",
            "text/latex": "$$\\left ( \\frac{\\alpha y}{p_{1}}, \\quad - \\frac{y \\left(\\alpha - 1\\right)}{p_{2}}, \\quad \\frac{\\left(\\frac{\\alpha y}{p_{1}}\\right)^{\\alpha} \\left(- \\frac{y \\left(\\alpha - 1\\right)}{p_{2}}\\right)^{- \\alpha + 1}}{y}\\right )$$",
            "text/plain": "⎛                       α              -α + 1⎞\n⎜                  ⎛α⋅y⎞  ⎛-y⋅(α - 1) ⎞      ⎟\n⎜                  ⎜───⎟ ⋅⎜───────────⎟      ⎟\n⎜α⋅y  -y⋅(α - 1)   ⎝ p₁⎠  ⎝     p₂    ⎠      ⎟\n⎜───, ───────────, ──────────────────────────⎟\n⎝ p₁       p₂                  y             ⎠"
          },
          "metadata": {}
        }
      ]
    },
    {
      "metadata": {},
      "cell_type": "markdown",
      "source": "To access the first element in our solution, which is a list by itself, we use the list index again."
    },
    {
      "metadata": {
        "trusted": true
      },
      "cell_type": "code",
      "source": "q1star = foc_sol[0][0]\nq1star",
      "execution_count": 24,
      "outputs": [
        {
          "output_type": "execute_result",
          "execution_count": 24,
          "data": {
            "image/png": "[encoded data removed]",
            "text/latex": "$$\\frac{\\alpha y}{p_{1}}$$",
            "text/plain": "α⋅y\n───\n p₁"
          },
          "metadata": {}
        }
      ]
    },
    {
      "metadata": {
        "trusted": true,
        "scrolled": true
      },
      "cell_type": "code",
      "source": "q2star = foc_sol[0][1]\nq2star",
      "execution_count": 25,
      "outputs": [
        {
          "output_type": "execute_result",
          "execution_count": 25,
          "data": {
            "image/png": "[encoded data removed]",
            "text/latex": "$$- \\frac{y \\left(\\alpha - 1\\right)}{p_{2}}$$",
            "text/plain": "-y⋅(α - 1) \n───────────\n     p₂    "
          },
          "metadata": {}
        }
      ]
    },
    {
      "metadata": {},
      "cell_type": "markdown",
      "source": "Substitute optimal consumption into the direct utility function, to calculate the optimal utility level attainable at the given exogenous variables. \n\nThe resulting function is our **indirect utility function**, $v(p_1,p_2,y)$."
    },
    {
      "metadata": {
        "trusted": true
      },
      "cell_type": "code",
      "source": "v = u.subs([(q1,q1star), (q2,q2star)])\nv",
      "execution_count": 39,
      "outputs": [
        {
          "output_type": "execute_result",
          "execution_count": 39,
          "data": {
            "image/png": "[encoded data removed]",
            "text/latex": "$$\\left(\\frac{\\alpha y}{p_{1}}\\right)^{\\alpha} \\left(- \\frac{y \\left(\\alpha - 1\\right)}{p_{2}}\\right)^{- \\alpha + 1}$$",
            "text/plain": "     α              -α + 1\n⎛α⋅y⎞  ⎛-y⋅(α - 1) ⎞      \n⎜───⎟ ⋅⎜───────────⎟      \n⎝ p₁⎠  ⎝     p₂    ⎠      "
          },
          "metadata": {}
        }
      ]
    },
    {
      "metadata": {
        "trusted": true
      },
      "cell_type": "code",
      "source": "",
      "execution_count": null,
      "outputs": []
    }
  ],
  "metadata": {
    "kernelspec": {
      "name": "python36",
      "display_name": "Python 3.6",
      "language": "python"
    },
    "language_info": {
      "mimetype": "text/x-python",
      "nbconvert_exporter": "python",
      "name": "python",
      "pygments_lexer": "ipython3",
      "version": "3.6.6",
      "file_extension": ".py",
      "codemirror_mode": {
        "version": 3,
        "name": "ipython"
      }
    }
  },
  "nbformat": 4,
  "nbformat_minor": 1
}