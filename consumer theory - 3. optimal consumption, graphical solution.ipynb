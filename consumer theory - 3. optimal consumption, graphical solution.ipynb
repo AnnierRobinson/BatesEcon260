{
  "cells": [
    {
      "metadata": {},
      "cell_type": "markdown",
      "source": "Import necessary packages."
    },
    {
      "metadata": {
        "trusted": true
      },
      "cell_type": "code",
      "source": "# import all functions from python labrary: sympy\nfrom sympy import *\n# import python library: matplotlib (for nice plots)\nimport matplotlib\n# set sympy output to print pretty math expressions\ninit_printing()",
      "execution_count": 2,
      "outputs": []
    },
    {
      "metadata": {},
      "cell_type": "markdown",
      "source": "Declare variables we are going to use as 'symbols'. We will add more along the way, if necessary."
    },
    {
      "metadata": {
        "trusted": true
      },
      "cell_type": "code",
      "source": "q1, q2, p1, p2, y = symbols('q1 q2 p1 p2 y')",
      "execution_count": 3,
      "outputs": []
    },
    {
      "metadata": {},
      "cell_type": "markdown",
      "source": "In this notebook, we derive a graphical solution to the consumer's utility maximization problem, i.e., finding the optimal consumption bundles and the highest utility level. \n\nWe complete this in 3 steps:\n1. create indifference curves;\n2. create a budget constraint;\n3. find the optimal solution graphically."
    },
    {
      "metadata": {},
      "cell_type": "markdown",
      "source": "# 3.1. Cobb-Douglas (CD) Utility Function"
    },
    {
      "metadata": {},
      "cell_type": "markdown",
      "source": "## Define a utility function"
    },
    {
      "metadata": {},
      "cell_type": "markdown",
      "source": "Define a CD utility function:"
    },
    {
      "metadata": {
        "trusted": true
      },
      "cell_type": "code",
      "source": "# define alpha as a rational number of 1/2\nalpha = Rational(1,2)\n# define parameter beta as 1 - alpha\nbeta = 1 - alpha\n# Note: in sympy syntax: use double star ** for power\nu = q1**(alpha) * q2**(beta)\n# show the defined function\nu",
      "execution_count": 4,
      "outputs": [
        {
          "output_type": "execute_result",
          "execution_count": 4,
          "data": {
            "image/png": "[encoded data removed]",
            "text/latex": "$$\\sqrt{q_{1}} \\sqrt{q_{2}}$$",
            "text/plain": "  ____   ____\n╲╱ q₁ ⋅╲╱ q₂ "
          },
          "metadata": {}
        }
      ]
    },
    {
      "metadata": {
        "trusted": true
      },
      "cell_type": "markdown",
      "source": "## Derive the expression for the indifference curve"
    },
    {
      "metadata": {
        "trusted": true,
        "scrolled": true
      },
      "cell_type": "code",
      "source": "# define a new symbol ubar\nubar = symbols('ubar')\n# explicitly solve for the indifference curve: q2 as a function of ubar and q1\nindiff_sol = solve(Eq(u, ubar), q2)\n# show the expression of the indifference curve\nindiff_sol",
      "execution_count": 7,
      "outputs": [
        {
          "output_type": "execute_result",
          "execution_count": 7,
          "data": {
            "image/png": "[encoded data removed]",
            "text/latex": "$$\\left [ \\frac{\\bar{u}^{2}}{q_{1}}\\right ]$$",
            "text/plain": "⎡  2⎤\n⎢u̅ ⎥\n⎢───⎥\n⎣ q₁⎦"
          },
          "metadata": {}
        }
      ]
    },
    {
      "metadata": {},
      "cell_type": "markdown",
      "source": "Note the square brackets around the above output, this indicates that indiff_sol is a list with one element (not just the element itself). This feature is handy because the solution may not be unique (e.g. solution to a quadratic equation).\n\nWe can ask python about the type of the object using: type(indiff_sol)."
    },
    {
      "metadata": {
        "trusted": true
      },
      "cell_type": "code",
      "source": "type(indiff_sol)",
      "execution_count": 8,
      "outputs": [
        {
          "output_type": "execute_result",
          "execution_count": 8,
          "data": {
            "text/plain": "list"
          },
          "metadata": {}
        }
      ]
    },
    {
      "metadata": {},
      "cell_type": "markdown",
      "source": "In this case, we only want the element (the solution), we access it using the index.\n\nPython index starts with 0, so indiff[0] is the 1st element, indiff[1] is the 2nd, etc."
    },
    {
      "metadata": {},
      "cell_type": "markdown",
      "source": "Nice! Now we call this element (the solution we want): indiff"
    },
    {
      "metadata": {
        "trusted": true
      },
      "cell_type": "code",
      "source": "indiff = indiff_sol[0]\nindiff",
      "execution_count": 9,
      "outputs": [
        {
          "output_type": "execute_result",
          "execution_count": 9,
          "data": {
            "image/png": "[encoded data removed]",
            "text/latex": "$$\\frac{\\bar{u}^{2}}{q_{1}}$$",
            "text/plain": "  2\nu̅ \n───\n q₁"
          },
          "metadata": {}
        }
      ]
    },
    {
      "metadata": {},
      "cell_type": "markdown",
      "source": "# 3.2. Budget Constraint"
    },
    {
      "metadata": {},
      "cell_type": "markdown",
      "source": "## Define the budget constraint"
    },
    {
      "metadata": {},
      "cell_type": "markdown",
      "source": "First, define an expression for expenditure."
    },
    {
      "metadata": {
        "trusted": true
      },
      "cell_type": "code",
      "source": "exp = p1*q1 + p2*q2",
      "execution_count": 10,
      "outputs": []
    },
    {
      "metadata": {},
      "cell_type": "markdown",
      "source": "Next, the budget constraint is such that the expenditure is less than or equal to the budget."
    },
    {
      "metadata": {
        "trusted": true,
        "scrolled": true
      },
      "cell_type": "code",
      "source": "solve(exp <= y, q2)",
      "execution_count": 11,
      "outputs": [
        {
          "output_type": "execute_result",
          "execution_count": 11,
          "data": {
            "image/png": "[encoded data removed]",
            "text/latex": "$$p_{2} q_{2} \\leq - p_{1} q_{1} + y$$",
            "text/plain": "p₂⋅q₂ ≤ -p₁⋅q₁ + y"
          },
          "metadata": {}
        }
      ]
    },
    {
      "metadata": {},
      "cell_type": "markdown",
      "source": "We see that the inequality solution is not just in terms of $q_2$. This is because the inequality solver in sympy has limited functionality for now. \n\nOur ideal form is\n\n\\begin{align}\n    q_2 \\leq \\frac{-p_1 q_1 + y}{p_2} \\label{eq1}\\tag{1}\n\\end{align}\n\nBut this is no big deal, let's treat it as an equality, and keep the sign in mind."
    },
    {
      "metadata": {
        "trusted": true
      },
      "cell_type": "code",
      "source": "budget_sol = solve(Eq(exp, y), q2)\n# Retreive the first and only element in the solution, which is our expression for the budget constraint.\nbc = budget_sol[0]\nbc",
      "execution_count": 14,
      "outputs": [
        {
          "output_type": "execute_result",
          "execution_count": 14,
          "data": {
            "image/png": "[encoded data removed]",
            "text/latex": "$$\\frac{- p_{1} q_{1} + y}{p_{2}}$$",
            "text/plain": "-p₁⋅q₁ + y\n──────────\n    p₂    "
          },
          "metadata": {}
        }
      ]
    },
    {
      "metadata": {},
      "cell_type": "markdown",
      "source": "The slope and intercept of the budget constraint is better seen after expanding the expression."
    },
    {
      "metadata": {
        "trusted": true,
        "scrolled": true
      },
      "cell_type": "code",
      "source": "bc.expand()",
      "execution_count": 15,
      "outputs": [
        {
          "output_type": "execute_result",
          "execution_count": 15,
          "data": {
            "image/png": "[encoded data removed]",
            "text/latex": "$$- \\frac{p_{1} q_{1}}{p_{2}} + \\frac{y}{p_{2}}$$",
            "text/plain": "  p₁⋅q₁   y \n- ───── + ──\n    p₂    p₂"
          },
          "metadata": {}
        }
      ]
    },
    {
      "metadata": {},
      "cell_type": "markdown",
      "source": "## Plot the budget constraint"
    },
    {
      "metadata": {
        "slideshow": {
          "slide_type": "fragment"
        }
      },
      "cell_type": "markdown",
      "source": "Let's plot a budget constraint with parameters $y=5, p_1 = 1, p_2 = 1$. \n\nNote the use of different brackets in the subs method."
    },
    {
      "metadata": {
        "trusted": true
      },
      "cell_type": "code",
      "source": "# we substitute a list [(y,5), (p1,1), (p2,1)] into bc\n# the list has three elements, each as a pair: (y,5), (p1,1), (p2,1)\nbc_plot1 = plot(bc.subs([(y,5), (p1,1), (p2,1)]), xlim=[0,10], ylim=[0,10], xlabel=\"$q_1$\", ylabel=\"$q_2$\", show=False)\nbc_plot1.show()",
      "execution_count": 66,
      "outputs": [
        {
          "output_type": "display_data",
          "data": {
            "image/png": "[encoded data removed]",
            "text/plain": "<Figure size 432x288 with 1 Axes>"
          },
          "metadata": {
            "needs_background": "light"
          }
        }
      ]
    },
    {
      "metadata": {},
      "cell_type": "markdown",
      "source": "Creat a few budget constraints with different $y$, while holding prices constant."
    },
    {
      "metadata": {
        "trusted": true
      },
      "cell_type": "code",
      "source": "# create plots with different parameters\nbc_plot1 = plot(bc.subs([(y,5), (p1,1), (p2,1)]), xlim=[0,10], ylim=[0,10], xlabel=\"$q_1$\", ylabel=\"$q_2$\", show=False)\nbc_plot2 = plot(bc.subs([(y,6), (p1,1), (p2,1)]), xlim=[0,10], ylim=[0,10], xlabel=\"$q_1$\", ylabel=\"$q_2$\", show=False)\nbc_plot3 = plot(bc.subs([(y,7), (p1,1), (p2,1)]), xlim=[0,10], ylim=[0,10], xlabel=\"$q_1$\", ylabel=\"$q_2$\", show=False)\n\n# combine plots into one plot\nbc_plot_combo = bc_plot1\nbc_plot_combo.extend(bc_plot2)\nbc_plot_combo.extend(bc_plot3)\n\n# assign colors for each line\nbc_plot_combo[0].line_color='salmon'\nbc_plot_combo[1].line_color='tomato'\nbc_plot_combo[2].line_color='orchid'\n\n# show plot\nbc_plot_combo.show()",
      "execution_count": 67,
      "outputs": [
        {
          "output_type": "display_data",
          "data": {
            "image/png": "[encoded data removed]",
            "text/plain": "<Figure size 432x288 with 1 Axes>"
          },
          "metadata": {
            "needs_background": "light"
          }
        }
      ]
    },
    {
      "metadata": {},
      "cell_type": "markdown",
      "source": "# 3.3. graphically solve for the optimal consumption bundle"
    },
    {
      "metadata": {
        "trusted": true
      },
      "cell_type": "markdown",
      "source": "### Combine an *arbitrary* indifference curves and the budget contraint in the same graph"
    },
    {
      "metadata": {
        "trusted": true
      },
      "cell_type": "code",
      "source": "# we substitute a list [(y,5), (p1,1), (p2,1)] into bc\n# the list has three elements, each as a pair: (y,5), (p1,1), (p2,1)\nbc_plot1 = plot(bc.subs([(y,5), (p1,1), (p2,1)]), xlim=[0,10], ylim=[0,10], xlabel=\"$q_1$\", ylabel=\"$q_2$\", show=False)\n\n# plot two indifference curves at arbitrary utility levels\nindiff_plot1 = plot(indiff.subs(ubar, 1), xlim=[0,10], ylim=[0,10], xlabel=\"$q_1$\", ylabel=\"$q_2$\", show=False)\nindiff_plot2 = plot(indiff.subs(ubar, 5), xlim=[0,10], ylim=[0,10], xlabel=\"$q_1$\", ylabel=\"$q_2$\", show=False)\n\n# let plot_combo[0] be the budget constraint\nplot_combo = bc_plot1\n# let plot_combo add on the indifference curves\nplot_combo.extend(indiff_plot1)\nplot_combo.extend(indiff_plot2)\n\n# assign colors for each line\nplot_combo[1].line_color='salmon'\nplot_combo[2].line_color='navy'\n\nplot_combo.show()",
      "execution_count": 45,
      "outputs": [
        {
          "output_type": "display_data",
          "data": {
            "image/png": "[encoded data removed]",
            "text/plain": "<Figure size 432x288 with 1 Axes>"
          },
          "metadata": {
            "needs_background": "light"
          }
        }
      ]
    },
    {
      "metadata": {
        "trusted": true
      },
      "cell_type": "markdown",
      "source": "### Adjust utility levels to find the optimal solution (make your edits here)"
    },
    {
      "metadata": {
        "trusted": true
      },
      "cell_type": "code",
      "source": "# we substitute a list [(y,5), (p1,1), (p2,1)] into bc\n# the list has three elements, each as a pair: (y,5), (p1,1), (p2,1)\nbc_plot1 = plot(bc.subs([(y,5), (p1,1), (p2,1)]), xlim=[0,10], ylim=[0,10], xlabel=\"$q_1$\", ylabel=\"$q_2$\", show=False)\n\n# plot two indifference curves at arbitrary utility levels\nindiff_plot1 = plot(indiff.subs(ubar, 1), xlim=[0,10], ylim=[0,10], xlabel=\"$q_1$\", ylabel=\"$q_2$\", show=False)\nindiff_plot2 = plot(indiff.subs(ubar, 5), xlim=[0,10], ylim=[0,10], xlabel=\"$q_1$\", ylabel=\"$q_2$\", show=False)\n\n# let plot_combo[0] be the budget constraint\nplot_combo = bc_plot1\n# let plot_combo add on the indifference curves\nplot_combo.extend(indiff_plot1)\nplot_combo.extend(indiff_plot2)\n\n# assign colors for each line\nplot_combo[1].line_color='salmon'\nplot_combo[2].line_color='navy'\n\nplot_combo.show()",
      "execution_count": null,
      "outputs": []
    }
  ],
  "metadata": {
    "kernelspec": {
      "name": "python36",
      "display_name": "Python 3.6",
      "language": "python"
    },
    "language_info": {
      "mimetype": "text/x-python",
      "nbconvert_exporter": "python",
      "name": "python",
      "pygments_lexer": "ipython3",
      "version": "3.6.6",
      "file_extension": ".py",
      "codemirror_mode": {
        "version": 3,
        "name": "ipython"
      }
    }
  },
  "nbformat": 4,
  "nbformat_minor": 1
}