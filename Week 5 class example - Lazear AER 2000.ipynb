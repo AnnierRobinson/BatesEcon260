{
 "cells": [
  {
   "cell_type": "markdown",
   "metadata": {},
   "source": [
    "Given:\n",
    "\n",
    "$$ e = f(X,A) $$\n",
    "\n",
    "Fixing $e = \\bar{e}$\n",
    "\n",
    "Derive:\n",
    "\n",
    "$$ \\frac{\\partial X}{\\partial A} = -\\frac{f_2}{f_1}$$"
   ]
  },
  {
   "cell_type": "markdown",
   "metadata": {},
   "source": [
    "\\begin{align}\n",
    "    \\frac{d \\bar{e}}{d A} &= \\frac{\\partial f(X,A)}{\\partial X} \\frac{\\partial X}{\\partial A} + \\frac{\\partial f(X,A)}{\\partial A}\n",
    "\\end{align}"
   ]
  },
  {
   "cell_type": "markdown",
   "metadata": {},
   "source": [
    "\\begin{align}\n",
    "    \\underbrace{\\frac{d \\bar{e}}{d A}}_{=0} &= \\underbrace{\\frac{\\partial f(X,A)}{\\partial X}}_{f_1} \\frac{\\partial X}{\\partial A} + \\underbrace{\\frac{\\partial f(X,A)}{\\partial A}}_{f_2} \\\\\n",
    "    f_1\\frac{\\partial X}{\\partial A} &= -f_2\n",
    "\\end{align}"
   ]
  },
  {
   "cell_type": "code",
   "execution_count": null,
   "metadata": {},
   "outputs": [],
   "source": []
  }
 ],
 "metadata": {
  "kernelspec": {
   "display_name": "Python 3 (ipykernel)",
   "language": "python",
   "name": "python3"
  },
  "language_info": {
   "codemirror_mode": {
    "name": "ipython",
    "version": 3
   },
   "file_extension": ".py",
   "mimetype": "text/x-python",
   "name": "python",
   "nbconvert_exporter": "python",
   "pygments_lexer": "ipython3",
   "version": "3.9.7"
  }
 },
 "nbformat": 4,
 "nbformat_minor": 2
}
