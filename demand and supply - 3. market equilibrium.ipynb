{
 "cells": [
  {
   "cell_type": "markdown",
   "metadata": {},
   "source": [
    "Notebook created by: Leshui He; Department of Economics, Bates College"
   ]
  },
  {
   "cell_type": "markdown",
   "metadata": {},
   "source": [
    "Import necessary packages."
   ]
  },
  {
   "cell_type": "code",
   "execution_count": 13,
   "metadata": {},
   "outputs": [],
   "source": [
    "# import all functions from python labrary: sympy\n",
    "from sympy import *\n",
    "# import python library: matplotlib (for nice plots)\n",
    "import matplotlib\n",
    "# set sympy output to print pretty math expressions\n",
    "init_printing()"
   ]
  },
  {
   "cell_type": "markdown",
   "metadata": {},
   "source": [
    "Declare variables we are going to use as 'symbols'. We will add more along the way."
   ]
  },
  {
   "cell_type": "code",
   "execution_count": 14,
   "metadata": {},
   "outputs": [],
   "source": [
    "p, pb, pk, y, ph = symbols('p pb pk y ph')"
   ]
  },
  {
   "cell_type": "markdown",
   "metadata": {},
   "source": [
    "# 3.1 Define demand and supply functions"
   ]
  },
  {
   "cell_type": "markdown",
   "metadata": {},
   "source": [
    "Define demand and supply functions:"
   ]
  },
  {
   "cell_type": "code",
   "execution_count": 15,
   "metadata": {},
   "outputs": [
    {
     "data": {
      "image/png": "[encoded data removed]",
      "text/latex": [
       "$\\displaystyle - 20 p + 20 pb + 3 pk + 2 y + 171$"
      ],
      "text/plain": [
       "-20⋅p + 20⋅pb + 3⋅pk + 2⋅y + 171"
      ]
     },
     "execution_count": 15,
     "metadata": {},
     "output_type": "execute_result"
    }
   ],
   "source": [
    "# define linear demand function as in class notes\n",
    "Qd = 171 - 20*p + 20*pb + 3*pk + 2*y\n",
    "# show the defined function\n",
    "Qd"
   ]
  },
  {
   "cell_type": "code",
   "execution_count": 16,
   "metadata": {
    "scrolled": true
   },
   "outputs": [
    {
     "data": {
      "image/png": "[encoded data removed]",
      "text/latex": [
       "$\\displaystyle 40 p - 60 ph + 178$"
      ],
      "text/plain": [
       "40⋅p - 60⋅ph + 178"
      ]
     },
     "execution_count": 16,
     "metadata": {},
     "output_type": "execute_result"
    }
   ],
   "source": [
    "# define linear supply function as in class notes\n",
    "Qs = 178 + 40*p - 60*ph\n",
    "# show the defined function\n",
    "Qs"
   ]
  },
  {
   "cell_type": "markdown",
   "metadata": {},
   "source": [
    "# 3.2 Plot the demand curves"
   ]
  },
  {
   "cell_type": "markdown",
   "metadata": {},
   "source": [
    "Step 1: inverse the demand and supply. "
   ]
  },
  {
   "cell_type": "code",
   "execution_count": 17,
   "metadata": {},
   "outputs": [
    {
     "data": {
      "image/png": "[encoded data removed]",
      "text/latex": [
       "$\\displaystyle \\frac{3 ph}{2} + \\frac{q}{40} - \\frac{89}{20}$"
      ],
      "text/plain": [
       "3⋅ph   q    89\n",
       "──── + ── - ──\n",
       " 2     40   20"
      ]
     },
     "execution_count": 17,
     "metadata": {},
     "output_type": "execute_result"
    }
   ],
   "source": [
    "# define a new symbol q\n",
    "q = symbols('q')\n",
    "# solve the equation Supply = q, which is equivalent to (Supply - q) = 0. \n",
    "#   Notice how we solve for the equation and retrieve the first element of the list in one step\n",
    "SInverse = solve(Qs - q, p)[0]\n",
    "SInverse"
   ]
  },
  {
   "cell_type": "code",
   "execution_count": 18,
   "metadata": {},
   "outputs": [
    {
     "data": {
      "image/png": "[encoded data removed]",
      "text/latex": [
       "$\\displaystyle pb + \\frac{3 pk}{20} - \\frac{q}{20} + \\frac{y}{10} + \\frac{171}{20}$"
      ],
      "text/plain": [
       "     3⋅pk   q    y    171\n",
       "pb + ──── - ── + ── + ───\n",
       "      20    20   10    20"
      ]
     },
     "execution_count": 18,
     "metadata": {},
     "output_type": "execute_result"
    }
   ],
   "source": [
    "# define a new symbol q\n",
    "q = symbols('q')\n",
    "# solve the equation Supply = q, which is equivalent to (Supply - q) = 0. \n",
    "#   Notice how we solve for the equation and retrieve the first element of the list in one step\n",
    "DInverse = solve(Qd - q, p)[0]\n",
    "DInverse"
   ]
  },
  {
   "cell_type": "raw",
   "metadata": {},
   "source": [
    "Step 2: create plots for both demand and supply"
   ]
  },
  {
   "cell_type": "code",
   "execution_count": 19,
   "metadata": {
    "scrolled": true
   },
   "outputs": [
    {
     "data": {
      "image/png": "[encoded data removed]",
      "text/plain": [
       "<Figure size 432x288 with 1 Axes>"
      ]
     },
     "metadata": {
      "needs_background": "light"
     },
     "output_type": "display_data"
    }
   ],
   "source": [
    "# use plot function\n",
    "Splot = plot(SInverse.subs([(ph,1.5)]), (q,0,300), ylim=[0,16], xlabel=\"$q$\", ylabel=\"$p$\", show=False)\n",
    "Dplot = plot(DInverse.subs([(pb,4),(pk,Rational(10,3)),(y,Rational(25,2))]), (q,0,300), xlabel=\"$q$\", ylabel=\"$p$\", show=False)\n",
    "\n",
    "# combine curves into one plot\n",
    "Eqplot_combo = Splot\n",
    "Eqplot_combo.extend(Dplot)\n",
    "\n",
    "# assign colors for each line\n",
    "Eqplot_combo[0].line_color='salmon'\n",
    "Eqplot_combo[1].line_color='orchid'\n",
    "\n",
    "# show plot\n",
    "Eqplot_combo.show()"
   ]
  },
  {
   "cell_type": "markdown",
   "metadata": {},
   "source": [
    "# 3.3 Solve for the equilibrium"
   ]
  },
  {
   "cell_type": "markdown",
   "metadata": {},
   "source": [
    "Solve for the equilibrim price"
   ]
  },
  {
   "cell_type": "code",
   "execution_count": 20,
   "metadata": {},
   "outputs": [
    {
     "data": {
      "image/png": "[encoded data removed]",
      "text/latex": [
       "$\\displaystyle \\frac{pb}{3} + ph + \\frac{pk}{20} + \\frac{y}{30} - \\frac{7}{60}$"
      ],
      "text/plain": [
       "pb        pk   y    7 \n",
       "── + ph + ── + ── - ──\n",
       "3         20   30   60"
      ]
     },
     "execution_count": 20,
     "metadata": {},
     "output_type": "execute_result"
    }
   ],
   "source": [
    "Eq_p = solve(Qd - Qs, p)[0]\n",
    "Eq_p"
   ]
  },
  {
   "cell_type": "markdown",
   "metadata": {},
   "source": [
    "Solve for the equilibrium quantity using supply function"
   ]
  },
  {
   "cell_type": "code",
   "execution_count": 21,
   "metadata": {},
   "outputs": [
    {
     "data": {
      "image/png": "[encoded data removed]",
      "text/latex": [
       "$\\displaystyle \\frac{40 pb}{3} - 20 ph + 2 pk + \\frac{4 y}{3} + \\frac{520}{3}$"
      ],
      "text/plain": [
       "40⋅pb                  4⋅y   520\n",
       "───── - 20⋅ph + 2⋅pk + ─── + ───\n",
       "  3                     3     3 "
      ]
     },
     "execution_count": 21,
     "metadata": {},
     "output_type": "execute_result"
    }
   ],
   "source": [
    "Eq_q = Qs.subs([(p, Eq_p)])\n",
    "Eq_q"
   ]
  },
  {
   "cell_type": "markdown",
   "metadata": {},
   "source": [
    "Solve for the equilibrium quantity using demand function"
   ]
  },
  {
   "cell_type": "code",
   "execution_count": 22,
   "metadata": {},
   "outputs": [
    {
     "data": {
      "image/png": "[encoded data removed]",
      "text/latex": [
       "$\\displaystyle \\frac{40 pb}{3} - 20 ph + 2 pk + \\frac{4 y}{3} + \\frac{520}{3}$"
      ],
      "text/plain": [
       "40⋅pb                  4⋅y   520\n",
       "───── - 20⋅ph + 2⋅pk + ─── + ───\n",
       "  3                     3     3 "
      ]
     },
     "execution_count": 22,
     "metadata": {},
     "output_type": "execute_result"
    }
   ],
   "source": [
    "Eq_q = Qd.subs([(p, Eq_p)])\n",
    "Eq_q"
   ]
  },
  {
   "cell_type": "markdown",
   "metadata": {},
   "source": [
    "Find the equilibrium price when $p_b = 4, p_k = 10/3, y = 12.5, p_h = 1.5$"
   ]
  },
  {
   "cell_type": "code",
   "execution_count": 23,
   "metadata": {},
   "outputs": [
    {
     "data": {
      "image/png": "[encoded data removed]",
      "text/latex": [
       "$\\displaystyle 3.3$"
      ],
      "text/plain": [
       "3.30000000000000"
      ]
     },
     "execution_count": 23,
     "metadata": {},
     "output_type": "execute_result"
    }
   ],
   "source": [
    "Eq_p.subs([(pb,4),(pk,Rational(10,3)),(y,Rational(25,2)),(ph,1.5)])"
   ]
  },
  {
   "cell_type": "markdown",
   "metadata": {},
   "source": [
    "Find the equilibrium quantity when $p_b = 4, p_k = 10/3, y = 12.5, p_h = 1.5$"
   ]
  },
  {
   "cell_type": "code",
   "execution_count": 24,
   "metadata": {},
   "outputs": [
    {
     "data": {
      "image/png": "[encoded data removed]",
      "text/latex": [
       "$\\displaystyle 220.0$"
      ],
      "text/plain": [
       "220.000000000000"
      ]
     },
     "execution_count": 24,
     "metadata": {},
     "output_type": "execute_result"
    }
   ],
   "source": [
    "Eq_q.subs([(pb,4),(pk,Rational(10,3)),(y,Rational(25,2)),(ph,1.5)])"
   ]
  },
  {
   "cell_type": "markdown",
   "metadata": {},
   "source": [
    "# 3.4 Comparative Statics"
   ]
  },
  {
   "cell_type": "markdown",
   "metadata": {},
   "source": [
    "How $p_b$ affects the equilibrium price and quantity?"
   ]
  },
  {
   "cell_type": "code",
   "execution_count": 25,
   "metadata": {},
   "outputs": [
    {
     "data": {
      "image/png": "[encoded data removed]",
      "text/latex": [
       "$\\displaystyle \\frac{pb}{3} + ph + \\frac{pk}{20} + \\frac{y}{30} - \\frac{7}{60}$"
      ],
      "text/plain": [
       "pb        pk   y    7 \n",
       "── + ph + ── + ── - ──\n",
       "3         20   30   60"
      ]
     },
     "execution_count": 25,
     "metadata": {},
     "output_type": "execute_result"
    }
   ],
   "source": [
    "Eq_p"
   ]
  },
  {
   "cell_type": "code",
   "execution_count": 31,
   "metadata": {
    "scrolled": false
   },
   "outputs": [
    {
     "data": {
      "image/png": "[encoded data removed]",
      "text/latex": [
       "$\\displaystyle \\frac{1}{3}$"
      ],
      "text/plain": [
       "1/3"
      ]
     },
     "execution_count": 31,
     "metadata": {},
     "output_type": "execute_result"
    }
   ],
   "source": [
    "# derivative of equil. p w.r.t. to p_b\n",
    "Eq_p.diff(pb)"
   ]
  },
  {
   "cell_type": "code",
   "execution_count": 26,
   "metadata": {},
   "outputs": [
    {
     "data": {
      "image/png": "[encoded data removed]",
      "text/latex": [
       "$\\displaystyle \\frac{40 pb}{3} - 20 ph + 2 pk + \\frac{4 y}{3} + \\frac{520}{3}$"
      ],
      "text/plain": [
       "40⋅pb                  4⋅y   520\n",
       "───── - 20⋅ph + 2⋅pk + ─── + ───\n",
       "  3                     3     3 "
      ]
     },
     "execution_count": 26,
     "metadata": {},
     "output_type": "execute_result"
    }
   ],
   "source": [
    "Eq_q"
   ]
  },
  {
   "cell_type": "code",
   "execution_count": 27,
   "metadata": {
    "scrolled": false
   },
   "outputs": [
    {
     "data": {
      "image/png": "[encoded data removed]",
      "text/latex": [
       "$\\displaystyle \\frac{40}{3}$"
      ],
      "text/plain": [
       "40/3"
      ]
     },
     "execution_count": 27,
     "metadata": {},
     "output_type": "execute_result"
    }
   ],
   "source": [
    "# derivative of equil. q w.r.t. to p_b\n",
    "Eq_q.diff(pb)"
   ]
  },
  {
   "cell_type": "markdown",
   "metadata": {},
   "source": [
    "How $p_h$ affects the equilibrium price and quantity?"
   ]
  },
  {
   "cell_type": "code",
   "execution_count": 33,
   "metadata": {
    "scrolled": true
   },
   "outputs": [
    {
     "data": {
      "image/png": "[encoded data removed]",
      "text/latex": [
       "$\\displaystyle 1$"
      ],
      "text/plain": [
       "1"
      ]
     },
     "execution_count": 33,
     "metadata": {},
     "output_type": "execute_result"
    }
   ],
   "source": [
    "# derivative of equil. p w.r.t. to p_h\n",
    "Eq_p.diff(ph)"
   ]
  },
  {
   "cell_type": "code",
   "execution_count": 34,
   "metadata": {
    "scrolled": false
   },
   "outputs": [
    {
     "data": {
      "image/png": "[encoded data removed]",
      "text/latex": [
       "$\\displaystyle -20$"
      ],
      "text/plain": [
       "-20"
      ]
     },
     "execution_count": 34,
     "metadata": {},
     "output_type": "execute_result"
    }
   ],
   "source": [
    "# derivative of equil. q w.r.t. to p_h\n",
    "Eq_q.diff(ph)"
   ]
  },
  {
   "cell_type": "markdown",
   "metadata": {},
   "source": [
    "# Questions and challenges"
   ]
  },
  {
   "cell_type": "markdown",
   "metadata": {},
   "source": [
    "Q1: By hand\n",
    "\n",
    "* calculate the derivative of the supply function with respect to $p_h$\n",
    "\n",
    "Write up your answer below in markdown."
   ]
  },
  {
   "cell_type": "markdown",
   "metadata": {},
   "source": [
    "(answer here)"
   ]
  },
  {
   "cell_type": "markdown",
   "metadata": {},
   "source": [
    "Q2: Verify your answers using sympy\n",
    "\n",
    "* calculate the derivative of the supply function with respect to $p_h$\n",
    "\n",
    "Write up your answer below in code."
   ]
  },
  {
   "cell_type": "code",
   "execution_count": 35,
   "metadata": {},
   "outputs": [],
   "source": [
    "# code here"
   ]
  },
  {
   "cell_type": "markdown",
   "metadata": {},
   "source": [
    "Q3: What is the interpretation of the derivatives above? Interpret both its magnitude and its sign. \n",
    "\n",
    "Write up your answer below in markdown."
   ]
  },
  {
   "cell_type": "markdown",
   "metadata": {},
   "source": [
    "(answer here)"
   ]
  },
  {
   "cell_type": "markdown",
   "metadata": {},
   "source": [
    "Q4: Plot two supply curves in one graph, one with $p_h = 1.5$, the other with $p_h=2$.\n",
    "\n",
    "Use different colors for each curve."
   ]
  },
  {
   "cell_type": "code",
   "execution_count": 36,
   "metadata": {},
   "outputs": [],
   "source": [
    "# code here"
   ]
  },
  {
   "cell_type": "markdown",
   "metadata": {},
   "source": [
    "Q5: How does the supply curve move after $p_h$ increased by $0.5$? Specifically,\n",
    "\n",
    "* Does the supply curve shift outward (right) or inward (left)?\n",
    "* Does the slope of the supply curve change? Explain in terms of derivatives of the supply function.\n",
    "* How much is the horizontal distance between the two supply curves? Explain.\n",
    "\n",
    "Write up your answer below in markdown."
   ]
  },
  {
   "cell_type": "markdown",
   "metadata": {},
   "source": [
    "(answer here)"
   ]
  }
 ],
 "metadata": {
  "kernelspec": {
   "display_name": "Python 3",
   "language": "python",
   "name": "python3"
  },
  "language_info": {
   "codemirror_mode": {
    "name": "ipython",
    "version": 3
   },
   "file_extension": ".py",
   "mimetype": "text/x-python",
   "name": "python",
   "nbconvert_exporter": "python",
   "pygments_lexer": "ipython3",
   "version": "3.7.6"
  }
 },
 "nbformat": 4,
 "nbformat_minor": 2
}
