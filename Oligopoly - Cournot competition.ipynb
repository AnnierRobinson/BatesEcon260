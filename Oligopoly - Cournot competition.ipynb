{
 "cells": [
  {
   "cell_type": "markdown",
   "metadata": {},
   "source": [
    "Import necessary packages."
   ]
  },
  {
   "cell_type": "code",
   "execution_count": 1,
   "metadata": {},
   "outputs": [],
   "source": [
    "# import all functions from python labrary: sympy\n",
    "from sympy import *\n",
    "# import python library: matplotlib (for nice plots)\n",
    "import matplotlib\n",
    "# set sympy output to print pretty math expressions\n",
    "init_printing()"
   ]
  },
  {
   "cell_type": "markdown",
   "metadata": {},
   "source": [
    "Declare variables we are going to use as 'symbols'. We will add more along the way, if necessary."
   ]
  },
  {
   "cell_type": "code",
   "execution_count": 2,
   "metadata": {},
   "outputs": [],
   "source": [
    "### NOTE: it is important here to further declare these variables to be nonzero and positive (otherwise sympy cannot find solution for the FOCs)\n",
    "q1, q2, c1, c2, a, b, pi1, pi2, q1hat, q2hat = symbols('q1 q2 c1 c2 a b \\pi_1 \\pi_2 \\hat{q}_1 \\hat{q}_2', nonzero=True, positive=True)"
   ]
  },
  {
   "cell_type": "markdown",
   "metadata": {},
   "source": [
    "# 2-firm Cournot competition setup"
   ]
  },
  {
   "cell_type": "markdown",
   "metadata": {},
   "source": [
    "## Firms and demand"
   ]
  },
  {
   "cell_type": "markdown",
   "metadata": {},
   "source": [
    "Assume two firms, 1 and 2, competes according to Cournot competition. We assume each firm has constant marginal cost, $c_1$ and $c_2$.\n",
    "\n",
    "The market demand for a product is linear, such that the inverse demand function takes the form of\n",
    "\\begin{align}\n",
    "    p = a - b (q_1 + q_2)\n",
    "\\end{align}\n",
    "\n",
    "We assume $a > c_1$ and $a > c_2$, so that consumer's willingness to pay exceeds the firm's cost to produce."
   ]
  },
  {
   "cell_type": "markdown",
   "metadata": {},
   "source": [
    "## The firm's profit-maximization problem"
   ]
  },
  {
   "cell_type": "markdown",
   "metadata": {},
   "source": [
    "Under these modeling assumptions, each firm's profit is\n",
    "\\begin{align}\n",
    "    \\pi_1 &= p\\cdot q_1 - c_1 \\cdot q_1 \\\\\n",
    "            &= (p-c_1)q_1 \\\\\n",
    "    \\pi_2 &= p\\cdot q_2 - c_2 \\cdot q_2 \\\\\n",
    "            &= (p-c_2)q_2 \\\\\n",
    "\\end{align}\n",
    "or, for $i=1,2$,\n",
    "\\begin{align}\n",
    "    \\pi_i &= p\\cdot q_i - c_i \\cdot q_i \\\\\n",
    "            &= (p-c_i)q_i \\\\\n",
    "\\end{align}"
   ]
  },
  {
   "cell_type": "markdown",
   "metadata": {},
   "source": [
    "Plugging in the inverse demand function, each firm's profit is\n",
    "\\begin{align}\n",
    "    \\pi_1 & = \\big(a - b(q_1 + q_2) - c_1\\big) q_1 \\\\\n",
    "    \\pi_2 & = \\big(a - b(q_1 + q_2) - c_2\\big) q_2\n",
    "\\end{align}\n",
    "or, for $i=1,2$,\n",
    "\\begin{align}\n",
    "    \\pi_i & = \\big(a - b(q_i + q_j) - c_i\\big) q_i\n",
    "\\end{align}"
   ]
  },
  {
   "cell_type": "markdown",
   "metadata": {},
   "source": [
    "# Analysis"
   ]
  },
  {
   "cell_type": "markdown",
   "metadata": {},
   "source": [
    "## Solve for the Nash equilibrium of the game"
   ]
  },
  {
   "cell_type": "markdown",
   "metadata": {},
   "source": [
    "### Solve the firm's best responses given beliefs about opponent's output level"
   ]
  },
  {
   "cell_type": "markdown",
   "metadata": {},
   "source": [
    "Assume that firm 1 (2) believes firm 2 (1) would produce an output level of $\\hat{q}_2$ ($\\hat{q}_1$), then each firm would choose their own output levels to maximize:\n",
    "\\begin{align}\n",
    "    \\max_{q_1}\\pi_1 & = \\big(a - b(q_1 + \\hat{q}_2) - c_1\\big) q_1 \\\\\n",
    "    \\max_{q_2}\\pi_2 & = \\big(a - b(\\hat{q}_1 + q_2) - c_2\\big) q_2\n",
    "\\end{align}\n",
    "or, for $i=1,2$,\n",
    "\\begin{align}\n",
    "    \\max_{q_i}\\pi_i & = \\big(a - b(q_i + \\hat{q}_j) - c_i\\big) q_i\n",
    "\\end{align}"
   ]
  },
  {
   "cell_type": "markdown",
   "metadata": {},
   "source": [
    "Firm $i$'s FOC is\n",
    "\\begin{align}\n",
    "    \\frac{\\partial pi_i}{\\partial q_i} &= \\big(a - b(q_i + \\hat{q}_j) - c_i\\big) -b q_i \\\\\n",
    "    &= a - b\\hat{q}_j - c_i - 2bq_i = 0 \\\\\n",
    "    \\Rightarrow \\qquad q_i^* &= \\frac{a - c_i - b\\hat{q}_j}{2b}\n",
    "\\end{align}"
   ]
  },
  {
   "cell_type": "code",
   "execution_count": 3,
   "metadata": {},
   "outputs": [
    {
     "data": {
      "image/png": "[encoded data removed]",
      "text/latex": [
       "$\\displaystyle q_{1} \\left(a - b \\left(q_{1} + q_{2}\\right) - c_{1}\\right)$"
      ],
      "text/plain": [
       "q₁⋅(a - b⋅(q₁ + q₂) - c₁)"
      ]
     },
     "execution_count": 3,
     "metadata": {},
     "output_type": "execute_result"
    }
   ],
   "source": [
    "# define inverse demand function\n",
    "p = a - b*(q1 + q2)\n",
    "# define profit functions for each firm\n",
    "pi1 = (p-c1)*q1\n",
    "pi2 = (p-c2)*q2\n",
    "# check profit function\n",
    "pi1"
   ]
  },
  {
   "cell_type": "code",
   "execution_count": 4,
   "metadata": {},
   "outputs": [
    {
     "data": {
      "image/png": "[encoded data removed]",
      "text/latex": [
       "$\\displaystyle q_{2} \\left(a - b \\left(\\hat{q}_1 + q_{2}\\right) - c_{2}\\right)$"
      ],
      "text/plain": [
       "q₂⋅(a - b⋅(\\hat{q}₁ + q₂) - c₂)"
      ]
     },
     "execution_count": 4,
     "metadata": {},
     "output_type": "execute_result"
    }
   ],
   "source": [
    "# each firm's profit under the beliefs are\n",
    "pi1.subs([(q2, q2hat)])\n",
    "pi2.subs([(q1, q1hat)])"
   ]
  },
  {
   "cell_type": "code",
   "execution_count": 5,
   "metadata": {},
   "outputs": [
    {
     "data": {
      "image/png": "[encoded data removed]",
      "text/latex": [
       "$\\displaystyle \\left[ \\frac{- \\hat{q}_2 b + a - c_{1}}{2 b}\\right]$"
      ],
      "text/plain": [
       "⎡-\\hat{q}₂⋅b + a - c₁⎤\n",
       "⎢────────────────────⎥\n",
       "⎣        2⋅b         ⎦"
      ]
     },
     "metadata": {},
     "output_type": "display_data"
    },
    {
     "data": {
      "image/png": "[encoded data removed]",
      "text/latex": [
       "$\\displaystyle \\left[ \\frac{- \\hat{q}_1 b + a - c_{2}}{2 b}\\right]$"
      ],
      "text/plain": [
       "⎡-\\hat{q}₁⋅b + a - c₂⎤\n",
       "⎢────────────────────⎥\n",
       "⎣        2⋅b         ⎦"
      ]
     },
     "metadata": {},
     "output_type": "display_data"
    }
   ],
   "source": [
    "# solve for each firm's best response function\n",
    "q1br_sol = solve(pi1.subs([(q2, q2hat)]).diff(q1), q1)\n",
    "display(q1br_sol)\n",
    "q2br_sol = solve(pi2.subs([(q1, q1hat)]).diff(q2), q2)\n",
    "display(q2br_sol)"
   ]
  },
  {
   "cell_type": "code",
   "execution_count": 25,
   "metadata": {
    "scrolled": false
   },
   "outputs": [
    {
     "data": {
      "image/png": "[encoded data removed]",
      "text/latex": [
       "$\\displaystyle \\left( \\frac{- \\hat{q}_2 b + a - c_{1}}{2 b}, \\  \\frac{- \\hat{q}_1 b + a - c_{2}}{2 b}\\right)$"
      ],
      "text/plain": [
       "⎛-\\hat{q}₂⋅b + a - c₁  -\\hat{q}₁⋅b + a - c₂⎞\n",
       "⎜────────────────────, ────────────────────⎟\n",
       "⎝        2⋅b                   2⋅b         ⎠"
      ]
     },
     "execution_count": 25,
     "metadata": {},
     "output_type": "execute_result"
    }
   ],
   "source": [
    "# retrieve the first element of these solutions\n",
    "q1br = q1br_sol[0]\n",
    "q2br = q2br_sol[0]\n",
    "q1br, q2br"
   ]
  },
  {
   "cell_type": "markdown",
   "metadata": {},
   "source": [
    "### Plot the best responses"
   ]
  },
  {
   "cell_type": "code",
   "execution_count": 26,
   "metadata": {},
   "outputs": [],
   "source": [
    "# assume some values on exogenous variables for plots\n",
    "a_value = 10\n",
    "b_value = 1\n",
    "c1_value = 2\n",
    "c2_value = 4"
   ]
  },
  {
   "cell_type": "code",
   "execution_count": 28,
   "metadata": {
    "scrolled": false
   },
   "outputs": [
    {
     "data": {
      "image/png": "[encoded data removed]",
      "text/plain": [
       "<Figure size 432x288 with 1 Axes>"
      ]
     },
     "metadata": {
      "needs_background": "light"
     },
     "output_type": "display_data"
    }
   ],
   "source": [
    "# plot the best response for firm 1\n",
    "q1plot_fun = q1br.subs([(a,a_value),(b,b_value),(c1,c1_value),(c2,c2_value)])\n",
    "q1plot = plot(q1plot_fun, (q2hat,0,10), ylim=[0,10], xlabel=\"$\\hat{q}_2$\", ylabel=\"$q_1$\")"
   ]
  },
  {
   "cell_type": "code",
   "execution_count": 29,
   "metadata": {
    "scrolled": true
   },
   "outputs": [
    {
     "data": {
      "image/png": "[encoded data removed]",
      "text/latex": [
       "$\\displaystyle 6 - 2 q_{2}$"
      ],
      "text/plain": [
       "6 - 2⋅q₂"
      ]
     },
     "metadata": {},
     "output_type": "display_data"
    },
    {
     "data": {
      "image/png": "[encoded data removed]",
      "text/plain": [
       "<Figure size 432x288 with 1 Axes>"
      ]
     },
     "metadata": {
      "needs_background": "light"
     },
     "output_type": "display_data"
    }
   ],
   "source": [
    "## plot the best response for firm 2 (inversed graph)\n",
    "# inverse the function\n",
    "q2plot_fun_inv = solve(q2br.subs([(a,a_value),(b,b_value),(c1,c1_value),(c2,c2_value)]) - q2, q1hat)[0]\n",
    "display(q2plot_fun_inv)\n",
    "# plot\n",
    "q2plot = plot(q2plot_fun_inv, (q2,0,10), ylim=[0,10], xlabel=\"$q_2$\", ylabel=\"$\\hat{q}_1$\")"
   ]
  },
  {
   "cell_type": "code",
   "execution_count": 30,
   "metadata": {
    "scrolled": true
   },
   "outputs": [
    {
     "data": {
      "image/png": "[encoded data removed]",
      "text/plain": [
       "<Figure size 432x288 with 1 Axes>"
      ]
     },
     "metadata": {
      "needs_background": "light"
     },
     "output_type": "display_data"
    }
   ],
   "source": [
    "# overlay two graphs by imposing the NE condition that $q1hat = q1$ and $q2hat = q2$\n",
    "\n",
    "# combine curves into one plot\n",
    "Eqplot_combo = q1plot\n",
    "Eqplot_combo.extend(q2plot)\n",
    "\n",
    "# assign colors for each line\n",
    "Eqplot_combo[0].line_color='salmon'\n",
    "Eqplot_combo[1].line_color='orchid'\n",
    "\n",
    "# show plot\n",
    "Eqplot_combo.show()"
   ]
  },
  {
   "cell_type": "markdown",
   "metadata": {},
   "source": [
    "### Solve for the Nash equilibrium output levels"
   ]
  },
  {
   "cell_type": "code",
   "execution_count": 31,
   "metadata": {},
   "outputs": [
    {
     "data": {
      "image/png": "[encoded data removed]",
      "text/latex": [
       "$\\displaystyle \\left\\{ q_{1} : \\frac{a - 2 c_{1} + c_{2}}{3 b}, \\  q_{2} : \\frac{a + c_{1} - 2 c_{2}}{3 b}\\right\\}$"
      ],
      "text/plain": [
       "⎧    a - 2⋅c₁ + c₂      a + c₁ - 2⋅c₂⎫\n",
       "⎨q₁: ─────────────, q₂: ─────────────⎬\n",
       "⎩         3⋅b                3⋅b     ⎭"
      ]
     },
     "execution_count": 31,
     "metadata": {},
     "output_type": "execute_result"
    }
   ],
   "source": [
    "# solve for NE, imposing that $q1hat = q1$ and $q2hat = q2$\n",
    "NE_sol = solve([q1br.subs([(q2hat, q2)]) - q1, q2br.subs([(q1hat, q1)]) - q2], q1,q2)\n",
    "NE_sol"
   ]
  },
  {
   "cell_type": "code",
   "execution_count": 32,
   "metadata": {},
   "outputs": [],
   "source": [
    "# retrieve equilibrium output levels of each firm\n",
    "q1star = NE_sol[q1]\n",
    "q2star = NE_sol[q2]"
   ]
  },
  {
   "cell_type": "code",
   "execution_count": 33,
   "metadata": {
    "scrolled": true
   },
   "outputs": [
    {
     "data": {
      "image/png": "[encoded data removed]",
      "text/latex": [
       "$\\displaystyle \\frac{10}{3}$"
      ],
      "text/plain": [
       "10/3"
      ]
     },
     "execution_count": 33,
     "metadata": {},
     "output_type": "execute_result"
    }
   ],
   "source": [
    "# check solved equilibrium against previous graphs\n",
    "q1star.subs([(a,a_value),(b,b_value),(c1,c1_value),(c2,c2_value)])"
   ]
  },
  {
   "cell_type": "code",
   "execution_count": 14,
   "metadata": {},
   "outputs": [
    {
     "data": {
      "image/png": "[encoded data removed]",
      "text/latex": [
       "$\\displaystyle \\frac{- c_{1} + c_{2}}{b}$"
      ],
      "text/plain": [
       "-c₁ + c₂\n",
       "────────\n",
       "   b    "
      ]
     },
     "execution_count": 14,
     "metadata": {},
     "output_type": "execute_result"
    }
   ],
   "source": [
    "# compare output levesl of firm 1 vs. firm 2\n",
    "simplify(q1star - q2star)"
   ]
  },
  {
   "cell_type": "markdown",
   "metadata": {},
   "source": [
    "### Solve for equilibrium price"
   ]
  },
  {
   "cell_type": "code",
   "execution_count": 15,
   "metadata": {},
   "outputs": [
    {
     "data": {
      "image/png": "[encoded data removed]",
      "text/latex": [
       "$\\displaystyle a - b \\left(\\frac{a - 2 c_{1} + c_{2}}{3 b} + \\frac{a + c_{1} - 2 c_{2}}{3 b}\\right)$"
      ],
      "text/plain": [
       "      ⎛a - 2⋅c₁ + c₂   a + c₁ - 2⋅c₂⎞\n",
       "a - b⋅⎜───────────── + ─────────────⎟\n",
       "      ⎝     3⋅b             3⋅b     ⎠"
      ]
     },
     "execution_count": 15,
     "metadata": {},
     "output_type": "execute_result"
    }
   ],
   "source": [
    "p.subs([(q1,q1star),(q2,q2star)])"
   ]
  },
  {
   "cell_type": "code",
   "execution_count": 16,
   "metadata": {},
   "outputs": [
    {
     "data": {
      "image/png": "[encoded data removed]",
      "text/latex": [
       "$\\displaystyle \\frac{a}{3} + \\frac{c_{1}}{3} + \\frac{c_{2}}{3}$"
      ],
      "text/plain": [
       "a   c₁   c₂\n",
       "─ + ── + ──\n",
       "3   3    3 "
      ]
     },
     "execution_count": 16,
     "metadata": {},
     "output_type": "execute_result"
    }
   ],
   "source": [
    "pstar = p.subs([(q1,q1star),(q2,q2star)]).simplify()\n",
    "pstar"
   ]
  },
  {
   "cell_type": "markdown",
   "metadata": {},
   "source": [
    "## Comparative statics"
   ]
  },
  {
   "cell_type": "markdown",
   "metadata": {},
   "source": [
    "### on output levels"
   ]
  },
  {
   "cell_type": "code",
   "execution_count": 17,
   "metadata": {},
   "outputs": [
    {
     "data": {
      "image/png": "[encoded data removed]",
      "text/latex": [
       "$\\displaystyle - \\frac{2}{3 b}$"
      ],
      "text/plain": [
       "-2 \n",
       "───\n",
       "3⋅b"
      ]
     },
     "execution_count": 17,
     "metadata": {},
     "output_type": "execute_result"
    }
   ],
   "source": [
    "# When firm's own cost increases: its output level decreases in equilibrium\n",
    "q1star.diff(c1)"
   ]
  },
  {
   "cell_type": "code",
   "execution_count": 18,
   "metadata": {},
   "outputs": [
    {
     "data": {
      "image/png": "[encoded data removed]",
      "text/latex": [
       "$\\displaystyle \\frac{1}{3 b}$"
      ],
      "text/plain": [
       " 1 \n",
       "───\n",
       "3⋅b"
      ]
     },
     "execution_count": 18,
     "metadata": {},
     "output_type": "execute_result"
    }
   ],
   "source": [
    "# When a firm's competitor's cost increases: its output level increases in equilibrium\n",
    "q1star.diff(c2)"
   ]
  },
  {
   "cell_type": "code",
   "execution_count": 19,
   "metadata": {},
   "outputs": [
    {
     "data": {
      "image/png": "[encoded data removed]",
      "text/latex": [
       "$\\displaystyle \\frac{1}{3 b}$"
      ],
      "text/plain": [
       " 1 \n",
       "───\n",
       "3⋅b"
      ]
     },
     "execution_count": 19,
     "metadata": {},
     "output_type": "execute_result"
    }
   ],
   "source": [
    "# When consumer's willingness to pay increases: firm i's equilibrium output level increases\n",
    "q1star.diff(a)"
   ]
  },
  {
   "cell_type": "code",
   "execution_count": 20,
   "metadata": {
    "scrolled": true
   },
   "outputs": [
    {
     "data": {
      "image/png": "[encoded data removed]",
      "text/latex": [
       "$\\displaystyle - \\frac{a - 2 c_{1} + c_{2}}{3 b^{2}}$"
      ],
      "text/plain": [
       "-(a - 2⋅c₁ + c₂) \n",
       "─────────────────\n",
       "          2      \n",
       "       3⋅b       "
      ]
     },
     "execution_count": 20,
     "metadata": {},
     "output_type": "execute_result"
    }
   ],
   "source": [
    "# When demand curve is steeper (demand less elastic): firm i's equilibrium output level ambiguous\n",
    "#     Note: a low-cost firm would decrease output; a high-cost firm may increase output (can you figure out why?)\n",
    "q1star.diff(b)"
   ]
  },
  {
   "cell_type": "markdown",
   "metadata": {},
   "source": [
    "### on equilibrium price in the market"
   ]
  },
  {
   "cell_type": "code",
   "execution_count": 21,
   "metadata": {},
   "outputs": [
    {
     "data": {
      "image/png": "[encoded data removed]",
      "text/latex": [
       "$\\displaystyle \\frac{1}{3}$"
      ],
      "text/plain": [
       "1/3"
      ]
     },
     "execution_count": 21,
     "metadata": {},
     "output_type": "execute_result"
    }
   ],
   "source": [
    "# When firm's own cost increases: market price increases in equilibrium\n",
    "pstar.diff(c1)"
   ]
  },
  {
   "cell_type": "code",
   "execution_count": 22,
   "metadata": {},
   "outputs": [
    {
     "data": {
      "image/png": "[encoded data removed]",
      "text/latex": [
       "$\\displaystyle \\frac{1}{3}$"
      ],
      "text/plain": [
       "1/3"
      ]
     },
     "execution_count": 22,
     "metadata": {},
     "output_type": "execute_result"
    }
   ],
   "source": [
    "# When firm's competitor's cost increases: market price increases in equilibrium\n",
    "pstar.diff(c2)"
   ]
  },
  {
   "cell_type": "code",
   "execution_count": 23,
   "metadata": {},
   "outputs": [
    {
     "data": {
      "image/png": "[encoded data removed]",
      "text/latex": [
       "$\\displaystyle \\frac{1}{3}$"
      ],
      "text/plain": [
       "1/3"
      ]
     },
     "execution_count": 23,
     "metadata": {},
     "output_type": "execute_result"
    }
   ],
   "source": [
    "# When consumer's willingness to pay increases: market price increases in equilibrium\n",
    "pstar.diff(a)"
   ]
  },
  {
   "cell_type": "code",
   "execution_count": 24,
   "metadata": {
    "scrolled": true
   },
   "outputs": [
    {
     "data": {
      "image/png": "[encoded data removed]",
      "text/latex": [
       "$\\displaystyle 0$"
      ],
      "text/plain": [
       "0"
      ]
     },
     "execution_count": 24,
     "metadata": {},
     "output_type": "execute_result"
    }
   ],
   "source": [
    "# When demand curve is steeper (demand less elastic): market price does not change in equilibrium\n",
    "#    Note: this is an artifact of the linear demand function; not generally true\n",
    "pstar.diff(b)"
   ]
  },
  {
   "cell_type": "code",
   "execution_count": null,
   "metadata": {},
   "outputs": [],
   "source": []
  }
 ],
 "metadata": {
  "kernelspec": {
   "display_name": "Python 3",
   "language": "python",
   "name": "python3"
  },
  "language_info": {
   "codemirror_mode": {
    "name": "ipython",
    "version": 3
   },
   "file_extension": ".py",
   "mimetype": "text/x-python",
   "name": "python",
   "nbconvert_exporter": "python",
   "pygments_lexer": "ipython3",
   "version": "3.7.4"
  }
 },
 "nbformat": 4,
 "nbformat_minor": 2
}
