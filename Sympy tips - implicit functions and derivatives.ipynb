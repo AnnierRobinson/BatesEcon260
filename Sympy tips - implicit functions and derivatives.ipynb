{
 "cells": [
  {
   "cell_type": "code",
   "execution_count": 2,
   "metadata": {},
   "outputs": [],
   "source": [
    "from sympy import *\n",
    "import matplotlib"
   ]
  },
  {
   "cell_type": "markdown",
   "metadata": {},
   "source": [
    "# Implicit functions and applications in economics"
   ]
  },
  {
   "cell_type": "markdown",
   "metadata": {},
   "source": [
    "Sometimes, we don't want to impose a particular functional form in our models. In many cases, it is sufficient to acknowledge that one object is a function of other factors, such as $u(q_1,q_2)$, rather than committing to a functional form such as $q_1^{\\alpha}q_2^{1-\\alpha}$. Sometimes, we call the general function an *implicit function*. \n",
    "\n",
    "In the case of implicit functions without a particular form, we can still use calculus to help analyze the properties of the model. This notebook explains how sympy can still be useful when working with implicit functions.\n",
    "\n",
    "As an example, we show here how to calculate MRS for a general quasi-linear utility function without specifying the non-linear component."
   ]
  },
  {
   "cell_type": "markdown",
   "metadata": {},
   "source": [
    "### quasi-linear utility"
   ]
  },
  {
   "cell_type": "code",
   "execution_count": 3,
   "metadata": {},
   "outputs": [],
   "source": [
    "q1,q2 = symbols('q1, q2')"
   ]
  },
  {
   "cell_type": "code",
   "execution_count": 10,
   "metadata": {},
   "outputs": [
    {
     "data": {
      "text/latex": [
       "$\\displaystyle q_{2} + u{\\left(q_{1} \\right)}$"
      ],
      "text/plain": [
       "q2 + u(q1)"
      ]
     },
     "execution_count": 10,
     "metadata": {},
     "output_type": "execute_result"
    }
   ],
   "source": [
    "# declare u as a function of q1 (implicit function), without specifying a particular form of the function u(q_1)\n",
    "u = Function('u')(q1)\n",
    "\n",
    "# define utility function as u(q1) + q2\n",
    "U = u+q2\n",
    "\n",
    "U"
   ]
  },
  {
   "cell_type": "code",
   "execution_count": 11,
   "metadata": {},
   "outputs": [
    {
     "data": {
      "text/latex": [
       "$\\displaystyle \\frac{d}{d q_{1}} u{\\left(q_{1} \\right)}$"
      ],
      "text/plain": [
       "Derivative(u(q1), q1)"
      ]
     },
     "execution_count": 11,
     "metadata": {},
     "output_type": "execute_result"
    }
   ],
   "source": [
    "# calculate marginal utility of q1 with implicit function\n",
    "U1 = U.diff(q1)\n",
    "U1"
   ]
  },
  {
   "cell_type": "code",
   "execution_count": 12,
   "metadata": {},
   "outputs": [
    {
     "data": {
      "text/latex": [
       "$\\displaystyle 1$"
      ],
      "text/plain": [
       "1"
      ]
     },
     "execution_count": 12,
     "metadata": {},
     "output_type": "execute_result"
    }
   ],
   "source": [
    "# calculate marginal utility of q2\n",
    "U2 = U.diff(q2)\n",
    "U2"
   ]
  },
  {
   "cell_type": "code",
   "execution_count": 13,
   "metadata": {},
   "outputs": [
    {
     "data": {
      "text/latex": [
       "$\\displaystyle - \\frac{d}{d q_{1}} u{\\left(q_{1} \\right)}$"
      ],
      "text/plain": [
       "-Derivative(u(q1), q1)"
      ]
     },
     "execution_count": 13,
     "metadata": {},
     "output_type": "execute_result"
    }
   ],
   "source": [
    "# calculate MRS\n",
    "MRS = -U1/U2\n",
    "MRS"
   ]
  },
  {
   "cell_type": "code",
   "execution_count": null,
   "metadata": {},
   "outputs": [],
   "source": []
  }
 ],
 "metadata": {
  "kernelspec": {
   "display_name": "Python 3",
   "language": "python",
   "name": "python3"
  },
  "language_info": {
   "codemirror_mode": {
    "name": "ipython",
    "version": 3
   },
   "file_extension": ".py",
   "mimetype": "text/x-python",
   "name": "python",
   "nbconvert_exporter": "python",
   "pygments_lexer": "ipython3",
   "version": "3.7.4"
  }
 },
 "nbformat": 4,
 "nbformat_minor": 2
}
