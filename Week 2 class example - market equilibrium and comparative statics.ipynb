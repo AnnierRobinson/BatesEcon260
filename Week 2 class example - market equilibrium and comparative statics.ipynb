{
 "cells": [
  {
   "cell_type": "markdown",
   "metadata": {},
   "source": [
    "Notebook created by: Leshui He; Department of Economics, Bates College"
   ]
  },
  {
   "cell_type": "markdown",
   "metadata": {},
   "source": [
    "Import necessary packages."
   ]
  },
  {
   "cell_type": "code",
   "execution_count": 2,
   "metadata": {},
   "outputs": [],
   "source": [
    "# import all functions from python labrary: sympy\n",
    "from sympy import *\n",
    "# import python library: matplotlib (for nice plots)\n",
    "import matplotlib\n",
    "# set sympy output to print pretty math expressions\n",
    "init_printing()"
   ]
  },
  {
   "cell_type": "markdown",
   "metadata": {},
   "source": [
    "Declare variables we are going to use as 'symbols'. We will add more along the way."
   ]
  },
  {
   "cell_type": "code",
   "execution_count": 3,
   "metadata": {},
   "outputs": [],
   "source": [
    "p, t, y, r= symbols('p t y r')"
   ]
  },
  {
   "cell_type": "markdown",
   "metadata": {},
   "source": [
    "# Define demand and supply functions"
   ]
  },
  {
   "cell_type": "markdown",
   "metadata": {},
   "source": [
    "Define demand and supply functions:"
   ]
  },
  {
   "cell_type": "code",
   "execution_count": 4,
   "metadata": {},
   "outputs": [
    {
     "data": {
      "image/png": "[encoded data removed]",
      "text/latex": [
       "$\\displaystyle - 20 p - 5 t + 10 y + 200$"
      ],
      "text/plain": [
       "-20⋅p - 5⋅t + 10⋅y + 200"
      ]
     },
     "execution_count": 4,
     "metadata": {},
     "output_type": "execute_result"
    }
   ],
   "source": [
    "# define linear demand function as in class notes\n",
    "Qd = 200 - 20*p + 10*y - 5*t\n",
    "# show the defined function\n",
    "Qd"
   ]
  },
  {
   "cell_type": "code",
   "execution_count": 5,
   "metadata": {
    "scrolled": true
   },
   "outputs": [
    {
     "data": {
      "image/png": "[encoded data removed]",
      "text/latex": [
       "$\\displaystyle 40 p - 10 r + 10$"
      ],
      "text/plain": [
       "40⋅p - 10⋅r + 10"
      ]
     },
     "execution_count": 5,
     "metadata": {},
     "output_type": "execute_result"
    }
   ],
   "source": [
    "# define linear supply function as in class notes\n",
    "Qs = 10 + 40*p - 10*r\n",
    "# show the defined function\n",
    "Qs"
   ]
  },
  {
   "cell_type": "markdown",
   "metadata": {},
   "source": [
    "# Solve for the equilibrium"
   ]
  },
  {
   "cell_type": "markdown",
   "metadata": {},
   "source": [
    "Solve for equilibrium by hand. Solve for market equilibrium by imposing $Q_d(p*) = Q_s(p*)$\n",
    "\n",
    "\\begin{align}\n",
    "    200 - 20p^* + 10y - 5t &= 10 + 40p^* - 10r \\\\\n",
    "    40p^* + 20p^* &= 200 + 10y - 5t - 10 + 10r \\\\\n",
    "    p^* &= \\frac{1}{60}(200 + 10y - 5t - 10 + 10r)\n",
    "\\end{align}"
   ]
  },
  {
   "cell_type": "markdown",
   "metadata": {},
   "source": [
    "Solve for the equilibrim price"
   ]
  },
  {
   "cell_type": "code",
   "execution_count": 6,
   "metadata": {},
   "outputs": [
    {
     "data": {
      "image/png": "[encoded data removed]",
      "text/latex": [
       "$\\displaystyle \\frac{r}{6} - \\frac{t}{12} + \\frac{y}{6} + \\frac{19}{6}$"
      ],
      "text/plain": [
       "r   t    y   19\n",
       "─ - ── + ─ + ──\n",
       "6   12   6   6 "
      ]
     },
     "execution_count": 6,
     "metadata": {},
     "output_type": "execute_result"
    }
   ],
   "source": [
    "Eq_p = solve(Qd - Qs, p)[0]\n",
    "Eq_p"
   ]
  },
  {
   "cell_type": "markdown",
   "metadata": {},
   "source": [
    "Solve for the equilibrium quantity using supply function"
   ]
  },
  {
   "cell_type": "code",
   "execution_count": 7,
   "metadata": {},
   "outputs": [
    {
     "data": {
      "image/png": "[encoded data removed]",
      "text/latex": [
       "$\\displaystyle - \\frac{10 r}{3} - \\frac{10 t}{3} + \\frac{20 y}{3} + \\frac{410}{3}$"
      ],
      "text/plain": [
       "  10⋅r   10⋅t   20⋅y   410\n",
       "- ──── - ──── + ──── + ───\n",
       "   3      3      3      3 "
      ]
     },
     "execution_count": 7,
     "metadata": {},
     "output_type": "execute_result"
    }
   ],
   "source": [
    "Eq_q = Qs.subs([(p, Eq_p)])\n",
    "Eq_q"
   ]
  },
  {
   "cell_type": "markdown",
   "metadata": {},
   "source": [
    "Solve for the equilibrium quantity using demand function"
   ]
  },
  {
   "cell_type": "code",
   "execution_count": 8,
   "metadata": {},
   "outputs": [
    {
     "data": {
      "image/png": "[encoded data removed]",
      "text/latex": [
       "$\\displaystyle - \\frac{10 r}{3} - \\frac{10 t}{3} + \\frac{20 y}{3} + \\frac{410}{3}$"
      ],
      "text/plain": [
       "  10⋅r   10⋅t   20⋅y   410\n",
       "- ──── - ──── + ──── + ───\n",
       "   3      3      3      3 "
      ]
     },
     "execution_count": 8,
     "metadata": {},
     "output_type": "execute_result"
    }
   ],
   "source": [
    "Eq_q = Qd.subs([(p, Eq_p)])\n",
    "Eq_q"
   ]
  },
  {
   "cell_type": "markdown",
   "metadata": {},
   "source": [
    "# Comparative Statics (direct derivatives, i.e., using chain rule)"
   ]
  },
  {
   "cell_type": "markdown",
   "metadata": {},
   "source": [
    "How $t$ affects the equilibrium price and quantity?"
   ]
  },
  {
   "cell_type": "markdown",
   "metadata": {},
   "source": [
    "To calculate comparative statics of $t$ on $p^*$ and $Q^*$:\n",
    "\\begin{align}\n",
    "    \\frac{\\partial p^*}{\\partial t} &= \\frac{\\partial}{\\partial t} \\left( \\frac{1}{60}(200 + 10y - 5t - 10 + 10r) \\right) \\\\\n",
    "    &= \\frac{\\partial}{\\partial t} \\left( \\frac{-5t}{60} \\right) \\\\\n",
    "    &= \\frac{-1}{12}\n",
    "\\end{align}\n",
    "\n",
    "\\begin{align}\n",
    "    \\frac{\\partial Q^*}{\\partial t} &= \\frac{\\partial}{\\partial t} \\left( \\frac{1}{3}(410 + 20y - 10t - 10r) \\right) \\\\\n",
    "    &= \\frac{\\partial}{\\partial t} \\left( \\frac{-10t}{3} \\right) \\\\\n",
    "    &= \\frac{-10}{3}\n",
    "\\end{align}"
   ]
  },
  {
   "cell_type": "markdown",
   "metadata": {},
   "source": [
    "Calculate comparative statics of $t$ on $Q^*$ using chain rule:\n",
    "\n",
    "\\begin{align}\n",
    "    \\frac{\\partial Q^*}{\\partial t} &= \\frac{d Q_s(p^*, r)}{d t} \\\\\n",
    "    &= \\frac{d Q_s\\big(p^*(t,y,r), r \\big)}{d t} \\\\\n",
    "    &= \\frac{\\partial Q_s\\big(p^*(t,y,r), r \\big)}{\\partial p^*} \\frac{\\partial p^*}{\\partial t} \\\\\n",
    "    &= 40 \\left(-\\frac{1}{12}\\right) \\\\\n",
    "    &= -\\frac{10}{3}\n",
    "\\end{align}\n",
    "\n",
    "\\begin{align}\n",
    "    \\frac{\\partial Q^*}{\\partial t} &= \\frac{d Q_d(p^*, y, t)}{d t} \\\\\n",
    "    &= \\frac{\\partial Q_d\\big(p^*(t,y,r), y,t \\big)}{\\partial p^*}  \\frac{\\partial p^*}{\\partial t}  + \\frac{\\partial Q_d\\big(p^*(t,y,r), y,t \\big)}{\\partial t} \\\\\n",
    "    &= -20*\\left(-\\frac{1}{12}\\right) -5 \\\\\n",
    "    &= \\frac{5}{3} - 5 \\\\\n",
    "    &= -\\frac{10}{3}\n",
    "\\end{align}"
   ]
  }
 ],
 "metadata": {
  "kernelspec": {
   "display_name": "Python 3 (ipykernel)",
   "language": "python",
   "name": "python3"
  },
  "language_info": {
   "codemirror_mode": {
    "name": "ipython",
    "version": 3
   },
   "file_extension": ".py",
   "mimetype": "text/x-python",
   "name": "python",
   "nbconvert_exporter": "python",
   "pygments_lexer": "ipython3",
   "version": "3.9.7"
  }
 },
 "nbformat": 4,
 "nbformat_minor": 2
}
