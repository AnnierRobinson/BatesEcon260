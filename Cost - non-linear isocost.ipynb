{
 "cells": [
  {
   "cell_type": "code",
   "execution_count": 2,
   "metadata": {},
   "outputs": [],
   "source": [
    "# import all functions from python labrary: sympy\n",
    "from sympy import *\n",
    "# import python library: matplotlib (for nice plots)\n",
    "import matplotlib\n",
    "# set sympy output to print pretty math expressions\n",
    "init_printing()"
   ]
  },
  {
   "cell_type": "markdown",
   "metadata": {},
   "source": [
    "Declare variables we are going to use as 'symbols'. We will add more along the way, if necessary."
   ]
  },
  {
   "cell_type": "code",
   "execution_count": 5,
   "metadata": {},
   "outputs": [],
   "source": [
    "K, L, r, w, Cbar = symbols('K L r w \\overline{C}')"
   ]
  },
  {
   "cell_type": "markdown",
   "metadata": {},
   "source": [
    "# 1. Iinear Iso-cost"
   ]
  },
  {
   "cell_type": "markdown",
   "metadata": {},
   "source": [
    "## Define the iso-cost curves"
   ]
  },
  {
   "cell_type": "markdown",
   "metadata": {},
   "source": [
    "First, define an expression for cost."
   ]
  },
  {
   "cell_type": "code",
   "execution_count": 17,
   "metadata": {},
   "outputs": [
    {
     "data": {
      "image/png": "[encoded data removed]",
      "text/latex": [
       "$\\displaystyle K r + L w$"
      ],
      "text/plain": [
       "K⋅r + L⋅w"
      ]
     },
     "execution_count": 17,
     "metadata": {},
     "output_type": "execute_result"
    }
   ],
   "source": [
    "Kcost = r*K\n",
    "Lcost = w*L\n",
    "cost = Kcost + Lcost\n",
    "cost"
   ]
  },
  {
   "cell_type": "markdown",
   "metadata": {},
   "source": [
    "Next, the iso-cost curve is such that the cost is equal to the fixed level of cost $\\overline{C}$."
   ]
  },
  {
   "cell_type": "code",
   "execution_count": 12,
   "metadata": {
    "scrolled": true
   },
   "outputs": [
    {
     "data": {
      "image/png": "[encoded data removed]",
      "text/latex": [
       "$\\displaystyle \\left[ \\frac{- L w + \\overline{C}}{r}\\right]$"
      ],
      "text/plain": [
       "⎡-L⋅w + \\overline{C}⎤\n",
       "⎢───────────────────⎥\n",
       "⎣         r         ⎦"
      ]
     },
     "execution_count": 12,
     "metadata": {},
     "output_type": "execute_result"
    }
   ],
   "source": [
    "isocost_sol = solve(cost - Cbar, K)\n",
    "isocost_sol"
   ]
  },
  {
   "cell_type": "code",
   "execution_count": 13,
   "metadata": {},
   "outputs": [
    {
     "data": {
      "image/png": "[encoded data removed]",
      "text/latex": [
       "$\\displaystyle \\frac{- L w + \\overline{C}}{r}$"
      ],
      "text/plain": [
       "-L⋅w + \\overline{C}\n",
       "───────────────────\n",
       "         r         "
      ]
     },
     "execution_count": 13,
     "metadata": {},
     "output_type": "execute_result"
    }
   ],
   "source": [
    "# Retreive the first and only element in the solution, which is our expression for the budget constraint.\n",
    "isocost = isocost_sol[0]\n",
    "isocost"
   ]
  },
  {
   "cell_type": "markdown",
   "metadata": {},
   "source": [
    "The slope and intercept of the iso-cost curve is better seen after expanding the expression."
   ]
  },
  {
   "cell_type": "code",
   "execution_count": 14,
   "metadata": {
    "scrolled": true
   },
   "outputs": [
    {
     "data": {
      "image/png": "[encoded data removed]",
      "text/latex": [
       "$\\displaystyle - \\frac{L w}{r} + \\frac{\\overline{C}}{r}$"
      ],
      "text/plain": [
       "  L⋅w   \\overline{C}\n",
       "- ─── + ────────────\n",
       "   r         r      "
      ]
     },
     "execution_count": 14,
     "metadata": {},
     "output_type": "execute_result"
    }
   ],
   "source": [
    "isocost.expand()"
   ]
  },
  {
   "cell_type": "markdown",
   "metadata": {},
   "source": [
    "## Plot the iso-cost"
   ]
  },
  {
   "cell_type": "markdown",
   "metadata": {
    "slideshow": {
     "slide_type": "fragment"
    }
   },
   "source": [
    "Let's plot a iso-cost with $\\overline{C}=5, w = 1, r = 1$. \n",
    "\n",
    "Note the use of different brackets in the subs method."
   ]
  },
  {
   "cell_type": "code",
   "execution_count": 16,
   "metadata": {
    "scrolled": true
   },
   "outputs": [
    {
     "data": {
      "image/png": "[encoded data removed]",
      "text/plain": [
       "<Figure size 432x288 with 1 Axes>"
      ]
     },
     "metadata": {
      "needs_background": "light"
     },
     "output_type": "display_data"
    }
   ],
   "source": [
    "isocost_plot1 = plot(isocost.subs([(Cbar,5), (w,1), (r,1)]), xlim=[0,10], ylim=[0,10], xlabel=\"$L$\", ylabel=\"$K$\", show=False)\n",
    "isocost_plot1.show()"
   ]
  },
  {
   "cell_type": "markdown",
   "metadata": {},
   "source": [
    "# 2. NonIinear Iso-cost (with increasing input cost)"
   ]
  },
  {
   "cell_type": "markdown",
   "metadata": {},
   "source": [
    "## Define the iso-cost curves"
   ]
  },
  {
   "cell_type": "markdown",
   "metadata": {},
   "source": [
    "First, define an expression for cost."
   ]
  },
  {
   "cell_type": "code",
   "execution_count": 29,
   "metadata": {},
   "outputs": [
    {
     "data": {
      "image/png": "[encoded data removed]",
      "text/latex": [
       "$\\displaystyle K^{2} r + L^{2} w$"
      ],
      "text/plain": [
       " 2      2  \n",
       "K ⋅r + L ⋅w"
      ]
     },
     "execution_count": 29,
     "metadata": {},
     "output_type": "execute_result"
    }
   ],
   "source": [
    "Kcost = r*K**2\n",
    "Lcost = w*L**2\n",
    "cost = Kcost + Lcost\n",
    "cost"
   ]
  },
  {
   "cell_type": "markdown",
   "metadata": {},
   "source": [
    "Next, the iso-cost curve is such that the cost is equal to the fixed level of cost $\\overline{C}$."
   ]
  },
  {
   "cell_type": "code",
   "execution_count": 30,
   "metadata": {
    "scrolled": true
   },
   "outputs": [
    {
     "data": {
      "image/png": "[encoded data removed]",
      "text/latex": [
       "$\\displaystyle \\left[ \\sqrt{\\frac{- L^{2} w + \\overline{C}}{r}}, \\  - \\sqrt{- \\frac{L^{2} w - \\overline{C}}{r}}\\right]$"
      ],
      "text/plain": [
       "⎡     _______________________        _________________________⎤\n",
       "⎢    ╱    2                         ╱  ⎛ 2                 ⎞  ⎥\n",
       "⎢   ╱  - L ⋅w + \\overline{C}       ╱  -⎝L ⋅w - \\overline{C}⎠  ⎥\n",
       "⎢  ╱   ───────────────────── , -  ╱   ─────────────────────── ⎥\n",
       "⎣╲╱              r              ╲╱               r            ⎦"
      ]
     },
     "execution_count": 30,
     "metadata": {},
     "output_type": "execute_result"
    }
   ],
   "source": [
    "isocost_sol = solve(cost - Cbar, K)\n",
    "isocost_sol"
   ]
  },
  {
   "cell_type": "code",
   "execution_count": 31,
   "metadata": {},
   "outputs": [
    {
     "data": {
      "image/png": "[encoded data removed]",
      "text/latex": [
       "$\\displaystyle \\sqrt{\\frac{- L^{2} w + \\overline{C}}{r}}$"
      ],
      "text/plain": [
       "     _______________________\n",
       "    ╱    2                  \n",
       "   ╱  - L ⋅w + \\overline{C} \n",
       "  ╱   ───────────────────── \n",
       "╲╱              r           "
      ]
     },
     "execution_count": 31,
     "metadata": {},
     "output_type": "execute_result"
    }
   ],
   "source": [
    "# Retreive the positive solution\n",
    "isocost = isocost_sol[0]\n",
    "isocost"
   ]
  },
  {
   "cell_type": "markdown",
   "metadata": {},
   "source": [
    "## Plot the iso-cost"
   ]
  },
  {
   "cell_type": "markdown",
   "metadata": {
    "slideshow": {
     "slide_type": "fragment"
    }
   },
   "source": [
    "Let's plot a iso-cost with $\\overline{C}=5, w = 1, r = 1$. \n",
    "\n",
    "Note the use of different brackets in the subs method."
   ]
  },
  {
   "cell_type": "code",
   "execution_count": 34,
   "metadata": {
    "scrolled": true
   },
   "outputs": [
    {
     "data": {
      "image/png": "[encoded data removed]",
      "text/plain": [
       "<Figure size 432x288 with 1 Axes>"
      ]
     },
     "metadata": {
      "needs_background": "light"
     },
     "output_type": "display_data"
    }
   ],
   "source": [
    "isocost_plot1 = plot(isocost.subs([(Cbar,5), (w,1), (r,1)]), (L,0,5), xlim=[0,5], ylim=[0,5], xlabel=\"$L$\", ylabel=\"$K$\", show=False)\n",
    "isocost_plot1.show()"
   ]
  },
  {
   "cell_type": "code",
   "execution_count": null,
   "metadata": {},
   "outputs": [],
   "source": []
  },
  {
   "cell_type": "markdown",
   "metadata": {},
   "source": [
    "# 3. NonIinear Iso-cost (with monopsony power)"
   ]
  },
  {
   "cell_type": "markdown",
   "metadata": {},
   "source": [
    "## Define the iso-cost curves"
   ]
  },
  {
   "cell_type": "markdown",
   "metadata": {},
   "source": [
    "First, define an expression for cost."
   ]
  },
  {
   "cell_type": "code",
   "execution_count": 18,
   "metadata": {},
   "outputs": [
    {
     "data": {
      "image/png": "[encoded data removed]",
      "text/latex": [
       "$\\displaystyle r \\log{\\left(K \\right)} + w \\log{\\left(L \\right)}$"
      ],
      "text/plain": [
       "r⋅log(K) + w⋅log(L)"
      ]
     },
     "execution_count": 18,
     "metadata": {},
     "output_type": "execute_result"
    }
   ],
   "source": [
    "Kcost = r*ln(K)\n",
    "Lcost = w*ln(L)\n",
    "cost = Kcost + Lcost\n",
    "cost"
   ]
  },
  {
   "cell_type": "markdown",
   "metadata": {},
   "source": [
    "Next, the iso-cost curve is such that the cost is equal to the fixed level of cost $\\overline{C}$."
   ]
  },
  {
   "cell_type": "code",
   "execution_count": 19,
   "metadata": {
    "scrolled": true
   },
   "outputs": [
    {
     "data": {
      "image/png": "[encoded data removed]",
      "text/latex": [
       "$\\displaystyle \\left[ e^{\\frac{\\overline{C} - w \\log{\\left(L \\right)}}{r}}\\right]$"
      ],
      "text/plain": [
       "⎡ \\overline{C} - w⋅log(L)⎤\n",
       "⎢ ───────────────────────⎥\n",
       "⎢            r           ⎥\n",
       "⎣ℯ                       ⎦"
      ]
     },
     "execution_count": 19,
     "metadata": {},
     "output_type": "execute_result"
    }
   ],
   "source": [
    "isocost_sol = solve(cost - Cbar, K)\n",
    "isocost_sol"
   ]
  },
  {
   "cell_type": "code",
   "execution_count": 20,
   "metadata": {},
   "outputs": [
    {
     "data": {
      "image/png": "[encoded data removed]",
      "text/latex": [
       "$\\displaystyle e^{\\frac{\\overline{C} - w \\log{\\left(L \\right)}}{r}}$"
      ],
      "text/plain": [
       " \\overline{C} - w⋅log(L)\n",
       " ───────────────────────\n",
       "            r           \n",
       "ℯ                       "
      ]
     },
     "execution_count": 20,
     "metadata": {},
     "output_type": "execute_result"
    }
   ],
   "source": [
    "# Retreive the first and only element in the solution, which is our expression for the budget constraint.\n",
    "isocost = isocost_sol[0]\n",
    "isocost"
   ]
  },
  {
   "cell_type": "markdown",
   "metadata": {},
   "source": [
    "The slope and intercept of the iso-cost curve is better seen after expanding the expression."
   ]
  },
  {
   "cell_type": "code",
   "execution_count": 21,
   "metadata": {
    "scrolled": true
   },
   "outputs": [
    {
     "data": {
      "image/png": "[encoded data removed]",
      "text/latex": [
       "$\\displaystyle e^{\\frac{\\overline{C}}{r}} e^{- \\frac{w \\log{\\left(L \\right)}}{r}}$"
      ],
      "text/plain": [
       " \\overline{C}  -w⋅log(L) \n",
       " ────────────  ──────────\n",
       "      r            r     \n",
       "ℯ            ⋅ℯ          "
      ]
     },
     "execution_count": 21,
     "metadata": {},
     "output_type": "execute_result"
    }
   ],
   "source": [
    "isocost.expand()"
   ]
  },
  {
   "cell_type": "markdown",
   "metadata": {},
   "source": [
    "## Plot the iso-cost"
   ]
  },
  {
   "cell_type": "markdown",
   "metadata": {
    "slideshow": {
     "slide_type": "fragment"
    }
   },
   "source": [
    "Let's plot a iso-cost with $\\overline{C}=5, w = 1, r = 1$. \n",
    "\n",
    "Note the use of different brackets in the subs method."
   ]
  },
  {
   "cell_type": "code",
   "execution_count": 28,
   "metadata": {
    "scrolled": true
   },
   "outputs": [
    {
     "data": {
      "image/png": "[encoded data removed]",
      "text/plain": [
       "<Figure size 432x288 with 1 Axes>"
      ]
     },
     "metadata": {
      "needs_background": "light"
     },
     "output_type": "display_data"
    }
   ],
   "source": [
    "isocost_plot1 = plot(isocost.subs([(Cbar,5), (w,1), (r,1)]), (L,1,100), xlim=[0,100], ylim=[0,100], xlabel=\"$L$\", ylabel=\"$K$\", show=False)\n",
    "isocost_plot1.show()"
   ]
  },
  {
   "cell_type": "code",
   "execution_count": null,
   "metadata": {},
   "outputs": [],
   "source": []
  }
 ],
 "metadata": {
  "kernelspec": {
   "display_name": "Python 3.7.4 64-bit ('anaconda3': virtualenv)",
   "language": "python",
   "name": "python37464bitanaconda3virtualenv4442f6f54c04406894e1eb25c455fa91"
  },
  "language_info": {
   "codemirror_mode": {
    "name": "ipython",
    "version": 3
   },
   "file_extension": ".py",
   "mimetype": "text/x-python",
   "name": "python",
   "nbconvert_exporter": "python",
   "pygments_lexer": "ipython3",
   "version": "3.7.4"
  }
 },
 "nbformat": 4,
 "nbformat_minor": 2
}
