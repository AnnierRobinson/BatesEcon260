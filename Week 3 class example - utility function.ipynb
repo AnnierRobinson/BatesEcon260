{
 "cells": [
  {
   "cell_type": "code",
   "execution_count": 2,
   "metadata": {},
   "outputs": [],
   "source": [
    "from sympy import *\n",
    "import matplotlib"
   ]
  },
  {
   "cell_type": "code",
   "execution_count": 3,
   "metadata": {},
   "outputs": [],
   "source": [
    "q1, q2, p1, p2, y, alpha = symbols('q1 q2 p1 p2 y alpha')"
   ]
  },
  {
   "cell_type": "code",
   "execution_count": 4,
   "metadata": {
    "scrolled": true
   },
   "outputs": [
    {
     "data": {
      "text/latex": [
       "$\\displaystyle q_{1}^{\\alpha} q_{2}^{1 - \\alpha}$"
      ],
      "text/plain": [
       "q1**alpha*q2**(1 - alpha)"
      ]
     },
     "execution_count": 4,
     "metadata": {},
     "output_type": "execute_result"
    }
   ],
   "source": [
    "u = q1**(alpha) * q2**(1-alpha)\n",
    "u"
   ]
  },
  {
   "cell_type": "code",
   "execution_count": 5,
   "metadata": {},
   "outputs": [
    {
     "data": {
      "text/latex": [
       "$\\displaystyle 0.488088481701514$"
      ],
      "text/plain": [
       "0.488088481701514"
      ]
     },
     "execution_count": 5,
     "metadata": {},
     "output_type": "execute_result"
    }
   ],
   "source": [
    "u.subs([(q1,11),(q2,10),(alpha,1/2)]) - u.subs([(q1,10),(q2,10),(alpha,1/2)])"
   ]
  },
  {
   "cell_type": "code",
   "execution_count": 6,
   "metadata": {},
   "outputs": [
    {
     "data": {
      "text/latex": [
       "$\\displaystyle 0.740994986439416$"
      ],
      "text/plain": [
       "0.740994986439416"
      ]
     },
     "execution_count": 6,
     "metadata": {},
     "output_type": "execute_result"
    }
   ],
   "source": [
    "u.subs([(q1,11),(q2,10),(alpha,3/4)]) - u.subs([(q1,10),(q2,10),(alpha,3/4)])"
   ]
  },
  {
   "cell_type": "code",
   "execution_count": 7,
   "metadata": {
    "scrolled": true
   },
   "outputs": [
    {
     "data": {
      "text/latex": [
       "$\\displaystyle \\frac{\\alpha q_{1}^{\\alpha} q_{2}^{1 - \\alpha}}{q_{1}}$"
      ],
      "text/plain": [
       "alpha*q1**alpha*q2**(1 - alpha)/q1"
      ]
     },
     "execution_count": 7,
     "metadata": {},
     "output_type": "execute_result"
    }
   ],
   "source": [
    "# calculate marginal utility\n",
    "mu1 = u.diff(q1)\n",
    "mu1"
   ]
  },
  {
   "cell_type": "code",
   "execution_count": 9,
   "metadata": {},
   "outputs": [
    {
     "data": {
      "text/latex": [
       "$\\displaystyle \\alpha q_{1}^{\\alpha - 2} q_{2}^{1 - \\alpha} \\left(\\alpha - 1\\right)$"
      ],
      "text/plain": [
       "alpha*q1**(alpha - 2)*q2**(1 - alpha)*(alpha - 1)"
      ]
     },
     "execution_count": 9,
     "metadata": {},
     "output_type": "execute_result"
    }
   ],
   "source": [
    "mu1.diff(q1).simplify()"
   ]
  },
  {
   "cell_type": "markdown",
   "metadata": {},
   "source": [
    "Q: is $U_1$ increasing in $\\alpha$?"
   ]
  },
  {
   "cell_type": "code",
   "execution_count": 29,
   "metadata": {},
   "outputs": [
    {
     "data": {
      "text/latex": [
       "$\\displaystyle \\frac{\\alpha q_{1}^{\\alpha} q_{2}^{1 - \\alpha} \\log{\\left(q_{1} \\right)}}{q_{1}} - \\frac{\\alpha q_{1}^{\\alpha} q_{2}^{1 - \\alpha} \\log{\\left(q_{2} \\right)}}{q_{1}} + \\frac{q_{1}^{\\alpha} q_{2}^{1 - \\alpha}}{q_{1}}$"
      ],
      "text/plain": [
       "alpha*q1**alpha*q2**(1 - alpha)*log(q1)/q1 - alpha*q1**alpha*q2**(1 - alpha)*log(q2)/q1 + q1**alpha*q2**(1 - alpha)/q1"
      ]
     },
     "execution_count": 29,
     "metadata": {},
     "output_type": "execute_result"
    }
   ],
   "source": [
    "mu1.diff(alpha)"
   ]
  },
  {
   "cell_type": "code",
   "execution_count": 8,
   "metadata": {},
   "outputs": [
    {
     "data": {
      "text/latex": [
       "$\\displaystyle q_{1}^{\\alpha - 1} q_{2}^{1 - \\alpha} \\left(\\alpha \\log{\\left(q_{1} \\right)} - \\alpha \\log{\\left(q_{2} \\right)} + 1\\right)$"
      ],
      "text/plain": [
       "q1**(alpha - 1)*q2**(1 - alpha)*(alpha*log(q1) - alpha*log(q2) + 1)"
      ]
     },
     "execution_count": 8,
     "metadata": {},
     "output_type": "execute_result"
    }
   ],
   "source": [
    "simplify(mu1.diff(alpha))"
   ]
  },
  {
   "cell_type": "code",
   "execution_count": 30,
   "metadata": {},
   "outputs": [
    {
     "data": {
      "text/latex": [
       "$\\displaystyle q_{1}^{\\alpha - 1} q_{2}^{1 - \\alpha} \\left(\\alpha \\log{\\left(q_{1} \\right)} - \\alpha \\log{\\left(q_{2} \\right)} + 1\\right)$"
      ],
      "text/plain": [
       "q1**(alpha - 1)*q2**(1 - alpha)*(alpha*log(q1) - alpha*log(q2) + 1)"
      ]
     },
     "execution_count": 30,
     "metadata": {},
     "output_type": "execute_result"
    }
   ],
   "source": [
    "mu1.diff(alpha).simplify()"
   ]
  },
  {
   "cell_type": "markdown",
   "metadata": {},
   "source": [
    "Calculate MRS"
   ]
  },
  {
   "cell_type": "code",
   "execution_count": 15,
   "metadata": {
    "scrolled": true
   },
   "outputs": [
    {
     "data": {
      "text/latex": [
       "$\\displaystyle \\frac{\\alpha q_{2}}{q_{1} \\left(\\alpha - 1\\right)}$"
      ],
      "text/plain": [
       "alpha*q2/(q1*(alpha - 1))"
      ]
     },
     "execution_count": 15,
     "metadata": {},
     "output_type": "execute_result"
    }
   ],
   "source": [
    "MRS = (- u.diff(q1) / u.diff(q2)).simplify()\n",
    "MRS"
   ]
  },
  {
   "cell_type": "code",
   "execution_count": 16,
   "metadata": {},
   "outputs": [
    {
     "data": {
      "text/latex": [
       "$\\displaystyle - \\frac{q_{2}}{q_{1} \\left(\\alpha - 1\\right)^{2}}$"
      ],
      "text/plain": [
       "-q2/(q1*(alpha - 1)**2)"
      ]
     },
     "execution_count": 16,
     "metadata": {},
     "output_type": "execute_result"
    }
   ],
   "source": [
    "MRS.diff(alpha).simplify()"
   ]
  },
  {
   "cell_type": "code",
   "execution_count": null,
   "metadata": {},
   "outputs": [],
   "source": [
    "\n",
    "\n",
    "**Working with utility function**"
   ]
  },
  {
   "cell_type": "code",
   "execution_count": 9,
   "metadata": {},
   "outputs": [
    {
     "data": {
      "text/latex": [
       "$\\displaystyle q_{1}^{0.5} q_{2}^{0.5}$"
      ],
      "text/plain": [
       "q1**0.5*q2**0.5"
      ]
     },
     "execution_count": 9,
     "metadata": {},
     "output_type": "execute_result"
    }
   ],
   "source": [
    "u = q1**(1/2) * q2**(1/2)\n",
    "u"
   ]
  },
  {
   "cell_type": "code",
   "execution_count": 10,
   "metadata": {},
   "outputs": [
    {
     "data": {
      "text/latex": [
       "$\\displaystyle \\frac{0.5 q_{2}^{0.5}}{q_{1}^{0.5}}$"
      ],
      "text/plain": [
       "0.5*q1**(-0.5)*q2**0.5"
      ]
     },
     "execution_count": 10,
     "metadata": {},
     "output_type": "execute_result"
    }
   ],
   "source": [
    "mu1 = u.diff(q1)\n",
    "mu1"
   ]
  },
  {
   "cell_type": "code",
   "execution_count": 11,
   "metadata": {},
   "outputs": [
    {
     "data": {
      "text/latex": [
       "$\\displaystyle \\frac{0.5 q_{1}^{0.5}}{q_{2}^{0.5}}$"
      ],
      "text/plain": [
       "0.5*q1**0.5*q2**(-0.5)"
      ]
     },
     "execution_count": 11,
     "metadata": {},
     "output_type": "execute_result"
    }
   ],
   "source": [
    "mu2 = u.diff(q2)\n",
    "mu2"
   ]
  },
  {
   "cell_type": "code",
   "execution_count": 12,
   "metadata": {},
   "outputs": [
    {
     "data": {
      "text/latex": [
       "$\\displaystyle \\frac{1.0 q_{2}^{1.0}}{q_{1}^{1.0}}$"
      ],
      "text/plain": [
       "1.0*q1**(-1.0)*q2**1.0"
      ]
     },
     "execution_count": 12,
     "metadata": {},
     "output_type": "execute_result"
    }
   ],
   "source": [
    "simplify(mu1 / mu2)"
   ]
  },
  {
   "cell_type": "code",
   "execution_count": 14,
   "metadata": {},
   "outputs": [],
   "source": [
    "from sympy import symbols\n",
    "from sympy.plotting import plot3d"
   ]
  },
  {
   "cell_type": "code",
   "execution_count": 16,
   "metadata": {},
   "outputs": [
    {
     "data": {
      "image/png": "[encoded data removed]",
      "text/plain": [
       "<Figure size 432x288 with 1 Axes>"
      ]
     },
     "metadata": {
      "needs_background": "light"
     },
     "output_type": "display_data"
    },
    {
     "data": {
      "text/plain": [
       "<sympy.plotting.plot.Plot at 0x7fe100d56550>"
      ]
     },
     "execution_count": 16,
     "metadata": {},
     "output_type": "execute_result"
    }
   ],
   "source": [
    "plot3d(u, (q1,0,10), (q2,0,10))"
   ]
  },
  {
   "cell_type": "code",
   "execution_count": null,
   "metadata": {},
   "outputs": [],
   "source": []
  },
  {
   "cell_type": "markdown",
   "metadata": {},
   "source": [
    "Let's calculate some MRS\n",
    "\n",
    "\\begin{align}\n",
    "    U_1 &= \\frac{\\partial U(q_1, q_2)}{\\partial q_1} \\\\\n",
    "        &= \\frac{\\partial q_1^{0.5}q_2^{0.5}}{\\partial q_1} \\\\\n",
    "        &= q_2^{0.5} \\frac{\\partial q_1^{0.5}}{\\partial q_1}\n",
    "\\end{align}"
   ]
  },
  {
   "cell_type": "markdown",
   "metadata": {},
   "source": [
    "$$\\frac{d x^{0.5}}{d x} = 0.5 x^{0.5 - 1} = 0.5 x^{-0.5}$$"
   ]
  },
  {
   "cell_type": "markdown",
   "metadata": {},
   "source": [
    "Therefore, we have\n",
    "$$ U_1 = q_2^{0.5} \\times 0.5 q_1^{-0.5} = 0.5 q_2^{0.5} q_1^{-0.5}$$"
   ]
  },
  {
   "cell_type": "markdown",
   "metadata": {},
   "source": [
    "$$U_2 = q_1^{0.5} 0.5 q_2^{-0.5}$$"
   ]
  },
  {
   "cell_type": "markdown",
   "metadata": {},
   "source": [
    "\\begin{align}\n",
    "MRS &= -\\frac{U_1}{U_2} \\\\\n",
    "    &= -\\frac{0.5 q_1^{-0.5} q_2^{0.5}}{0.5 q_1^{0.5} q_2^{-0.5}} \\\\\n",
    "    &= -\\frac{q_1^{-0.5} q_2^{0.5}}{q_1^{0.5} q_2^{-0.5}} \\\\\n",
    "    &= -\\frac{ q_2^{0.5} q_2^{0.5}}{q_1^{0.5} q_1^{0.5} } \\\\\n",
    "    &= -\\frac{ q_2^{0.5+0.5}}{q_1^{0.5+0.5} } \\\\\n",
    "    &= -\\frac{q_2}{q_1}\n",
    "\\end{align}"
   ]
  },
  {
   "cell_type": "code",
   "execution_count": null,
   "metadata": {},
   "outputs": [],
   "source": []
  }
 ],
 "metadata": {
  "kernelspec": {
   "display_name": "Python 3",
   "language": "python",
   "name": "python3"
  },
  "language_info": {
   "codemirror_mode": {
    "name": "ipython",
    "version": 3
   },
   "file_extension": ".py",
   "mimetype": "text/x-python",
   "name": "python",
   "nbconvert_exporter": "python",
   "pygments_lexer": "ipython3",
   "version": "3.7.4"
  }
 },
 "nbformat": 4,
 "nbformat_minor": 4
}
