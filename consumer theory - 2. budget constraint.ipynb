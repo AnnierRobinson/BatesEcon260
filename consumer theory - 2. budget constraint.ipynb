{
 "cells": [
  {
   "cell_type": "markdown",
   "metadata": {},
   "source": [
    "Import necessary packages."
   ]
  },
  {
   "cell_type": "code",
   "execution_count": 1,
   "metadata": {},
   "outputs": [],
   "source": [
    "# import all functions from python labrary: sympy\n",
    "from sympy import *\n",
    "# import python library: matplotlib (for nice plots)\n",
    "import matplotlib\n",
    "# set sympy output to print pretty math expressions\n",
    "init_printing()"
   ]
  },
  {
   "cell_type": "markdown",
   "metadata": {},
   "source": [
    "Declare variables we are going to use as 'symbols'. We will add more along the way, if necessary."
   ]
  },
  {
   "cell_type": "code",
   "execution_count": 2,
   "metadata": {},
   "outputs": [],
   "source": [
    "q1, q2, p1, p2, y = symbols('q1 q2 p1 p2 y')"
   ]
  },
  {
   "cell_type": "markdown",
   "metadata": {},
   "source": [
    "# 2. Budget Constraint"
   ]
  },
  {
   "cell_type": "markdown",
   "metadata": {},
   "source": [
    "## Define the budget constraint"
   ]
  },
  {
   "cell_type": "markdown",
   "metadata": {},
   "source": [
    "First, define an expression for expenditure."
   ]
  },
  {
   "cell_type": "code",
   "execution_count": 3,
   "metadata": {},
   "outputs": [],
   "source": [
    "exp = p1*q1 + p2*q2"
   ]
  },
  {
   "cell_type": "markdown",
   "metadata": {},
   "source": [
    "Next, the budget constraint is such that the expenditure is less than or equal to the budget."
   ]
  },
  {
   "cell_type": "code",
   "execution_count": 4,
   "metadata": {
    "scrolled": true
   },
   "outputs": [
    {
     "data": {
      "image/png": "[encoded data removed]",
      "text/latex": [
       "$\\displaystyle p_{2} q_{2} \\leq - p_{1} q_{1} + y$"
      ],
      "text/plain": [
       "p₂⋅q₂ ≤ -p₁⋅q₁ + y"
      ]
     },
     "execution_count": 4,
     "metadata": {},
     "output_type": "execute_result"
    }
   ],
   "source": [
    "solve(exp <= y, q2)"
   ]
  },
  {
   "cell_type": "markdown",
   "metadata": {},
   "source": [
    "We see that the inequality solution is not just in terms of $q_2$. This is because the inequality solver in sympy has limited functionality for now. \n",
    "\n",
    "Our ideal form is\n",
    "\n",
    "\\begin{align}\n",
    "    q_2 \\leq \\frac{-p_1 q_1 + y}{p_2} \\label{eq1}\\tag{1}\n",
    "\\end{align}\n",
    "\n",
    "But this is no big deal, let's treat it as an equality, and keep the sign in mind."
   ]
  },
  {
   "cell_type": "code",
   "execution_count": 5,
   "metadata": {},
   "outputs": [
    {
     "data": {
      "image/png": "[encoded data removed]",
      "text/latex": [
       "$\\displaystyle \\left[ \\frac{- p_{1} q_{1} + y}{p_{2}}\\right]$"
      ],
      "text/plain": [
       "⎡-p₁⋅q₁ + y⎤\n",
       "⎢──────────⎥\n",
       "⎣    p₂    ⎦"
      ]
     },
     "execution_count": 5,
     "metadata": {},
     "output_type": "execute_result"
    }
   ],
   "source": [
    "budget_sol = solve(Eq(exp, y), q2)\n",
    "budget_sol"
   ]
  },
  {
   "cell_type": "code",
   "execution_count": 6,
   "metadata": {},
   "outputs": [
    {
     "data": {
      "image/png": "[encoded data removed]",
      "text/latex": [
       "$\\displaystyle \\frac{- p_{1} q_{1} + y}{p_{2}}$"
      ],
      "text/plain": [
       "-p₁⋅q₁ + y\n",
       "──────────\n",
       "    p₂    "
      ]
     },
     "execution_count": 6,
     "metadata": {},
     "output_type": "execute_result"
    }
   ],
   "source": [
    "# Retreive the first and only element in the solution, which is our expression for the budget constraint.\n",
    "bc = budget_sol[0]\n",
    "bc"
   ]
  },
  {
   "cell_type": "markdown",
   "metadata": {},
   "source": [
    "The slope and intercept of the budget constraint is better seen after expanding the expression."
   ]
  },
  {
   "cell_type": "code",
   "execution_count": 7,
   "metadata": {
    "scrolled": true
   },
   "outputs": [
    {
     "data": {
      "image/png": "[encoded data removed]",
      "text/latex": [
       "$\\displaystyle - \\frac{p_{1} q_{1}}{p_{2}} + \\frac{y}{p_{2}}$"
      ],
      "text/plain": [
       "  p₁⋅q₁   y \n",
       "- ───── + ──\n",
       "    p₂    p₂"
      ]
     },
     "execution_count": 7,
     "metadata": {},
     "output_type": "execute_result"
    }
   ],
   "source": [
    "bc.expand()"
   ]
  },
  {
   "cell_type": "markdown",
   "metadata": {},
   "source": [
    "## Plot the budget constraint"
   ]
  },
  {
   "cell_type": "markdown",
   "metadata": {
    "slideshow": {
     "slide_type": "fragment"
    }
   },
   "source": [
    "Let's plot a budget constraint with $y=5, p_1 = 1, p_2 = 1$. \n",
    "\n",
    "Note the use of different brackets in the subs method."
   ]
  },
  {
   "cell_type": "code",
   "execution_count": 8,
   "metadata": {
    "scrolled": true
   },
   "outputs": [
    {
     "data": {
      "text/plain": [
       "<Figure size 640x480 with 1 Axes>"
      ]
     },
     "metadata": {},
     "output_type": "display_data"
    }
   ],
   "source": [
    "# we substitute a list [(y,5), (p1,1), (p2,1)] into bc\n",
    "# the list has three elements, each as a pair: (y,5), (p1,1), (p2,1)\n",
    "bc_plot1 = plot(bc.subs([(y,5), (p1,1), (p2,1)]), xlim=[0,10], ylim=[0,10], xlabel=\"$q_1$\", ylabel=\"$q_2$\", show=False)\n",
    "bc_plot1.show()"
   ]
  },
  {
   "cell_type": "markdown",
   "metadata": {},
   "source": [
    "Creat a few budget constraints with different $y$, while holding prices constant."
   ]
  },
  {
   "cell_type": "code",
   "execution_count": 9,
   "metadata": {},
   "outputs": [
    {
     "data": {
      "image/png": "[encoded data removed]",
      "text/plain": [
       "<Figure size 432x288 with 1 Axes>"
      ]
     },
     "metadata": {
      "needs_background": "light"
     },
     "output_type": "display_data"
    }
   ],
   "source": [
    "# create plots with different parameters\n",
    "bc_plot1 = plot(bc.subs([(y,5), (p1,1), (p2,1)]), xlim=[0,10], ylim=[0,10], xlabel=\"$q_1$\", ylabel=\"$q_2$\", show=False)\n",
    "bc_plot2 = plot(bc.subs([(y,6), (p1,1), (p2,1)]), xlim=[0,10], ylim=[0,10], xlabel=\"$q_1$\", ylabel=\"$q_2$\", show=False)\n",
    "bc_plot3 = plot(bc.subs([(y,7), (p1,1), (p2,1)]), xlim=[0,10], ylim=[0,10], xlabel=\"$q_1$\", ylabel=\"$q_2$\", show=False)\n",
    "\n",
    "# combine plots into one plot\n",
    "bc_plot_combo = bc_plot1\n",
    "bc_plot_combo.extend(bc_plot2)\n",
    "bc_plot_combo.extend(bc_plot3)\n",
    "\n",
    "# assign colors for each line\n",
    "bc_plot_combo[0].line_color='salmon'\n",
    "bc_plot_combo[1].line_color='tomato'\n",
    "bc_plot_combo[2].line_color='orchid'\n",
    "\n",
    "# show plot\n",
    "bc_plot_combo.show()"
   ]
  },
  {
   "cell_type": "markdown",
   "metadata": {},
   "source": [
    "Creat a few budget constraints with different $p_1$, while holding $y$ and $p_2$ constant."
   ]
  },
  {
   "cell_type": "code",
   "execution_count": 10,
   "metadata": {
    "scrolled": true
   },
   "outputs": [
    {
     "data": {
      "image/png": "[encoded data removed]",
      "text/plain": [
       "<Figure size 432x288 with 1 Axes>"
      ]
     },
     "metadata": {
      "needs_background": "light"
     },
     "output_type": "display_data"
    }
   ],
   "source": [
    "# create plots with different parameters\n",
    "bc_plot1 = plot(bc.subs([(y,5), (p1,1), (p2,1)]), xlim=[0,10], ylim=[0,10], xlabel=\"$q_1$\", ylabel=\"$q_2$\", show=False)\n",
    "bc_plot2 = plot(bc.subs([(y,5), (p1,1.5), (p2,1)]), xlim=[0,10], ylim=[0,10], xlabel=\"$q_1$\", ylabel=\"$q_2$\", show=False)\n",
    "bc_plot3 = plot(bc.subs([(y,5), (p1,2), (p2,1)]), xlim=[0,10], ylim=[0,10], xlabel=\"$q_1$\", ylabel=\"$q_2$\", show=False)\n",
    "\n",
    "# combine plots into one plot\n",
    "bc_plot_combo = bc_plot1\n",
    "bc_plot_combo.extend(bc_plot2)\n",
    "bc_plot_combo.extend(bc_plot3)\n",
    "\n",
    "# assign colors for each line\n",
    "bc_plot_combo[0].line_color='salmon'\n",
    "bc_plot_combo[1].line_color='tomato'\n",
    "bc_plot_combo[2].line_color='orchid'\n",
    "\n",
    "# show plot\n",
    "bc_plot_combo.show()"
   ]
  },
  {
   "cell_type": "markdown",
   "metadata": {},
   "source": [
    "We can use polt_implicit to  plot the inequality budget constraint to show the feasible consumption choices, corresponding to inequality (1)."
   ]
  },
  {
   "cell_type": "code",
   "execution_count": 11,
   "metadata": {},
   "outputs": [
    {
     "data": {
      "image/png": "[encoded data removed]",
      "text/plain": [
       "<Figure size 432x288 with 1 Axes>"
      ]
     },
     "metadata": {
      "needs_background": "light"
     },
     "output_type": "display_data"
    },
    {
     "data": {
      "text/plain": [
       "<sympy.plotting.plot.Plot at 0x7ff050524090>"
      ]
     },
     "execution_count": 11,
     "metadata": {},
     "output_type": "execute_result"
    }
   ],
   "source": [
    "plot_implicit(q2 < bc.subs([(y,5), (p1,1), (p2,1)]), (q1,0,10), (q2,0,10), xlabel=\"$q_1$\", ylabel=\"$q_2$\")"
   ]
  },
  {
   "cell_type": "code",
   "execution_count": null,
   "metadata": {},
   "outputs": [],
   "source": []
  }
 ],
 "metadata": {
  "kernelspec": {
   "display_name": "Python 3",
   "language": "python",
   "name": "python3"
  },
  "language_info": {
   "codemirror_mode": {
    "name": "ipython",
    "version": 3
   },
   "file_extension": ".py",
   "mimetype": "text/x-python",
   "name": "python",
   "nbconvert_exporter": "python",
   "pygments_lexer": "ipython3",
   "version": "3.7.4"
  }
 },
 "nbformat": 4,
 "nbformat_minor": 1
}
