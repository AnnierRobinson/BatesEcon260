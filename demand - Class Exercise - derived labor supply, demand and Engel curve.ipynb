{
 "cells": [
  {
   "cell_type": "markdown",
   "metadata": {},
   "source": [
    "Import necessary packages."
   ]
  },
  {
   "cell_type": "code",
   "execution_count": 3,
   "metadata": {},
   "outputs": [],
   "source": [
    "# import all functions from python labrary: sympy\n",
    "from sympy import *\n",
    "# import python library: matplotlib (for nice plots)\n",
    "import matplotlib\n",
    "# set sympy output to print pretty math expressions\n",
    "init_printing()"
   ]
  },
  {
   "cell_type": "markdown",
   "metadata": {},
   "source": [
    "Declare variables we are going to use as 'symbols'. We will add more along the way, if necessary."
   ]
  },
  {
   "cell_type": "code",
   "execution_count": 4,
   "metadata": {},
   "outputs": [],
   "source": [
    "### NOTE: it is important here to further declare these variables to be nonzero and positive (otherwise sympy cannot find solution for the FOCs)\n",
    "#    Thanks to Abhi Agarwal for discovering this trick\n",
    "q1, q2, p1, p2, y, ubar, rho, sigma = symbols('q1 q2 p1 p2 y \\overline{U} rho sigma', nonzero=True, positive=True)"
   ]
  },
  {
   "cell_type": "markdown",
   "metadata": {},
   "source": [
    "# 1. Plotting demand and Engle curves"
   ]
  },
  {
   "cell_type": "markdown",
   "metadata": {},
   "source": [
    "## The standard utility max problem"
   ]
  },
  {
   "cell_type": "markdown",
   "metadata": {},
   "source": [
    "Given the utility maximization problem with CES utility function\n",
    "\\begin{align}\n",
    "    & \\max_{q_1,q_2}\\quad u(q_1,q_2) = (q_1^{\\rho} + q_2^{\\rho})^{\\frac{1}{\\rho}} \\\\\n",
    "    \\text{s.t.}\\quad & p_1 q_1 + p_2 q_2 = y\n",
    "\\end{align}\n",
    "\n",
    "the derived demands are (see earlier video on CES utility function for the solution process)\n",
    "\\begin{align}\n",
    "    q_1^* &= \\frac{p_1^{\\sigma}}{p_1^{1+\\sigma} + p_2^{1+\\sigma}} y \\\\\n",
    "    q_2^* &= \\frac{p_2^{\\sigma}}{p_1^{1+\\sigma} + p_2^{1+\\sigma}} y\n",
    "\\end{align}\n",
    "where $\\sigma = -\\frac{1}{1-\\rho}$."
   ]
  },
  {
   "cell_type": "markdown",
   "metadata": {},
   "source": [
    "### Question: plotting demand curves (assuming $\\rho = 1/2$, i.e., $\\sigma = -2$)\n",
    "1. try to plot a demand curve for $q_1^*$, make necessary assumptions about the values of the exogenous variables as you need.\n",
    "1. try to compare two demand curves as $y$ changes. \n",
    "1. try to compare two demand curves as $p_2$ chnages."
   ]
  },
  {
   "cell_type": "markdown",
   "metadata": {},
   "source": [
    "Step 1: inverse the demand. "
   ]
  },
  {
   "cell_type": "code",
   "execution_count": 5,
   "metadata": {},
   "outputs": [
    {
     "data": {
      "image/png": "[encoded data removed]",
      "text/latex": [
       "$\\displaystyle \\frac{p_{2} y}{p_{1} \\left(p_{1} + p_{2}\\right)}$"
      ],
      "text/plain": [
       "    p₂⋅y    \n",
       "────────────\n",
       "p₁⋅(p₁ + p₂)"
      ]
     },
     "execution_count": 5,
     "metadata": {},
     "output_type": "execute_result"
    }
   ],
   "source": [
    "# define value of sigma\n",
    "sigma = -2\n",
    "\n",
    "# define q1* and q2* in sympy\n",
    "q1star = (p1**sigma) / (p1**(1+sigma) + p2**(1+sigma)) * y\n",
    "q1star.simplify()"
   ]
  },
  {
   "cell_type": "code",
   "execution_count": 6,
   "metadata": {
    "scrolled": true
   },
   "outputs": [
    {
     "data": {
      "image/png": "[encoded data removed]",
      "text/latex": [
       "$\\displaystyle \\left[ - \\frac{\\sqrt{p_{2}} \\sqrt{q \\left(p_{2} q + 4 y\\right)}}{2 q} - \\frac{p_{2}}{2}, \\  \\frac{\\sqrt{p_{2}} \\sqrt{q \\left(p_{2} q + 4 y\\right)}}{2 q} - \\frac{p_{2}}{2}\\right]$"
      ],
      "text/plain": [
       "⎡    ____   ________________         ____   ________________     ⎤\n",
       "⎢  ╲╱ p₂ ⋅╲╱ q⋅(p₂⋅q + 4⋅y)    p₂  ╲╱ p₂ ⋅╲╱ q⋅(p₂⋅q + 4⋅y)    p₂⎥\n",
       "⎢- ───────────────────────── - ──, ───────────────────────── - ──⎥\n",
       "⎣             2⋅q              2              2⋅q              2 ⎦"
      ]
     },
     "execution_count": 6,
     "metadata": {},
     "output_type": "execute_result"
    }
   ],
   "source": [
    "# define a new symbol q\n",
    "q = symbols('q')\n",
    "# solve the equation Demand = q, which is equivalent to (Demand - q) = 0. \n",
    "#   Notice how we solve for the equation\n",
    "DInverse = solve(q1star - q, p1)\n",
    "# note that we have multiple solutions here\n",
    "DInverse"
   ]
  },
  {
   "cell_type": "code",
   "execution_count": 7,
   "metadata": {},
   "outputs": [
    {
     "data": {
      "image/png": "[encoded data removed]",
      "text/latex": [
       "$\\displaystyle \\frac{\\sqrt{p_{2}} \\sqrt{q \\left(p_{2} q + 4 y\\right)}}{2 q} - \\frac{p_{2}}{2}$"
      ],
      "text/plain": [
       "  ____   ________________     \n",
       "╲╱ p₂ ⋅╲╱ q⋅(p₂⋅q + 4⋅y)    p₂\n",
       "───────────────────────── - ──\n",
       "           2⋅q              2 "
      ]
     },
     "execution_count": 7,
     "metadata": {},
     "output_type": "execute_result"
    }
   ],
   "source": [
    "# take the positive solution as quantity\n",
    "DInverse_plot = DInverse[1]\n",
    "DInverse_plot"
   ]
  },
  {
   "cell_type": "markdown",
   "metadata": {},
   "source": [
    "Step 2: plot the demand curve (need to make assumptions about values of exogenous variables)"
   ]
  },
  {
   "cell_type": "code",
   "execution_count": 46,
   "metadata": {
    "scrolled": false
   },
   "outputs": [
    {
     "data": {
      "image/png": "[encoded data removed]",
      "text/plain": [
       "<Figure size 432x288 with 1 Axes>"
      ]
     },
     "metadata": {
      "needs_background": "light"
     },
     "output_type": "display_data"
    },
    {
     "data": {
      "text/plain": [
       "<sympy.plotting.plot.Plot at 0x1eeeb0ec048>"
      ]
     },
     "execution_count": 46,
     "metadata": {},
     "output_type": "execute_result"
    }
   ],
   "source": [
    "# use plot function\n",
    "plot(DInverse_plot.subs([(p2,4),(y,Rational(100))]), (q,0,50), xlim=[0,50], ylim=[0,50], xlabel=\"$q_1$\", ylabel=\"$p_1$\")"
   ]
  },
  {
   "cell_type": "markdown",
   "metadata": {},
   "source": [
    "### Question: plotting Engel curves\n",
    "1. try to plot an Engel curve for $q_1^*$, make necessary assumptions about the values of the exogenous variables as you need.\n",
    "1. try to compare two Engel curves as $p_1$ changes. \n",
    "1. try to compare two Engel curves as $p_2$ chnages."
   ]
  },
  {
   "cell_type": "code",
   "execution_count": 8,
   "metadata": {
    "scrolled": false
   },
   "outputs": [
    {
     "data": {
      "image/png": "[encoded data removed]",
      "text/latex": [
       "$\\displaystyle \\left[ \\frac{p_{1} q \\left(p_{1} + p_{2}\\right)}{p_{2}}\\right]$"
      ],
      "text/plain": [
       "⎡p₁⋅q⋅(p₁ + p₂)⎤\n",
       "⎢──────────────⎥\n",
       "⎣      p₂      ⎦"
      ]
     },
     "execution_count": 8,
     "metadata": {},
     "output_type": "execute_result"
    }
   ],
   "source": [
    "# solve the equation Demand = q, which is equivalent to (Demand - q) = 0. \n",
    "#   Notice how we solve for the Engel curve\n",
    "EngelCurve = solve(q1star - q, y)\n",
    "# note that we have multiple solutions here\n",
    "EngelCurve"
   ]
  },
  {
   "cell_type": "code",
   "execution_count": 9,
   "metadata": {},
   "outputs": [
    {
     "data": {
      "image/png": "[encoded data removed]",
      "text/latex": [
       "$\\displaystyle \\frac{p_{1} q \\left(p_{1} + p_{2}\\right)}{p_{2}}$"
      ],
      "text/plain": [
       "p₁⋅q⋅(p₁ + p₂)\n",
       "──────────────\n",
       "      p₂      "
      ]
     },
     "execution_count": 9,
     "metadata": {},
     "output_type": "execute_result"
    }
   ],
   "source": [
    "# take the solution as Engel curve\n",
    "EngelCurve_plot = EngelCurve[0]\n",
    "EngelCurve_plot"
   ]
  },
  {
   "cell_type": "markdown",
   "metadata": {},
   "source": [
    "Step 2: plot the Engel curve (need to make assumptions about values of exogenous variables)"
   ]
  },
  {
   "cell_type": "code",
   "execution_count": 11,
   "metadata": {
    "scrolled": false
   },
   "outputs": [
    {
     "data": {
      "image/png": "[encoded data removed]",
      "text/plain": [
       "<Figure size 432x288 with 1 Axes>"
      ]
     },
     "metadata": {
      "needs_background": "light"
     },
     "output_type": "display_data"
    },
    {
     "data": {
      "text/plain": [
       "<sympy.plotting.plot.Plot at 0x7ff58856e610>"
      ]
     },
     "execution_count": 11,
     "metadata": {},
     "output_type": "execute_result"
    }
   ],
   "source": [
    "# use plot function\n",
    "plot(EngelCurve_plot.subs([(p2,4),(p1,4)]), (q,0,50), xlim=[0,50], ylim=[0,50], xlabel=\"$q_1$\", ylabel=\"$y$\")"
   ]
  },
  {
   "cell_type": "markdown",
   "metadata": {},
   "source": [
    "# 2. Derived labor supply from a CES utility function\n",
    "Note: see the class handout (on Lyceum) for the graphical solution to this problem"
   ]
  },
  {
   "cell_type": "markdown",
   "metadata": {},
   "source": [
    "Imagine a \"consumer\" (household/worker) with preferences represented by a CES utility function over two \"goods\", leasure ($N$) and income ($w \\times H$), where $w$ is the hourly wage rate. They face a resource constraint in time: $$N + H = T,$$ where $T$ is total hours.\n",
    "\n",
    "### Question: \n",
    "* write down the utiltiy maximization problem facing the consumer (household/worker)\n"
   ]
  },
  {
   "cell_type": "markdown",
   "metadata": {},
   "source": [
    "\n",
    "\n",
    "\\begin{align}\n",
    "    & \\max_{N, H}\\quad u(N,wH) = (N^{\\rho} + (wH)^{\\rho})^{\\frac{1}{\\rho}} \\\\\n",
    "    & \\text{s.t.}\\quad N + H = T\n",
    "\\end{align}"
   ]
  },
  {
   "cell_type": "markdown",
   "metadata": {},
   "source": [
    "### Interpreting the problem\n",
    "\n",
    "We don't see the income as a good in the time constraint now. Let's multiply the time constraint by wage rate $w$.\n",
    "\n",
    "$$ N + H = T \\qquad \\Leftrightarrow \\qquad wN + wH = wT, $$\n",
    "\n",
    "which we can reinterpret as prices and quantities\n",
    "\n",
    "$$\\underbrace{w}_{p_1} \\times \\underbrace{N}_{q_1} + \\underbrace{1}_{p_2} \\times \\underbrace{wH}_{q_2}= \\underbrace{wT}_{\\text{resource in terms of income}}$$\n"
   ]
  },
  {
   "cell_type": "markdown",
   "metadata": {},
   "source": [
    "### Question:\n",
    "* write down the optimal demand for leasure, income, and working hours, based on the CES solutions \n",
    "\n",
    "\\begin{align}\n",
    "    q_1^* &= \\frac{p_1^{\\sigma}}{p_1^{1+\\sigma} + p_2^{1+\\sigma}} y \\\\\n",
    "    q_2^* &= \\frac{p_2^{\\sigma}}{p_1^{1+\\sigma} + p_2^{1+\\sigma}} y\n",
    "\\end{align}"
   ]
  },
  {
   "cell_type": "markdown",
   "metadata": {},
   "source": [
    "### Answer:\n",
    "The demands are\n",
    "\\begin{align}\n",
    "    N^* &= \\frac{w^{\\sigma}}{w^{1+\\sigma} + 1} wT \\\\\n",
    "    wH^* &= \\frac{1}{w^{1+\\sigma} + 1} wT\n",
    "\\end{align}\n",
    "where the second expression implies\n",
    "$$ H^* = \\frac{1}{w^{1+\\sigma} + 1} T $$"
   ]
  },
  {
   "cell_type": "markdown",
   "metadata": {},
   "source": [
    "### Question:\n",
    "* If $\\rho = 1/2$, i.e., $\\sigma = -\\frac{1}{1-\\rho} = -2$, then what is the optimal labor supply?"
   ]
  },
  {
   "cell_type": "markdown",
   "metadata": {},
   "source": [
    "### Answer:\n",
    "The labor supply would be \n",
    "\\begin{align}\n",
    "    H^* &= \\frac{1}{w^{1+\\sigma} + 1} T \\\\\n",
    "        &= \\frac{1}{w^{-1} + 1} T \\\\\n",
    "        &= \\frac{1}{\\frac{1}{w} + 1} T \\\\\n",
    "        &= \\frac{1}{\\frac{1 + w}{w}} T \\\\\n",
    "        &= \\frac{w}{w + 1} T\n",
    "\\end{align}"
   ]
  },
  {
   "cell_type": "markdown",
   "metadata": {},
   "source": [
    "### Question: \n",
    "* How does this derived labor supply change with increases in the hourly wage?"
   ]
  },
  {
   "cell_type": "markdown",
   "metadata": {},
   "source": [
    "Answer:\n",
    "We use comparative statics to analyze $\\frac{\\partial H^*}{\\partial w}$"
   ]
  },
  {
   "cell_type": "code",
   "execution_count": 17,
   "metadata": {},
   "outputs": [],
   "source": [
    "# define symbols\n",
    "w, T = symbols('w T', nonzero=True, positive=True)"
   ]
  },
  {
   "cell_type": "code",
   "execution_count": 19,
   "metadata": {},
   "outputs": [
    {
     "data": {
      "image/png": "[encoded data removed]",
      "text/latex": [
       "$\\displaystyle \\frac{T}{\\left(w + 1\\right)^{2}}$"
      ],
      "text/plain": [
       "   T    \n",
       "────────\n",
       "       2\n",
       "(w + 1) "
      ]
     },
     "execution_count": 19,
     "metadata": {},
     "output_type": "execute_result"
    }
   ],
   "source": [
    "# define the derived labor supply\n",
    "H = w/(w+1)*T\n",
    "H.diff(w).simplify()"
   ]
  },
  {
   "cell_type": "markdown",
   "metadata": {},
   "source": [
    "We found $\\frac{\\partial H^*}{\\partial w} > 0$, meaning that, in this model, labor supply increases as wage increases."
   ]
  },
  {
   "cell_type": "markdown",
   "metadata": {},
   "source": [
    "### Question: \n",
    "* Consider two workers, one working under a higher wage than the other. Do their labor supply increases more/less/same in response to a small increase in their respecitve wages?"
   ]
  },
  {
   "cell_type": "markdown",
   "metadata": {},
   "source": [
    "Answer: The answer to this lies in the second derivative, $\\frac{\\partial^2 H^*}{\\partial w^2} = \\frac{\\partial}{\\partial w}\\frac{\\partial H^*}{\\partial w}$"
   ]
  },
  {
   "cell_type": "code",
   "execution_count": 20,
   "metadata": {},
   "outputs": [
    {
     "data": {
      "image/png": "[encoded data removed]",
      "text/latex": [
       "$\\displaystyle - \\frac{2 T}{\\left(w + 1\\right)^{3}}$"
      ],
      "text/plain": [
       " -2⋅T   \n",
       "────────\n",
       "       3\n",
       "(w + 1) "
      ]
     },
     "execution_count": 20,
     "metadata": {},
     "output_type": "execute_result"
    }
   ],
   "source": [
    "H.diff(w,2).simplify()"
   ]
  },
  {
   "cell_type": "markdown",
   "metadata": {},
   "source": [
    "The negative second derivative implies that the increase in labor supply due to wage increases diminishes as the wage level increases.\n",
    "\n",
    "In other words, both a low-wage worker and a high-wage worker increases their labor supply in response to the same raise in their wages. But this response is stronger from the low-wage worker."
   ]
  },
  {
   "cell_type": "code",
   "execution_count": null,
   "metadata": {},
   "outputs": [],
   "source": []
  }
 ],
 "metadata": {
  "kernelspec": {
   "display_name": "Python 3",
   "language": "python",
   "name": "python3"
  },
  "language_info": {
   "codemirror_mode": {
    "name": "ipython",
    "version": 3
   },
   "file_extension": ".py",
   "mimetype": "text/x-python",
   "name": "python",
   "nbconvert_exporter": "python",
   "pygments_lexer": "ipython3",
   "version": "3.7.4"
  }
 },
 "nbformat": 4,
 "nbformat_minor": 4
}
