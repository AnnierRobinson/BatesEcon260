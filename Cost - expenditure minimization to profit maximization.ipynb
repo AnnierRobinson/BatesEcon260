{
 "cells": [
  {
   "cell_type": "markdown",
   "metadata": {},
   "source": [
    "Import necessary packages."
   ]
  },
  {
   "cell_type": "code",
   "execution_count": 1,
   "metadata": {},
   "outputs": [],
   "source": [
    "# import all functions from python labrary: sympy\n",
    "from sympy import *\n",
    "# import python library: matplotlib (for nice plots)\n",
    "import matplotlib\n",
    "# set sympy output to print pretty math expressions\n",
    "init_printing()"
   ]
  },
  {
   "cell_type": "markdown",
   "metadata": {},
   "source": [
    "Declare variables we are going to use as 'symbols'. We will add more along the way, if necessary."
   ]
  },
  {
   "cell_type": "code",
   "execution_count": 2,
   "metadata": {},
   "outputs": [],
   "source": [
    "### NOTE: it is important here to further declare these variables to be nonzero and positive (otherwise sympy cannot find solution for the FOCs)\n",
    "#    Thanks to Abhi Agarwal for discovering this trick\n",
    "L, K, w, r, qbar = symbols('L K w r \\overline{q}', nonzero=True, positive=True)"
   ]
  },
  {
   "cell_type": "markdown",
   "metadata": {},
   "source": [
    "# 1. Solve for cost-minimizing input bundle analytically"
   ]
  },
  {
   "cell_type": "markdown",
   "metadata": {},
   "source": [
    "## Setup the optimization program"
   ]
  },
  {
   "cell_type": "markdown",
   "metadata": {},
   "source": [
    "Our optimization problem is\n",
    "\\begin{align}\n",
    "    & \\min_{q_1,q_2} \\quad p_1 q_1 + p_2 q_2 \\\\\n",
    "    \\text{s.t.}\\quad & q_1^{\\alpha} q_2^{1-\\alpha} = \\overline{U}\n",
    "\\end{align}"
   ]
  },
  {
   "cell_type": "markdown",
   "metadata": {},
   "source": [
    "## Setup the utility function"
   ]
  },
  {
   "cell_type": "code",
   "execution_count": 3,
   "metadata": {},
   "outputs": [
    {
     "data": {
      "image/png": "[encoded data removed]",
      "text/latex": [
       "$\\displaystyle K^{\\beta} L^{\\alpha}$"
      ],
      "text/plain": [
       " β  α\n",
       "K ⋅L "
      ]
     },
     "execution_count": 3,
     "metadata": {},
     "output_type": "execute_result"
    }
   ],
   "source": [
    "### Note that it is important here to further declare these variables to be nonzero and positive\n",
    "#    Thanks to Abhi Agarwal for discovering this trick\n",
    "alpha, beta = symbols('alpha beta',nonzero=True, positive=True)\n",
    "\n",
    "# Note: in sympy syntax: use double star ** for power\n",
    "y = L**(alpha) * K**(beta)\n",
    "# show the defined function\n",
    "y"
   ]
  },
  {
   "cell_type": "markdown",
   "metadata": {},
   "source": [
    "## Setup the lagrangian"
   ]
  },
  {
   "cell_type": "code",
   "execution_count": 4,
   "metadata": {
    "scrolled": false
   },
   "outputs": [
    {
     "data": {
      "image/png": "[encoded data removed]",
      "text/latex": [
       "$\\displaystyle K r + L w + \\lambda \\left(- K^{\\beta} L^{\\alpha} + \\overline{q}\\right)$"
      ],
      "text/plain": [
       "              ⎛   β  α               ⎞\n",
       "K⋅r + L⋅w + λ⋅⎝- K ⋅L  + \\overline{q}⎠"
      ]
     },
     "execution_count": 4,
     "metadata": {},
     "output_type": "execute_result"
    }
   ],
   "source": [
    "lam = symbols('lambda')\n",
    "lagr = w*L + r*K + lam *(qbar - y)\n",
    "lagr"
   ]
  },
  {
   "cell_type": "markdown",
   "metadata": {},
   "source": [
    "Solve the first-order conditions. \n",
    "\n",
    "Note the syntax of the solve function, especially the use of the brackets:\n",
    "solve( (eq1, eq2, eq3), var1, var2, var3)\n",
    "\n",
    "The equations are by default treated as equal to 0 by the solver."
   ]
  },
  {
   "cell_type": "code",
   "execution_count": 5,
   "metadata": {
    "scrolled": true
   },
   "outputs": [
    {
     "data": {
      "image/png": "[encoded data removed]",
      "text/latex": [
       "$\\displaystyle \\left[ \\left( \\frac{\\overline{q} \\alpha \\left(\\frac{\\overline{q}^{\\frac{- \\alpha - \\beta + 1}{\\beta}} \\alpha^{- \\frac{\\alpha}{\\beta}} r w^{\\frac{\\alpha}{\\beta}}}{\\beta}\\right)^{\\frac{\\beta}{\\alpha + \\beta}}}{w}, \\  \\overline{q}^{\\frac{1}{\\beta}} \\left(\\frac{w \\left(\\alpha^{\\frac{\\alpha}{\\beta}} \\beta\\right)^{\\frac{\\beta}{\\alpha + \\beta}} \\left(\\overline{q}^{\\frac{- \\alpha - \\beta + 1}{\\beta}} r w^{\\frac{\\alpha}{\\beta}}\\right)^{- \\frac{\\beta}{\\alpha + \\beta}}}{\\overline{q} \\alpha}\\right)^{\\frac{\\alpha}{\\beta}}, \\  \\left(\\frac{\\overline{q}^{\\frac{- \\alpha - \\beta + 1}{\\beta}} \\alpha^{- \\frac{\\alpha}{\\beta}} r w^{\\frac{\\alpha}{\\beta}}}{\\beta}\\right)^{\\frac{\\beta}{\\alpha + \\beta}}\\right)\\right]$"
      ],
      "text/plain": [
       "⎡⎛                                                                            \n",
       "⎢⎜                                                   β                        \n",
       "⎢⎜                                                 ─────                      \n",
       "⎢⎜                                                 α + β                     ⎛\n",
       "⎢⎜               ⎛            -α - β + 1  -α     α⎞                          ⎜\n",
       "⎢⎜               ⎜            ──────────  ───    ─⎟                          ⎜\n",
       "⎢⎜               ⎜                β        β     β⎟                          ⎜\n",
       "⎢⎜               ⎜\\overline{q}          ⋅α   ⋅r⋅w ⎟                          ⎜\n",
       "⎢⎜\\overline{q}⋅α⋅⎜────────────────────────────────⎟                          ⎜\n",
       "⎢⎜               ⎝               β                ⎠       beta______________ ⎜\n",
       "⎢⎜──────────────────────────────────────────────────────,   ╲╱ \\overline{q} ⋅⎜\n",
       "⎣⎝                          w                                                ⎝\n",
       "\n",
       "                                                 α                            \n",
       "                                                 ─                            \n",
       "                                                 β                            \n",
       "          β                                 -β  ⎞                             \n",
       "        ─────                              ─────⎟                             \n",
       "        α + β                              α + β⎟                             \n",
       "  ⎛ α  ⎞      ⎛            -α - β + 1    α⎞     ⎟   ⎛            -α - β + 1  -\n",
       "  ⎜ ─  ⎟      ⎜            ──────────    ─⎟     ⎟   ⎜            ──────────  ─\n",
       "  ⎜ β  ⎟      ⎜                β         β⎟     ⎟   ⎜                β        \n",
       "w⋅⎝α ⋅β⎠     ⋅⎝\\overline{q}          ⋅r⋅w ⎠     ⎟   ⎜\\overline{q}          ⋅α \n",
       "────────────────────────────────────────────────⎟ , ⎜─────────────────────────\n",
       "                 \\overline{q}⋅α                 ⎠   ⎝               β         \n",
       "\n",
       "             ⎞⎤\n",
       "             ⎟⎥\n",
       "             ⎟⎥\n",
       "          β  ⎟⎥\n",
       "        ─────⎟⎥\n",
       "        α + β⎟⎥\n",
       "α     α⎞     ⎟⎥\n",
       "──    ─⎟     ⎟⎥\n",
       "β     β⎟     ⎟⎥\n",
       "  ⋅r⋅w ⎟     ⎟⎥\n",
       "───────⎟     ⎟⎥\n",
       "       ⎠     ⎠⎦"
      ]
     },
     "execution_count": 5,
     "metadata": {},
     "output_type": "execute_result"
    }
   ],
   "source": [
    "foc_sol = solve( ( diff(lagr,L), diff(lagr,K), diff(lagr,lam) ), [L,K,lam])\n",
    "foc_sol"
   ]
  },
  {
   "cell_type": "markdown",
   "metadata": {},
   "source": [
    "The solution is a list with one element, because our solution is unique."
   ]
  },
  {
   "cell_type": "code",
   "execution_count": 6,
   "metadata": {
    "scrolled": true
   },
   "outputs": [
    {
     "data": {
      "image/png": "[encoded data removed]",
      "text/latex": [
       "$\\displaystyle \\left( \\frac{\\overline{q} \\alpha \\left(\\frac{\\overline{q}^{\\frac{- \\alpha - \\beta + 1}{\\beta}} \\alpha^{- \\frac{\\alpha}{\\beta}} r w^{\\frac{\\alpha}{\\beta}}}{\\beta}\\right)^{\\frac{\\beta}{\\alpha + \\beta}}}{w}, \\  \\overline{q}^{\\frac{1}{\\beta}} \\left(\\frac{w \\left(\\alpha^{\\frac{\\alpha}{\\beta}} \\beta\\right)^{\\frac{\\beta}{\\alpha + \\beta}} \\left(\\overline{q}^{\\frac{- \\alpha - \\beta + 1}{\\beta}} r w^{\\frac{\\alpha}{\\beta}}\\right)^{- \\frac{\\beta}{\\alpha + \\beta}}}{\\overline{q} \\alpha}\\right)^{\\frac{\\alpha}{\\beta}}, \\  \\left(\\frac{\\overline{q}^{\\frac{- \\alpha - \\beta + 1}{\\beta}} \\alpha^{- \\frac{\\alpha}{\\beta}} r w^{\\frac{\\alpha}{\\beta}}}{\\beta}\\right)^{\\frac{\\beta}{\\alpha + \\beta}}\\right)$"
      ],
      "text/plain": [
       "⎛                                                                             \n",
       "⎜                                                   β                         \n",
       "⎜                                                 ─────                       \n",
       "⎜                                                 α + β                     ⎛ \n",
       "⎜               ⎛            -α - β + 1  -α     α⎞                          ⎜ \n",
       "⎜               ⎜            ──────────  ───    ─⎟                          ⎜ \n",
       "⎜               ⎜                β        β     β⎟                          ⎜ \n",
       "⎜               ⎜\\overline{q}          ⋅α   ⋅r⋅w ⎟                          ⎜ \n",
       "⎜\\overline{q}⋅α⋅⎜────────────────────────────────⎟                          ⎜ \n",
       "⎜               ⎝               β                ⎠       beta______________ ⎜w\n",
       "⎜──────────────────────────────────────────────────────,   ╲╱ \\overline{q} ⋅⎜─\n",
       "⎝                          w                                                ⎝ \n",
       "\n",
       "                                                α                             \n",
       "                                                ─                             \n",
       "                                                β                             \n",
       "         β                                 -β  ⎞                              \n",
       "       ─────                              ─────⎟                              \n",
       "       α + β                              α + β⎟                              \n",
       " ⎛ α  ⎞      ⎛            -α - β + 1    α⎞     ⎟   ⎛            -α - β + 1  -α\n",
       " ⎜ ─  ⎟      ⎜            ──────────    ─⎟     ⎟   ⎜            ──────────  ──\n",
       " ⎜ β  ⎟      ⎜                β         β⎟     ⎟   ⎜                β        β\n",
       "⋅⎝α ⋅β⎠     ⋅⎝\\overline{q}          ⋅r⋅w ⎠     ⎟   ⎜\\overline{q}          ⋅α  \n",
       "───────────────────────────────────────────────⎟ , ⎜──────────────────────────\n",
       "                \\overline{q}⋅α                 ⎠   ⎝               β          \n",
       "\n",
       "            ⎞\n",
       "            ⎟\n",
       "            ⎟\n",
       "         β  ⎟\n",
       "       ─────⎟\n",
       "       α + β⎟\n",
       "     α⎞     ⎟\n",
       "─    ─⎟     ⎟\n",
       "     β⎟     ⎟\n",
       " ⋅r⋅w ⎟     ⎟\n",
       "──────⎟     ⎟\n",
       "      ⎠     ⎠"
      ]
     },
     "execution_count": 6,
     "metadata": {},
     "output_type": "execute_result"
    }
   ],
   "source": [
    "foc_sol[0]"
   ]
  },
  {
   "cell_type": "markdown",
   "metadata": {},
   "source": [
    "To access the first element in our solution, which is a list by itself, we use the list index again."
   ]
  },
  {
   "cell_type": "code",
   "execution_count": 7,
   "metadata": {},
   "outputs": [
    {
     "data": {
      "image/png": "[encoded data removed]",
      "text/latex": [
       "$\\displaystyle \\frac{\\overline{q} \\alpha \\left(\\frac{\\overline{q}^{\\frac{- \\alpha - \\beta + 1}{\\beta}} \\alpha^{- \\frac{\\alpha}{\\beta}} r w^{\\frac{\\alpha}{\\beta}}}{\\beta}\\right)^{\\frac{\\beta}{\\alpha + \\beta}}}{w}$"
      ],
      "text/plain": [
       "                                                   β  \n",
       "                                                 ─────\n",
       "                                                 α + β\n",
       "               ⎛            -α - β + 1  -α     α⎞     \n",
       "               ⎜            ──────────  ───    ─⎟     \n",
       "               ⎜                β        β     β⎟     \n",
       "               ⎜\\overline{q}          ⋅α   ⋅r⋅w ⎟     \n",
       "\\overline{q}⋅α⋅⎜────────────────────────────────⎟     \n",
       "               ⎝               β                ⎠     \n",
       "──────────────────────────────────────────────────────\n",
       "                          w                           "
      ]
     },
     "execution_count": 7,
     "metadata": {},
     "output_type": "execute_result"
    }
   ],
   "source": [
    "Lstar = foc_sol[0][0]\n",
    "Lstar"
   ]
  },
  {
   "cell_type": "code",
   "execution_count": 8,
   "metadata": {
    "scrolled": true
   },
   "outputs": [
    {
     "data": {
      "image/png": "[encoded data removed]",
      "text/latex": [
       "$\\displaystyle \\overline{q}^{\\frac{1}{\\beta}} \\left(\\frac{w \\left(\\alpha^{\\frac{\\alpha}{\\beta}} \\beta\\right)^{\\frac{\\beta}{\\alpha + \\beta}} \\left(\\overline{q}^{\\frac{- \\alpha - \\beta + 1}{\\beta}} r w^{\\frac{\\alpha}{\\beta}}\\right)^{- \\frac{\\beta}{\\alpha + \\beta}}}{\\overline{q} \\alpha}\\right)^{\\frac{\\alpha}{\\beta}}$"
      ],
      "text/plain": [
       "                                                                     α\n",
       "                                                                     ─\n",
       "                                                                     β\n",
       "                   ⎛          β                                 -β  ⎞ \n",
       "                   ⎜        ─────                              ─────⎟ \n",
       "                   ⎜        α + β                              α + β⎟ \n",
       "                   ⎜  ⎛ α  ⎞      ⎛            -α - β + 1    α⎞     ⎟ \n",
       "                   ⎜  ⎜ ─  ⎟      ⎜            ──────────    ─⎟     ⎟ \n",
       "                   ⎜  ⎜ β  ⎟      ⎜                β         β⎟     ⎟ \n",
       "beta______________ ⎜w⋅⎝α ⋅β⎠     ⋅⎝\\overline{q}          ⋅r⋅w ⎠     ⎟ \n",
       "  ╲╱ \\overline{q} ⋅⎜────────────────────────────────────────────────⎟ \n",
       "                   ⎝                 \\overline{q}⋅α                 ⎠ "
      ]
     },
     "execution_count": 8,
     "metadata": {},
     "output_type": "execute_result"
    }
   ],
   "source": [
    "Kstar = foc_sol[0][1]\n",
    "Kstar"
   ]
  },
  {
   "cell_type": "markdown",
   "metadata": {},
   "source": [
    "Substitute optimal input into the cost, to calculate the minimum cost level necessary at the given output variables. \n",
    "\n",
    "The resulting function is our **cost function**, $C(w,r,\\overline{q})$."
   ]
  },
  {
   "cell_type": "code",
   "execution_count": 9,
   "metadata": {},
   "outputs": [
    {
     "data": {
      "image/png": "[encoded data removed]",
      "text/latex": [
       "$\\displaystyle \\left(\\frac{\\alpha^{- \\frac{\\alpha}{\\beta}}}{\\beta}\\right)^{\\frac{\\beta}{\\alpha + \\beta}} \\left(\\frac{\\left(\\overline{q}^{\\frac{- \\alpha - \\beta + 1}{\\beta}} r w^{\\frac{\\alpha}{\\beta}}\\right)^{- \\frac{\\beta}{\\alpha + \\beta}}}{\\overline{q} \\alpha}\\right)^{\\frac{\\alpha}{\\beta}} \\left(\\overline{q} \\alpha \\left(\\overline{q} \\alpha \\left(\\overline{q}^{\\frac{- \\alpha - \\beta + 1}{\\beta}} r w^{\\frac{\\alpha}{\\beta}}\\right)^{\\frac{\\beta}{\\alpha + \\beta}}\\right)^{\\frac{\\alpha}{\\beta}} \\left(\\overline{q}^{\\frac{- \\alpha - \\beta + 1}{\\beta}} r w^{\\frac{\\alpha}{\\beta}}\\right)^{\\frac{\\beta}{\\alpha + \\beta}} + \\overline{q}^{\\frac{1}{\\beta}} r \\left(\\alpha^{\\frac{\\alpha}{\\beta}} \\beta\\right)^{\\frac{\\beta}{\\alpha + \\beta}} \\left(w \\left(\\alpha^{\\frac{\\alpha}{\\beta}} \\beta\\right)^{\\frac{\\beta}{\\alpha + \\beta}}\\right)^{\\frac{\\alpha}{\\beta}}\\right)$"
      ],
      "text/plain": [
       "                                                α                             \n",
       "                                                ─ ⎛                           \n",
       "                                                β ⎜                           \n",
       "        β   ⎛                              -β  ⎞  ⎜                           \n",
       "      ───── ⎜                             ─────⎟  ⎜               ⎛           \n",
       "      α + β ⎜                             α + β⎟  ⎜               ⎜           \n",
       "⎛ -α ⎞      ⎜⎛            -α - β + 1    α⎞     ⎟  ⎜               ⎜           \n",
       "⎜ ───⎟      ⎜⎜            ──────────    ─⎟     ⎟  ⎜               ⎜           \n",
       "⎜  β ⎟      ⎜⎜                β         β⎟     ⎟  ⎜               ⎜           \n",
       "⎜α   ⎟      ⎜⎝\\overline{q}          ⋅r⋅w ⎠     ⎟  ⎜               ⎜           \n",
       "⎜────⎟     ⋅⎜──────────────────────────────────⎟ ⋅⎝\\overline{q}⋅α⋅⎝\\overline{q\n",
       "⎝ β  ⎠      ⎝          \\overline{q}⋅α          ⎠                              \n",
       "\n",
       "                                                                              \n",
       "                                       α                                      \n",
       "                                       ─                                      \n",
       "                                       β                                      \n",
       "                                   β  ⎞                                 β     \n",
       "                                 ─────⎟                               ─────   \n",
       "                                 α + β⎟                               α + β   \n",
       "    ⎛            -α - β + 1    α⎞     ⎟  ⎛            -α - β + 1    α⎞        \n",
       "    ⎜            ──────────    ─⎟     ⎟  ⎜            ──────────    ─⎟        \n",
       "    ⎜                β         β⎟     ⎟  ⎜                β         β⎟        \n",
       "}⋅α⋅⎝\\overline{q}          ⋅r⋅w ⎠     ⎠ ⋅⎝\\overline{q}          ⋅r⋅w ⎠      + \n",
       "                                                                              \n",
       "\n",
       "                                                  \n",
       "                                                α⎞\n",
       "                                                ─⎟\n",
       "                                                β⎟\n",
       "                             β   ⎛          β  ⎞ ⎟\n",
       "                           ───── ⎜        ─────⎟ ⎟\n",
       "                           α + β ⎜        α + β⎟ ⎟\n",
       "                     ⎛ α  ⎞      ⎜  ⎛ α  ⎞     ⎟ ⎟\n",
       "                     ⎜ ─  ⎟      ⎜  ⎜ ─  ⎟     ⎟ ⎟\n",
       "beta______________   ⎜ β  ⎟      ⎜  ⎜ β  ⎟     ⎟ ⎟\n",
       "  ╲╱ \\overline{q} ⋅r⋅⎝α ⋅β⎠     ⋅⎝w⋅⎝α ⋅β⎠     ⎠ ⎠\n",
       "                                                  "
      ]
     },
     "execution_count": 9,
     "metadata": {},
     "output_type": "execute_result"
    }
   ],
   "source": [
    "C = (w*L + r*K).subs([(L,Lstar), (K,Kstar)])\n",
    "# simplify function does not work well here, but we can further simplify by hand\n",
    "C.simplify()"
   ]
  },
  {
   "cell_type": "markdown",
   "metadata": {},
   "source": [
    "# 2. Solve Profit-maximization problem under this cost function"
   ]
  },
  {
   "cell_type": "markdown",
   "metadata": {},
   "source": [
    "The firm chooses output level $q$ to maximize its profit\n",
    "$$\\max_{q} \\pi(q,p,w,r) = p*q - C(w,r,q)$$"
   ]
  },
  {
   "cell_type": "code",
   "execution_count": 10,
   "metadata": {},
   "outputs": [],
   "source": [
    "# define symbols p and q\n",
    "p, q = symbols('p q', nonzero=True, positive=True)\n",
    "# define profit function\n",
    "profit = p*q - C.subs([(qbar, q)])"
   ]
  },
  {
   "cell_type": "code",
   "execution_count": 12,
   "metadata": {
    "scrolled": true
   },
   "outputs": [
    {
     "data": {
      "image/png": "[encoded data removed]",
      "text/latex": [
       "$\\displaystyle \\frac{\\alpha^{- \\alpha \\left(\\frac{1}{\\alpha + \\beta} + \\frac{1}{\\beta}\\right)} \\beta^{- \\frac{\\beta}{\\alpha + \\beta}} q^{- \\frac{\\alpha}{\\alpha + \\beta} - \\frac{\\alpha}{\\beta} - \\frac{\\alpha}{\\beta \\left(\\alpha + \\beta\\right)} - \\frac{\\beta}{\\alpha + \\beta} - 1} r^{- \\frac{\\alpha}{\\alpha + \\beta}} w^{- \\frac{\\alpha^{2}}{\\beta \\left(\\alpha + \\beta\\right)}} \\left(\\alpha^{\\alpha \\left(\\frac{1}{\\alpha + \\beta} + \\frac{1}{\\beta}\\right)} \\beta^{\\frac{\\beta}{\\alpha + \\beta} + 1} p q^{\\frac{\\alpha}{\\alpha + \\beta} + \\frac{\\alpha}{\\beta} + \\frac{\\alpha}{\\beta \\left(\\alpha + \\beta\\right)} + \\frac{\\beta}{\\alpha + \\beta} + 1} r^{\\frac{\\alpha}{\\alpha + \\beta}} w^{\\frac{\\alpha^{2}}{\\beta \\left(\\alpha + \\beta\\right)}} - \\alpha^{\\frac{\\alpha \\left(\\frac{\\alpha}{\\beta} + 1\\right)}{\\alpha + \\beta}} \\beta q^{\\frac{\\alpha^{2}}{\\beta \\left(\\alpha + \\beta\\right)} + \\frac{2 \\alpha}{\\alpha + \\beta} + \\frac{\\beta}{\\alpha + \\beta} + \\frac{1}{\\beta}} r w^{\\frac{\\alpha}{\\beta}} - \\alpha^{\\frac{\\alpha}{\\beta} + 1} q^{\\frac{\\alpha}{\\beta} + \\frac{\\alpha}{\\beta \\left(\\alpha + \\beta\\right)} + 1 + \\frac{1}{\\alpha + \\beta}} r w^{\\frac{\\alpha \\left(\\frac{\\alpha}{\\beta} + 1\\right)}{\\alpha + \\beta}} + \\alpha^{\\frac{\\alpha}{\\alpha + \\beta} + \\frac{\\alpha}{\\beta} + 1} \\beta^{\\frac{\\beta}{\\alpha + \\beta}} p q^{\\frac{\\alpha}{\\alpha + \\beta} + \\frac{\\alpha}{\\beta} + \\frac{\\alpha}{\\beta \\left(\\alpha + \\beta\\right)} + \\frac{\\beta}{\\alpha + \\beta} + 1} r^{\\frac{\\alpha}{\\alpha + \\beta}} w^{\\frac{\\alpha^{2}}{\\beta \\left(\\alpha + \\beta\\right)}}\\right)}{\\alpha + \\beta}$"
      ],
      "text/plain": [
       "                                                                              \n",
       "                                                                         2    \n",
       "    ⎛  1     1⎞   -β        α     α       α         β         -α       -α     \n",
       " -α⋅⎜───── + ─⎟  ─────  - ───── - ─ - ───────── - ───── - 1  ─────  ───────── \n",
       "    ⎝α + β   β⎠  α + β    α + β   β   β⋅(α + β)   α + β      α + β  β⋅(α + β) \n",
       "α              ⋅β     ⋅q                                   ⋅r     ⋅w         ⋅\n",
       "──────────────────────────────────────────────────────────────────────────────\n",
       "                                                                              \n",
       "\n",
       "⎛                                                                             \n",
       "⎜                                                                            2\n",
       "⎜   ⎛  1     1⎞    β            α     α       α         β          α        α \n",
       "⎜ α⋅⎜───── + ─⎟  ───── + 1    ───── + ─ + ───────── + ───── + 1  ─────  ──────\n",
       "⎜   ⎝α + β   β⎠  α + β        α + β   β   β⋅(α + β)   α + β      α + β  β⋅(α +\n",
       "⎝α             ⋅β         ⋅p⋅q                                 ⋅r     ⋅w      \n",
       "──────────────────────────────────────────────────────────────────────────────\n",
       "                                                                              \n",
       "\n",
       "         ⎛α    ⎞                                                              \n",
       "       α⋅⎜─ + 1⎟         2                                                    \n",
       "         ⎝β    ⎠        α        2⋅α      β     1    α    α      α       α    \n",
       "───    ─────────    ───────── + ───── + ───── + ─    ─    ─ + 1  ─ + ─────────\n",
       " β)      α + β      β⋅(α + β)   α + β   α + β   β    β    β      β   β⋅(α + β)\n",
       "    - α         ⋅β⋅q                             ⋅r⋅w  - α     ⋅q             \n",
       "──────────────────────────────────────────────────────────────────────────────\n",
       "           α + β                                                              \n",
       "\n",
       "                  ⎛α    ⎞                                                     \n",
       "                α⋅⎜─ + 1⎟                                                     \n",
       "         1        ⎝β    ⎠      α     α        β        α     α       α        \n",
       " + 1 + ─────    ─────────    ───── + ─ + 1  ─────    ───── + ─ + ───────── + ─\n",
       "       α + β      α + β      α + β   β      α + β    α + β   β   β⋅(α + β)   α\n",
       "            ⋅r⋅w          + α             ⋅β     ⋅p⋅q                         \n",
       "──────────────────────────────────────────────────────────────────────────────\n",
       "                                                                              \n",
       "\n",
       "                          ⎞\n",
       "                      2   ⎟\n",
       " β          α        α    ⎟\n",
       "──── + 1  ─────  ─────────⎟\n",
       " + β      α + β  β⋅(α + β)⎟\n",
       "        ⋅r     ⋅w         ⎠\n",
       "───────────────────────────\n",
       "                           "
      ]
     },
     "execution_count": 12,
     "metadata": {},
     "output_type": "execute_result"
    }
   ],
   "source": [
    "# FOC is\n",
    "profit.diff(q).simplify()"
   ]
  },
  {
   "cell_type": "markdown",
   "metadata": {},
   "source": [
    "If we impose $\\alpha = 1$, $\\beta = 1$"
   ]
  },
  {
   "cell_type": "code",
   "execution_count": 16,
   "metadata": {},
   "outputs": [
    {
     "data": {
      "image/png": "[encoded data removed]",
      "text/latex": [
       "$\\displaystyle p q - 2 \\sqrt{q} \\sqrt{r} \\sqrt{w}$"
      ],
      "text/plain": [
       "p⋅q - 2⋅√q⋅√r⋅√w"
      ]
     },
     "execution_count": 16,
     "metadata": {},
     "output_type": "execute_result"
    }
   ],
   "source": [
    "profit = ( p*q - C.subs([(qbar, q), (alpha, Rational(1)), (beta, Rational(1))]) ).simplify()\n",
    "profit"
   ]
  },
  {
   "cell_type": "markdown",
   "metadata": {},
   "source": [
    "Solve for the optimal output level that maximizes profit"
   ]
  },
  {
   "cell_type": "code",
   "execution_count": 21,
   "metadata": {},
   "outputs": [
    {
     "data": {
      "image/png": "[encoded data removed]",
      "text/latex": [
       "$\\displaystyle \\left[ \\frac{r w}{p^{2}}\\right]$"
      ],
      "text/plain": [
       "⎡r⋅w⎤\n",
       "⎢───⎥\n",
       "⎢  2⎥\n",
       "⎣ p ⎦"
      ]
     },
     "execution_count": 21,
     "metadata": {},
     "output_type": "execute_result"
    }
   ],
   "source": [
    "qstar_sol = solve(profit.diff(q), q)\n",
    "qstar_sol"
   ]
  },
  {
   "cell_type": "code",
   "execution_count": 22,
   "metadata": {
    "scrolled": true
   },
   "outputs": [
    {
     "data": {
      "image/png": "[encoded data removed]",
      "text/latex": [
       "$\\displaystyle \\frac{r w}{p^{2}}$"
      ],
      "text/plain": [
       "r⋅w\n",
       "───\n",
       "  2\n",
       " p "
      ]
     },
     "execution_count": 22,
     "metadata": {},
     "output_type": "execute_result"
    }
   ],
   "source": [
    "qstar = qstar_sol[0]\n",
    "qstar"
   ]
  },
  {
   "cell_type": "markdown",
   "metadata": {},
   "source": [
    "## comparative statics"
   ]
  },
  {
   "cell_type": "code",
   "execution_count": 25,
   "metadata": {},
   "outputs": [
    {
     "data": {
      "image/png": "[encoded data removed]",
      "text/latex": [
       "$\\displaystyle - \\frac{2 r w}{p^{3}}$"
      ],
      "text/plain": [
       "-2⋅r⋅w \n",
       "───────\n",
       "    3  \n",
       "   p   "
      ]
     },
     "execution_count": 25,
     "metadata": {},
     "output_type": "execute_result"
    }
   ],
   "source": [
    "qstar.diff(p)"
   ]
  },
  {
   "cell_type": "code",
   "execution_count": 24,
   "metadata": {},
   "outputs": [
    {
     "data": {
      "image/png": "[encoded data removed]",
      "text/latex": [
       "$\\displaystyle \\frac{w}{p^{2}}$"
      ],
      "text/plain": [
       "w \n",
       "──\n",
       " 2\n",
       "p "
      ]
     },
     "execution_count": 24,
     "metadata": {},
     "output_type": "execute_result"
    }
   ],
   "source": [
    "qstar.diff(r)"
   ]
  },
  {
   "cell_type": "code",
   "execution_count": 26,
   "metadata": {},
   "outputs": [
    {
     "data": {
      "image/png": "[encoded data removed]",
      "text/latex": [
       "$\\displaystyle \\frac{r}{p^{2}}$"
      ],
      "text/plain": [
       "r \n",
       "──\n",
       " 2\n",
       "p "
      ]
     },
     "execution_count": 26,
     "metadata": {},
     "output_type": "execute_result"
    }
   ],
   "source": [
    "qstar.diff(w)"
   ]
  },
  {
   "cell_type": "code",
   "execution_count": null,
   "metadata": {},
   "outputs": [],
   "source": []
  }
 ],
 "metadata": {
  "kernelspec": {
   "display_name": "Python 3",
   "language": "python",
   "name": "python3"
  },
  "language_info": {
   "codemirror_mode": {
    "name": "ipython",
    "version": 3
   },
   "file_extension": ".py",
   "mimetype": "text/x-python",
   "name": "python",
   "nbconvert_exporter": "python",
   "pygments_lexer": "ipython3",
   "version": "3.7.4"
  }
 },
 "nbformat": 4,
 "nbformat_minor": 1
}
