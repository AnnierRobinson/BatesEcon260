{
 "cells": [
  {
   "cell_type": "markdown",
   "metadata": {},
   "source": [
    "Firm's revenue is $$R = P*Q$$"
   ]
  },
  {
   "cell_type": "markdown",
   "metadata": {},
   "source": [
    "Consider firm's decision to raise price $P$ slightly, what is the marginal revenue in response to the increase in price?"
   ]
  },
  {
   "cell_type": "markdown",
   "metadata": {},
   "source": [
    "\\begin{align}\n",
    "MR &= \\frac{d [P*Q]}{dP} \\\\\n",
    "&= \\frac{dP}{dP}*Q + \\frac{dQ}{dP}*P \\\\\n",
    "&= Q + \\frac{dQ}{dP}*P\n",
    "\\end{align}"
   ]
  },
  {
   "cell_type": "markdown",
   "metadata": {},
   "source": [
    "we stated that to max R, we want $MR = 0$, which means\n",
    "$$Q + \\frac{dQ}{dP}*P = 0$$"
   ]
  },
  {
   "cell_type": "markdown",
   "metadata": {},
   "source": [
    "recall, the price elasticity of demand is\n",
    "$$ \\epsilon = \\frac{dQ}{dP}\\frac{P}{Q}$$"
   ]
  },
  {
   "cell_type": "markdown",
   "metadata": {},
   "source": [
    "**Argument**: to max R, we need $\\epsilon = -1$"
   ]
  },
  {
   "cell_type": "markdown",
   "metadata": {},
   "source": [
    "max R requires\n",
    "\\begin{align}\n",
    "Q + \\frac{dQ}{dP}*P &= 0 \\\\\n",
    "\\frac{dQ}{dP}*P &= -Q \\\\\n",
    "\\frac{dQ}{dP}*\\frac{P}{Q} &= -1 \\\\\n",
    "\\epsilon &= -1\n",
    "\\end{align}"
   ]
  },
  {
   "cell_type": "code",
   "execution_count": null,
   "metadata": {},
   "outputs": [],
   "source": []
  }
 ],
 "metadata": {
  "kernelspec": {
   "display_name": "Python 3 (ipykernel)",
   "language": "python",
   "name": "python3"
  },
  "language_info": {
   "codemirror_mode": {
    "name": "ipython",
    "version": 3
   },
   "file_extension": ".py",
   "mimetype": "text/x-python",
   "name": "python",
   "nbconvert_exporter": "python",
   "pygments_lexer": "ipython3",
   "version": "3.9.7"
  }
 },
 "nbformat": 4,
 "nbformat_minor": 4
}
