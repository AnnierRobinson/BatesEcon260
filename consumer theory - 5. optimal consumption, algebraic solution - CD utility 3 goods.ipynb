{
 "cells": [
  {
   "cell_type": "markdown",
   "metadata": {},
   "source": [
    "Import necessary packages."
   ]
  },
  {
   "cell_type": "code",
   "execution_count": 1,
   "metadata": {},
   "outputs": [],
   "source": [
    "# import all functions from python labrary: sympy\n",
    "from sympy import *\n",
    "# import python library: matplotlib (for nice plots)\n",
    "import matplotlib\n",
    "# set sympy output to print pretty math expressions\n",
    "init_printing()"
   ]
  },
  {
   "cell_type": "markdown",
   "metadata": {},
   "source": [
    "Declare variables we are going to use as 'symbols'. We will add more along the way, if necessary."
   ]
  },
  {
   "cell_type": "code",
   "execution_count": 2,
   "metadata": {},
   "outputs": [],
   "source": [
    "q1, q2, q3, p1, p2, p3, y = symbols('q1 q2 q3 p1 p2 p3 y')"
   ]
  },
  {
   "cell_type": "markdown",
   "metadata": {},
   "source": [
    "# 5. Solve for optimal consumption analytically (CD utility, 3 goods)"
   ]
  },
  {
   "cell_type": "markdown",
   "metadata": {},
   "source": [
    "## Setup the optimization program"
   ]
  },
  {
   "cell_type": "markdown",
   "metadata": {},
   "source": [
    "Our optimization problem is\n",
    "\\begin{align}\n",
    "    & \\max_{q_1,q_2,q_3}\\quad u(q_1,q_2,q_3) = q_1^{\\alpha} q_2^{\\beta} q_3^{1-\\alpha-\\beta} \\\\\n",
    "    \\text{s.t.}\\quad & p_1 q_1 + p_2 q_2 + p_3 q_3= y\n",
    "\\end{align}"
   ]
  },
  {
   "cell_type": "markdown",
   "metadata": {},
   "source": [
    "### Algebraic solution"
   ]
  },
  {
   "cell_type": "markdown",
   "metadata": {},
   "source": [
    "The Lagrangian is\n",
    "$$ \\mathcal{L} = q_1^{\\alpha} q_2^{\\beta} q_3^{1-\\alpha-\\beta} + \\lambda (y - p_1 q_1 - p_2 q_2 - p_3 q_3)$$"
   ]
  },
  {
   "cell_type": "markdown",
   "metadata": {},
   "source": [
    "which implies the first order conditions (w.r.t. each control variable and $\\lambda$):\n",
    "\n",
    "\\begin{align}\n",
    "    \\frac{\\partial \\mathcal{L}}{\\partial q_1} &= \\alpha q_1^{\\alpha - 1} q_2^{\\beta} q_3^{1-\\alpha-\\beta} - \\lambda p_1 = 0 \\\\\n",
    "    \\frac{\\partial \\mathcal{L}}{\\partial q_2} &= \\beta q_1^{\\alpha} q_2^{\\beta - 1} q_3^{1-\\alpha-\\beta} - \\lambda p_2 = 0 \\\\\n",
    "    \\frac{\\partial \\mathcal{L}}{\\partial q_3} &= (1-\\alpha-\\beta) q_1^{\\alpha} q_2^{\\beta} q_3^{1-\\alpha-\\beta-1} - \\lambda p_3 = 0 \\\\\n",
    "    \\frac{\\partial \\mathcal{L}}{\\partial \\lambda} &= y - p_1 q_1 - p_2 q_2 - p_3 q_3 = 0  \n",
    "\\end{align}\n",
    "\n",
    "And we jointly solve for $q_1, q_2, q_3, \\lambda$."
   ]
  },
  {
   "cell_type": "markdown",
   "metadata": {},
   "source": [
    "We can rewrite the FOCs as\n",
    "\n",
    "\\begin{align}\n",
    "    \\alpha q_1^{\\alpha - 1} q_2^{\\beta} q_3^{1-\\alpha-\\beta} &= \\lambda p_1 \\tag{1} \\\\\n",
    "    \\beta q_1^{\\alpha} q_2^{\\beta - 1} q_3^{1-\\alpha-\\beta} &= \\lambda p_2 \\tag{2} \\\\\n",
    "    (1-\\alpha-\\beta) q_1^{\\alpha} q_2^{\\beta} q_3^{1-\\alpha-\\beta-1} &= \\lambda p_3 \\tag{3} \\\\\n",
    "   y - p_1 q_1 - p_2 q_2 - p_3 q_3 &= 0  \\tag{4} \n",
    "\\end{align}"
   ]
  },
  {
   "cell_type": "markdown",
   "metadata": {},
   "source": [
    "To solve the 4 equations with 4 unknowns, we want to write two of the quantities in terms of a third one.\n",
    "\n",
    "As an example, we will try to write both $q_1$ and $q_2$ in terms of $q_3$ so we can substitute them into the budget constraint (4) and solve for a single variable function."
   ]
  },
  {
   "cell_type": "markdown",
   "metadata": {},
   "source": [
    "To do that, we divide (1) by (3) and get\n",
    "\n",
    "\\begin{align}\n",
    "    && \\frac{\\alpha q_1^{\\alpha - 1} q_2^{\\beta} q_3^{1-\\alpha-\\beta}}{(1-\\alpha-\\beta) q_1^{\\alpha} q_2^{\\beta} q_3^{1-\\alpha-\\beta-1}} &= \\frac{p_1}{p_3} \\\\\n",
    "        \\qquad\\Rightarrow\\qquad &&  \\frac{\\alpha q_1^{-1} }{(1-\\alpha-\\beta) q_3^{-1}} &= \\frac{p_1}{p_3} \\\\\n",
    "        \\qquad\\Rightarrow\\qquad &&  \\frac{\\alpha q_3 }{(1-\\alpha-\\beta) q_1} &= \\frac{p_1}{p_3} \\\\\n",
    "        \\qquad\\Rightarrow\\qquad &&  q_1 &= \\frac{p_3}{p_1} \\frac{\\alpha q_3 }{(1-\\alpha-\\beta)} \\tag{5}\n",
    "\\end{align}"
   ]
  },
  {
   "cell_type": "markdown",
   "metadata": {},
   "source": [
    "Similarly, dividing (2) by (3), we have\n",
    "\n",
    "\\begin{align}\n",
    "    &&  \\frac{\\beta q_1^{\\alpha} q_2^{\\beta - 1} q_3^{1-\\alpha-\\beta}}{(1-\\alpha-\\beta) q_1^{\\alpha} q_2^{\\beta} q_3^{1-\\alpha-\\beta-1}} &= \\frac{p_2}{p_3} \\\\\n",
    "        \\qquad\\Rightarrow\\qquad &&  \\frac{\\beta q_2^{- 1}}{(1-\\alpha-\\beta) q_3^{-1}} &= \\frac{p_2}{p_3} \\\\\n",
    "        \\qquad\\Rightarrow\\qquad &&  \\frac{\\beta q_3}{(1-\\alpha-\\beta) q_2} &= \\frac{p_2}{p_3} \\\\\n",
    "        \\qquad\\Rightarrow\\qquad &&  q_2 &= \\frac{p_3}{p_2} \\frac{\\beta q_3}{(1-\\alpha-\\beta) }   \\tag{6}\n",
    "\\end{align}"
   ]
  },
  {
   "cell_type": "markdown",
   "metadata": {},
   "source": [
    "Now we are ready to substitute (5) and (6) into (4) and solve for $q_3^*$. \n",
    "\n",
    "After that, we can substitute $q_3^*$ back into (5) and (6) to find $q_1^*$ and $q_2^*$. "
   ]
  },
  {
   "cell_type": "markdown",
   "metadata": {},
   "source": [
    "We turn to the sympy setup to solve through the entire problem. "
   ]
  },
  {
   "cell_type": "markdown",
   "metadata": {},
   "source": [
    "## Setup the utility function"
   ]
  },
  {
   "cell_type": "code",
   "execution_count": 3,
   "metadata": {},
   "outputs": [
    {
     "data": {
      "image/png": "[encoded data removed]",
      "text/latex": [
       "$\\displaystyle q_{1}^{\\alpha} q_{2}^{\\beta} q_{3}^{- \\alpha - \\beta + 1}$"
      ],
      "text/plain": [
       "  α   β   -α - β + 1\n",
       "q₁ ⋅q₂ ⋅q₃          "
      ]
     },
     "execution_count": 3,
     "metadata": {},
     "output_type": "execute_result"
    }
   ],
   "source": [
    "# define alpha as a rational number of 1/2\n",
    "#alpha = Rational(1,2)\n",
    "alpha, beta = symbols('alpha beta')\n",
    "\n",
    "\n",
    "# Note: in sympy syntax: use double star ** for power\n",
    "u = q1**(alpha) * q2**(beta) * q3**(1-alpha-beta)\n",
    "# show the defined function\n",
    "u"
   ]
  },
  {
   "cell_type": "markdown",
   "metadata": {},
   "source": [
    "## Setup the lagrangian"
   ]
  },
  {
   "cell_type": "code",
   "execution_count": 4,
   "metadata": {
    "scrolled": false
   },
   "outputs": [
    {
     "data": {
      "image/png": "[encoded data removed]",
      "text/latex": [
       "$\\displaystyle \\lambda \\left(- p_{1} q_{1} - p_{2} q_{2} - p_{3} q_{3} + y\\right) + q_{1}^{\\alpha} q_{2}^{\\beta} q_{3}^{- \\alpha - \\beta + 1}$"
      ],
      "text/plain": [
       "                                   α   β   -α - β + 1\n",
       "λ⋅(-p₁⋅q₁ - p₂⋅q₂ - p₃⋅q₃ + y) + q₁ ⋅q₂ ⋅q₃          "
      ]
     },
     "execution_count": 4,
     "metadata": {},
     "output_type": "execute_result"
    }
   ],
   "source": [
    "lam = symbols('lambda')\n",
    "lagr = u + lam *(y - p1*q1 - p2*q2 - p3*q3)\n",
    "lagr"
   ]
  },
  {
   "cell_type": "markdown",
   "metadata": {},
   "source": [
    "Solve the first-order conditions. \n",
    "\n",
    "Note the syntax of the solve function, especially the use of the brackets:\n",
    "solve( (eq1, eq2, eq3), var1, var2, var3)\n",
    "\n",
    "The equations are by default treated as equal to 0 by the solver."
   ]
  },
  {
   "cell_type": "code",
   "execution_count": 5,
   "metadata": {
    "scrolled": true
   },
   "outputs": [
    {
     "data": {
      "image/png": "[encoded data removed]",
      "text/latex": [
       "$\\displaystyle \\left[ \\left( \\frac{\\alpha y}{p_{1}}, \\  \\frac{\\beta y}{p_{2}}, \\  - \\frac{y \\left(\\alpha + \\beta - 1\\right)}{p_{3}}, \\  \\frac{\\left(\\frac{\\alpha y}{p_{1}}\\right)^{\\alpha} \\left(\\frac{\\beta y}{p_{2}}\\right)^{\\beta} \\left(- \\frac{y \\left(\\alpha + \\beta - 1\\right)}{p_{3}}\\right)^{- \\alpha - \\beta + 1}}{y}\\right)\\right]$"
      ],
      "text/plain": [
       "⎡⎛                                α      β                  -α - β + 1⎞⎤\n",
       "⎢⎜                           ⎛α⋅y⎞  ⎛β⋅y⎞  ⎛-y⋅(α + β - 1) ⎞          ⎟⎥\n",
       "⎢⎜                           ⎜───⎟ ⋅⎜───⎟ ⋅⎜───────────────⎟          ⎟⎥\n",
       "⎢⎜α⋅y  β⋅y  -y⋅(α + β - 1)   ⎝ p₁⎠  ⎝ p₂⎠  ⎝       p₃      ⎠          ⎟⎥\n",
       "⎢⎜───, ───, ───────────────, ─────────────────────────────────────────⎟⎥\n",
       "⎣⎝ p₁   p₂         p₃                            y                    ⎠⎦"
      ]
     },
     "execution_count": 5,
     "metadata": {},
     "output_type": "execute_result"
    }
   ],
   "source": [
    "foc_sol = solve( ( diff(lagr,q1), diff(lagr,q2), diff(lagr,q3), diff(lagr,lam) ), q1,q2,q3,lam)\n",
    "foc_sol"
   ]
  },
  {
   "cell_type": "markdown",
   "metadata": {},
   "source": [
    "The solution is a list with one element, because our solution is unique."
   ]
  },
  {
   "cell_type": "code",
   "execution_count": 6,
   "metadata": {
    "scrolled": true
   },
   "outputs": [
    {
     "data": {
      "image/png": "[encoded data removed]",
      "text/latex": [
       "$\\displaystyle \\left( \\frac{\\alpha y}{p_{1}}, \\  \\frac{\\beta y}{p_{2}}, \\  - \\frac{y \\left(\\alpha + \\beta - 1\\right)}{p_{3}}, \\  \\frac{\\left(\\frac{\\alpha y}{p_{1}}\\right)^{\\alpha} \\left(\\frac{\\beta y}{p_{2}}\\right)^{\\beta} \\left(- \\frac{y \\left(\\alpha + \\beta - 1\\right)}{p_{3}}\\right)^{- \\alpha - \\beta + 1}}{y}\\right)$"
      ],
      "text/plain": [
       "⎛                                α      β                  -α - β + 1⎞\n",
       "⎜                           ⎛α⋅y⎞  ⎛β⋅y⎞  ⎛-y⋅(α + β - 1) ⎞          ⎟\n",
       "⎜                           ⎜───⎟ ⋅⎜───⎟ ⋅⎜───────────────⎟          ⎟\n",
       "⎜α⋅y  β⋅y  -y⋅(α + β - 1)   ⎝ p₁⎠  ⎝ p₂⎠  ⎝       p₃      ⎠          ⎟\n",
       "⎜───, ───, ───────────────, ─────────────────────────────────────────⎟\n",
       "⎝ p₁   p₂         p₃                            y                    ⎠"
      ]
     },
     "execution_count": 6,
     "metadata": {},
     "output_type": "execute_result"
    }
   ],
   "source": [
    "foc_sol[0]"
   ]
  },
  {
   "cell_type": "markdown",
   "metadata": {},
   "source": [
    "To access the first element in our solution, which is a list by itself, we use the list index again."
   ]
  },
  {
   "cell_type": "code",
   "execution_count": 7,
   "metadata": {},
   "outputs": [
    {
     "data": {
      "image/png": "[encoded data removed]",
      "text/latex": [
       "$\\displaystyle \\frac{\\alpha y}{p_{1}}$"
      ],
      "text/plain": [
       "α⋅y\n",
       "───\n",
       " p₁"
      ]
     },
     "execution_count": 7,
     "metadata": {},
     "output_type": "execute_result"
    }
   ],
   "source": [
    "q1star = foc_sol[0][0]\n",
    "q1star"
   ]
  },
  {
   "cell_type": "code",
   "execution_count": 8,
   "metadata": {
    "scrolled": true
   },
   "outputs": [
    {
     "data": {
      "image/png": "[encoded data removed]",
      "text/latex": [
       "$\\displaystyle \\frac{\\beta y}{p_{2}}$"
      ],
      "text/plain": [
       "β⋅y\n",
       "───\n",
       " p₂"
      ]
     },
     "execution_count": 8,
     "metadata": {},
     "output_type": "execute_result"
    }
   ],
   "source": [
    "q2star = foc_sol[0][1]\n",
    "q2star"
   ]
  },
  {
   "cell_type": "code",
   "execution_count": 9,
   "metadata": {},
   "outputs": [
    {
     "data": {
      "image/png": "[encoded data removed]",
      "text/latex": [
       "$\\displaystyle - \\frac{y \\left(\\alpha + \\beta - 1\\right)}{p_{3}}$"
      ],
      "text/plain": [
       "-y⋅(α + β - 1) \n",
       "───────────────\n",
       "       p₃      "
      ]
     },
     "execution_count": 9,
     "metadata": {},
     "output_type": "execute_result"
    }
   ],
   "source": [
    "q3star = foc_sol[0][2]\n",
    "q3star"
   ]
  },
  {
   "cell_type": "markdown",
   "metadata": {},
   "source": [
    "Substitute optimal consumption into the direct utility function, to calculate the optimal utility level attainable at the given exogenous variables. \n",
    "\n",
    "The resulting function is our **indirect utility function**, $v(p_1,p_2,y)$."
   ]
  },
  {
   "cell_type": "code",
   "execution_count": 10,
   "metadata": {},
   "outputs": [
    {
     "data": {
      "image/png": "[encoded data removed]",
      "text/latex": [
       "$\\displaystyle \\left(\\frac{\\alpha y}{p_{1}}\\right)^{\\alpha} \\left(\\frac{\\beta y}{p_{2}}\\right)^{\\beta} \\left(- \\frac{y \\left(\\alpha + \\beta - 1\\right)}{p_{3}}\\right)^{- \\alpha - \\beta + 1}$"
      ],
      "text/plain": [
       "     α      β                  -α - β + 1\n",
       "⎛α⋅y⎞  ⎛β⋅y⎞  ⎛-y⋅(α + β - 1) ⎞          \n",
       "⎜───⎟ ⋅⎜───⎟ ⋅⎜───────────────⎟          \n",
       "⎝ p₁⎠  ⎝ p₂⎠  ⎝       p₃      ⎠          "
      ]
     },
     "execution_count": 10,
     "metadata": {},
     "output_type": "execute_result"
    }
   ],
   "source": [
    "v = u.subs([(q1,q1star), (q2,q2star), (q3,q3star)])\n",
    "v"
   ]
  },
  {
   "cell_type": "code",
   "execution_count": null,
   "metadata": {},
   "outputs": [],
   "source": []
  }
 ],
 "metadata": {
  "kernelspec": {
   "display_name": "Python 3",
   "language": "python",
   "name": "python3"
  },
  "language_info": {
   "codemirror_mode": {
    "name": "ipython",
    "version": 3
   },
   "file_extension": ".py",
   "mimetype": "text/x-python",
   "name": "python",
   "nbconvert_exporter": "python",
   "pygments_lexer": "ipython3",
   "version": "3.7.4"
  }
 },
 "nbformat": 4,
 "nbformat_minor": 1
}
