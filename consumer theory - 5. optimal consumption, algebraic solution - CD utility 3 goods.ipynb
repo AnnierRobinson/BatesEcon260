{
  "cells": [
    {
      "metadata": {},
      "cell_type": "markdown",
      "source": [
        "Import necessary packages."
      ]
    },
    {
      "metadata": {
        "trusted": true
      },
      "cell_type": "code",
      "source": [
        "# import all functions from python labrary: sympy\n",
        "from sympy import *\n",
        "# import python library: matplotlib (for nice plots)\n",
        "import matplotlib\n",
        "# set sympy output to print pretty math expressions\n",
        "init_printing()"
      ],
      "execution_count": 3,
      "outputs": []
    },
    {
      "metadata": {},
      "cell_type": "markdown",
      "source": [
        "Declare variables we are going to use as 'symbols'. We will add more along the way, if necessary."
      ]
    },
    {
      "metadata": {
        "trusted": true
      },
      "cell_type": "code",
      "source": [
        "q1, q2, q3, p1, p2, p3, y = symbols('q1 q2 q3 p1 p2 p3 y')"
      ],
      "execution_count": 4,
      "outputs": []
    },
    {
      "metadata": {},
      "cell_type": "markdown",
      "source": [
        "# 5. Solve for optimal consumption analytically (CD utility, 3 goods)"
      ]
    },
    {
      "metadata": {},
      "cell_type": "markdown",
      "source": [
        "## Setup the optimization program"
      ]
    },
    {
      "metadata": {},
      "cell_type": "markdown",
      "source": [
        "Our optimization problem is\n",
        "\\begin{align}\n",
        "    & \\max_{q_1,q_2,q_3}\\quad u(q_1,q_2,q_3) \\\\\n",
        "    \\text{s.t.}\\quad & p_1 q_1 + p_2 q_2 + p_3 q_3= y\n",
        "\\end{align}"
      ]
    },
    {
      "metadata": {},
      "cell_type": "markdown",
      "source": [
        "## Setup the utility function"
      ]
    },
    {
      "metadata": {
        "trusted": true
      },
      "cell_type": "code",
      "source": [
        "# define alpha as a rational number of 1/2\n",
        "#alpha = Rational(1,2)\n",
        "alpha, beta = symbols('alpha beta')\n",
        "\n",
        "\n",
        "# Note: in sympy syntax: use double star ** for power\n",
        "u = q1**(alpha) * q2**(beta) * q3**(1-alpha-beta)\n",
        "# show the defined function\n",
        "u"
      ],
      "execution_count": 6,
      "outputs": [
        {
          "output_type": "execute_result",
          "data": {
            "text/plain": [
              "  α   β   -α - β + 1\n",
              "q₁ ⋅q₂ ⋅q₃          "
            ],
            "image/png": "[encoded data removed]",
            "text/latex": "$\\displaystyle q_{1}^{\\alpha} q_{2}^{\\beta} q_{3}^{- \\alpha - \\beta + 1}$"
          },
          "metadata": {},
          "execution_count": 6
        }
      ]
    },
    {
      "metadata": {},
      "cell_type": "markdown",
      "source": [
        "## Setup the lagrangian"
      ]
    },
    {
      "metadata": {
        "trusted": true,
        "scrolled": false
      },
      "cell_type": "code",
      "source": [
        "lam = symbols('lambda')\n",
        "lagr = u + lam *(y - p1*q1 - p2*q2 - p3*q3)\n",
        "lagr"
      ],
      "execution_count": 7,
      "outputs": [
        {
          "output_type": "execute_result",
          "data": {
            "text/plain": [
              "                                   α   β   -α - β + 1\n",
              "λ⋅(-p₁⋅q₁ - p₂⋅q₂ - p₃⋅q₃ + y) + q₁ ⋅q₂ ⋅q₃          "
            ],
            "image/png": "[encoded data removed]",
            "text/latex": "$\\displaystyle \\lambda \\left(- p_{1} q_{1} - p_{2} q_{2} - p_{3} q_{3} + y\\right) + q_{1}^{\\alpha} q_{2}^{\\beta} q_{3}^{- \\alpha - \\beta + 1}$"
          },
          "metadata": {},
          "execution_count": 7
        }
      ]
    },
    {
      "metadata": {},
      "cell_type": "markdown",
      "source": [
        "Solve the first-order conditions. \n",
        "\n",
        "Note the syntax of the solve function, especially the use of the brackets:\n",
        "solve( (eq1, eq2, eq3), var1, var2, var3)\n",
        "\n",
        "The equations are by default treated as equal to 0 by the solver."
      ]
    },
    {
      "metadata": {
        "trusted": true,
        "scrolled": true
      },
      "cell_type": "code",
      "source": [
        "foc_sol = solve(( diff(lagr,q1), diff(lagr,q2), diff(lagr,q3), diff(lagr,lam) ), q1,q2,q3,lam)\n",
        "foc_sol"
      ],
      "execution_count": 10,
      "outputs": [
        {
          "output_type": "execute_result",
          "data": {
            "text/plain": [
              "⎡⎛                                α      β                  -α - β + 1⎞⎤\n",
              "⎢⎜                           ⎛α⋅y⎞  ⎛β⋅y⎞  ⎛-y⋅(α + β - 1) ⎞          ⎟⎥\n",
              "⎢⎜                           ⎜───⎟ ⋅⎜───⎟ ⋅⎜───────────────⎟          ⎟⎥\n",
              "⎢⎜α⋅y  β⋅y  -y⋅(α + β - 1)   ⎝ p₁⎠  ⎝ p₂⎠  ⎝       p₃      ⎠          ⎟⎥\n",
              "⎢⎜───, ───, ───────────────, ─────────────────────────────────────────⎟⎥\n",
              "⎣⎝ p₁   p₂         p₃                            y                    ⎠⎦"
            ],
            "image/png": "[encoded data removed]",
            "text/latex": "$\\displaystyle \\left[ \\left( \\frac{\\alpha y}{p_{1}}, \\  \\frac{\\beta y}{p_{2}}, \\  - \\frac{y \\left(\\alpha + \\beta - 1\\right)}{p_{3}}, \\  \\frac{\\left(\\frac{\\alpha y}{p_{1}}\\right)^{\\alpha} \\left(\\frac{\\beta y}{p_{2}}\\right)^{\\beta} \\left(- \\frac{y \\left(\\alpha + \\beta - 1\\right)}{p_{3}}\\right)^{- \\alpha - \\beta + 1}}{y}\\right)\\right]$"
          },
          "metadata": {},
          "execution_count": 10
        }
      ]
    },
    {
      "metadata": {},
      "cell_type": "markdown",
      "source": [
        "The solution is a list with one element, because our solution is unique."
      ]
    },
    {
      "metadata": {
        "trusted": true,
        "scrolled": true
      },
      "cell_type": "code",
      "source": [
        "foc_sol[0]"
      ],
      "execution_count": 11,
      "outputs": [
        {
          "output_type": "execute_result",
          "data": {
            "text/plain": [
              "⎛                                α      β                  -α - β + 1⎞\n",
              "⎜                           ⎛α⋅y⎞  ⎛β⋅y⎞  ⎛-y⋅(α + β - 1) ⎞          ⎟\n",
              "⎜                           ⎜───⎟ ⋅⎜───⎟ ⋅⎜───────────────⎟          ⎟\n",
              "⎜α⋅y  β⋅y  -y⋅(α + β - 1)   ⎝ p₁⎠  ⎝ p₂⎠  ⎝       p₃      ⎠          ⎟\n",
              "⎜───, ───, ───────────────, ─────────────────────────────────────────⎟\n",
              "⎝ p₁   p₂         p₃                            y                    ⎠"
            ],
            "image/png": "[encoded data removed]",
            "text/latex": "$\\displaystyle \\left( \\frac{\\alpha y}{p_{1}}, \\  \\frac{\\beta y}{p_{2}}, \\  - \\frac{y \\left(\\alpha + \\beta - 1\\right)}{p_{3}}, \\  \\frac{\\left(\\frac{\\alpha y}{p_{1}}\\right)^{\\alpha} \\left(\\frac{\\beta y}{p_{2}}\\right)^{\\beta} \\left(- \\frac{y \\left(\\alpha + \\beta - 1\\right)}{p_{3}}\\right)^{- \\alpha - \\beta + 1}}{y}\\right)$"
          },
          "metadata": {},
          "execution_count": 11
        }
      ]
    },
    {
      "metadata": {},
      "cell_type": "markdown",
      "source": [
        "To access the first element in our solution, which is a list by itself, we use the list index again."
      ]
    },
    {
      "metadata": {
        "trusted": true
      },
      "cell_type": "code",
      "source": [
        "q1star = foc_sol[0][0]\n",
        "q1star"
      ],
      "execution_count": 12,
      "outputs": [
        {
          "output_type": "execute_result",
          "data": {
            "text/plain": [
              "α⋅y\n",
              "───\n",
              " p₁"
            ],
            "image/png": "[encoded data removed]",
            "text/latex": "$\\displaystyle \\frac{\\alpha y}{p_{1}}$"
          },
          "metadata": {},
          "execution_count": 12
        }
      ]
    },
    {
      "metadata": {
        "trusted": true,
        "scrolled": true
      },
      "cell_type": "code",
      "source": [
        "q2star = foc_sol[0][1]\n",
        "q2star"
      ],
      "execution_count": 14,
      "outputs": [
        {
          "output_type": "execute_result",
          "data": {
            "text/plain": [
              "β⋅y\n",
              "───\n",
              " p₂"
            ],
            "image/png": "[encoded data removed]",
            "text/latex": "$\\displaystyle \\frac{\\beta y}{p_{2}}$"
          },
          "metadata": {},
          "execution_count": 14
        }
      ]
    },
    {
      "cell_type": "code",
      "execution_count": 15,
      "metadata": {},
      "outputs": [
        {
          "output_type": "execute_result",
          "data": {
            "text/plain": [
              "-y⋅(α + β - 1) \n",
              "───────────────\n",
              "       p₃      "
            ],
            "image/png": "[encoded data removed]",
            "text/latex": "$\\displaystyle - \\frac{y \\left(\\alpha + \\beta - 1\\right)}{p_{3}}$"
          },
          "metadata": {},
          "execution_count": 15
        }
      ],
      "source": [
        "q3star = foc_sol[0][2]\n",
        "q3star"
      ]
    },
    {
      "metadata": {},
      "cell_type": "markdown",
      "source": [
        "Substitute optimal consumption into the direct utility function, to calculate the optimal utility level attainable at the given exogenous variables. \n",
        "\n",
        "The resulting function is our **indirect utility function**, $v(p_1,p_2,y)$."
      ]
    },
    {
      "metadata": {
        "trusted": true
      },
      "cell_type": "code",
      "source": [
        "v = u.subs([(q1,q1star), (q2,q2star), (q3,q3star)])\n",
        "v"
      ],
      "execution_count": 16,
      "outputs": [
        {
          "output_type": "execute_result",
          "data": {
            "text/plain": [
              "     α      β                  -α - β + 1\n",
              "⎛α⋅y⎞  ⎛β⋅y⎞  ⎛-y⋅(α + β - 1) ⎞          \n",
              "⎜───⎟ ⋅⎜───⎟ ⋅⎜───────────────⎟          \n",
              "⎝ p₁⎠  ⎝ p₂⎠  ⎝       p₃      ⎠          "
            ],
            "image/png": "[encoded data removed]",
            "text/latex": "$\\displaystyle \\left(\\frac{\\alpha y}{p_{1}}\\right)^{\\alpha} \\left(\\frac{\\beta y}{p_{2}}\\right)^{\\beta} \\left(- \\frac{y \\left(\\alpha + \\beta - 1\\right)}{p_{3}}\\right)^{- \\alpha - \\beta + 1}$"
          },
          "metadata": {},
          "execution_count": 16
        }
      ]
    },
    {
      "metadata": {
        "trusted": true
      },
      "cell_type": "code",
      "source": [],
      "execution_count": null,
      "outputs": []
    }
  ],
  "metadata": {
    "kernelspec": {
      "name": "Python 3.7.6 64-bit ('base': conda)",
      "display_name": "Python 3.7.6 64-bit ('base': conda)",
      "metadata": {
        "interpreter": {
          "hash": "f32be7cef2349a7aa3a592f4d86530b9704431b75bf5483879d89121ec9f0c30"
        }
      }
    },
    "language_info": {
      "mimetype": "text/x-python",
      "nbconvert_exporter": "python",
      "name": "python",
      "pygments_lexer": "ipython3",
      "version": "3.7.6-final",
      "file_extension": ".py",
      "codemirror_mode": {
        "version": 3,
        "name": "ipython"
      }
    }
  },
  "nbformat": 4,
  "nbformat_minor": 1
}