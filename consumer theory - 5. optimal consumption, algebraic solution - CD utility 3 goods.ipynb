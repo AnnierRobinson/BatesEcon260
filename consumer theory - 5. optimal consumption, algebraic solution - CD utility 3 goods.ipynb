{
 "cells": [
  {
   "cell_type": "markdown",
   "metadata": {},
   "source": [
    "Import necessary packages."
   ]
  },
  {
   "cell_type": "code",
   "execution_count": 5,
   "metadata": {},
   "outputs": [],
   "source": [
    "# import all functions from python labrary: sympy\n",
    "from sympy import *\n",
    "# import python library: matplotlib (for nice plots)\n",
    "import matplotlib\n",
    "# set sympy output to print pretty math expressions\n",
    "init_printing()"
   ]
  },
  {
   "cell_type": "markdown",
   "metadata": {},
   "source": [
    "Declare variables we are going to use as 'symbols'. We will add more along the way, if necessary."
   ]
  },
  {
   "cell_type": "code",
   "execution_count": 6,
   "metadata": {},
   "outputs": [],
   "source": [
    "q1, q2, q3, p1, p2, p3, y = symbols('q1 q2 q3 p1 p2 p3 y')"
   ]
  },
  {
   "cell_type": "markdown",
   "metadata": {},
   "source": [
    "# 5. Solve for optimal consumption analytically (CD utility, 3 goods)"
   ]
  },
  {
   "cell_type": "markdown",
   "metadata": {},
   "source": [
    "## Setup the optimization program"
   ]
  },
  {
   "cell_type": "markdown",
   "metadata": {},
   "source": [
    "Our optimization problem is\n",
    "\\begin{align}\n",
    "    & \\max_{q_1,q_2,q_3}\\quad u(q_1,q_2,q_3) = q_1^{\\alpha} q_2^{\\beta} q_3^{1-\\alpha-\\beta} \\\\\n",
    "    \\text{s.t.}\\quad & p_1 q_1 + p_2 q_2 + p_3 q_3= y\n",
    "\\end{align}"
   ]
  },
  {
   "cell_type": "markdown",
   "metadata": {},
   "source": [
    "## Setup the utility function"
   ]
  },
  {
   "cell_type": "code",
   "execution_count": 7,
   "metadata": {},
   "outputs": [
    {
     "data": {
      "image/png": "[encoded data removed]",
      "text/latex": [
       "$\\displaystyle q_{1}^{\\alpha} q_{2}^{\\beta} q_{3}^{- \\alpha - \\beta + 1}$"
      ],
      "text/plain": [
       "  α   β   -α - β + 1\n",
       "q₁ ⋅q₂ ⋅q₃          "
      ]
     },
     "execution_count": 7,
     "metadata": {},
     "output_type": "execute_result"
    }
   ],
   "source": [
    "# define alpha as a rational number of 1/2\n",
    "#alpha = Rational(1,2)\n",
    "alpha, beta = symbols('alpha beta')\n",
    "\n",
    "\n",
    "# Note: in sympy syntax: use double star ** for power\n",
    "u = q1**(alpha) * q2**(beta) * q3**(1-alpha-beta)\n",
    "# show the defined function\n",
    "u"
   ]
  },
  {
   "cell_type": "markdown",
   "metadata": {},
   "source": [
    "## Setup the lagrangian"
   ]
  },
  {
   "cell_type": "code",
   "execution_count": 8,
   "metadata": {
    "scrolled": false
   },
   "outputs": [
    {
     "data": {
      "image/png": "[encoded data removed]",
      "text/latex": [
       "$\\displaystyle \\lambda \\left(- p_{1} q_{1} - p_{2} q_{2} - p_{3} q_{3} + y\\right) + q_{1}^{\\alpha} q_{2}^{\\beta} q_{3}^{- \\alpha - \\beta + 1}$"
      ],
      "text/plain": [
       "                                   α   β   -α - β + 1\n",
       "λ⋅(-p₁⋅q₁ - p₂⋅q₂ - p₃⋅q₃ + y) + q₁ ⋅q₂ ⋅q₃          "
      ]
     },
     "execution_count": 8,
     "metadata": {},
     "output_type": "execute_result"
    }
   ],
   "source": [
    "lam = symbols('lambda')\n",
    "lagr = u + lam *(y - p1*q1 - p2*q2 - p3*q3)\n",
    "lagr"
   ]
  },
  {
   "cell_type": "markdown",
   "metadata": {},
   "source": [
    "Solve the first-order conditions. \n",
    "\n",
    "Note the syntax of the solve function, especially the use of the brackets:\n",
    "solve( (eq1, eq2, eq3), var1, var2, var3)\n",
    "\n",
    "The equations are by default treated as equal to 0 by the solver."
   ]
  },
  {
   "cell_type": "code",
   "execution_count": 9,
   "metadata": {
    "scrolled": true
   },
   "outputs": [
    {
     "data": {
      "image/png": "[encoded data removed]",
      "text/latex": [
       "$\\displaystyle \\left[ \\left( \\frac{\\alpha y}{p_{1}}, \\  \\frac{\\beta y}{p_{2}}, \\  - \\frac{y \\left(\\alpha + \\beta - 1\\right)}{p_{3}}, \\  \\frac{\\left(\\frac{\\alpha y}{p_{1}}\\right)^{\\alpha} \\left(\\frac{\\beta y}{p_{2}}\\right)^{\\beta} \\left(- \\frac{y \\left(\\alpha + \\beta - 1\\right)}{p_{3}}\\right)^{- \\alpha - \\beta + 1}}{y}\\right)\\right]$"
      ],
      "text/plain": [
       "⎡⎛                                α      β                  -α - β + 1⎞⎤\n",
       "⎢⎜                           ⎛α⋅y⎞  ⎛β⋅y⎞  ⎛-y⋅(α + β - 1) ⎞          ⎟⎥\n",
       "⎢⎜                           ⎜───⎟ ⋅⎜───⎟ ⋅⎜───────────────⎟          ⎟⎥\n",
       "⎢⎜α⋅y  β⋅y  -y⋅(α + β - 1)   ⎝ p₁⎠  ⎝ p₂⎠  ⎝       p₃      ⎠          ⎟⎥\n",
       "⎢⎜───, ───, ───────────────, ─────────────────────────────────────────⎟⎥\n",
       "⎣⎝ p₁   p₂         p₃                            y                    ⎠⎦"
      ]
     },
     "execution_count": 9,
     "metadata": {},
     "output_type": "execute_result"
    }
   ],
   "source": [
    "foc_sol = solve( ( diff(lagr,q1), diff(lagr,q2), diff(lagr,q3), diff(lagr,lam) ), q1,q2,q3,lam)\n",
    "foc_sol"
   ]
  },
  {
   "cell_type": "markdown",
   "metadata": {},
   "source": [
    "The solution is a list with one element, because our solution is unique."
   ]
  },
  {
   "cell_type": "code",
   "execution_count": 6,
   "metadata": {
    "scrolled": true
   },
   "outputs": [
    {
     "data": {
      "image/png": "[encoded data removed]",
      "text/latex": [
       "$\\displaystyle \\left( \\frac{\\alpha y}{p_{1}}, \\  \\frac{\\beta y}{p_{2}}, \\  - \\frac{y \\left(\\alpha + \\beta - 1\\right)}{p_{3}}, \\  \\frac{\\left(\\frac{\\alpha y}{p_{1}}\\right)^{\\alpha} \\left(\\frac{\\beta y}{p_{2}}\\right)^{\\beta} \\left(- \\frac{y \\left(\\alpha + \\beta - 1\\right)}{p_{3}}\\right)^{- \\alpha - \\beta + 1}}{y}\\right)$"
      ],
      "text/plain": [
       "⎛                                α      β                  -α - β + 1⎞\n",
       "⎜                           ⎛α⋅y⎞  ⎛β⋅y⎞  ⎛-y⋅(α + β - 1) ⎞          ⎟\n",
       "⎜                           ⎜───⎟ ⋅⎜───⎟ ⋅⎜───────────────⎟          ⎟\n",
       "⎜α⋅y  β⋅y  -y⋅(α + β - 1)   ⎝ p₁⎠  ⎝ p₂⎠  ⎝       p₃      ⎠          ⎟\n",
       "⎜───, ───, ───────────────, ─────────────────────────────────────────⎟\n",
       "⎝ p₁   p₂         p₃                            y                    ⎠"
      ]
     },
     "execution_count": 6,
     "metadata": {},
     "output_type": "execute_result"
    }
   ],
   "source": [
    "foc_sol[0]"
   ]
  },
  {
   "cell_type": "markdown",
   "metadata": {},
   "source": [
    "To access the first element in our solution, which is a list by itself, we use the list index again."
   ]
  },
  {
   "cell_type": "code",
   "execution_count": 7,
   "metadata": {},
   "outputs": [
    {
     "data": {
      "image/png": "[encoded data removed]",
      "text/latex": [
       "$\\displaystyle \\frac{\\alpha y}{p_{1}}$"
      ],
      "text/plain": [
       "α⋅y\n",
       "───\n",
       " p₁"
      ]
     },
     "execution_count": 7,
     "metadata": {},
     "output_type": "execute_result"
    }
   ],
   "source": [
    "q1star = foc_sol[0][0]\n",
    "q1star"
   ]
  },
  {
   "cell_type": "code",
   "execution_count": 8,
   "metadata": {
    "scrolled": true
   },
   "outputs": [
    {
     "data": {
      "image/png": "[encoded data removed]",
      "text/latex": [
       "$\\displaystyle \\frac{\\beta y}{p_{2}}$"
      ],
      "text/plain": [
       "β⋅y\n",
       "───\n",
       " p₂"
      ]
     },
     "execution_count": 8,
     "metadata": {},
     "output_type": "execute_result"
    }
   ],
   "source": [
    "q2star = foc_sol[0][1]\n",
    "q2star"
   ]
  },
  {
   "cell_type": "code",
   "execution_count": 9,
   "metadata": {},
   "outputs": [
    {
     "data": {
      "image/png": "[encoded data removed]",
      "text/latex": [
       "$\\displaystyle - \\frac{y \\left(\\alpha + \\beta - 1\\right)}{p_{3}}$"
      ],
      "text/plain": [
       "-y⋅(α + β - 1) \n",
       "───────────────\n",
       "       p₃      "
      ]
     },
     "execution_count": 9,
     "metadata": {},
     "output_type": "execute_result"
    }
   ],
   "source": [
    "q3star = foc_sol[0][2]\n",
    "q3star"
   ]
  },
  {
   "cell_type": "markdown",
   "metadata": {},
   "source": [
    "Substitute optimal consumption into the direct utility function, to calculate the optimal utility level attainable at the given exogenous variables. \n",
    "\n",
    "The resulting function is our **indirect utility function**, $v(p_1,p_2,y)$."
   ]
  },
  {
   "cell_type": "code",
   "execution_count": 10,
   "metadata": {},
   "outputs": [
    {
     "data": {
      "image/png": "[encoded data removed]",
      "text/latex": [
       "$\\displaystyle \\left(\\frac{\\alpha y}{p_{1}}\\right)^{\\alpha} \\left(\\frac{\\beta y}{p_{2}}\\right)^{\\beta} \\left(- \\frac{y \\left(\\alpha + \\beta - 1\\right)}{p_{3}}\\right)^{- \\alpha - \\beta + 1}$"
      ],
      "text/plain": [
       "     α      β                  -α - β + 1\n",
       "⎛α⋅y⎞  ⎛β⋅y⎞  ⎛-y⋅(α + β - 1) ⎞          \n",
       "⎜───⎟ ⋅⎜───⎟ ⋅⎜───────────────⎟          \n",
       "⎝ p₁⎠  ⎝ p₂⎠  ⎝       p₃      ⎠          "
      ]
     },
     "execution_count": 10,
     "metadata": {},
     "output_type": "execute_result"
    }
   ],
   "source": [
    "v = u.subs([(q1,q1star), (q2,q2star), (q3,q3star)])\n",
    "v"
   ]
  },
  {
   "cell_type": "code",
   "execution_count": null,
   "metadata": {},
   "outputs": [],
   "source": []
  }
 ],
 "metadata": {
  "kernelspec": {
   "display_name": "Python 3",
   "language": "python",
   "name": "python3"
  },
  "language_info": {
   "codemirror_mode": {
    "name": "ipython",
    "version": 3
   },
   "file_extension": ".py",
   "mimetype": "text/x-python",
   "name": "python",
   "nbconvert_exporter": "python",
   "pygments_lexer": "ipython3",
   "version": "3.7.6"
  }
 },
 "nbformat": 4,
 "nbformat_minor": 1
}
