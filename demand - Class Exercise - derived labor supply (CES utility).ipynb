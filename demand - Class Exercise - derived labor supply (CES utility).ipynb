{
 "cells": [
  {
   "cell_type": "markdown",
   "metadata": {},
   "source": [
    "Import necessary packages."
   ]
  },
  {
   "cell_type": "code",
   "execution_count": 1,
   "metadata": {},
   "outputs": [],
   "source": [
    "# import all functions from python labrary: sympy\n",
    "from sympy import *\n",
    "# import python library: matplotlib (for nice plots)\n",
    "import matplotlib\n",
    "# set sympy output to print pretty math expressions\n",
    "init_printing()"
   ]
  },
  {
   "cell_type": "markdown",
   "metadata": {},
   "source": [
    "# 1. Derived labor supply from a CES utility function\n",
    "Note: see the class handout (on Lyceum) for the graphical solution to this problem"
   ]
  },
  {
   "cell_type": "markdown",
   "metadata": {},
   "source": [
    "Imagine a \"consumer\" (household/worker) with preferences represented by a CES utility function over two \"goods\", leasure ($N$) and income ($w \\times H$), where $w$ is the hourly wage rate. They face a resource constraint in time: $$N + H = T,$$ where $T$ is total hours.\n",
    "\n",
    "### Question: \n",
    "* write down the utiltiy maximization problem facing the consumer (household/worker)\n"
   ]
  },
  {
   "cell_type": "markdown",
   "metadata": {},
   "source": [
    "\n",
    "\n",
    "\\begin{align}\n",
    "    & \\max_{N, H}\\quad u(N,wH) = (N^{\\rho} + (wH)^{\\rho})^{\\frac{1}{\\rho}} \\\\\n",
    "    & \\text{s.t.}\\quad N + H = T\n",
    "\\end{align}"
   ]
  },
  {
   "cell_type": "markdown",
   "metadata": {},
   "source": [
    "### Interpreting the problem\n",
    "\n",
    "We don't see the income as a good in the time constraint now. Let's multiply the time constraint by wage rate $w$.\n",
    "\n",
    "$$ N + H = T \\qquad \\Leftrightarrow \\qquad wN + wH = wT, $$\n",
    "\n",
    "which we can reinterpret as prices and quantities\n",
    "\n",
    "$$\\underbrace{w}_{p_1} \\times \\underbrace{N}_{q_1} + \\underbrace{1}_{p_2} \\times \\underbrace{wH}_{q_2}= \\underbrace{wT}_{\\text{resource in terms of income}}$$\n"
   ]
  },
  {
   "cell_type": "markdown",
   "metadata": {},
   "source": [
    "### Question:\n",
    "* write down the optimal demand for leasure, income, and working hours, based on the CES solutions \n",
    "\n",
    "\\begin{align}\n",
    "    q_1^* &= \\frac{p_1^{\\sigma}}{p_1^{1+\\sigma} + p_2^{1+\\sigma}} y \\\\\n",
    "    q_2^* &= \\frac{p_2^{\\sigma}}{p_1^{1+\\sigma} + p_2^{1+\\sigma}} y\n",
    "\\end{align}"
   ]
  },
  {
   "cell_type": "markdown",
   "metadata": {},
   "source": [
    "### Answer:\n",
    "The demands are\n",
    "\\begin{align}\n",
    "    N^* &= \\frac{w^{\\sigma}}{w^{1+\\sigma} + 1} wT \\\\\n",
    "    wH^* &= \\frac{1}{w^{1+\\sigma} + 1} wT\n",
    "\\end{align}\n",
    "where the second expression implies\n",
    "$$ H^* = \\frac{1}{w^{1+\\sigma} + 1} T $$"
   ]
  },
  {
   "cell_type": "markdown",
   "metadata": {},
   "source": [
    "### Question:\n",
    "* If $\\rho = 1/2$, i.e., $\\sigma = -\\frac{1}{1-\\rho} = -2$, then what is the optimal labor supply?"
   ]
  },
  {
   "cell_type": "markdown",
   "metadata": {},
   "source": [
    "### Answer:\n",
    "The labor supply would be \n",
    "\\begin{align}\n",
    "    H^* &= \\frac{1}{w^{1+\\sigma} + 1} T \\\\\n",
    "        &= \\frac{1}{w^{-1} + 1} T \\\\\n",
    "        &= \\frac{1}{\\frac{1}{w} + 1} T \\\\\n",
    "        &= \\frac{1}{\\frac{1 + w}{w}} T \\\\\n",
    "        &= \\frac{w}{w + 1} T\n",
    "\\end{align}"
   ]
  },
  {
   "cell_type": "markdown",
   "metadata": {},
   "source": [
    "### Question: \n",
    "* How does this derived labor supply change with increases in the hourly wage?"
   ]
  },
  {
   "cell_type": "markdown",
   "metadata": {},
   "source": [
    "Answer:\n",
    "We use comparative statics to analyze $\\frac{\\partial H^*}{\\partial w}$"
   ]
  },
  {
   "cell_type": "code",
   "execution_count": 12,
   "metadata": {},
   "outputs": [],
   "source": [
    "# define symbols\n",
    "w, T = symbols('w T', nonzero=True, positive=True)"
   ]
  },
  {
   "cell_type": "code",
   "execution_count": 13,
   "metadata": {},
   "outputs": [
    {
     "data": {
      "image/png": "[encoded data removed]",
      "text/latex": [
       "$\\displaystyle \\frac{T}{\\left(w + 1\\right)^{2}}$"
      ],
      "text/plain": [
       "   T    \n",
       "────────\n",
       "       2\n",
       "(w + 1) "
      ]
     },
     "execution_count": 13,
     "metadata": {},
     "output_type": "execute_result"
    }
   ],
   "source": [
    "# define the derived labor supply\n",
    "H = w/(w+1)*T\n",
    "H.diff(w).simplify()"
   ]
  },
  {
   "cell_type": "markdown",
   "metadata": {},
   "source": [
    "We found $\\frac{\\partial H^*}{\\partial w} > 0$, meaning that, in this model, labor supply increases as wage increases."
   ]
  },
  {
   "cell_type": "markdown",
   "metadata": {},
   "source": [
    "### Question: \n",
    "* Consider two workers, one working under a higher wage than the other. Do their labor supply increases more/less/same in response to a small increase in their respecitve wages?"
   ]
  },
  {
   "cell_type": "markdown",
   "metadata": {},
   "source": [
    "Answer: The answer to this lies in the second derivative, $\\frac{\\partial^2 H^*}{\\partial w^2} = \\frac{\\partial}{\\partial w}\\frac{\\partial H^*}{\\partial w}$"
   ]
  },
  {
   "cell_type": "code",
   "execution_count": 14,
   "metadata": {},
   "outputs": [
    {
     "data": {
      "image/png": "[encoded data removed]",
      "text/latex": [
       "$\\displaystyle - \\frac{2 T}{\\left(w + 1\\right)^{3}}$"
      ],
      "text/plain": [
       " -2⋅T   \n",
       "────────\n",
       "       3\n",
       "(w + 1) "
      ]
     },
     "execution_count": 14,
     "metadata": {},
     "output_type": "execute_result"
    }
   ],
   "source": [
    "H.diff(w,2).simplify()"
   ]
  },
  {
   "cell_type": "markdown",
   "metadata": {},
   "source": [
    "The negative second derivative implies that the increase in labor supply due to wage increases diminishes as the wage level increases.\n",
    "\n",
    "In other words, both a low-wage worker and a high-wage worker increases their labor supply in response to the same raise in their wages. But this response is stronger from the low-wage worker."
   ]
  },
  {
   "cell_type": "code",
   "execution_count": null,
   "metadata": {},
   "outputs": [],
   "source": []
  }
 ],
 "metadata": {
  "kernelspec": {
   "display_name": "Python 3 (ipykernel)",
   "language": "python",
   "name": "python3"
  },
  "language_info": {
   "codemirror_mode": {
    "name": "ipython",
    "version": 3
   },
   "file_extension": ".py",
   "mimetype": "text/x-python",
   "name": "python",
   "nbconvert_exporter": "python",
   "pygments_lexer": "ipython3",
   "version": "3.9.7"
  }
 },
 "nbformat": 4,
 "nbformat_minor": 4
}
