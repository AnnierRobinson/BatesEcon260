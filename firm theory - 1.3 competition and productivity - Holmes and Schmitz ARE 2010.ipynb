{
 "cells": [
  {
   "cell_type": "markdown",
   "metadata": {},
   "source": [
    "# Productivity in a Industry Model"
   ]
  },
  {
   "cell_type": "markdown",
   "metadata": {},
   "source": [
    "### notations"
   ]
  },
  {
   "cell_type": "markdown",
   "metadata": {},
   "source": [
    "From the paper, what does each notation represent?\n",
    "* $j$\n",
    "* $q^j$\n",
    "* $S^j$\n",
    "* $d^j(p^j)$\n",
    "* $T$\n",
    "* $D$\n",
    "* $i$\n",
    "* $F_i^j$\n",
    "* $E_i^j$\n",
    "* $y_i^j$\n",
    "* $n_i^j$\n",
    "* $A_i^j$\n",
    "* $f_i^j(n_i^j)$\n",
    "* $e$\n",
    "* $S^{j,e}$\n",
    "* $F^{j,e}$\n",
    "* $E_i^{j,e}$\n",
    "* $T^{e}$\n",
    "* $D^{e}$\n",
    "* $A_i^{j,e}$\n",
    "* $B^{j,e}$\n",
    "* $n_i^{j,e}$\n",
    "* $y_i^{j,e}$\n"
   ]
  },
  {
   "cell_type": "markdown",
   "metadata": {},
   "source": [
    "The key framework of the paper is in equation (1), which states\n",
    "\n",
    "\\begin{align}\n",
    "    \\text{Productivity}^e = \\frac{ \\sum_{i\\in B^{1,e}} A_i^{1,e} f(n_i^{1,e})  +  \\sum_{i\\in B^{2,e}} A_i^{2,e} f(n_i^{2,e}) }{ \\sum_{i\\in B^{1,e}} \\big( n_i^{1,e} + F_i^{1,e} \\big) + \\sum_{i\\in B^{2,e}} \\big( n_i^{2,e} + F_i^{2,e} \\big) + q_{ship}^e T^e}  \\tag{1}\n",
    "\\end{align}"
   ]
  },
  {
   "cell_type": "markdown",
   "metadata": {},
   "source": [
    "**Q:** What does expression (1) look like when each market only has one firm, i.e., $B^{1,e} = \\{1\\}$ and $B^{2,e} = \\{2\\}$?"
   ]
  },
  {
   "cell_type": "markdown",
   "metadata": {},
   "source": [
    "(answer here)"
   ]
  },
  {
   "cell_type": "markdown",
   "metadata": {},
   "source": [
    "**Q:** How would the productivity change if $A_i^{1,e}$ increases? "
   ]
  },
  {
   "cell_type": "markdown",
   "metadata": {},
   "source": [
    "(answer here)"
   ]
  },
  {
   "cell_type": "markdown",
   "metadata": {},
   "source": [
    "**Q:** How would the productivity change if $F_i^{1,e}$ decreases? "
   ]
  },
  {
   "cell_type": "markdown",
   "metadata": {},
   "source": [
    "(answer here)"
   ]
  },
  {
   "cell_type": "markdown",
   "metadata": {},
   "source": [
    "The paper highlights three sources of productivity differences.\n",
    "1. reallocation source (one firm replaced by another with higher $A_i^{1,e}$)\n",
    "2. scale effect (same output, less $F_i^{1,e}$)\n",
    "3. X-efficiency or within-firm effect ($A_i^{1,e} \\neq A_i^{1,e'}$ or $F_i^{1,e} \\neq F_i^{1,e'}$)\n",
    "\n",
    "How does each source work affect the productivity as defined in (1)?"
   ]
  },
  {
   "cell_type": "markdown",
   "metadata": {},
   "source": [
    "**Exercise:** explore how different forces and parameters change the productivity measure using sympy."
   ]
  },
  {
   "cell_type": "markdown",
   "metadata": {},
   "source": [
    "Import necessary packages."
   ]
  },
  {
   "cell_type": "code",
   "execution_count": null,
   "metadata": {},
   "outputs": [],
   "source": [
    "# import all functions from python labrary: sympy\n",
    "from sympy import *\n",
    "# import python library: matplotlib (for nice plots)\n",
    "import matplotlib\n",
    "# set sympy output to print pretty math expressions\n",
    "init_printing()"
   ]
  },
  {
   "cell_type": "code",
   "execution_count": null,
   "metadata": {},
   "outputs": [],
   "source": []
  }
 ],
 "metadata": {
  "kernelspec": {
   "display_name": "Python 3.7.4 64-bit ('anaconda3': virtualenv)",
   "language": "python",
   "name": "python37464bitanaconda3virtualenv4442f6f54c04406894e1eb25c455fa91"
  },
  "language_info": {
   "codemirror_mode": {
    "name": "ipython",
    "version": 3
   },
   "file_extension": ".py",
   "mimetype": "text/x-python",
   "name": "python",
   "nbconvert_exporter": "python",
   "pygments_lexer": "ipython3",
   "version": "3.7.4"
  }
 },
 "nbformat": 4,
 "nbformat_minor": 2
}
